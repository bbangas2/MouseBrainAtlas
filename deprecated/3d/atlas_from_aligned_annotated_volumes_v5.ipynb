{
 "cells": [
  {
   "cell_type": "code",
   "execution_count": 1,
   "metadata": {},
   "outputs": [
    {
     "name": "stdout",
     "output_type": "stream",
     "text": [
      "Setting environment for Local Macbook Pro\n"
     ]
    }
   ],
   "source": [
    "%reload_ext autoreload\n",
    "%autoreload 2\n",
    "\n",
    "import sys\n",
    "import os\n",
    "\n",
    "import numpy as np\n",
    "import bloscpack as bp\n",
    "%matplotlib inline\n",
    "\n",
    "sys.path.append(os.path.join(os.environ['REPO_DIR'], 'utilities'))\n",
    "from utilities2015 import *\n",
    "from metadata import *\n",
    "from data_manager import *\n",
    "\n",
    "from registration_utilities import *\n",
    "from annotation_utilities import *\n",
    "from vis3d_utilities import *"
   ]
  },
  {
   "cell_type": "code",
   "execution_count": 2,
   "metadata": {
    "collapsed": true
   },
   "outputs": [],
   "source": [
    "atlas_name = 'atlasV5'\n",
    "# atlasV6 added the outline; everything else is the same as atlasV5"
   ]
  },
  {
   "cell_type": "code",
   "execution_count": 3,
   "metadata": {
    "collapsed": true
   },
   "outputs": [],
   "source": [
    "stack_fixed = 'MD589'\n",
    "stacks_moving = ['MD585', 'MD594']\n",
    "warp_setting = 9"
   ]
  },
  {
   "cell_type": "code",
   "execution_count": 4,
   "metadata": {},
   "outputs": [
    {
     "name": "stdout",
     "output_type": "stream",
     "text": [
      "annotation volume bbox (rel2uncropped): [ 622 1042  155  502  128  503]\n"
     ]
    }
   ],
   "source": [
    "ann_vol_bbox_rel2uncropped = DataManager.load_original_volume_bbox(stack=stack_fixed, volume_type='annotation', downscale=32)\n",
    "print 'annotation volume bbox (rel2uncropped):', ann_vol_bbox_rel2uncropped"
   ]
  },
  {
   "cell_type": "markdown",
   "metadata": {},
   "source": [
    "# Compute mean positions"
   ]
  },
  {
   "cell_type": "markdown",
   "metadata": {},
   "source": [
    "## Compute centroids of all instances of all structures in MD589 space"
   ]
  },
  {
   "cell_type": "code",
   "execution_count": 7,
   "metadata": {
    "scrolled": true
   },
   "outputs": [
    {
     "name": "stdout",
     "output_type": "stream",
     "text": [
      "5N\n",
      "6N\n",
      "7N\n",
      "7n\n",
      "Amb\n",
      "LC\n",
      "LRt\n",
      "Pn\n",
      "Tz\n",
      "VLL\n",
      "RMC\n",
      "SNC\n",
      "SNR\n",
      "3N\n",
      "4N\n",
      "Sp5I\n",
      "Sp5O\n",
      "Sp5C\n",
      "rm -rf \"/home/yuncong/CSHL_volumes/MD585/MD585_down32_annotationAsScoreVolume_warp9_MD589_down32_annotationAsScoreVolume/score_volumes/MD585_down32_annotationAsScoreVolume_warp9_MD589_down32_annotationAsScoreVolume_Sp5C_R.bp\" && mkdir -p \"/home/yuncong/CSHL_volumes/MD585/MD585_down32_annotationAsScoreVolume_warp9_MD589_down32_annotationAsScoreVolume/score_volumes\"\n",
      "aws s3 cp \"s3://mousebrainatlas-data/CSHL_volumes/MD585/MD585_down32_annotationAsScoreVolume_warp9_MD589_down32_annotationAsScoreVolume/score_volumes/MD585_down32_annotationAsScoreVolume_warp9_MD589_down32_annotationAsScoreVolume_Sp5C_R.bp\" \"/home/yuncong/CSHL_volumes/MD585/MD585_down32_annotationAsScoreVolume_warp9_MD589_down32_annotationAsScoreVolume/score_volumes/MD585_down32_annotationAsScoreVolume_warp9_MD589_down32_annotationAsScoreVolume_Sp5C_R.bp\"\n"
     ]
    },
    {
     "name": "stderr",
     "output_type": "stream",
     "text": [
      "File does not exist: /home/yuncong/CSHL_volumes/MD585/MD585_down32_annotationAsScoreVolume_warp9_MD589_down32_annotationAsScoreVolume/score_volumes/MD585_down32_annotationAsScoreVolume_warp9_MD589_down32_annotationAsScoreVolume_Sp5C_R.bp\n"
     ]
    },
    {
     "name": "stdout",
     "output_type": "stream",
     "text": [
      "[Errno 2] No such file or directory: '/home/yuncong/CSHL_volumes/MD585/MD585_down32_annotationAsScoreVolume_warp9_MD589_down32_annotationAsScoreVolume/score_volumes/MD585_down32_annotationAsScoreVolume_warp9_MD589_down32_annotationAsScoreVolume_Sp5C_R.bp'\n",
      "PBG\n",
      "10N\n",
      "VCA\n",
      "VCP\n",
      "DC\n",
      "AP\n",
      "12N\n",
      "RtTg\n",
      "SC\n",
      "IC\n"
     ]
    }
   ],
   "source": [
    "instance_centroids_rel2fixed = defaultdict(list)\n",
    "\n",
    "# for name_u in ['7N']:\n",
    "for name_u in all_known_structures:\n",
    "    print name_u\n",
    "    \n",
    "    if name_u in paired_structures:\n",
    "        lname = convert_to_left_name(name_u)\n",
    "        rname = convert_to_right_name(name_u)\n",
    "    else:\n",
    "        lname = name_u\n",
    "        rname = name_u\n",
    "    \n",
    "    try:\n",
    "        right_instance_vol = DataManager.load_original_volume(stack=stack_fixed,  downscale=32, volume_type='annotationAsScore', structure=rname)\n",
    "        right_instance_vol_bbox = np.array(bbox_3d(right_instance_vol))\n",
    "        right_instance_vol_inbbox = crop_and_pad_volume(right_instance_vol, out_bbox=right_instance_vol_bbox)\n",
    "        \n",
    "        instance_centroid_rel2fixed = np.mean(np.nonzero(right_instance_vol_inbbox), axis=1)[[1,0,2]] + right_instance_vol_bbox[[0,2,4]]\n",
    "        instance_centroids_rel2fixed[rname].append(instance_centroid_rel2fixed)\n",
    "        \n",
    "    except Exception as e:\n",
    "        print e\n",
    "        continue\n",
    "\n",
    "    try:\n",
    "        left_instance_vol = DataManager.load_original_volume(stack=stack_fixed, downscale=32, volume_type='annotationAsScore', structure=lname)\n",
    "        left_instance_vol_bbox = np.array(bbox_3d(left_instance_vol))\n",
    "        left_instance_vol_inbbox = crop_and_pad_volume(left_instance_vol, out_bbox=left_instance_vol_bbox)\n",
    "        \n",
    "        instance_centroid_rel2fixed = np.mean(np.nonzero(left_instance_vol_inbbox), axis=1)[[1,0,2]] + left_instance_vol_bbox[[0,2,4]]\n",
    "        instance_centroids_rel2fixed[lname].append(instance_centroid_rel2fixed)\n",
    "\n",
    "    except Exception as e:\n",
    "        print e\n",
    "        continue        \n",
    "\n",
    "    for stack_moving in stacks_moving:\n",
    "\n",
    "        try:\n",
    "            left_instance_vol = DataManager.load_transformed_volume(stack_m=stack_moving, vol_type_m='annotationAsScore',\n",
    "                                                            stack_f=stack_fixed, vol_type_f='annotationAsScore',\n",
    "                                                            warp_setting=warp_setting,\n",
    "                                                            structure=lname)\n",
    "            left_instance_vol_bbox_rel2fixed = DataManager.load_transformed_volume_bbox(stack_m=stack_moving, vol_type_m='annotationAsScore',\n",
    "                                                        stack_f=stack_fixed, vol_type_f='annotationAsScore',\n",
    "                                                        warp_setting=warp_setting,\n",
    "                                                        structure=lname)\n",
    "            instance_centroid_rel2fixed = np.mean(np.nonzero(left_instance_vol), axis=1)[[1,0,2]] + left_instance_vol_bbox_rel2fixed[[0,2,4]]\n",
    "            instance_centroids_rel2fixed[lname].append(instance_centroid_rel2fixed)\n",
    "        except Exception as e:\n",
    "            print e\n",
    "            continue \n",
    "\n",
    "        try:\n",
    "            right_instance_vol = DataManager.load_transformed_volume(stack_m=stack_moving, vol_type_m='annotationAsScore',\n",
    "                                                        stack_f=stack_fixed, vol_type_f='annotationAsScore',\n",
    "                                                        warp_setting=warp_setting,\n",
    "                                                        structure=rname)\n",
    "            right_instance_vol_bbox_rel2fixed = DataManager.load_transformed_volume_bbox(stack_m=stack_moving, vol_type_m='annotationAsScore',\n",
    "                                                        stack_f=stack_fixed, vol_type_f='annotationAsScore',\n",
    "                                                        warp_setting=warp_setting,\n",
    "                                                        structure=rname)\n",
    "            instance_centroid_rel2fixed = np.mean(np.nonzero(right_instance_vol), axis=1)[[1,0,2]] + right_instance_vol_bbox_rel2fixed[[0,2,4]]\n",
    "            instance_centroids_rel2fixed[rname].append(instance_centroid_rel2fixed)\n",
    "        except Exception as e:\n",
    "            print e\n",
    "            continue \n"
   ]
  },
  {
   "cell_type": "code",
   "execution_count": 9,
   "metadata": {
    "collapsed": true
   },
   "outputs": [],
   "source": [
    "instance_centroids_rel2fixed.default_factory = None"
   ]
  },
  {
   "cell_type": "code",
   "execution_count": 42,
   "metadata": {},
   "outputs": [
    {
     "name": "stdout",
     "output_type": "stream",
     "text": [
      "aws s3 cp \"/home/yuncong/CSHL_meshes/atlasV5/atlasV5_instanceCentroids.pkl\" \"s3://mousebrainatlas-data/CSHL_meshes/atlasV5/atlasV5_instanceCentroids.pkl\"\n"
     ]
    }
   ],
   "source": [
    "fp = DataManager.get_instance_centroids_filepath(atlas_name=atlas_name)\n",
    "save_pickle(instance_centroids_rel2fixed, fp)\n",
    "upload_to_s3(fp)"
   ]
  },
  {
   "cell_type": "markdown",
   "metadata": {},
   "source": [
    "## Load instance centroids"
   ]
  },
  {
   "cell_type": "code",
   "execution_count": 5,
   "metadata": {
    "collapsed": true
   },
   "outputs": [],
   "source": [
    "fp = DataManager.get_instance_centroids_filepath(atlas_name=atlas_name)\n",
    "instance_centroids_rel2fixed = load_pickle(fp)"
   ]
  },
  {
   "cell_type": "code",
   "execution_count": 8,
   "metadata": {},
   "outputs": [],
   "source": [
    "instance_centroids_rel2canon = {name_s: np.array(instance_centroids) - canonical_centroid_rel2fixed\n",
    "                                for name_s, instance_centroids in instance_centroids_rel2fixed.iteritems()}"
   ]
  },
  {
   "cell_type": "markdown",
   "metadata": {},
   "source": [
    "## Average the centroids"
   ]
  },
  {
   "cell_type": "code",
   "execution_count": 7,
   "metadata": {},
   "outputs": [
    {
     "name": "stdout",
     "output_type": "stream",
     "text": [
      "[ 0.04111027 -0.09160432  0.99494653] @ [ 172.0630378   223.21016434  186.74030921]\n",
      "canonical_centroid_rel2uncropped [ 794.0630378   378.21016434  314.74030921]\n"
     ]
    },
    {
     "name": "stderr",
     "output_type": "stream",
     "text": [
      "Asked for left name for singular structure 12N, returning itself.\n",
      "Asked for right name for singular structure 12N, returning itself.\n",
      "Asked for left name for singular structure AP, returning itself.\n",
      "Asked for right name for singular structure AP, returning itself.\n",
      "Asked for left name for singular structure IC, returning itself.\n",
      "Asked for right name for singular structure IC, returning itself.\n",
      "Asked for left name for singular structure SC, returning itself.\n",
      "Asked for right name for singular structure SC, returning itself.\n",
      "Asked for left name for singular structure RtTg, returning itself.\n",
      "Asked for right name for singular structure RtTg, returning itself.\n",
      "Asked for left name for singular structure 12N, returning itself.\n",
      "Asked for right name for singular structure 12N, returning itself.\n",
      "Asked for left name for singular structure AP, returning itself.\n",
      "Asked for right name for singular structure AP, returning itself.\n",
      "Asked for left name for singular structure IC, returning itself.\n",
      "Asked for right name for singular structure IC, returning itself.\n",
      "Asked for left name for singular structure SC, returning itself.\n",
      "Asked for right name for singular structure SC, returning itself.\n",
      "Asked for left name for singular structure RtTg, returning itself.\n",
      "Asked for right name for singular structure RtTg, returning itself.\n"
     ]
    }
   ],
   "source": [
    "nominal_locations_rel2canon, canonical_centroid_rel2fixed, canonical_normal = \\\n",
    "average_location(instance_centroids_rel2fixed)\n",
    "\n",
    "canonical_centroid_rel2uncropped = canonical_centroid_rel2fixed + ann_vol_bbox_rel2uncropped[[0,2,4]]\n",
    "print 'canonical_centroid_rel2uncropped', canonical_centroid_rel2uncropped"
   ]
  },
  {
   "cell_type": "code",
   "execution_count": 9,
   "metadata": {
    "collapsed": true
   },
   "outputs": [],
   "source": [
    "nominal_locations_rel2fixed = {k: canonical_centroid_rel2fixed + c for k, c in nominal_locations_rel2canon.iteritems()}"
   ]
  },
  {
   "cell_type": "code",
   "execution_count": 10,
   "metadata": {},
   "outputs": [
    {
     "name": "stdout",
     "output_type": "stream",
     "text": [
      "deviation angle: 5.76256199381\n"
     ]
    }
   ],
   "source": [
    "print 'deviation angle:', np.rad2deg(np.arccos(canonical_normal[2]))"
   ]
  },
  {
   "cell_type": "code",
   "execution_count": 11,
   "metadata": {
    "collapsed": true
   },
   "outputs": [],
   "source": [
    "cov_mat_allStructures, radii_allStructures, ellipsoid_matrix_allStructures = \\\n",
    "compute_covar_from_instance_centroids(instance_centroids_rel2fixed)"
   ]
  },
  {
   "cell_type": "code",
   "execution_count": 20,
   "metadata": {
    "collapsed": true,
    "scrolled": true
   },
   "outputs": [],
   "source": [
    "# Manually coerce 2D ellipsoid to 3D.\n",
    "\n",
    "for k in sorted(all_known_structures_sided):\n",
    "    orig_radii = radii_allStructures[k]\n",
    "    new_radii = orig_radii.copy()\n",
    "    new_radii[2] = 1 # manually assign a radius on the third direction.\n",
    "    D = np.diag(new_radii)\n",
    "    cov_mat_allStructures[k] = np.dot(ellipsoid_matrix_allStructures[k].T, np.dot(D**2, ellipsoid_matrix_allStructures[k]))"
   ]
  },
  {
   "cell_type": "code",
   "execution_count": 21,
   "metadata": {
    "collapsed": true
   },
   "outputs": [],
   "source": [
    "for s, cov_mat in cov_mat_allStructures.iteritems():\n",
    "    covar_fp = DataManager.get_prior_covariance_matrix_filepath(atlas_name=atlas_name, structure=s)\n",
    "    create_parent_dir_if_not_exists(covar_fp)\n",
    "    bp.pack_ndarray_file(cov_mat, covar_fp)"
   ]
  },
  {
   "cell_type": "code",
   "execution_count": 22,
   "metadata": {},
   "outputs": [
    {
     "data": {
      "text/plain": [
       "array([ 172.0630378 ,  223.21016434,  186.74030921])"
      ]
     },
     "execution_count": 22,
     "metadata": {},
     "output_type": "execute_result"
    }
   ],
   "source": [
    "canonical_centroid_rel2fixed"
   ]
  },
  {
   "cell_type": "code",
   "execution_count": 26,
   "metadata": {},
   "outputs": [],
   "source": [
    "from utilities2015 import *"
   ]
  },
  {
   "cell_type": "code",
   "execution_count": 27,
   "metadata": {},
   "outputs": [
    {
     "data": {
      "image/png": "[encoded data removed]",
      "text/plain": [
       "<matplotlib.figure.Figure at 0x7f6ba021cc90>"
      ]
     },
     "metadata": {},
     "output_type": "display_data"
    }
   ],
   "source": [
    "plot_centroid_means_and_covars_3d(\n",
    "    instance_centroids=instance_centroids_rel2canon, \n",
    "    cov_mat_allStructures=cov_mat_allStructures,\n",
    "                                  nominal_locations=nominal_locations_rel2canon,\n",
    "                                  canonical_centroid=canonical_centroid_rel2fixed,\n",
    "                                show_canonical_centroid=False,\n",
    "#                                  canonical_normal=canonical_normal,\n",
    "                                canonical_normal=[0,0,1],\n",
    "    colors={name_s: np.array(name_unsided_to_color[convert_to_original_name(name_s)])/255.\n",
    "            for name_s in nominal_locations_rel2canon.keys()})"
   ]
  },
  {
   "cell_type": "code",
   "execution_count": 38,
   "metadata": {},
   "outputs": [
    {
     "data": {
      "image/png": "[encoded data removed]",
      "text/plain": [
       "<matplotlib.figure.Figure at 0x7f6ba18115d0>"
      ]
     },
     "metadata": {},
     "output_type": "display_data"
    }
   ],
   "source": [
    "# Unit in microns, center at (0,0,0)\n",
    "\n",
    "instance_centroids_rel2canon_um = \\\n",
    "{s: v * XY_PIXEL_DISTANCE_LOSSLESS * 32\n",
    " for s, v in instance_centroids_rel2canon.iteritems()}\n",
    "\n",
    "nominal_locations_rel2canon_um = {s: v * XY_PIXEL_DISTANCE_LOSSLESS * 32\n",
    "                                          for s, v in nominal_locations_rel2canon.iteritems()}\n",
    "\n",
    "cov_mat_allStructures_um = {s: v * (XY_PIXEL_DISTANCE_LOSSLESS * 32)**2 for s, v in cov_mat_allStructures.iteritems()}\n",
    "\n",
    "plot_centroid_means_and_covars_3d(instance_centroids=instance_centroids_rel2canon_um,\n",
    "                                      cov_mat_allStructures=cov_mat_allStructures_um,\n",
    "                                 nominal_locations=nominal_locations_rel2canon_um,\n",
    "                                 canonical_centroid=(0,0,0),\n",
    "                                  show_canonical_centroid=False,\n",
    "                                  canonical_normal=[0,0,1],\n",
    "                                 colors={name_s: np.array(name_unsided_to_color[convert_to_original_name(name_s)])/255.\n",
    "                                        for name_s in instance_centroids_rel2canon_um.keys()},\n",
    "                                 xlim=[-3000, 3000],\n",
    "                                 ylim=[-3000, 3000],\n",
    "                                 zlim=[-3000, 3000],\n",
    "                                 xlabel='x ($\\mu$m)',\n",
    "                                 ylabel='y ($\\mu$m)',\n",
    "                                 zlabel='z ($\\mu$m)',\n",
    "                                 title='Centroid means and covariances (3 brains)')"
   ]
  },
  {
   "cell_type": "code",
   "execution_count": 51,
   "metadata": {
    "collapsed": true
   },
   "outputs": [],
   "source": [
    "np.savetxt(DataManager.get_atlas_canonical_centroid_filepath(atlas_name=atlas_name), canonical_centroid_rel2uncropped)\n",
    "np.savetxt(DataManager.get_atlas_canonical_normal_filepath(atlas_name=atlas_name), canonical_normal)\n",
    "save_pickle(nominal_locations_rel2canon, DataManager.get_structure_mean_positions_filepath(atlas_name=atlas_name))"
   ]
  },
  {
   "cell_type": "markdown",
   "metadata": {},
   "source": [
    "# Compute mean shapes"
   ]
  },
  {
   "cell_type": "code",
   "execution_count": 43,
   "metadata": {
    "collapsed": true
   },
   "outputs": [],
   "source": [
    "stack_fixed = 'MD589'\n",
    "stacks_moving = ['MD585', 'MD594']\n",
    "warp_setting = 9"
   ]
  },
  {
   "cell_type": "code",
   "execution_count": null,
   "metadata": {
    "collapsed": true
   },
   "outputs": [],
   "source": [
    "instance_volumes = defaultdict(list)\n",
    "instance_source = defaultdict(list)\n",
    "\n",
    "moving_vol_aligned2template_inbbox_allInstances_allStructures = defaultdict(list)\n",
    "moving_vol_aligned2template_bbox_rel2templateCentroid_allInstances_allStructures = defaultdict(list)\n",
    "scores_allInstances_allStructures = defaultdict(list)\n",
    "scores_allInstances_allStructures_allLearningRates = defaultdict(lambda: defaultdict(list))\n",
    "\n",
    "structure_mean_shape_allStructures = {}\n",
    "structure_origin_rel2templateCentroid_allStructures = {}\n",
    "structure_mean_mesh_rel2templateCentroid_allStructures = {}\n",
    "\n",
    "instance_aligned2template_meshes_rel2templateCentroid_allStructures = defaultdict(list)\n",
    "template_meshes_rel2templateCentroid_allStructures = {}\n",
    "template_vol_centroids_rel2template_allStructures = {}\n",
    "\n",
    "# for name_u in ['7N']:\n",
    "for name_u in all_known_structures:\n",
    "    print name_u\n",
    "    \n",
    "    if name_u in paired_structures:\n",
    "        lname = convert_to_left_name(name_u)\n",
    "        rname = convert_to_right_name(name_u)\n",
    "    else:\n",
    "        lname = name_u\n",
    "        rname = name_u\n",
    "    \n",
    "    try:\n",
    "        right_instance_vol = DataManager.load_original_volume(stack=stack_fixed,  downscale=32, volume_type='annotationAsScore', structure=rname)\n",
    "        right_instance_vol_bbox = np.array(bbox_3d(right_instance_vol))\n",
    "        right_instance_vol_inbbox = crop_and_pad_volume(right_instance_vol, out_bbox=right_instance_vol_bbox)\n",
    "        instance_volumes[name_u].append(right_instance_vol_inbbox) # if right, do not mirror\n",
    "        instance_source[name_u].append((stack_fixed, 'R'))\n",
    "    except Exception as e:\n",
    "        continue\n",
    "\n",
    "    try:\n",
    "        left_instance_vol = DataManager.load_original_volume(stack=stack_fixed, downscale=32, volume_type='annotationAsScore', structure=lname)\n",
    "        left_instance_vol_bbox = np.array(bbox_3d(left_instance_vol))\n",
    "        left_instance_vol_inbbox = crop_and_pad_volume(left_instance_vol, out_bbox=left_instance_vol_bbox)\n",
    "        instance_volumes[name_u].append(left_instance_vol_inbbox[..., ::-1]) # if left, mirror\n",
    "        instance_source[name_u].append((stack_fixed, 'L'))\n",
    "    except:\n",
    "        continue        \n",
    "\n",
    "    for stack_moving in stacks_moving:\n",
    "\n",
    "        try:\n",
    "            left_instance_vol = DataManager.load_transformed_volume(stack_m=stack_moving, vol_type_m='annotationAsScore',\n",
    "                                                            stack_f=stack_fixed, vol_type_f='annotationAsScore',\n",
    "                                                            warp_setting=warp_setting,\n",
    "                                                            structure=lname)\n",
    "            instance_volumes[name_u].append(left_instance_vol[..., ::-1]) # if left, mirror\n",
    "            instance_source[name_u].append((stack_moving, 'L'))\n",
    "        except:\n",
    "            continue\n",
    "\n",
    "        try:\n",
    "            right_instance_vol = DataManager.load_transformed_volume(stack_m=stack_moving, vol_type_m='annotationAsScore',\n",
    "                                                        stack_f=stack_fixed, vol_type_f='annotationAsScore',\n",
    "                                                        warp_setting=warp_setting,\n",
    "                                                        structure=rname)\n",
    "            instance_volumes[name_u].append(right_instance_vol) # if right, do not mirror\n",
    "            instance_source[name_u].append((stack_moving, 'R'))\n",
    "        except:\n",
    "            continue\n",
    "            \n",
    "    ############################################\n",
    "    \n",
    "    template_vol = instance_volumes[name_u][0]\n",
    "    \n",
    "    template_vol_centroid_rel2template = np.mean(np.nonzero(template_vol), axis=1)[[1,0,2]]\n",
    "    template_vol_centroids_rel2template_allStructures[name_u] = template_vol_centroid_rel2template\n",
    "\n",
    "    for i in range(1, len(instance_volumes[name_u])):\n",
    "\n",
    "        moving_vol = instance_volumes[name_u][i]\n",
    "\n",
    "        aligner = Aligner4({0:template_vol}, {0:moving_vol}, labelIndexMap_m2f={0:0})\n",
    "        aligner.set_centroid(centroid_m='structure_centroid', centroid_f='structure_centroid')\n",
    "\n",
    "#         grid_search_T, grid_search_score = aligner.do_grid_search(grid_search_sample_number=5,\n",
    "#                       std_tx=30, std_ty=30, std_tz=30, std_theta_xy=0,\n",
    "#                        grid_search_eta=3., stop_radius_voxel=2)\n",
    "        \n",
    "        gy, gx, gz = np.gradient(template_vol)\n",
    "        gradients = {0: np.array([gx, gy, gz])}\n",
    "        aligner.load_gradient(gradients=gradients)\n",
    "\n",
    "#         for lr in [.1, 1, 10]:\n",
    "#             T, scores = aligner.optimize(tf_type='rigid', \n",
    "#                                  history_len=50, \n",
    "#                                  terminate_thresh=1e-6,\n",
    "#                                  grad_computation_sample_number=100000,\n",
    "#                                          full_lr=np.array([lr,lr,lr,0.1,0.1,0.1]),\n",
    "#     #                                      init_T=grid_search_T\n",
    "#                                 )\n",
    "\n",
    "#             scores_allInstances_allStructures_allLearningRates[lr][name_u].append(scores)\n",
    "\n",
    "        lr = 1.\n",
    "        T, scores = aligner.optimize(tf_type='rigid', \n",
    "                             history_len=50, \n",
    "                             terminate_thresh=1e-6,\n",
    "                            max_iter_num=100 if name_u in ['SC', 'IC'] else 1000,\n",
    "                             grad_computation_sample_number=None,\n",
    "                                full_lr=np.array([lr,lr,lr,0.1,0.1,0.1]),\n",
    "#                                      init_T=grid_search_T\n",
    "                            )\n",
    "\n",
    "        scores_allInstances_allStructures[name_u].append(scores)\n",
    "        \n",
    "        #################################\n",
    "        \n",
    "        moving_vol_aligned2template_inbbox, moving_vol_aligned2template_bbox_rel2template = transform_volume_v2(moving_vol, T, \n",
    "                                                                              centroid_m=aligner.centroid_m,\n",
    "                                                                             centroid_f=aligner.centroid_f)\n",
    "\n",
    "        moving_vol_aligned2template_bbox_rel2templateCentroid = \\\n",
    "        np.array(moving_vol_aligned2template_bbox_rel2template) - template_vol_centroid_rel2template[[0,0,1,1,2,2]]\n",
    "        \n",
    "        moving_vol_aligned2template_inbbox_allInstances_allStructures[name_u].append(moving_vol_aligned2template_inbbox)\n",
    "        moving_vol_aligned2template_bbox_rel2templateCentroid_allInstances_allStructures[name_u].append(moving_vol_aligned2template_bbox_rel2templateCentroid)  \n",
    "    \n",
    "    ########################################\n",
    "\n",
    "#     fig, axes = plt.subplots(1, 5, figsize=(20,2))\n",
    "#     for i, scores in enumerate(scores_allInstances_allStructures[name_u]):\n",
    "#         axes[i].plot(scores)\n",
    "#         axes[i].set_title('%s, %s, %s, %f' % ((name_u,) + instance_source[name_u][i+1] + (np.max(scores),)))\n",
    "#     plt.show();\n",
    "    \n",
    "    #########################################\n",
    "\n",
    "    for moving_vol_aligned2template, moving_vol_aligned2template_bbox_rel2templateCentroid in \\\n",
    "    zip(moving_vol_aligned2template_inbbox_allInstances_allStructures[name_u], \n",
    "        moving_vol_aligned2template_bbox_rel2templateCentroid_allInstances_allStructures[name_u]):\n",
    "        instance_aligned2template_mesh_rel2templateCentroid = volume_to_polydata(moving_vol_aligned2template, \\\n",
    "                                                            origin=np.array(moving_vol_aligned2template_bbox_rel2templateCentroid)[[0,2,4]], \n",
    "                           num_simplify_iter=3, smooth=True)\n",
    "        instance_aligned2template_meshes_rel2templateCentroid_allStructures[name_u].append(instance_aligned2template_mesh_rel2templateCentroid)\n",
    "\n",
    "    template_meshes_rel2templateCentroid_allStructures[name_u] = volume_to_polydata(template_vol, num_simplify_iter=3, smooth=True, origin=-template_vol_centroid_rel2template)\n",
    "    \n",
    "#     launch_vtk([actor_mesh(mesh, wireframe=True, color=np.array(high_contrast_colors[i+1])/255., opacity=1) \n",
    "#     for i, mesh in enumerate([template_mesh] + instance_aligned2template_meshes_allStructures[name_u])], \n",
    "#           background_color=(1,1,1))\n",
    "    \n",
    "    ##########################################\n",
    "    # Save instances data\n",
    "    \n",
    "    for s, instance_aligned2template_meshes_rel2templateCentroid in instance_aligned2template_meshes_rel2templateCentroid_allStructures.iteritems():\n",
    "\n",
    "        fp = DataManager.get_instance_mesh_filepath(atlas_name=atlas_name, structure=s, index=0)\n",
    "        create_parent_dir_if_not_exists(fp)\n",
    "        save_mesh_stl(template_meshes_rel2templateCentroid_allStructures[s], fp)\n",
    "        upload_to_s3(fp)\n",
    "        \n",
    "        for i, m in enumerate(instance_aligned2template_meshes_rel2templateCentroid):\n",
    "            fp = DataManager.get_instance_mesh_filepath(atlas_name=atlas_name, structure=s, index=i+1)\n",
    "            save_mesh_stl(m, fp)\n",
    "            upload_to_s3(fp)\n",
    "            \n",
    "        fp = DataManager.get_instance_sources_filepath(atlas_name=atlas_name, structure=s)\n",
    "        create_parent_dir_if_not_exists(fp)\n",
    "        save_pickle(instance_source[s], fp)\n",
    "        upload_to_s3(fp)        \n",
    "    \n",
    "    #########################################\n",
    "    \n",
    "    if name_u == 'IC' or name_u == 'SC':\n",
    "        # IC and SC boundaries are particularly jagged, so do a larger value smoothing.\n",
    "        sigma = 5.\n",
    "    else:\n",
    "        sigma = 2.\n",
    "\n",
    "    structure_mean_shape, structure_origin_rel2templateCentroid, structure_mean_mesh_rel2templateCentroid = \\\n",
    "        average_shape(volume_list=moving_vol_aligned2template_inbbox_allInstances_allStructures[name_u], \\\n",
    "                      origin_list=[(b_rel2templateCentroid[0], b_rel2templateCentroid[2], b_rel2templateCentroid[4])\n",
    "                                   for b_rel2templateCentroid in moving_vol_aligned2template_bbox_rel2templateCentroid_allInstances_allStructures[name_u]],\n",
    "                      consensus_percentage=.5,\n",
    "                      num_simplify_iter=3, smooth=True,\n",
    "                      force_symmetric=(name_u in singular_structures), \n",
    "                      sigma=sigma)\n",
    "    \n",
    "    structure_mean_shape_allStructures[name_u] = structure_mean_shape\n",
    "#     structure_origin_rel2template_allStructures[name_u] = structure_origin_rel2template    \n",
    "#     structure_mean_mesh_rel2template_allStructures[name_u] = structure_mean_mesh_rel2template\n",
    "    structure_origin_rel2templateCentroid_allStructures[name_u] = structure_origin_rel2templateCentroid    \n",
    "    structure_mean_mesh_rel2templateCentroid_allStructures[name_u] = structure_mean_mesh_rel2templateCentroid\n",
    "    \n",
    "    ########################################\n",
    "    # Save mean shape data\n",
    "    \n",
    "    fp = DataManager.get_structure_mean_mesh_filepath(atlas_name=atlas_name, structure=name_u)\n",
    "    create_parent_dir_if_not_exists(fp)\n",
    "    save_mesh_stl(structure_mean_mesh_rel2templateCentroid, fp)\n",
    "    upload_to_s3(fp)\n",
    "    \n",
    "    fp = DataManager.get_structure_mean_shape_filepath(atlas_name=atlas_name, structure=name_u)\n",
    "    bp.pack_ndarray_file(structure_mean_shape, fp)\n",
    "    upload_to_s3(fp)\n",
    "    \n",
    "    fp = DataManager.get_structure_mean_shape_origin_filepath(atlas_name=atlas_name, structure=name_u)\n",
    "    np.savetxt(fp, structure_origin_rel2templateCentroid)\n",
    "    upload_to_s3(fp)\n",
    "    \n",
    "    ##########################################\n",
    "    \n",
    "#     launch_vtk([\n",
    "#     actor_mesh(structure_mean_mesh_rel2template_allStructures[name_u], wireframe=True, opacity=1., color=(1,0,0)),\n",
    "#     actor_volume(structure_mean_shape_allStructures[name_u].astype(np.float32), what='probability',\n",
    "#                 origin=structure_origin_rel2template_allStructures[name_u], c=(0,1,0)),\n",
    "# ], background_color=(0,0,0))\n",
    "\n",
    "    ######################################\n",
    "    \n",
    "instance_volumes.default_factory = None\n",
    "instance_source.default_factory = None\n",
    "moving_vol_aligned2template_inbbox_allInstances_allStructures.default_factory = None\n",
    "moving_vol_aligned2template_bbox_rel2templateCentroid_allInstances_allStructures.default_factory = None\n",
    "scores_allInstances_allStructures.default_factory = None\n",
    "scores_allInstances_allStructures_allLearningRates.default_factory = None\n",
    "instance_aligned2template_meshes_rel2templateCentroid_allStructures.default_factory = None"
   ]
  },
  {
   "cell_type": "code",
   "execution_count": null,
   "metadata": {
    "collapsed": true
   },
   "outputs": [],
   "source": [
    "for structure, scores_allInstances in scores_allInstances_allStructures.iteritems():\n",
    "    fig, axes = plt.subplots(1, 5, figsize=(20,2))\n",
    "    for i, scores in enumerate(scores_allInstances):\n",
    "        axes[i].plot(scores)\n",
    "        axes[i].set_title('%s, %s, %s, %f' % ((name_u,) + instance_source[name_u][i+1] + (np.max(scores),)))\n",
    "plt.show()"
   ]
  },
  {
   "cell_type": "code",
   "execution_count": null,
   "metadata": {
    "collapsed": true
   },
   "outputs": [],
   "source": [
    "launch_vtk([\n",
    "#     actor_mesh(structure_mean_mesh_rel2template_allStructures[name_u], wireframe=True, opacity=1., color=(1,0,0)),\n",
    "    actor_volume(structure_mean_shape_allStructures[name_u].astype(np.float32), what='probability',\n",
    "                origin=structure_origin_rel2templateCentroid_allStructures[name_u], c=(0,1,0)),\n",
    "] + \\\n",
    "    [actor_mesh(mesh, wireframe=True, color=np.array(high_contrast_colors[i+1])/255., opacity=1) \n",
    "for i, mesh in enumerate([template_meshes_rel2templateCentroid_allStructures[name_u]] + \\\n",
    "                         instance_aligned2template_meshes_rel2templateCentroid_allStructures[name_u])] + \\\n",
    "    [actor_sphere((0,0,0), radius=1, color=(0,0,0))], \n",
    "    background_color=(0,0,0))"
   ]
  },
  {
   "cell_type": "code",
   "execution_count": null,
   "metadata": {
    "collapsed": true
   },
   "outputs": [],
   "source": [
    "# viz"
   ]
  },
  {
   "cell_type": "code",
   "execution_count": null,
   "metadata": {
    "collapsed": true
   },
   "outputs": [],
   "source": [
    "# instance_colors = [(1,0,0),(0,1,0),(0,0,1),(1,1,0),(0,1,1),(1,0,1)] # assume each structure has at most 6 instances.\n",
    "\n",
    "# for structure in all_known_structures_sided:\n",
    "# # for structure in ['IC']:\n",
    "\n",
    "#     print structure\n",
    "    \n",
    "#     for direction in ['coronal', 'sagittal', 'horizontal']:\n",
    "\n",
    "#         # Show each instance separately\n",
    "#         for i, polydata in enumerate([structure]):\n",
    "#             instance_actors = actor_mesh(polydata, instance_colors[i], opacity=1, wireframe=False)\n",
    "\n",
    "#             fp = DataManager.get_structure_viz_filepath(atlas_name=atlas_name, \n",
    "#                                                         structure=structure, suffix=direction+'_'+str(i))\n",
    "#             create_parent_dir_if_not_exists(fp)\n",
    "#             launch_vtk([instance_actors], snapshot_fn=fp, interactive=False, init_angle=direction)\n",
    "\n",
    "#         # Show different instances shown aligned together\n",
    "#         instance_actors = [actor_mesh(polydata, instance_colors[i], opacity=1., wireframe=True) \n",
    "#                            for i, polydata in enumerate(polydata_list_allLandmarks[structure])]\n",
    "\n",
    "#         icp_fp = DataManager.get_prob_shape_viz_filepath(stack_m=atlas_name, trial_idx=None, \n",
    "#                                                          structure=structure, suffix=direction+'_icpAligned')\n",
    "#         launch_vtk(instance_actors, snapshot_fn=icp_fp, interactive=False, init_angle=direction)\n",
    "# #         launch_vtk(instance_actors, init_angle=direction)\n",
    "        \n",
    "#         # Show voxel-voted probabilistic shape\n",
    "#         prob_shape_actor = actor_volume(prob_shape_allLandmarks[structure].astype(np.float32), \n",
    "#                                         what='probability', origin=prob_shape_origin_allLandmarks[structure])\n",
    "\n",
    "#         prob_shape_fp = DataManager.get_prob_shape_viz_filepath(stack_m=atlas_name, trial_idx=None, \n",
    "#                                                          structure=structure, suffix=direction+'_probShape')\n",
    "#         launch_vtk([prob_shape_actor], snapshot_fn=prob_shape_fp, interactive=False, init_angle=direction)\n",
    "# #         launch_vtk([prob_shape_actor], init_angle=direction)\n",
    "\n",
    "#         # Show voxel-voted probabilistic shape, thresholded at .5\n",
    "#         actor = actor_mesh(average_polydata_allLandmarks[structure], [1,1,1], opacity=1, wireframe=True)\n",
    "        \n",
    "#         thresh_shape_fp = DataManager.get_prob_shape_viz_filepath(stack_m=atlas_name, trial_idx=None, \n",
    "#                                                                 structure=structure, suffix=direction+'_thresh0.5')\n",
    "#         launch_vtk([actor], snapshot_fn=thresh_shape_fp, interactive=False, init_angle=direction)\n",
    "# #         launch_vtk([actor], init_angle=direction)"
   ]
  },
  {
   "cell_type": "markdown",
   "metadata": {},
   "source": [
    "# Examine saved instance data"
   ]
  },
  {
   "cell_type": "code",
   "execution_count": 44,
   "metadata": {
    "collapsed": true
   },
   "outputs": [],
   "source": [
    "instance_meshes = []\n",
    "for instance_index in range(6):\n",
    "    instance_mesh_fp = DataManager.get_instance_mesh_filepath(atlas_name='atlasV5', structure='7N', index=instance_index)\n",
    "    instance_mesh = load_mesh_stl(instance_mesh_fp, return_polydata_only=True)\n",
    "    instance_meshes.append(instance_mesh)"
   ]
  },
  {
   "cell_type": "code",
   "execution_count": 45,
   "metadata": {
    "collapsed": true
   },
   "outputs": [],
   "source": [
    "mean_shape_fp = DataManager.get_structure_mean_shape_filepath(atlas_name='atlasV5', structure='7N')\n",
    "mean_shape = bp.unpack_ndarray_file(mean_shape_fp)"
   ]
  },
  {
   "cell_type": "code",
   "execution_count": 46,
   "metadata": {
    "collapsed": true
   },
   "outputs": [],
   "source": [
    "mean_shape_origin_fp = DataManager.get_structure_mean_shape_origin_filepath(atlas_name='atlasV5', structure='7N')\n",
    "mean_shape_origin = np.loadtxt(mean_shape_origin_fp)"
   ]
  },
  {
   "cell_type": "code",
   "execution_count": 47,
   "metadata": {
    "collapsed": true
   },
   "outputs": [],
   "source": [
    "launch_vtk([actor_volume(mean_shape.astype(np.float32), what='probability', origin=mean_shape_origin, c=(0,0,0))])"
   ]
  },
  {
   "cell_type": "code",
   "execution_count": 48,
   "metadata": {
    "collapsed": true
   },
   "outputs": [],
   "source": [
    "launch_vtk([actor_mesh(m, color=np.array(random_colors(1)[0])/255., wireframe=True) \n",
    "            for m in instance_meshes] + \\\n",
    "          [actor_volume(mean_shape.astype(np.float32), what='probability', origin=mean_shape_origin, c=(0,0,0))])"
   ]
  },
  {
   "cell_type": "code",
   "execution_count": 16,
   "metadata": {
    "collapsed": true
   },
   "outputs": [],
   "source": [
    "launch_vtk([actor_mesh(m, color=np.array(random_colors(1)[0])/255., wireframe=True) \n",
    "            for m in instance_meshes] + \\\n",
    "          [actor_volume((mean_shape>0.5).astype(np.float32), \n",
    "                        what='probability', origin=mean_shape_origin, c=(0,0,0))])"
   ]
  },
  {
   "cell_type": "code",
   "execution_count": 15,
   "metadata": {
    "collapsed": true
   },
   "outputs": [],
   "source": [
    "launch_vtk([actor_mesh(instance_meshes[5], color=np.array(random_colors(1)[0])/255., wireframe=True)] + \\\n",
    "          [actor_volume((mean_shape>0.5).astype(np.float32), \n",
    "                        what='probability', origin=mean_shape_origin, c=(0,0,0))])"
   ]
  },
  {
   "cell_type": "code",
   "execution_count": 17,
   "metadata": {},
   "outputs": [
    {
     "name": "stderr",
     "output_type": "stream",
     "text": [
      "marching cube: 0.10 seconds\n",
      "mesh_to_polydata: 0.03 seconds\n"
     ]
    }
   ],
   "source": [
    "launch_vtk([actor_mesh(instance_meshes[5], color=np.array(random_colors(1)[0])/255., wireframe=True)] + \\\n",
    "          [actor_mesh(volume_to_polydata(mean_shape, level=0.5, origin=mean_shape_origin),\n",
    "                      color=(0,0,0), wireframe=True)])"
   ]
  },
  {
   "cell_type": "markdown",
   "metadata": {},
   "source": [
    "# Load all necessary data"
   ]
  },
  {
   "cell_type": "code",
   "execution_count": 4,
   "metadata": {
    "collapsed": true
   },
   "outputs": [],
   "source": [
    "# Load canonical info\n",
    "\n",
    "if atlas_name == 'atlasV6':\n",
    "    nominal_locations_rel2canon = load_pickle(DataManager.get_structure_mean_positions_filepath(atlas_name='atlasV5'))\n",
    "    canonical_centroid_rel2uncropped = np.loadtxt(DataManager.get_atlas_canonical_centroid_filepath(atlas_name='atlasV5'))    \n",
    "else:\n",
    "    nominal_locations_rel2canon = load_pickle(DataManager.get_structure_mean_positions_filepath(atlas_name=atlas_name))\n",
    "    canonical_centroid_rel2uncropped = np.loadtxt(DataManager.get_atlas_canonical_centroid_filepath(atlas_name=atlas_name))"
   ]
  },
  {
   "cell_type": "markdown",
   "metadata": {},
   "source": [
    "# Place mean shapes at mean positions; generate volumes."
   ]
  },
  {
   "cell_type": "code",
   "execution_count": 5,
   "metadata": {
    "collapsed": true
   },
   "outputs": [],
   "source": [
    "structure_vol_origin_dicts_rel2canon = {}\n",
    "\n",
    "for name_s in nominal_locations_rel2canon.keys():\n",
    "    \n",
    "    name_u = convert_to_original_name(name_s)\n",
    "    \n",
    "    if atlas_name == 'atlasV6':\n",
    "        prob_shape = bp.unpack_ndarray_file(DataManager.get_structure_mean_shape_filepath(atlas_name='atlasV5', structure=name_u))\n",
    "        prob_shape_origin_rel2structCentroid = np.loadtxt(DataManager.get_structure_mean_shape_origin_filepath(atlas_name='atlasV5', structure=name_u))\n",
    "    else:\n",
    "        prob_shape = bp.unpack_ndarray_file(DataManager.get_structure_mean_shape_filepath(atlas_name=atlas_name, structure=name_u))\n",
    "        prob_shape_origin_rel2structCentroid = np.loadtxt(DataManager.get_structure_mean_shape_origin_filepath(atlas_name=atlas_name, structure=name_u))\n",
    "\n",
    "    structure_centroid_rel2canon = nominal_locations_rel2canon[name_s]\n",
    "    \n",
    "    if name_s in singular_structures or parse_label(name_s)[1] == 'R':\n",
    "        # Singular or Right - don't need mirroring\n",
    "        structure_vol_origin_dicts_rel2canon[name_s] = (prob_shape, structure_centroid_rel2canon + prob_shape_origin_rel2structCentroid)\n",
    "    else:\n",
    "        # Left - need mirroring\n",
    "        structure_vol_origin_dicts_rel2canon[name_s] = mirror_volume(prob_shape, structure_centroid_rel2canon + prob_shape_origin_rel2structCentroid*(1,1,-1))"
   ]
  },
  {
   "cell_type": "markdown",
   "metadata": {},
   "source": [
    "# Convert to meshes"
   ]
  },
  {
   "cell_type": "code",
   "execution_count": 6,
   "metadata": {
    "collapsed": true
   },
   "outputs": [],
   "source": [
    "structure_meshes_rel2canon = {}\n",
    "\n",
    "for name_s in nominal_locations_rel2canon.keys():\n",
    "    \n",
    "    name_u = convert_to_original_name(name_s)\n",
    "    \n",
    "    if atlas_name == 'atlasV6':\n",
    "        vertices_rel2structCentroid, faces = load_mesh_stl(DataManager.get_structure_mean_mesh_filepath(atlas_name='atlasV5', structure=name_u))\n",
    "    else:\n",
    "        vertices_rel2structCentroid, faces = load_mesh_stl(DataManager.get_structure_mean_mesh_filepath(atlas_name=atlas_name, structure=name_u))\n",
    "\n",
    "    structure_centroid_rel2canon = nominal_locations_rel2canon[name_s]\n",
    "    \n",
    "    if name_s in singular_structures or parse_label(name_s)[1] == 'R':\n",
    "        # Singular or Right - don't need mirroring\n",
    "        structure_meshes_rel2canon[name_s] = mesh_to_polydata(vertices=vertices_rel2structCentroid + structure_centroid_rel2canon, \n",
    "                                                                faces=faces)\n",
    "    else:\n",
    "        # Left - need mirroring\n",
    "        structure_meshes_rel2canon[name_s] = mesh_to_polydata(vertices=vertices_rel2structCentroid*(1,1,-1) + structure_centroid_rel2canon, \n",
    "                                                                faces=faces)"
   ]
  },
  {
   "cell_type": "code",
   "execution_count": 177,
   "metadata": {
    "scrolled": true
   },
   "outputs": [
    {
     "name": "stdout",
     "output_type": "stream",
     "text": [
      "aws s3 cp \"/home/yuncong/CSHL_meshes/atlasV6/atlasV6_down32_scoreVolume/atlasV6_down32_scoreVolume_LRt_R.stl\" \"s3://mousebrainatlas-data/CSHL_meshes/atlasV6/atlasV6_down32_scoreVolume/atlasV6_down32_scoreVolume_LRt_R.stl\"\n",
      "aws s3 cp \"/home/yuncong/CSHL_meshes/atlasV6/atlasV6_down32_scoreVolume/atlasV6_down32_scoreVolume_Sp5C_L.stl\" \"s3://mousebrainatlas-data/CSHL_meshes/atlasV6/atlasV6_down32_scoreVolume/atlasV6_down32_scoreVolume_Sp5C_L.stl\"\n",
      "aws s3 cp \"/home/yuncong/CSHL_meshes/atlasV6/atlasV6_down32_scoreVolume/atlasV6_down32_scoreVolume_Pn_L.stl\" \"s3://mousebrainatlas-data/CSHL_meshes/atlasV6/atlasV6_down32_scoreVolume/atlasV6_down32_scoreVolume_Pn_L.stl\"\n",
      "aws s3 cp \"/home/yuncong/CSHL_meshes/atlasV6/atlasV6_down32_scoreVolume/atlasV6_down32_scoreVolume_7N_R.stl\" \"s3://mousebrainatlas-data/CSHL_meshes/atlasV6/atlasV6_down32_scoreVolume/atlasV6_down32_scoreVolume_7N_R.stl\"\n",
      "aws s3 cp \"/home/yuncong/CSHL_meshes/atlasV6/atlasV6_down32_scoreVolume/atlasV6_down32_scoreVolume_PBG_L.stl\" \"s3://mousebrainatlas-data/CSHL_meshes/atlasV6/atlasV6_down32_scoreVolume/atlasV6_down32_scoreVolume_PBG_L.stl\"\n",
      "aws s3 cp \"/home/yuncong/CSHL_meshes/atlasV6/atlasV6_down32_scoreVolume/atlasV6_down32_scoreVolume_VLL_L.stl\" \"s3://mousebrainatlas-data/CSHL_meshes/atlasV6/atlasV6_down32_scoreVolume/atlasV6_down32_scoreVolume_VLL_L.stl\"\n",
      "aws s3 cp \"/home/yuncong/CSHL_meshes/atlasV6/atlasV6_down32_scoreVolume/atlasV6_down32_scoreVolume_4N_R.stl\" \"s3://mousebrainatlas-data/CSHL_meshes/atlasV6/atlasV6_down32_scoreVolume/atlasV6_down32_scoreVolume_4N_R.stl\"\n",
      "aws s3 cp \"/home/yuncong/CSHL_meshes/atlasV6/atlasV6_down32_scoreVolume/atlasV6_down32_scoreVolume_VLL_R.stl\" \"s3://mousebrainatlas-data/CSHL_meshes/atlasV6/atlasV6_down32_scoreVolume/atlasV6_down32_scoreVolume_VLL_R.stl\"\n",
      "aws s3 cp \"/home/yuncong/CSHL_meshes/atlasV6/atlasV6_down32_scoreVolume/atlasV6_down32_scoreVolume_7N_L.stl\" \"s3://mousebrainatlas-data/CSHL_meshes/atlasV6/atlasV6_down32_scoreVolume/atlasV6_down32_scoreVolume_7N_L.stl\"\n",
      "aws s3 cp \"/home/yuncong/CSHL_meshes/atlasV6/atlasV6_down32_scoreVolume/atlasV6_down32_scoreVolume_PBG_R.stl\" \"s3://mousebrainatlas-data/CSHL_meshes/atlasV6/atlasV6_down32_scoreVolume/atlasV6_down32_scoreVolume_PBG_R.stl\"\n",
      "aws s3 cp \"/home/yuncong/CSHL_meshes/atlasV6/atlasV6_down32_scoreVolume/atlasV6_down32_scoreVolume_RtTg.stl\" \"s3://mousebrainatlas-data/CSHL_meshes/atlasV6/atlasV6_down32_scoreVolume/atlasV6_down32_scoreVolume_RtTg.stl\"\n",
      "aws s3 cp \"/home/yuncong/CSHL_meshes/atlasV6/atlasV6_down32_scoreVolume/atlasV6_down32_scoreVolume_Sp5C_R.stl\" \"s3://mousebrainatlas-data/CSHL_meshes/atlasV6/atlasV6_down32_scoreVolume/atlasV6_down32_scoreVolume_Sp5C_R.stl\"\n",
      "aws s3 cp \"/home/yuncong/CSHL_meshes/atlasV6/atlasV6_down32_scoreVolume/atlasV6_down32_scoreVolume_Pn_R.stl\" \"s3://mousebrainatlas-data/CSHL_meshes/atlasV6/atlasV6_down32_scoreVolume/atlasV6_down32_scoreVolume_Pn_R.stl\"\n",
      "aws s3 cp \"/home/yuncong/CSHL_meshes/atlasV6/atlasV6_down32_scoreVolume/atlasV6_down32_scoreVolume_LRt_L.stl\" \"s3://mousebrainatlas-data/CSHL_meshes/atlasV6/atlasV6_down32_scoreVolume/atlasV6_down32_scoreVolume_LRt_L.stl\"\n",
      "aws s3 cp \"/home/yuncong/CSHL_meshes/atlasV6/atlasV6_down32_scoreVolume/atlasV6_down32_scoreVolume_Sp5O_R.stl\" \"s3://mousebrainatlas-data/CSHL_meshes/atlasV6/atlasV6_down32_scoreVolume/atlasV6_down32_scoreVolume_Sp5O_R.stl\"\n",
      "aws s3 cp \"/home/yuncong/CSHL_meshes/atlasV6/atlasV6_down32_scoreVolume/atlasV6_down32_scoreVolume_SNR_L.stl\" \"s3://mousebrainatlas-data/CSHL_meshes/atlasV6/atlasV6_down32_scoreVolume/atlasV6_down32_scoreVolume_SNR_L.stl\"\n",
      "aws s3 cp \"/home/yuncong/CSHL_meshes/atlasV6/atlasV6_down32_scoreVolume/atlasV6_down32_scoreVolume_12N.stl\" \"s3://mousebrainatlas-data/CSHL_meshes/atlasV6/atlasV6_down32_scoreVolume/atlasV6_down32_scoreVolume_12N.stl\"\n",
      "aws s3 cp \"/home/yuncong/CSHL_meshes/atlasV6/atlasV6_down32_scoreVolume/atlasV6_down32_scoreVolume_SNR_R.stl\" \"s3://mousebrainatlas-data/CSHL_meshes/atlasV6/atlasV6_down32_scoreVolume/atlasV6_down32_scoreVolume_SNR_R.stl\"\n",
      "aws s3 cp \"/home/yuncong/CSHL_meshes/atlasV6/atlasV6_down32_scoreVolume/atlasV6_down32_scoreVolume_Sp5O_L.stl\" \"s3://mousebrainatlas-data/CSHL_meshes/atlasV6/atlasV6_down32_scoreVolume/atlasV6_down32_scoreVolume_Sp5O_L.stl\"\n",
      "aws s3 cp \"/home/yuncong/CSHL_meshes/atlasV6/atlasV6_down32_scoreVolume/atlasV6_down32_scoreVolume_DC_R.stl\" \"s3://mousebrainatlas-data/CSHL_meshes/atlasV6/atlasV6_down32_scoreVolume/atlasV6_down32_scoreVolume_DC_R.stl\"\n",
      "aws s3 cp \"/home/yuncong/CSHL_meshes/atlasV6/atlasV6_down32_scoreVolume/atlasV6_down32_scoreVolume_VCA_L.stl\" \"s3://mousebrainatlas-data/CSHL_meshes/atlasV6/atlasV6_down32_scoreVolume/atlasV6_down32_scoreVolume_VCA_L.stl\"\n",
      "aws s3 cp \"/home/yuncong/CSHL_meshes/atlasV6/atlasV6_down32_scoreVolume/atlasV6_down32_scoreVolume_3N_L.stl\" \"s3://mousebrainatlas-data/CSHL_meshes/atlasV6/atlasV6_down32_scoreVolume/atlasV6_down32_scoreVolume_3N_L.stl\"\n",
      "aws s3 cp \"/home/yuncong/CSHL_meshes/atlasV6/atlasV6_down32_scoreVolume/atlasV6_down32_scoreVolume_6N_R.stl\" \"s3://mousebrainatlas-data/CSHL_meshes/atlasV6/atlasV6_down32_scoreVolume/atlasV6_down32_scoreVolume_6N_R.stl\"\n",
      "aws s3 cp \"/home/yuncong/CSHL_meshes/atlasV6/atlasV6_down32_scoreVolume/atlasV6_down32_scoreVolume_Sp5I_L.stl\" \"s3://mousebrainatlas-data/CSHL_meshes/atlasV6/atlasV6_down32_scoreVolume/atlasV6_down32_scoreVolume_Sp5I_L.stl\"\n",
      "aws s3 cp \"/home/yuncong/CSHL_meshes/atlasV6/atlasV6_down32_scoreVolume/atlasV6_down32_scoreVolume_RMC_R.stl\" \"s3://mousebrainatlas-data/CSHL_meshes/atlasV6/atlasV6_down32_scoreVolume/atlasV6_down32_scoreVolume_RMC_R.stl\"\n",
      "aws s3 cp \"/home/yuncong/CSHL_meshes/atlasV6/atlasV6_down32_scoreVolume/atlasV6_down32_scoreVolume_5N_L.stl\" \"s3://mousebrainatlas-data/CSHL_meshes/atlasV6/atlasV6_down32_scoreVolume/atlasV6_down32_scoreVolume_5N_L.stl\"\n",
      "aws s3 cp \"/home/yuncong/CSHL_meshes/atlasV6/atlasV6_down32_scoreVolume/atlasV6_down32_scoreVolume_SNC_L.stl\" \"s3://mousebrainatlas-data/CSHL_meshes/atlasV6/atlasV6_down32_scoreVolume/atlasV6_down32_scoreVolume_SNC_L.stl\"\n",
      "aws s3 cp \"/home/yuncong/CSHL_meshes/atlasV6/atlasV6_down32_scoreVolume/atlasV6_down32_scoreVolume_SNC_R.stl\" \"s3://mousebrainatlas-data/CSHL_meshes/atlasV6/atlasV6_down32_scoreVolume/atlasV6_down32_scoreVolume_SNC_R.stl\"\n",
      "aws s3 cp \"/home/yuncong/CSHL_meshes/atlasV6/atlasV6_down32_scoreVolume/atlasV6_down32_scoreVolume_AP.stl\" \"s3://mousebrainatlas-data/CSHL_meshes/atlasV6/atlasV6_down32_scoreVolume/atlasV6_down32_scoreVolume_AP.stl\"\n",
      "aws s3 cp \"/home/yuncong/CSHL_meshes/atlasV6/atlasV6_down32_scoreVolume/atlasV6_down32_scoreVolume_RMC_L.stl\" \"s3://mousebrainatlas-data/CSHL_meshes/atlasV6/atlasV6_down32_scoreVolume/atlasV6_down32_scoreVolume_RMC_L.stl\"\n",
      "aws s3 cp \"/home/yuncong/CSHL_meshes/atlasV6/atlasV6_down32_scoreVolume/atlasV6_down32_scoreVolume_Sp5I_R.stl\" \"s3://mousebrainatlas-data/CSHL_meshes/atlasV6/atlasV6_down32_scoreVolume/atlasV6_down32_scoreVolume_Sp5I_R.stl\"\n",
      "aws s3 cp \"/home/yuncong/CSHL_meshes/atlasV6/atlasV6_down32_scoreVolume/atlasV6_down32_scoreVolume_3N_R.stl\" \"s3://mousebrainatlas-data/CSHL_meshes/atlasV6/atlasV6_down32_scoreVolume/atlasV6_down32_scoreVolume_3N_R.stl\"\n",
      "aws s3 cp \"/home/yuncong/CSHL_meshes/atlasV6/atlasV6_down32_scoreVolume/atlasV6_down32_scoreVolume_6N_L.stl\" \"s3://mousebrainatlas-data/CSHL_meshes/atlasV6/atlasV6_down32_scoreVolume/atlasV6_down32_scoreVolume_6N_L.stl\"\n",
      "aws s3 cp \"/home/yuncong/CSHL_meshes/atlasV6/atlasV6_down32_scoreVolume/atlasV6_down32_scoreVolume_IC.stl\" \"s3://mousebrainatlas-data/CSHL_meshes/atlasV6/atlasV6_down32_scoreVolume/atlasV6_down32_scoreVolume_IC.stl\"\n",
      "aws s3 cp \"/home/yuncong/CSHL_meshes/atlasV6/atlasV6_down32_scoreVolume/atlasV6_down32_scoreVolume_VCA_R.stl\" \"s3://mousebrainatlas-data/CSHL_meshes/atlasV6/atlasV6_down32_scoreVolume/atlasV6_down32_scoreVolume_VCA_R.stl\"\n",
      "aws s3 cp \"/home/yuncong/CSHL_meshes/atlasV6/atlasV6_down32_scoreVolume/atlasV6_down32_scoreVolume_DC_L.stl\" \"s3://mousebrainatlas-data/CSHL_meshes/atlasV6/atlasV6_down32_scoreVolume/atlasV6_down32_scoreVolume_DC_L.stl\"\n",
      "aws s3 cp \"/home/yuncong/CSHL_meshes/atlasV6/atlasV6_down32_scoreVolume/atlasV6_down32_scoreVolume_Amb_R.stl\" \"s3://mousebrainatlas-data/CSHL_meshes/atlasV6/atlasV6_down32_scoreVolume/atlasV6_down32_scoreVolume_Amb_R.stl\"\n",
      "aws s3 cp \"/home/yuncong/CSHL_meshes/atlasV6/atlasV6_down32_scoreVolume/atlasV6_down32_scoreVolume_VCP_R.stl\" \"s3://mousebrainatlas-data/CSHL_meshes/atlasV6/atlasV6_down32_scoreVolume/atlasV6_down32_scoreVolume_VCP_R.stl\"\n"
     ]
    },
    {
     "name": "stdout",
     "output_type": "stream",
     "text": [
      "aws s3 cp \"/home/yuncong/CSHL_meshes/atlasV6/atlasV6_down32_scoreVolume/atlasV6_down32_scoreVolume_LC_R.stl\" \"s3://mousebrainatlas-data/CSHL_meshes/atlasV6/atlasV6_down32_scoreVolume/atlasV6_down32_scoreVolume_LC_R.stl\"\n",
      "aws s3 cp \"/home/yuncong/CSHL_meshes/atlasV6/atlasV6_down32_scoreVolume/atlasV6_down32_scoreVolume_10N_R.stl\" \"s3://mousebrainatlas-data/CSHL_meshes/atlasV6/atlasV6_down32_scoreVolume/atlasV6_down32_scoreVolume_10N_R.stl\"\n",
      "aws s3 cp \"/home/yuncong/CSHL_meshes/atlasV6/atlasV6_down32_scoreVolume/atlasV6_down32_scoreVolume_7n_R.stl\" \"s3://mousebrainatlas-data/CSHL_meshes/atlasV6/atlasV6_down32_scoreVolume/atlasV6_down32_scoreVolume_7n_R.stl\"\n",
      "aws s3 cp \"/home/yuncong/CSHL_meshes/atlasV6/atlasV6_down32_scoreVolume/atlasV6_down32_scoreVolume_5N_R.stl\" \"s3://mousebrainatlas-data/CSHL_meshes/atlasV6/atlasV6_down32_scoreVolume/atlasV6_down32_scoreVolume_5N_R.stl\"\n",
      "aws s3 cp \"/home/yuncong/CSHL_meshes/atlasV6/atlasV6_down32_scoreVolume/atlasV6_down32_scoreVolume_Tz_L.stl\" \"s3://mousebrainatlas-data/CSHL_meshes/atlasV6/atlasV6_down32_scoreVolume/atlasV6_down32_scoreVolume_Tz_L.stl\"\n",
      "aws s3 cp \"/home/yuncong/CSHL_meshes/atlasV6/atlasV6_down32_scoreVolume/atlasV6_down32_scoreVolume_Tz_R.stl\" \"s3://mousebrainatlas-data/CSHL_meshes/atlasV6/atlasV6_down32_scoreVolume/atlasV6_down32_scoreVolume_Tz_R.stl\"\n",
      "aws s3 cp \"/home/yuncong/CSHL_meshes/atlasV6/atlasV6_down32_scoreVolume/atlasV6_down32_scoreVolume_7n_L.stl\" \"s3://mousebrainatlas-data/CSHL_meshes/atlasV6/atlasV6_down32_scoreVolume/atlasV6_down32_scoreVolume_7n_L.stl\"\n",
      "aws s3 cp \"/home/yuncong/CSHL_meshes/atlasV6/atlasV6_down32_scoreVolume/atlasV6_down32_scoreVolume_4N_L.stl\" \"s3://mousebrainatlas-data/CSHL_meshes/atlasV6/atlasV6_down32_scoreVolume/atlasV6_down32_scoreVolume_4N_L.stl\"\n",
      "aws s3 cp \"/home/yuncong/CSHL_meshes/atlasV6/atlasV6_down32_scoreVolume/atlasV6_down32_scoreVolume_LC_L.stl\" \"s3://mousebrainatlas-data/CSHL_meshes/atlasV6/atlasV6_down32_scoreVolume/atlasV6_down32_scoreVolume_LC_L.stl\"\n",
      "aws s3 cp \"/home/yuncong/CSHL_meshes/atlasV6/atlasV6_down32_scoreVolume/atlasV6_down32_scoreVolume_10N_L.stl\" \"s3://mousebrainatlas-data/CSHL_meshes/atlasV6/atlasV6_down32_scoreVolume/atlasV6_down32_scoreVolume_10N_L.stl\"\n",
      "aws s3 cp \"/home/yuncong/CSHL_meshes/atlasV6/atlasV6_down32_scoreVolume/atlasV6_down32_scoreVolume_SC.stl\" \"s3://mousebrainatlas-data/CSHL_meshes/atlasV6/atlasV6_down32_scoreVolume/atlasV6_down32_scoreVolume_SC.stl\"\n",
      "aws s3 cp \"/home/yuncong/CSHL_meshes/atlasV6/atlasV6_down32_scoreVolume/atlasV6_down32_scoreVolume_VCP_L.stl\" \"s3://mousebrainatlas-data/CSHL_meshes/atlasV6/atlasV6_down32_scoreVolume/atlasV6_down32_scoreVolume_VCP_L.stl\"\n",
      "aws s3 cp \"/home/yuncong/CSHL_meshes/atlasV6/atlasV6_down32_scoreVolume/atlasV6_down32_scoreVolume_Amb_L.stl\" \"s3://mousebrainatlas-data/CSHL_meshes/atlasV6/atlasV6_down32_scoreVolume/atlasV6_down32_scoreVolume_Amb_L.stl\"\n"
     ]
    }
   ],
   "source": [
    "# Save structure meshes with respect to canonical centroid.\n",
    "\n",
    "for name_s, mesh_rel2canon in structure_meshes_rel2canon.iteritems():\n",
    "    fp = DataManager.get_mesh_filepath(stack_m=atlas_name, structure=name_s)\n",
    "    create_parent_dir_if_not_exists(fp)\n",
    "    save_mesh_stl(mesh_rel2canon, fp)\n",
    "    upload_to_s3(fp)"
   ]
  },
  {
   "cell_type": "markdown",
   "metadata": {},
   "source": [
    "# Define surrounds"
   ]
  },
  {
   "cell_type": "code",
   "execution_count": 57,
   "metadata": {},
   "outputs": [
    {
     "name": "stdout",
     "output_type": "stream",
     "text": [
      "surround size (in voxels): 13.5869565217\n"
     ]
    }
   ],
   "source": [
    "# Generate and save surround score volumes. (in fact binary, but dtype is np.float16, same as interior score volumes.)\n",
    "\n",
    "valid_level = .5\n",
    "\n",
    "surround_distance_um = 200\n",
    "surround_distance_voxel = surround_distance_um / XY_PIXEL_DISTANCE_TB\n",
    "print \"surround size (in voxels):\", surround_distance_voxel"
   ]
  },
  {
   "cell_type": "code",
   "execution_count": 58,
   "metadata": {
    "collapsed": true
   },
   "outputs": [],
   "source": [
    "structure_surround_vol_origin_dicts_rel2canon = {}"
   ]
  },
  {
   "cell_type": "code",
   "execution_count": 59,
   "metadata": {
    "collapsed": true
   },
   "outputs": [],
   "source": [
    "for name_s, (vol, origin_rel2canon) in structure_vol_origin_dicts_rel2canon.iteritems():\n",
    "    surr_vol, surr_vol_bbox_rel2canon = get_surround_volume_v2(vol, \n",
    "                                                          (origin_rel2canon[0], origin_rel2canon[0]+vol.shape[1]-1, \n",
    "                                      origin_rel2canon[1], origin_rel2canon[1]+vol.shape[0]-1, \n",
    "                                      origin_rel2canon[2], origin_rel2canon[2]+vol.shape[2]-1),\n",
    "                        valid_level=valid_level, \n",
    "                        distance=surround_distance_voxel, prob=True)\n",
    "    \n",
    "    surr_name = convert_to_surround_name(name_s, margin=surround_distance_um)\n",
    "    structure_surround_vol_origin_dicts_rel2canon[surr_name] = (surr_vol, np.array(surr_vol_bbox_rel2canon)[[0,2,4]])"
   ]
  },
  {
   "cell_type": "markdown",
   "metadata": {},
   "source": [
    "# Shell"
   ]
  },
  {
   "cell_type": "markdown",
   "metadata": {},
   "source": [
    "Just use MD589's shell, until we find a way to average the outlines."
   ]
  },
  {
   "cell_type": "code",
   "execution_count": 7,
   "metadata": {},
   "outputs": [
    {
     "ename": "KeyboardInterrupt",
     "evalue": "",
     "output_type": "error",
     "traceback": [
      "\u001b[0;31m---------------------------------------------------------------------------\u001b[0m",
      "\u001b[0;31mKeyboardInterrupt\u001b[0m                         Traceback (most recent call last)",
      "\u001b[0;32m<ipython-input-7-8d5f15bb238e>\u001b[0m in \u001b[0;36m<module>\u001b[0;34m()\u001b[0m\n\u001b[1;32m     25\u001b[0m             \u001b[0mm2\u001b[0m\u001b[0;34m[\u001b[0m\u001b[0mcnt\u001b[0m\u001b[0;34m[\u001b[0m\u001b[0;34m:\u001b[0m\u001b[0;34m,\u001b[0m\u001b[0;36m1\u001b[0m\u001b[0;34m]\u001b[0m\u001b[0;34m,\u001b[0m \u001b[0mcnt\u001b[0m\u001b[0;34m[\u001b[0m\u001b[0;34m:\u001b[0m\u001b[0;34m,\u001b[0m\u001b[0;36m0\u001b[0m\u001b[0;34m]\u001b[0m\u001b[0;34m]\u001b[0m \u001b[0;34m=\u001b[0m \u001b[0;36m1\u001b[0m\u001b[0;34m\u001b[0m\u001b[0m\n\u001b[1;32m     26\u001b[0m         \u001b[0mdistance_to_contour\u001b[0m \u001b[0;34m=\u001b[0m \u001b[0mdistance_transform_edt\u001b[0m\u001b[0;34m(\u001b[0m\u001b[0;34m~\u001b[0m\u001b[0mm2\u001b[0m\u001b[0;34m)\u001b[0m\u001b[0;34m\u001b[0m\u001b[0m\n\u001b[0;32m---> 27\u001b[0;31m         \u001b[0mcontour_prob_map\u001b[0m \u001b[0;34m=\u001b[0m \u001b[0mnp\u001b[0m\u001b[0;34m.\u001b[0m\u001b[0mexp\u001b[0m\u001b[0;34m(\u001b[0m\u001b[0;34m-\u001b[0m\u001b[0mdistance_to_contour\u001b[0m\u001b[0;34m**\u001b[0m\u001b[0;36m2\u001b[0m\u001b[0;34m/\u001b[0m\u001b[0;34m(\u001b[0m\u001b[0;36m2\u001b[0m\u001b[0;34m*\u001b[0m\u001b[0mmargin_tb\u001b[0m\u001b[0;34m)\u001b[0m\u001b[0;34m**\u001b[0m\u001b[0;36m2\u001b[0m\u001b[0;34m)\u001b[0m\u001b[0;34m\u001b[0m\u001b[0m\n\u001b[0m\u001b[1;32m     28\u001b[0m         \u001b[0mcontour_prob_map\u001b[0m\u001b[0;34m[\u001b[0m\u001b[0mcontour_prob_map\u001b[0m \u001b[0;34m<\u001b[0m \u001b[0;36m1e-2\u001b[0m\u001b[0;34m]\u001b[0m \u001b[0;34m=\u001b[0m \u001b[0;36m0\u001b[0m\u001b[0;34m\u001b[0m\u001b[0m\n\u001b[1;32m     29\u001b[0m         \u001b[0mcontour_prob_maps_by_sec\u001b[0m\u001b[0;34m[\u001b[0m\u001b[0msec\u001b[0m\u001b[0;34m]\u001b[0m \u001b[0;34m=\u001b[0m \u001b[0mcontour_prob_map\u001b[0m\u001b[0;34m\u001b[0m\u001b[0m\n",
      "\u001b[0;31mKeyboardInterrupt\u001b[0m: "
     ]
    }
   ],
   "source": [
    "from conversion import *\n",
    "\n",
    "margin_um = 200\n",
    "margin_tb = margin_um / XY_PIXEL_DISTANCE_TB\n",
    "\n",
    "from scipy.ndimage.morphology import distance_transform_edt\n",
    "\n",
    "# for stack in ['MD594', 'MD585', 'MD593', 'MD592', 'MD590', 'MD591', 'MD595', 'MD598', 'MD602']:\n",
    "for stack in ['MD589']:\n",
    "    \n",
    "#     contours_valid_by_z = {}\n",
    "    contour_prob_maps_by_sec = {}\n",
    "    \n",
    "    for sec in metadata_cache['valid_sections'][stack]:\n",
    "                \n",
    "        m = DataManager.load_thumbnail_mask_v3(stack, prep_id=2, section=sec)\n",
    "        contours = find_contour_points(m, sample_every=1)[1]\n",
    "        contours_valid = [cnt[(cnt[:,0] >= 1) & (cnt[:,1] >= 1)] for cnt in contours]\n",
    "        \n",
    "#         z = np.mean(DataManager.convert_section_to_z(stack, sec, downsample=32, z_begin=0))\n",
    "#         contours_valid_by_z[z] = contours_valid[0]\n",
    "        \n",
    "        m2 = np.zeros_like(m, np.bool)\n",
    "        for cnt in contours_valid:\n",
    "            m2[cnt[:,1], cnt[:,0]] = 1\n",
    "        distance_to_contour = distance_transform_edt(~m2)\n",
    "        contour_prob_map = np.exp(-distance_to_contour**2/(2*margin_tb)**2)\n",
    "        contour_prob_map[contour_prob_map < 1e-2] = 0\n",
    "        contour_prob_maps_by_sec[sec] = contour_prob_map\n",
    "        \n",
    "outline_prob_volume, outline_prob_volume_bbox = images_to_volume(images=contour_prob_maps_by_sec, \n",
    "                                                                 voxel_size=(XY_PIXEL_DISTANCE_TB, XY_PIXEL_DISTANCE_TB, SECTION_THICKNESS/XY_PIXEL_DISTANCE_TB))\n",
    "\n",
    "# outline_prob_volume_bbox (xm,xm,ym,ym) relative to cropped, (zm,zm) relative to uncropped.\n",
    "\n",
    "crop_box = metadata_cache['cropbox']['MD589']\n",
    "outline_prob_volume_bbox_rel2uncropped = np.array(outline_prob_volume_bbox) + (crop_box[0], crop_box[0], crop_box[2], crop_box[2], 0, 0)\n",
    "\n",
    "display_volume_sections(outline_prob_volume, direction='z', ncols=5, cmap=plt.cm.gray, start_level=0)"
   ]
  },
  {
   "cell_type": "code",
   "execution_count": 23,
   "metadata": {
    "collapsed": true
   },
   "outputs": [],
   "source": [
    "outline_prob_volume_origin_rel2canon = outline_prob_volume_bbox_rel2uncropped[[0,2,4]] - canonical_centroid_rel2uncropped"
   ]
  },
  {
   "cell_type": "code",
   "execution_count": 24,
   "metadata": {
    "collapsed": true
   },
   "outputs": [],
   "source": [
    "shell_vol_origin_dict_rel2canon = {'shell': (outline_prob_volume, outline_prob_volume_origin_rel2canon)}"
   ]
  },
  {
   "cell_type": "markdown",
   "metadata": {},
   "source": [
    "# Generate atlas structure volumes in full-brain domain"
   ]
  },
  {
   "cell_type": "code",
   "execution_count": 9,
   "metadata": {},
   "outputs": [
    {
     "ename": "NameError",
     "evalue": "name 'structure_surround_vol_origin_dicts_rel2canon' is not defined",
     "output_type": "error",
     "traceback": [
      "\u001b[0;31m---------------------------------------------------------------------------\u001b[0m",
      "\u001b[0;31mNameError\u001b[0m                                 Traceback (most recent call last)",
      "\u001b[0;32m<ipython-input-9-73c1149a3313>\u001b[0m in \u001b[0;36m<module>\u001b[0;34m()\u001b[0m\n\u001b[1;32m      4\u001b[0m \u001b[0;34m\u001b[0m\u001b[0m\n\u001b[1;32m      5\u001b[0m \u001b[0mstructure_pos_surr_shell_vol_origin_dicts_rel2canon\u001b[0m \u001b[0;34m=\u001b[0m \u001b[0;34m{\u001b[0m\u001b[0;34m}\u001b[0m\u001b[0;34m\u001b[0m\u001b[0m\n\u001b[0;32m----> 6\u001b[0;31m \u001b[0;32mfor\u001b[0m \u001b[0md\u001b[0m \u001b[0;32min\u001b[0m \u001b[0;34m[\u001b[0m\u001b[0mstructure_vol_origin_dicts_rel2canon\u001b[0m\u001b[0;34m,\u001b[0m \u001b[0mstructure_surround_vol_origin_dicts_rel2canon\u001b[0m\u001b[0;34m]\u001b[0m\u001b[0;34m:\u001b[0m\u001b[0;34m\u001b[0m\u001b[0m\n\u001b[0m\u001b[1;32m      7\u001b[0m     \u001b[0mstructure_pos_surr_shell_vol_origin_dicts_rel2canon\u001b[0m\u001b[0;34m.\u001b[0m\u001b[0mupdate\u001b[0m\u001b[0;34m(\u001b[0m\u001b[0md\u001b[0m\u001b[0;34m)\u001b[0m\u001b[0;34m\u001b[0m\u001b[0m\n",
      "\u001b[0;31mNameError\u001b[0m: name 'structure_surround_vol_origin_dicts_rel2canon' is not defined"
     ]
    }
   ],
   "source": [
    "# structure_pos_surr_shell_vol_origin_dicts_rel2canon = {}\n",
    "# for d in [structure_vol_origin_dicts_rel2canon, structure_surround_vol_origin_dicts_rel2canon, shell_vol_origin_dict_rel2canon]:\n",
    "#     structure_pos_surr_shell_vol_origin_dicts_rel2canon.update(d)\n",
    "\n",
    "structure_pos_surr_shell_vol_origin_dicts_rel2canon = {}\n",
    "for d in [structure_vol_origin_dicts_rel2canon, structure_surround_vol_origin_dicts_rel2canon]:\n",
    "    structure_pos_surr_shell_vol_origin_dicts_rel2canon.update(d)"
   ]
  },
  {
   "cell_type": "code",
   "execution_count": 75,
   "metadata": {
    "scrolled": true
   },
   "outputs": [
    {
     "name": "stderr",
     "output_type": "stream",
     "text": [
      "[autoreload of utilities2015 failed: Traceback (most recent call last):\n",
      "  File \"/usr/local/lib/python2.7/dist-packages/IPython/extensions/autoreload.py\", line 247, in check\n",
      "    superreload(m, reload, self.old_objects)\n",
      "AttributeError: __abstractmethods__\n",
      "]\n"
     ]
    }
   ],
   "source": [
    "atlas_volumes, atlas_volume_bbox_rel2canon = \\\n",
    "convert_vol_bbox_dict_to_overall_vol(vol_origin_dict=structure_pos_surr_shell_vol_origin_dicts_rel2canon)"
   ]
  },
  {
   "cell_type": "code",
   "execution_count": 78,
   "metadata": {
    "collapsed": true
   },
   "outputs": [],
   "source": [
    "atlas_volumes = {k: v.astype(np.float16) for k, v in atlas_volumes.iteritems()}"
   ]
  },
  {
   "cell_type": "code",
   "execution_count": 82,
   "metadata": {},
   "outputs": [
    {
     "name": "stdout",
     "output_type": "stream",
     "text": [
      "atlas_volume_bbox_rel2uncropped: [ 587 1052  133  526  109  521]\n"
     ]
    }
   ],
   "source": [
    "atlas_volume_bbox_rel2uncropped = atlas_volume_bbox_rel2canon + canonical_centroid_rel2uncropped[[0,0,1,1,2,2]]\n",
    "atlas_volume_bbox_rel2uncropped = np.round(atlas_volume_bbox_rel2uncropped).astype(np.int)\n",
    "print 'atlas_volume_bbox_rel2uncropped:', atlas_volume_bbox_rel2uncropped"
   ]
  },
  {
   "cell_type": "code",
   "execution_count": 85,
   "metadata": {
    "scrolled": true
   },
   "outputs": [
    {
     "name": "stdout",
     "output_type": "stream",
     "text": [
      "aws s3 cp \"/media/yuncong/YuncongPublic/CSHL_volumes/atlasV5/atlasV5_down32_scoreVolume/score_volumes/atlasV5_down32_scoreVolume_LRt_R.bp\" \"s3://mousebrainatlas-data/CSHL_volumes/atlasV5/atlasV5_down32_scoreVolume/score_volumes/atlasV5_down32_scoreVolume_LRt_R.bp\"\n",
      "aws s3 cp \"/media/yuncong/YuncongPublic/CSHL_volumes/atlasV5/atlasV5_down32_scoreVolume/score_volumes/atlasV5_down32_scoreVolume_LRt_R_bbox.txt\" \"s3://mousebrainatlas-data/CSHL_volumes/atlasV5/atlasV5_down32_scoreVolume/score_volumes/atlasV5_down32_scoreVolume_LRt_R_bbox.txt\"\n",
      "aws s3 cp \"/media/yuncong/YuncongPublic/CSHL_volumes/atlasV5/atlasV5_down32_scoreVolume/score_volumes/atlasV5_down32_scoreVolume_Tz_L_surround_200.bp\" \"s3://mousebrainatlas-data/CSHL_volumes/atlasV5/atlasV5_down32_scoreVolume/score_volumes/atlasV5_down32_scoreVolume_Tz_L_surround_200.bp\"\n",
      "aws s3 cp \"/media/yuncong/YuncongPublic/CSHL_volumes/atlasV5/atlasV5_down32_scoreVolume/score_volumes/atlasV5_down32_scoreVolume_Tz_L_surround_200_bbox.txt\" \"s3://mousebrainatlas-data/CSHL_volumes/atlasV5/atlasV5_down32_scoreVolume/score_volumes/atlasV5_down32_scoreVolume_Tz_L_surround_200_bbox.txt\"\n",
      "aws s3 cp \"/media/yuncong/YuncongPublic/CSHL_volumes/atlasV5/atlasV5_down32_scoreVolume/score_volumes/atlasV5_down32_scoreVolume_Pn_L.bp\" \"s3://mousebrainatlas-data/CSHL_volumes/atlasV5/atlasV5_down32_scoreVolume/score_volumes/atlasV5_down32_scoreVolume_Pn_L.bp\"\n",
      "aws s3 cp \"/media/yuncong/YuncongPublic/CSHL_volumes/atlasV5/atlasV5_down32_scoreVolume/score_volumes/atlasV5_down32_scoreVolume_Pn_L_bbox.txt\" \"s3://mousebrainatlas-data/CSHL_volumes/atlasV5/atlasV5_down32_scoreVolume/score_volumes/atlasV5_down32_scoreVolume_Pn_L_bbox.txt\"\n",
      "aws s3 cp \"/media/yuncong/YuncongPublic/CSHL_volumes/atlasV5/atlasV5_down32_scoreVolume/score_volumes/atlasV5_down32_scoreVolume_7N_R.bp\" \"s3://mousebrainatlas-data/CSHL_volumes/atlasV5/atlasV5_down32_scoreVolume/score_volumes/atlasV5_down32_scoreVolume_7N_R.bp\"\n",
      "aws s3 cp \"/media/yuncong/YuncongPublic/CSHL_volumes/atlasV5/atlasV5_down32_scoreVolume/score_volumes/atlasV5_down32_scoreVolume_7N_R_bbox.txt\" \"s3://mousebrainatlas-data/CSHL_volumes/atlasV5/atlasV5_down32_scoreVolume/score_volumes/atlasV5_down32_scoreVolume_7N_R_bbox.txt\"\n",
      "aws s3 cp \"/media/yuncong/YuncongPublic/CSHL_volumes/atlasV5/atlasV5_down32_scoreVolume/score_volumes/atlasV5_down32_scoreVolume_VLL_R_surround_200.bp\" \"s3://mousebrainatlas-data/CSHL_volumes/atlasV5/atlasV5_down32_scoreVolume/score_volumes/atlasV5_down32_scoreVolume_VLL_R_surround_200.bp\"\n",
      "aws s3 cp \"/media/yuncong/YuncongPublic/CSHL_volumes/atlasV5/atlasV5_down32_scoreVolume/score_volumes/atlasV5_down32_scoreVolume_VLL_R_surround_200_bbox.txt\" \"s3://mousebrainatlas-data/CSHL_volumes/atlasV5/atlasV5_down32_scoreVolume/score_volumes/atlasV5_down32_scoreVolume_VLL_R_surround_200_bbox.txt\"\n",
      "aws s3 cp \"/media/yuncong/YuncongPublic/CSHL_volumes/atlasV5/atlasV5_down32_scoreVolume/score_volumes/atlasV5_down32_scoreVolume_7N_L.bp\" \"s3://mousebrainatlas-data/CSHL_volumes/atlasV5/atlasV5_down32_scoreVolume/score_volumes/atlasV5_down32_scoreVolume_7N_L.bp\"\n",
      "aws s3 cp \"/media/yuncong/YuncongPublic/CSHL_volumes/atlasV5/atlasV5_down32_scoreVolume/score_volumes/atlasV5_down32_scoreVolume_7N_L_bbox.txt\" \"s3://mousebrainatlas-data/CSHL_volumes/atlasV5/atlasV5_down32_scoreVolume/score_volumes/atlasV5_down32_scoreVolume_7N_L_bbox.txt\"\n",
      "aws s3 cp \"/media/yuncong/YuncongPublic/CSHL_volumes/atlasV5/atlasV5_down32_scoreVolume/score_volumes/atlasV5_down32_scoreVolume_5N_R_surround_200.bp\" \"s3://mousebrainatlas-data/CSHL_volumes/atlasV5/atlasV5_down32_scoreVolume/score_volumes/atlasV5_down32_scoreVolume_5N_R_surround_200.bp\"\n",
      "aws s3 cp \"/media/yuncong/YuncongPublic/CSHL_volumes/atlasV5/atlasV5_down32_scoreVolume/score_volumes/atlasV5_down32_scoreVolume_5N_R_surround_200_bbox.txt\" \"s3://mousebrainatlas-data/CSHL_volumes/atlasV5/atlasV5_down32_scoreVolume/score_volumes/atlasV5_down32_scoreVolume_5N_R_surround_200_bbox.txt\"\n",
      "aws s3 cp \"/media/yuncong/YuncongPublic/CSHL_volumes/atlasV5/atlasV5_down32_scoreVolume/score_volumes/atlasV5_down32_scoreVolume_Pn_R.bp\" \"s3://mousebrainatlas-data/CSHL_volumes/atlasV5/atlasV5_down32_scoreVolume/score_volumes/atlasV5_down32_scoreVolume_Pn_R.bp\"\n",
      "aws s3 cp \"/media/yuncong/YuncongPublic/CSHL_volumes/atlasV5/atlasV5_down32_scoreVolume/score_volumes/atlasV5_down32_scoreVolume_Pn_R_bbox.txt\" \"s3://mousebrainatlas-data/CSHL_volumes/atlasV5/atlasV5_down32_scoreVolume/score_volumes/atlasV5_down32_scoreVolume_Pn_R_bbox.txt\"\n",
      "aws s3 cp \"/media/yuncong/YuncongPublic/CSHL_volumes/atlasV5/atlasV5_down32_scoreVolume/score_volumes/atlasV5_down32_scoreVolume_LRt_L.bp\" \"s3://mousebrainatlas-data/CSHL_volumes/atlasV5/atlasV5_down32_scoreVolume/score_volumes/atlasV5_down32_scoreVolume_LRt_L.bp\"\n",
      "aws s3 cp \"/media/yuncong/YuncongPublic/CSHL_volumes/atlasV5/atlasV5_down32_scoreVolume/score_volumes/atlasV5_down32_scoreVolume_LRt_L_bbox.txt\" \"s3://mousebrainatlas-data/CSHL_volumes/atlasV5/atlasV5_down32_scoreVolume/score_volumes/atlasV5_down32_scoreVolume_LRt_L_bbox.txt\"\n",
      "aws s3 cp \"/media/yuncong/YuncongPublic/CSHL_volumes/atlasV5/atlasV5_down32_scoreVolume/score_volumes/atlasV5_down32_scoreVolume_4N_L_surround_200.bp\" \"s3://mousebrainatlas-data/CSHL_volumes/atlasV5/atlasV5_down32_scoreVolume/score_volumes/atlasV5_down32_scoreVolume_4N_L_surround_200.bp\"\n",
      "aws s3 cp \"/media/yuncong/YuncongPublic/CSHL_volumes/atlasV5/atlasV5_down32_scoreVolume/score_volumes/atlasV5_down32_scoreVolume_4N_L_surround_200_bbox.txt\" \"s3://mousebrainatlas-data/CSHL_volumes/atlasV5/atlasV5_down32_scoreVolume/score_volumes/atlasV5_down32_scoreVolume_4N_L_surround_200_bbox.txt\"\n",
      "aws s3 cp \"/media/yuncong/YuncongPublic/CSHL_volumes/atlasV5/atlasV5_down32_scoreVolume/score_volumes/atlasV5_down32_scoreVolume_12N.bp\" \"s3://mousebrainatlas-data/CSHL_volumes/atlasV5/atlasV5_down32_scoreVolume/score_volumes/atlasV5_down32_scoreVolume_12N.bp\"\n",
      "aws s3 cp \"/media/yuncong/YuncongPublic/CSHL_volumes/atlasV5/atlasV5_down32_scoreVolume/score_volumes/atlasV5_down32_scoreVolume_12N_bbox.txt\" \"s3://mousebrainatlas-data/CSHL_volumes/atlasV5/atlasV5_down32_scoreVolume/score_volumes/atlasV5_down32_scoreVolume_12N_bbox.txt\"\n",
      "aws s3 cp \"/media/yuncong/YuncongPublic/CSHL_volumes/atlasV5/atlasV5_down32_scoreVolume/score_volumes/atlasV5_down32_scoreVolume_Pn_L_surround_200.bp\" \"s3://mousebrainatlas-data/CSHL_volumes/atlasV5/atlasV5_down32_scoreVolume/score_volumes/atlasV5_down32_scoreVolume_Pn_L_surround_200.bp\"\n",
      "aws s3 cp \"/media/yuncong/YuncongPublic/CSHL_volumes/atlasV5/atlasV5_down32_scoreVolume/score_volumes/atlasV5_down32_scoreVolume_Pn_L_surround_200_bbox.txt\" \"s3://mousebrainatlas-data/CSHL_volumes/atlasV5/atlasV5_down32_scoreVolume/score_volumes/atlasV5_down32_scoreVolume_Pn_L_surround_200_bbox.txt\"\n",
      "aws s3 cp \"/media/yuncong/YuncongPublic/CSHL_volumes/atlasV5/atlasV5_down32_scoreVolume/score_volumes/atlasV5_down32_scoreVolume_10N_R_surround_200.bp\" \"s3://mousebrainatlas-data/CSHL_volumes/atlasV5/atlasV5_down32_scoreVolume/score_volumes/atlasV5_down32_scoreVolume_10N_R_surround_200.bp\"\n",
      "aws s3 cp \"/media/yuncong/YuncongPublic/CSHL_volumes/atlasV5/atlasV5_down32_scoreVolume/score_volumes/atlasV5_down32_scoreVolume_10N_R_surround_200_bbox.txt\" \"s3://mousebrainatlas-data/CSHL_volumes/atlasV5/atlasV5_down32_scoreVolume/score_volumes/atlasV5_down32_scoreVolume_10N_R_surround_200_bbox.txt\"\n",
      "aws s3 cp \"/media/yuncong/YuncongPublic/CSHL_volumes/atlasV5/atlasV5_down32_scoreVolume/score_volumes/atlasV5_down32_scoreVolume_VCA_L_surround_200.bp\" \"s3://mousebrainatlas-data/CSHL_volumes/atlasV5/atlasV5_down32_scoreVolume/score_volumes/atlasV5_down32_scoreVolume_VCA_L_surround_200.bp\"\n",
      "aws s3 cp \"/media/yuncong/YuncongPublic/CSHL_volumes/atlasV5/atlasV5_down32_scoreVolume/score_volumes/atlasV5_down32_scoreVolume_VCA_L_surround_200_bbox.txt\" \"s3://mousebrainatlas-data/CSHL_volumes/atlasV5/atlasV5_down32_scoreVolume/score_volumes/atlasV5_down32_scoreVolume_VCA_L_surround_200_bbox.txt\"\n",
      "aws s3 cp \"/media/yuncong/YuncongPublic/CSHL_volumes/atlasV5/atlasV5_down32_scoreVolume/score_volumes/atlasV5_down32_scoreVolume_3N_L.bp\" \"s3://mousebrainatlas-data/CSHL_volumes/atlasV5/atlasV5_down32_scoreVolume/score_volumes/atlasV5_down32_scoreVolume_3N_L.bp\"\n",
      "aws s3 cp \"/media/yuncong/YuncongPublic/CSHL_volumes/atlasV5/atlasV5_down32_scoreVolume/score_volumes/atlasV5_down32_scoreVolume_3N_L_bbox.txt\" \"s3://mousebrainatlas-data/CSHL_volumes/atlasV5/atlasV5_down32_scoreVolume/score_volumes/atlasV5_down32_scoreVolume_3N_L_bbox.txt\"\n"
     ]
    },
    {
     "name": "stdout",
     "output_type": "stream",
     "text": [
      "aws s3 cp \"/media/yuncong/YuncongPublic/CSHL_volumes/atlasV5/atlasV5_down32_scoreVolume/score_volumes/atlasV5_down32_scoreVolume_6N_R.bp\" \"s3://mousebrainatlas-data/CSHL_volumes/atlasV5/atlasV5_down32_scoreVolume/score_volumes/atlasV5_down32_scoreVolume_6N_R.bp\"\n",
      "aws s3 cp \"/media/yuncong/YuncongPublic/CSHL_volumes/atlasV5/atlasV5_down32_scoreVolume/score_volumes/atlasV5_down32_scoreVolume_6N_R_bbox.txt\" \"s3://mousebrainatlas-data/CSHL_volumes/atlasV5/atlasV5_down32_scoreVolume/score_volumes/atlasV5_down32_scoreVolume_6N_R_bbox.txt\"\n",
      "aws s3 cp \"/media/yuncong/YuncongPublic/CSHL_volumes/atlasV5/atlasV5_down32_scoreVolume/score_volumes/atlasV5_down32_scoreVolume_SNC_L.bp\" \"s3://mousebrainatlas-data/CSHL_volumes/atlasV5/atlasV5_down32_scoreVolume/score_volumes/atlasV5_down32_scoreVolume_SNC_L.bp\"\n",
      "aws s3 cp \"/media/yuncong/YuncongPublic/CSHL_volumes/atlasV5/atlasV5_down32_scoreVolume/score_volumes/atlasV5_down32_scoreVolume_SNC_L_bbox.txt\" \"s3://mousebrainatlas-data/CSHL_volumes/atlasV5/atlasV5_down32_scoreVolume/score_volumes/atlasV5_down32_scoreVolume_SNC_L_bbox.txt\"\n",
      "aws s3 cp \"/media/yuncong/YuncongPublic/CSHL_volumes/atlasV5/atlasV5_down32_scoreVolume/score_volumes/atlasV5_down32_scoreVolume_SNC_R.bp\" \"s3://mousebrainatlas-data/CSHL_volumes/atlasV5/atlasV5_down32_scoreVolume/score_volumes/atlasV5_down32_scoreVolume_SNC_R.bp\"\n",
      "aws s3 cp \"/media/yuncong/YuncongPublic/CSHL_volumes/atlasV5/atlasV5_down32_scoreVolume/score_volumes/atlasV5_down32_scoreVolume_SNC_R_bbox.txt\" \"s3://mousebrainatlas-data/CSHL_volumes/atlasV5/atlasV5_down32_scoreVolume/score_volumes/atlasV5_down32_scoreVolume_SNC_R_bbox.txt\"\n",
      "aws s3 cp \"/media/yuncong/YuncongPublic/CSHL_volumes/atlasV5/atlasV5_down32_scoreVolume/score_volumes/atlasV5_down32_scoreVolume_Sp5C_R_surround_200.bp\" \"s3://mousebrainatlas-data/CSHL_volumes/atlasV5/atlasV5_down32_scoreVolume/score_volumes/atlasV5_down32_scoreVolume_Sp5C_R_surround_200.bp\"\n",
      "aws s3 cp \"/media/yuncong/YuncongPublic/CSHL_volumes/atlasV5/atlasV5_down32_scoreVolume/score_volumes/atlasV5_down32_scoreVolume_Sp5C_R_surround_200_bbox.txt\" \"s3://mousebrainatlas-data/CSHL_volumes/atlasV5/atlasV5_down32_scoreVolume/score_volumes/atlasV5_down32_scoreVolume_Sp5C_R_surround_200_bbox.txt\"\n",
      "aws s3 cp \"/media/yuncong/YuncongPublic/CSHL_volumes/atlasV5/atlasV5_down32_scoreVolume/score_volumes/atlasV5_down32_scoreVolume_3N_R.bp\" \"s3://mousebrainatlas-data/CSHL_volumes/atlasV5/atlasV5_down32_scoreVolume/score_volumes/atlasV5_down32_scoreVolume_3N_R.bp\"\n",
      "aws s3 cp \"/media/yuncong/YuncongPublic/CSHL_volumes/atlasV5/atlasV5_down32_scoreVolume/score_volumes/atlasV5_down32_scoreVolume_3N_R_bbox.txt\" \"s3://mousebrainatlas-data/CSHL_volumes/atlasV5/atlasV5_down32_scoreVolume/score_volumes/atlasV5_down32_scoreVolume_3N_R_bbox.txt\"\n",
      "aws s3 cp \"/media/yuncong/YuncongPublic/CSHL_volumes/atlasV5/atlasV5_down32_scoreVolume/score_volumes/atlasV5_down32_scoreVolume_6N_L.bp\" \"s3://mousebrainatlas-data/CSHL_volumes/atlasV5/atlasV5_down32_scoreVolume/score_volumes/atlasV5_down32_scoreVolume_6N_L.bp\"\n",
      "aws s3 cp \"/media/yuncong/YuncongPublic/CSHL_volumes/atlasV5/atlasV5_down32_scoreVolume/score_volumes/atlasV5_down32_scoreVolume_6N_L_bbox.txt\" \"s3://mousebrainatlas-data/CSHL_volumes/atlasV5/atlasV5_down32_scoreVolume/score_volumes/atlasV5_down32_scoreVolume_6N_L_bbox.txt\"\n",
      "aws s3 cp \"/media/yuncong/YuncongPublic/CSHL_volumes/atlasV5/atlasV5_down32_scoreVolume/score_volumes/atlasV5_down32_scoreVolume_7n_R_surround_200.bp\" \"s3://mousebrainatlas-data/CSHL_volumes/atlasV5/atlasV5_down32_scoreVolume/score_volumes/atlasV5_down32_scoreVolume_7n_R_surround_200.bp\"\n",
      "aws s3 cp \"/media/yuncong/YuncongPublic/CSHL_volumes/atlasV5/atlasV5_down32_scoreVolume/score_volumes/atlasV5_down32_scoreVolume_7n_R_surround_200_bbox.txt\" \"s3://mousebrainatlas-data/CSHL_volumes/atlasV5/atlasV5_down32_scoreVolume/score_volumes/atlasV5_down32_scoreVolume_7n_R_surround_200_bbox.txt\"\n",
      "aws s3 cp \"/media/yuncong/YuncongPublic/CSHL_volumes/atlasV5/atlasV5_down32_scoreVolume/score_volumes/atlasV5_down32_scoreVolume_IC_surround_200.bp\" \"s3://mousebrainatlas-data/CSHL_volumes/atlasV5/atlasV5_down32_scoreVolume/score_volumes/atlasV5_down32_scoreVolume_IC_surround_200.bp\"\n",
      "aws s3 cp \"/media/yuncong/YuncongPublic/CSHL_volumes/atlasV5/atlasV5_down32_scoreVolume/score_volumes/atlasV5_down32_scoreVolume_IC_surround_200_bbox.txt\" \"s3://mousebrainatlas-data/CSHL_volumes/atlasV5/atlasV5_down32_scoreVolume/score_volumes/atlasV5_down32_scoreVolume_IC_surround_200_bbox.txt\"\n",
      "aws s3 cp \"/media/yuncong/YuncongPublic/CSHL_volumes/atlasV5/atlasV5_down32_scoreVolume/score_volumes/atlasV5_down32_scoreVolume_10N_L_surround_200.bp\" \"s3://mousebrainatlas-data/CSHL_volumes/atlasV5/atlasV5_down32_scoreVolume/score_volumes/atlasV5_down32_scoreVolume_10N_L_surround_200.bp\"\n",
      "aws s3 cp \"/media/yuncong/YuncongPublic/CSHL_volumes/atlasV5/atlasV5_down32_scoreVolume/score_volumes/atlasV5_down32_scoreVolume_10N_L_surround_200_bbox.txt\" \"s3://mousebrainatlas-data/CSHL_volumes/atlasV5/atlasV5_down32_scoreVolume/score_volumes/atlasV5_down32_scoreVolume_10N_L_surround_200_bbox.txt\"\n",
      "aws s3 cp \"/media/yuncong/YuncongPublic/CSHL_volumes/atlasV5/atlasV5_down32_scoreVolume/score_volumes/atlasV5_down32_scoreVolume_10N_R.bp\" \"s3://mousebrainatlas-data/CSHL_volumes/atlasV5/atlasV5_down32_scoreVolume/score_volumes/atlasV5_down32_scoreVolume_10N_R.bp\"\n",
      "aws s3 cp \"/media/yuncong/YuncongPublic/CSHL_volumes/atlasV5/atlasV5_down32_scoreVolume/score_volumes/atlasV5_down32_scoreVolume_10N_R_bbox.txt\" \"s3://mousebrainatlas-data/CSHL_volumes/atlasV5/atlasV5_down32_scoreVolume/score_volumes/atlasV5_down32_scoreVolume_10N_R_bbox.txt\"\n",
      "aws s3 cp \"/media/yuncong/YuncongPublic/CSHL_volumes/atlasV5/atlasV5_down32_scoreVolume/score_volumes/atlasV5_down32_scoreVolume_Tz_L.bp\" \"s3://mousebrainatlas-data/CSHL_volumes/atlasV5/atlasV5_down32_scoreVolume/score_volumes/atlasV5_down32_scoreVolume_Tz_L.bp\"\n",
      "aws s3 cp \"/media/yuncong/YuncongPublic/CSHL_volumes/atlasV5/atlasV5_down32_scoreVolume/score_volumes/atlasV5_down32_scoreVolume_Tz_L_bbox.txt\" \"s3://mousebrainatlas-data/CSHL_volumes/atlasV5/atlasV5_down32_scoreVolume/score_volumes/atlasV5_down32_scoreVolume_Tz_L_bbox.txt\"\n",
      "aws s3 cp \"/media/yuncong/YuncongPublic/CSHL_volumes/atlasV5/atlasV5_down32_scoreVolume/score_volumes/atlasV5_down32_scoreVolume_Tz_R.bp\" \"s3://mousebrainatlas-data/CSHL_volumes/atlasV5/atlasV5_down32_scoreVolume/score_volumes/atlasV5_down32_scoreVolume_Tz_R.bp\"\n",
      "aws s3 cp \"/media/yuncong/YuncongPublic/CSHL_volumes/atlasV5/atlasV5_down32_scoreVolume/score_volumes/atlasV5_down32_scoreVolume_Tz_R_bbox.txt\" \"s3://mousebrainatlas-data/CSHL_volumes/atlasV5/atlasV5_down32_scoreVolume/score_volumes/atlasV5_down32_scoreVolume_Tz_R_bbox.txt\"\n",
      "aws s3 cp \"/media/yuncong/YuncongPublic/CSHL_volumes/atlasV5/atlasV5_down32_scoreVolume/score_volumes/atlasV5_down32_scoreVolume_10N_L.bp\" \"s3://mousebrainatlas-data/CSHL_volumes/atlasV5/atlasV5_down32_scoreVolume/score_volumes/atlasV5_down32_scoreVolume_10N_L.bp\"\n",
      "aws s3 cp \"/media/yuncong/YuncongPublic/CSHL_volumes/atlasV5/atlasV5_down32_scoreVolume/score_volumes/atlasV5_down32_scoreVolume_10N_L_bbox.txt\" \"s3://mousebrainatlas-data/CSHL_volumes/atlasV5/atlasV5_down32_scoreVolume/score_volumes/atlasV5_down32_scoreVolume_10N_L_bbox.txt\"\n",
      "aws s3 cp \"/media/yuncong/YuncongPublic/CSHL_volumes/atlasV5/atlasV5_down32_scoreVolume/score_volumes/atlasV5_down32_scoreVolume_Pn_R_surround_200.bp\" \"s3://mousebrainatlas-data/CSHL_volumes/atlasV5/atlasV5_down32_scoreVolume/score_volumes/atlasV5_down32_scoreVolume_Pn_R_surround_200.bp\"\n",
      "aws s3 cp \"/media/yuncong/YuncongPublic/CSHL_volumes/atlasV5/atlasV5_down32_scoreVolume/score_volumes/atlasV5_down32_scoreVolume_Pn_R_surround_200_bbox.txt\" \"s3://mousebrainatlas-data/CSHL_volumes/atlasV5/atlasV5_down32_scoreVolume/score_volumes/atlasV5_down32_scoreVolume_Pn_R_surround_200_bbox.txt\"\n",
      "aws s3 cp \"/media/yuncong/YuncongPublic/CSHL_volumes/atlasV5/atlasV5_down32_scoreVolume/score_volumes/atlasV5_down32_scoreVolume_Sp5C_L.bp\" \"s3://mousebrainatlas-data/CSHL_volumes/atlasV5/atlasV5_down32_scoreVolume/score_volumes/atlasV5_down32_scoreVolume_Sp5C_L.bp\"\n",
      "aws s3 cp \"/media/yuncong/YuncongPublic/CSHL_volumes/atlasV5/atlasV5_down32_scoreVolume/score_volumes/atlasV5_down32_scoreVolume_Sp5C_L_bbox.txt\" \"s3://mousebrainatlas-data/CSHL_volumes/atlasV5/atlasV5_down32_scoreVolume/score_volumes/atlasV5_down32_scoreVolume_Sp5C_L_bbox.txt\"\n"
     ]
    },
    {
     "name": "stdout",
     "output_type": "stream",
     "text": [
      "aws s3 cp \"/media/yuncong/YuncongPublic/CSHL_volumes/atlasV5/atlasV5_down32_scoreVolume/score_volumes/atlasV5_down32_scoreVolume_DC_R_surround_200.bp\" \"s3://mousebrainatlas-data/CSHL_volumes/atlasV5/atlasV5_down32_scoreVolume/score_volumes/atlasV5_down32_scoreVolume_DC_R_surround_200.bp\"\n",
      "aws s3 cp \"/media/yuncong/YuncongPublic/CSHL_volumes/atlasV5/atlasV5_down32_scoreVolume/score_volumes/atlasV5_down32_scoreVolume_DC_R_surround_200_bbox.txt\" \"s3://mousebrainatlas-data/CSHL_volumes/atlasV5/atlasV5_down32_scoreVolume/score_volumes/atlasV5_down32_scoreVolume_DC_R_surround_200_bbox.txt\"\n",
      "aws s3 cp \"/media/yuncong/YuncongPublic/CSHL_volumes/atlasV5/atlasV5_down32_scoreVolume/score_volumes/atlasV5_down32_scoreVolume_VLL_L.bp\" \"s3://mousebrainatlas-data/CSHL_volumes/atlasV5/atlasV5_down32_scoreVolume/score_volumes/atlasV5_down32_scoreVolume_VLL_L.bp\"\n",
      "aws s3 cp \"/media/yuncong/YuncongPublic/CSHL_volumes/atlasV5/atlasV5_down32_scoreVolume/score_volumes/atlasV5_down32_scoreVolume_VLL_L_bbox.txt\" \"s3://mousebrainatlas-data/CSHL_volumes/atlasV5/atlasV5_down32_scoreVolume/score_volumes/atlasV5_down32_scoreVolume_VLL_L_bbox.txt\"\n",
      "aws s3 cp \"/media/yuncong/YuncongPublic/CSHL_volumes/atlasV5/atlasV5_down32_scoreVolume/score_volumes/atlasV5_down32_scoreVolume_VLL_R.bp\" \"s3://mousebrainatlas-data/CSHL_volumes/atlasV5/atlasV5_down32_scoreVolume/score_volumes/atlasV5_down32_scoreVolume_VLL_R.bp\"\n",
      "aws s3 cp \"/media/yuncong/YuncongPublic/CSHL_volumes/atlasV5/atlasV5_down32_scoreVolume/score_volumes/atlasV5_down32_scoreVolume_VLL_R_bbox.txt\" \"s3://mousebrainatlas-data/CSHL_volumes/atlasV5/atlasV5_down32_scoreVolume/score_volumes/atlasV5_down32_scoreVolume_VLL_R_bbox.txt\"\n",
      "aws s3 cp \"/media/yuncong/YuncongPublic/CSHL_volumes/atlasV5/atlasV5_down32_scoreVolume/score_volumes/atlasV5_down32_scoreVolume_RMC_L_surround_200.bp\" \"s3://mousebrainatlas-data/CSHL_volumes/atlasV5/atlasV5_down32_scoreVolume/score_volumes/atlasV5_down32_scoreVolume_RMC_L_surround_200.bp\"\n",
      "aws s3 cp \"/media/yuncong/YuncongPublic/CSHL_volumes/atlasV5/atlasV5_down32_scoreVolume/score_volumes/atlasV5_down32_scoreVolume_RMC_L_surround_200_bbox.txt\" \"s3://mousebrainatlas-data/CSHL_volumes/atlasV5/atlasV5_down32_scoreVolume/score_volumes/atlasV5_down32_scoreVolume_RMC_L_surround_200_bbox.txt\"\n",
      "aws s3 cp \"/media/yuncong/YuncongPublic/CSHL_volumes/atlasV5/atlasV5_down32_scoreVolume/score_volumes/atlasV5_down32_scoreVolume_Amb_L_surround_200.bp\" \"s3://mousebrainatlas-data/CSHL_volumes/atlasV5/atlasV5_down32_scoreVolume/score_volumes/atlasV5_down32_scoreVolume_Amb_L_surround_200.bp\"\n",
      "aws s3 cp \"/media/yuncong/YuncongPublic/CSHL_volumes/atlasV5/atlasV5_down32_scoreVolume/score_volumes/atlasV5_down32_scoreVolume_Amb_L_surround_200_bbox.txt\" \"s3://mousebrainatlas-data/CSHL_volumes/atlasV5/atlasV5_down32_scoreVolume/score_volumes/atlasV5_down32_scoreVolume_Amb_L_surround_200_bbox.txt\"\n",
      "aws s3 cp \"/media/yuncong/YuncongPublic/CSHL_volumes/atlasV5/atlasV5_down32_scoreVolume/score_volumes/atlasV5_down32_scoreVolume_RtTg.bp\" \"s3://mousebrainatlas-data/CSHL_volumes/atlasV5/atlasV5_down32_scoreVolume/score_volumes/atlasV5_down32_scoreVolume_RtTg.bp\"\n",
      "aws s3 cp \"/media/yuncong/YuncongPublic/CSHL_volumes/atlasV5/atlasV5_down32_scoreVolume/score_volumes/atlasV5_down32_scoreVolume_RtTg_bbox.txt\" \"s3://mousebrainatlas-data/CSHL_volumes/atlasV5/atlasV5_down32_scoreVolume/score_volumes/atlasV5_down32_scoreVolume_RtTg_bbox.txt\"\n",
      "aws s3 cp \"/media/yuncong/YuncongPublic/CSHL_volumes/atlasV5/atlasV5_down32_scoreVolume/score_volumes/atlasV5_down32_scoreVolume_Sp5C_R.bp\" \"s3://mousebrainatlas-data/CSHL_volumes/atlasV5/atlasV5_down32_scoreVolume/score_volumes/atlasV5_down32_scoreVolume_Sp5C_R.bp\"\n",
      "aws s3 cp \"/media/yuncong/YuncongPublic/CSHL_volumes/atlasV5/atlasV5_down32_scoreVolume/score_volumes/atlasV5_down32_scoreVolume_Sp5C_R_bbox.txt\" \"s3://mousebrainatlas-data/CSHL_volumes/atlasV5/atlasV5_down32_scoreVolume/score_volumes/atlasV5_down32_scoreVolume_Sp5C_R_bbox.txt\"\n",
      "aws s3 cp \"/media/yuncong/YuncongPublic/CSHL_volumes/atlasV5/atlasV5_down32_scoreVolume/score_volumes/atlasV5_down32_scoreVolume_DC_L_surround_200.bp\" \"s3://mousebrainatlas-data/CSHL_volumes/atlasV5/atlasV5_down32_scoreVolume/score_volumes/atlasV5_down32_scoreVolume_DC_L_surround_200.bp\"\n",
      "aws s3 cp \"/media/yuncong/YuncongPublic/CSHL_volumes/atlasV5/atlasV5_down32_scoreVolume/score_volumes/atlasV5_down32_scoreVolume_DC_L_surround_200_bbox.txt\" \"s3://mousebrainatlas-data/CSHL_volumes/atlasV5/atlasV5_down32_scoreVolume/score_volumes/atlasV5_down32_scoreVolume_DC_L_surround_200_bbox.txt\"\n",
      "aws s3 cp \"/media/yuncong/YuncongPublic/CSHL_volumes/atlasV5/atlasV5_down32_scoreVolume/score_volumes/atlasV5_down32_scoreVolume_Sp5O_R.bp\" \"s3://mousebrainatlas-data/CSHL_volumes/atlasV5/atlasV5_down32_scoreVolume/score_volumes/atlasV5_down32_scoreVolume_Sp5O_R.bp\"\n",
      "aws s3 cp \"/media/yuncong/YuncongPublic/CSHL_volumes/atlasV5/atlasV5_down32_scoreVolume/score_volumes/atlasV5_down32_scoreVolume_Sp5O_R_bbox.txt\" \"s3://mousebrainatlas-data/CSHL_volumes/atlasV5/atlasV5_down32_scoreVolume/score_volumes/atlasV5_down32_scoreVolume_Sp5O_R_bbox.txt\"\n",
      "aws s3 cp \"/media/yuncong/YuncongPublic/CSHL_volumes/atlasV5/atlasV5_down32_scoreVolume/score_volumes/atlasV5_down32_scoreVolume_SNR_L.bp\" \"s3://mousebrainatlas-data/CSHL_volumes/atlasV5/atlasV5_down32_scoreVolume/score_volumes/atlasV5_down32_scoreVolume_SNR_L.bp\"\n",
      "aws s3 cp \"/media/yuncong/YuncongPublic/CSHL_volumes/atlasV5/atlasV5_down32_scoreVolume/score_volumes/atlasV5_down32_scoreVolume_SNR_L_bbox.txt\" \"s3://mousebrainatlas-data/CSHL_volumes/atlasV5/atlasV5_down32_scoreVolume/score_volumes/atlasV5_down32_scoreVolume_SNR_L_bbox.txt\"\n",
      "aws s3 cp \"/media/yuncong/YuncongPublic/CSHL_volumes/atlasV5/atlasV5_down32_scoreVolume/score_volumes/atlasV5_down32_scoreVolume_7N_R_surround_200.bp\" \"s3://mousebrainatlas-data/CSHL_volumes/atlasV5/atlasV5_down32_scoreVolume/score_volumes/atlasV5_down32_scoreVolume_7N_R_surround_200.bp\"\n",
      "aws s3 cp \"/media/yuncong/YuncongPublic/CSHL_volumes/atlasV5/atlasV5_down32_scoreVolume/score_volumes/atlasV5_down32_scoreVolume_7N_R_surround_200_bbox.txt\" \"s3://mousebrainatlas-data/CSHL_volumes/atlasV5/atlasV5_down32_scoreVolume/score_volumes/atlasV5_down32_scoreVolume_7N_R_surround_200_bbox.txt\"\n",
      "aws s3 cp \"/media/yuncong/YuncongPublic/CSHL_volumes/atlasV5/atlasV5_down32_scoreVolume/score_volumes/atlasV5_down32_scoreVolume_VCA_R_surround_200.bp\" \"s3://mousebrainatlas-data/CSHL_volumes/atlasV5/atlasV5_down32_scoreVolume/score_volumes/atlasV5_down32_scoreVolume_VCA_R_surround_200.bp\"\n",
      "aws s3 cp \"/media/yuncong/YuncongPublic/CSHL_volumes/atlasV5/atlasV5_down32_scoreVolume/score_volumes/atlasV5_down32_scoreVolume_VCA_R_surround_200_bbox.txt\" \"s3://mousebrainatlas-data/CSHL_volumes/atlasV5/atlasV5_down32_scoreVolume/score_volumes/atlasV5_down32_scoreVolume_VCA_R_surround_200_bbox.txt\"\n",
      "aws s3 cp \"/media/yuncong/YuncongPublic/CSHL_volumes/atlasV5/atlasV5_down32_scoreVolume/score_volumes/atlasV5_down32_scoreVolume_SNC_L_surround_200.bp\" \"s3://mousebrainatlas-data/CSHL_volumes/atlasV5/atlasV5_down32_scoreVolume/score_volumes/atlasV5_down32_scoreVolume_SNC_L_surround_200.bp\"\n",
      "aws s3 cp \"/media/yuncong/YuncongPublic/CSHL_volumes/atlasV5/atlasV5_down32_scoreVolume/score_volumes/atlasV5_down32_scoreVolume_SNC_L_surround_200_bbox.txt\" \"s3://mousebrainatlas-data/CSHL_volumes/atlasV5/atlasV5_down32_scoreVolume/score_volumes/atlasV5_down32_scoreVolume_SNC_L_surround_200_bbox.txt\"\n",
      "aws s3 cp \"/media/yuncong/YuncongPublic/CSHL_volumes/atlasV5/atlasV5_down32_scoreVolume/score_volumes/atlasV5_down32_scoreVolume_SNR_R.bp\" \"s3://mousebrainatlas-data/CSHL_volumes/atlasV5/atlasV5_down32_scoreVolume/score_volumes/atlasV5_down32_scoreVolume_SNR_R.bp\"\n",
      "aws s3 cp \"/media/yuncong/YuncongPublic/CSHL_volumes/atlasV5/atlasV5_down32_scoreVolume/score_volumes/atlasV5_down32_scoreVolume_SNR_R_bbox.txt\" \"s3://mousebrainatlas-data/CSHL_volumes/atlasV5/atlasV5_down32_scoreVolume/score_volumes/atlasV5_down32_scoreVolume_SNR_R_bbox.txt\"\n",
      "aws s3 cp \"/media/yuncong/YuncongPublic/CSHL_volumes/atlasV5/atlasV5_down32_scoreVolume/score_volumes/atlasV5_down32_scoreVolume_Sp5O_L.bp\" \"s3://mousebrainatlas-data/CSHL_volumes/atlasV5/atlasV5_down32_scoreVolume/score_volumes/atlasV5_down32_scoreVolume_Sp5O_L.bp\"\n"
     ]
    },
    {
     "name": "stdout",
     "output_type": "stream",
     "text": [
      "aws s3 cp \"/media/yuncong/YuncongPublic/CSHL_volumes/atlasV5/atlasV5_down32_scoreVolume/score_volumes/atlasV5_down32_scoreVolume_Sp5O_L_bbox.txt\" \"s3://mousebrainatlas-data/CSHL_volumes/atlasV5/atlasV5_down32_scoreVolume/score_volumes/atlasV5_down32_scoreVolume_Sp5O_L_bbox.txt\"\n",
      "aws s3 cp \"/media/yuncong/YuncongPublic/CSHL_volumes/atlasV5/atlasV5_down32_scoreVolume/score_volumes/atlasV5_down32_scoreVolume_SNR_R_surround_200.bp\" \"s3://mousebrainatlas-data/CSHL_volumes/atlasV5/atlasV5_down32_scoreVolume/score_volumes/atlasV5_down32_scoreVolume_SNR_R_surround_200.bp\"\n",
      "aws s3 cp \"/media/yuncong/YuncongPublic/CSHL_volumes/atlasV5/atlasV5_down32_scoreVolume/score_volumes/atlasV5_down32_scoreVolume_SNR_R_surround_200_bbox.txt\" \"s3://mousebrainatlas-data/CSHL_volumes/atlasV5/atlasV5_down32_scoreVolume/score_volumes/atlasV5_down32_scoreVolume_SNR_R_surround_200_bbox.txt\"\n",
      "aws s3 cp \"/media/yuncong/YuncongPublic/CSHL_volumes/atlasV5/atlasV5_down32_scoreVolume/score_volumes/atlasV5_down32_scoreVolume_Sp5O_L_surround_200.bp\" \"s3://mousebrainatlas-data/CSHL_volumes/atlasV5/atlasV5_down32_scoreVolume/score_volumes/atlasV5_down32_scoreVolume_Sp5O_L_surround_200.bp\"\n",
      "aws s3 cp \"/media/yuncong/YuncongPublic/CSHL_volumes/atlasV5/atlasV5_down32_scoreVolume/score_volumes/atlasV5_down32_scoreVolume_Sp5O_L_surround_200_bbox.txt\" \"s3://mousebrainatlas-data/CSHL_volumes/atlasV5/atlasV5_down32_scoreVolume/score_volumes/atlasV5_down32_scoreVolume_Sp5O_L_surround_200_bbox.txt\"\n",
      "aws s3 cp \"/media/yuncong/YuncongPublic/CSHL_volumes/atlasV5/atlasV5_down32_scoreVolume/score_volumes/atlasV5_down32_scoreVolume_12N_surround_200.bp\" \"s3://mousebrainatlas-data/CSHL_volumes/atlasV5/atlasV5_down32_scoreVolume/score_volumes/atlasV5_down32_scoreVolume_12N_surround_200.bp\"\n",
      "aws s3 cp \"/media/yuncong/YuncongPublic/CSHL_volumes/atlasV5/atlasV5_down32_scoreVolume/score_volumes/atlasV5_down32_scoreVolume_12N_surround_200_bbox.txt\" \"s3://mousebrainatlas-data/CSHL_volumes/atlasV5/atlasV5_down32_scoreVolume/score_volumes/atlasV5_down32_scoreVolume_12N_surround_200_bbox.txt\"\n",
      "aws s3 cp \"/media/yuncong/YuncongPublic/CSHL_volumes/atlasV5/atlasV5_down32_scoreVolume/score_volumes/atlasV5_down32_scoreVolume_VCP_R.bp\" \"s3://mousebrainatlas-data/CSHL_volumes/atlasV5/atlasV5_down32_scoreVolume/score_volumes/atlasV5_down32_scoreVolume_VCP_R.bp\"\n",
      "aws s3 cp \"/media/yuncong/YuncongPublic/CSHL_volumes/atlasV5/atlasV5_down32_scoreVolume/score_volumes/atlasV5_down32_scoreVolume_VCP_R_bbox.txt\" \"s3://mousebrainatlas-data/CSHL_volumes/atlasV5/atlasV5_down32_scoreVolume/score_volumes/atlasV5_down32_scoreVolume_VCP_R_bbox.txt\"\n",
      "aws s3 cp \"/media/yuncong/YuncongPublic/CSHL_volumes/atlasV5/atlasV5_down32_scoreVolume/score_volumes/atlasV5_down32_scoreVolume_3N_R_surround_200.bp\" \"s3://mousebrainatlas-data/CSHL_volumes/atlasV5/atlasV5_down32_scoreVolume/score_volumes/atlasV5_down32_scoreVolume_3N_R_surround_200.bp\"\n",
      "aws s3 cp \"/media/yuncong/YuncongPublic/CSHL_volumes/atlasV5/atlasV5_down32_scoreVolume/score_volumes/atlasV5_down32_scoreVolume_3N_R_surround_200_bbox.txt\" \"s3://mousebrainatlas-data/CSHL_volumes/atlasV5/atlasV5_down32_scoreVolume/score_volumes/atlasV5_down32_scoreVolume_3N_R_surround_200_bbox.txt\"\n",
      "aws s3 cp \"/media/yuncong/YuncongPublic/CSHL_volumes/atlasV5/atlasV5_down32_scoreVolume/score_volumes/atlasV5_down32_scoreVolume_7n_L_surround_200.bp\" \"s3://mousebrainatlas-data/CSHL_volumes/atlasV5/atlasV5_down32_scoreVolume/score_volumes/atlasV5_down32_scoreVolume_7n_L_surround_200.bp\"\n",
      "aws s3 cp \"/media/yuncong/YuncongPublic/CSHL_volumes/atlasV5/atlasV5_down32_scoreVolume/score_volumes/atlasV5_down32_scoreVolume_7n_L_surround_200_bbox.txt\" \"s3://mousebrainatlas-data/CSHL_volumes/atlasV5/atlasV5_down32_scoreVolume/score_volumes/atlasV5_down32_scoreVolume_7n_L_surround_200_bbox.txt\"\n",
      "aws s3 cp \"/media/yuncong/YuncongPublic/CSHL_volumes/atlasV5/atlasV5_down32_scoreVolume/score_volumes/atlasV5_down32_scoreVolume_VCP_L.bp\" \"s3://mousebrainatlas-data/CSHL_volumes/atlasV5/atlasV5_down32_scoreVolume/score_volumes/atlasV5_down32_scoreVolume_VCP_L.bp\"\n",
      "aws s3 cp \"/media/yuncong/YuncongPublic/CSHL_volumes/atlasV5/atlasV5_down32_scoreVolume/score_volumes/atlasV5_down32_scoreVolume_VCP_L_bbox.txt\" \"s3://mousebrainatlas-data/CSHL_volumes/atlasV5/atlasV5_down32_scoreVolume/score_volumes/atlasV5_down32_scoreVolume_VCP_L_bbox.txt\"\n",
      "aws s3 cp \"/media/yuncong/YuncongPublic/CSHL_volumes/atlasV5/atlasV5_down32_scoreVolume/score_volumes/atlasV5_down32_scoreVolume_6N_R_surround_200.bp\" \"s3://mousebrainatlas-data/CSHL_volumes/atlasV5/atlasV5_down32_scoreVolume/score_volumes/atlasV5_down32_scoreVolume_6N_R_surround_200.bp\"\n",
      "aws s3 cp \"/media/yuncong/YuncongPublic/CSHL_volumes/atlasV5/atlasV5_down32_scoreVolume/score_volumes/atlasV5_down32_scoreVolume_6N_R_surround_200_bbox.txt\" \"s3://mousebrainatlas-data/CSHL_volumes/atlasV5/atlasV5_down32_scoreVolume/score_volumes/atlasV5_down32_scoreVolume_6N_R_surround_200_bbox.txt\"\n",
      "aws s3 cp \"/media/yuncong/YuncongPublic/CSHL_volumes/atlasV5/atlasV5_down32_scoreVolume/score_volumes/atlasV5_down32_scoreVolume_AP_surround_200.bp\" \"s3://mousebrainatlas-data/CSHL_volumes/atlasV5/atlasV5_down32_scoreVolume/score_volumes/atlasV5_down32_scoreVolume_AP_surround_200.bp\"\n",
      "aws s3 cp \"/media/yuncong/YuncongPublic/CSHL_volumes/atlasV5/atlasV5_down32_scoreVolume/score_volumes/atlasV5_down32_scoreVolume_AP_surround_200_bbox.txt\" \"s3://mousebrainatlas-data/CSHL_volumes/atlasV5/atlasV5_down32_scoreVolume/score_volumes/atlasV5_down32_scoreVolume_AP_surround_200_bbox.txt\"\n",
      "aws s3 cp \"/media/yuncong/YuncongPublic/CSHL_volumes/atlasV5/atlasV5_down32_scoreVolume/score_volumes/atlasV5_down32_scoreVolume_7N_L_surround_200.bp\" \"s3://mousebrainatlas-data/CSHL_volumes/atlasV5/atlasV5_down32_scoreVolume/score_volumes/atlasV5_down32_scoreVolume_7N_L_surround_200.bp\"\n",
      "aws s3 cp \"/media/yuncong/YuncongPublic/CSHL_volumes/atlasV5/atlasV5_down32_scoreVolume/score_volumes/atlasV5_down32_scoreVolume_7N_L_surround_200_bbox.txt\" \"s3://mousebrainatlas-data/CSHL_volumes/atlasV5/atlasV5_down32_scoreVolume/score_volumes/atlasV5_down32_scoreVolume_7N_L_surround_200_bbox.txt\"\n",
      "aws s3 cp \"/media/yuncong/YuncongPublic/CSHL_volumes/atlasV5/atlasV5_down32_scoreVolume/score_volumes/atlasV5_down32_scoreVolume_SC_surround_200.bp\" \"s3://mousebrainatlas-data/CSHL_volumes/atlasV5/atlasV5_down32_scoreVolume/score_volumes/atlasV5_down32_scoreVolume_SC_surround_200.bp\"\n",
      "aws s3 cp \"/media/yuncong/YuncongPublic/CSHL_volumes/atlasV5/atlasV5_down32_scoreVolume/score_volumes/atlasV5_down32_scoreVolume_SC_surround_200_bbox.txt\" \"s3://mousebrainatlas-data/CSHL_volumes/atlasV5/atlasV5_down32_scoreVolume/score_volumes/atlasV5_down32_scoreVolume_SC_surround_200_bbox.txt\"\n",
      "aws s3 cp \"/media/yuncong/YuncongPublic/CSHL_volumes/atlasV5/atlasV5_down32_scoreVolume/score_volumes/atlasV5_down32_scoreVolume_PBG_L_surround_200.bp\" \"s3://mousebrainatlas-data/CSHL_volumes/atlasV5/atlasV5_down32_scoreVolume/score_volumes/atlasV5_down32_scoreVolume_PBG_L_surround_200.bp\"\n",
      "aws s3 cp \"/media/yuncong/YuncongPublic/CSHL_volumes/atlasV5/atlasV5_down32_scoreVolume/score_volumes/atlasV5_down32_scoreVolume_PBG_L_surround_200_bbox.txt\" \"s3://mousebrainatlas-data/CSHL_volumes/atlasV5/atlasV5_down32_scoreVolume/score_volumes/atlasV5_down32_scoreVolume_PBG_L_surround_200_bbox.txt\"\n",
      "aws s3 cp \"/media/yuncong/YuncongPublic/CSHL_volumes/atlasV5/atlasV5_down32_scoreVolume/score_volumes/atlasV5_down32_scoreVolume_DC_R.bp\" \"s3://mousebrainatlas-data/CSHL_volumes/atlasV5/atlasV5_down32_scoreVolume/score_volumes/atlasV5_down32_scoreVolume_DC_R.bp\"\n",
      "aws s3 cp \"/media/yuncong/YuncongPublic/CSHL_volumes/atlasV5/atlasV5_down32_scoreVolume/score_volumes/atlasV5_down32_scoreVolume_DC_R_bbox.txt\" \"s3://mousebrainatlas-data/CSHL_volumes/atlasV5/atlasV5_down32_scoreVolume/score_volumes/atlasV5_down32_scoreVolume_DC_R_bbox.txt\"\n",
      "aws s3 cp \"/media/yuncong/YuncongPublic/CSHL_volumes/atlasV5/atlasV5_down32_scoreVolume/score_volumes/atlasV5_down32_scoreVolume_VCA_L.bp\" \"s3://mousebrainatlas-data/CSHL_volumes/atlasV5/atlasV5_down32_scoreVolume/score_volumes/atlasV5_down32_scoreVolume_VCA_L.bp\"\n",
      "aws s3 cp \"/media/yuncong/YuncongPublic/CSHL_volumes/atlasV5/atlasV5_down32_scoreVolume/score_volumes/atlasV5_down32_scoreVolume_VCA_L_bbox.txt\" \"s3://mousebrainatlas-data/CSHL_volumes/atlasV5/atlasV5_down32_scoreVolume/score_volumes/atlasV5_down32_scoreVolume_VCA_L_bbox.txt\"\n"
     ]
    },
    {
     "name": "stdout",
     "output_type": "stream",
     "text": [
      "aws s3 cp \"/media/yuncong/YuncongPublic/CSHL_volumes/atlasV5/atlasV5_down32_scoreVolume/score_volumes/atlasV5_down32_scoreVolume_LC_R_surround_200.bp\" \"s3://mousebrainatlas-data/CSHL_volumes/atlasV5/atlasV5_down32_scoreVolume/score_volumes/atlasV5_down32_scoreVolume_LC_R_surround_200.bp\"\n",
      "aws s3 cp \"/media/yuncong/YuncongPublic/CSHL_volumes/atlasV5/atlasV5_down32_scoreVolume/score_volumes/atlasV5_down32_scoreVolume_LC_R_surround_200_bbox.txt\" \"s3://mousebrainatlas-data/CSHL_volumes/atlasV5/atlasV5_down32_scoreVolume/score_volumes/atlasV5_down32_scoreVolume_LC_R_surround_200_bbox.txt\"\n",
      "aws s3 cp \"/media/yuncong/YuncongPublic/CSHL_volumes/atlasV5/atlasV5_down32_scoreVolume/score_volumes/atlasV5_down32_scoreVolume_6N_L_surround_200.bp\" \"s3://mousebrainatlas-data/CSHL_volumes/atlasV5/atlasV5_down32_scoreVolume/score_volumes/atlasV5_down32_scoreVolume_6N_L_surround_200.bp\"\n",
      "aws s3 cp \"/media/yuncong/YuncongPublic/CSHL_volumes/atlasV5/atlasV5_down32_scoreVolume/score_volumes/atlasV5_down32_scoreVolume_6N_L_surround_200_bbox.txt\" \"s3://mousebrainatlas-data/CSHL_volumes/atlasV5/atlasV5_down32_scoreVolume/score_volumes/atlasV5_down32_scoreVolume_6N_L_surround_200_bbox.txt\"\n",
      "aws s3 cp \"/media/yuncong/YuncongPublic/CSHL_volumes/atlasV5/atlasV5_down32_scoreVolume/score_volumes/atlasV5_down32_scoreVolume_Sp5I_R_surround_200.bp\" \"s3://mousebrainatlas-data/CSHL_volumes/atlasV5/atlasV5_down32_scoreVolume/score_volumes/atlasV5_down32_scoreVolume_Sp5I_R_surround_200.bp\"\n",
      "aws s3 cp \"/media/yuncong/YuncongPublic/CSHL_volumes/atlasV5/atlasV5_down32_scoreVolume/score_volumes/atlasV5_down32_scoreVolume_Sp5I_R_surround_200_bbox.txt\" \"s3://mousebrainatlas-data/CSHL_volumes/atlasV5/atlasV5_down32_scoreVolume/score_volumes/atlasV5_down32_scoreVolume_Sp5I_R_surround_200_bbox.txt\"\n",
      "aws s3 cp \"/media/yuncong/YuncongPublic/CSHL_volumes/atlasV5/atlasV5_down32_scoreVolume/score_volumes/atlasV5_down32_scoreVolume_Sp5I_L.bp\" \"s3://mousebrainatlas-data/CSHL_volumes/atlasV5/atlasV5_down32_scoreVolume/score_volumes/atlasV5_down32_scoreVolume_Sp5I_L.bp\"\n",
      "aws s3 cp \"/media/yuncong/YuncongPublic/CSHL_volumes/atlasV5/atlasV5_down32_scoreVolume/score_volumes/atlasV5_down32_scoreVolume_Sp5I_L_bbox.txt\" \"s3://mousebrainatlas-data/CSHL_volumes/atlasV5/atlasV5_down32_scoreVolume/score_volumes/atlasV5_down32_scoreVolume_Sp5I_L_bbox.txt\"\n",
      "aws s3 cp \"/media/yuncong/YuncongPublic/CSHL_volumes/atlasV5/atlasV5_down32_scoreVolume/score_volumes/atlasV5_down32_scoreVolume_RMC_R.bp\" \"s3://mousebrainatlas-data/CSHL_volumes/atlasV5/atlasV5_down32_scoreVolume/score_volumes/atlasV5_down32_scoreVolume_RMC_R.bp\"\n",
      "aws s3 cp \"/media/yuncong/YuncongPublic/CSHL_volumes/atlasV5/atlasV5_down32_scoreVolume/score_volumes/atlasV5_down32_scoreVolume_RMC_R_bbox.txt\" \"s3://mousebrainatlas-data/CSHL_volumes/atlasV5/atlasV5_down32_scoreVolume/score_volumes/atlasV5_down32_scoreVolume_RMC_R_bbox.txt\"\n",
      "aws s3 cp \"/media/yuncong/YuncongPublic/CSHL_volumes/atlasV5/atlasV5_down32_scoreVolume/score_volumes/atlasV5_down32_scoreVolume_SNC_R_surround_200.bp\" \"s3://mousebrainatlas-data/CSHL_volumes/atlasV5/atlasV5_down32_scoreVolume/score_volumes/atlasV5_down32_scoreVolume_SNC_R_surround_200.bp\"\n",
      "aws s3 cp \"/media/yuncong/YuncongPublic/CSHL_volumes/atlasV5/atlasV5_down32_scoreVolume/score_volumes/atlasV5_down32_scoreVolume_SNC_R_surround_200_bbox.txt\" \"s3://mousebrainatlas-data/CSHL_volumes/atlasV5/atlasV5_down32_scoreVolume/score_volumes/atlasV5_down32_scoreVolume_SNC_R_surround_200_bbox.txt\"\n",
      "aws s3 cp \"/media/yuncong/YuncongPublic/CSHL_volumes/atlasV5/atlasV5_down32_scoreVolume/score_volumes/atlasV5_down32_scoreVolume_RMC_L.bp\" \"s3://mousebrainatlas-data/CSHL_volumes/atlasV5/atlasV5_down32_scoreVolume/score_volumes/atlasV5_down32_scoreVolume_RMC_L.bp\"\n",
      "aws s3 cp \"/media/yuncong/YuncongPublic/CSHL_volumes/atlasV5/atlasV5_down32_scoreVolume/score_volumes/atlasV5_down32_scoreVolume_RMC_L_bbox.txt\" \"s3://mousebrainatlas-data/CSHL_volumes/atlasV5/atlasV5_down32_scoreVolume/score_volumes/atlasV5_down32_scoreVolume_RMC_L_bbox.txt\"\n",
      "aws s3 cp \"/media/yuncong/YuncongPublic/CSHL_volumes/atlasV5/atlasV5_down32_scoreVolume/score_volumes/atlasV5_down32_scoreVolume_SNR_L_surround_200.bp\" \"s3://mousebrainatlas-data/CSHL_volumes/atlasV5/atlasV5_down32_scoreVolume/score_volumes/atlasV5_down32_scoreVolume_SNR_L_surround_200.bp\"\n",
      "aws s3 cp \"/media/yuncong/YuncongPublic/CSHL_volumes/atlasV5/atlasV5_down32_scoreVolume/score_volumes/atlasV5_down32_scoreVolume_SNR_L_surround_200_bbox.txt\" \"s3://mousebrainatlas-data/CSHL_volumes/atlasV5/atlasV5_down32_scoreVolume/score_volumes/atlasV5_down32_scoreVolume_SNR_L_surround_200_bbox.txt\"\n",
      "aws s3 cp \"/media/yuncong/YuncongPublic/CSHL_volumes/atlasV5/atlasV5_down32_scoreVolume/score_volumes/atlasV5_down32_scoreVolume_Sp5O_R_surround_200.bp\" \"s3://mousebrainatlas-data/CSHL_volumes/atlasV5/atlasV5_down32_scoreVolume/score_volumes/atlasV5_down32_scoreVolume_Sp5O_R_surround_200.bp\"\n",
      "aws s3 cp \"/media/yuncong/YuncongPublic/CSHL_volumes/atlasV5/atlasV5_down32_scoreVolume/score_volumes/atlasV5_down32_scoreVolume_Sp5O_R_surround_200_bbox.txt\" \"s3://mousebrainatlas-data/CSHL_volumes/atlasV5/atlasV5_down32_scoreVolume/score_volumes/atlasV5_down32_scoreVolume_Sp5O_R_surround_200_bbox.txt\"\n",
      "aws s3 cp \"/media/yuncong/YuncongPublic/CSHL_volumes/atlasV5/atlasV5_down32_scoreVolume/score_volumes/atlasV5_down32_scoreVolume_VCA_R.bp\" \"s3://mousebrainatlas-data/CSHL_volumes/atlasV5/atlasV5_down32_scoreVolume/score_volumes/atlasV5_down32_scoreVolume_VCA_R.bp\"\n",
      "aws s3 cp \"/media/yuncong/YuncongPublic/CSHL_volumes/atlasV5/atlasV5_down32_scoreVolume/score_volumes/atlasV5_down32_scoreVolume_VCA_R_bbox.txt\" \"s3://mousebrainatlas-data/CSHL_volumes/atlasV5/atlasV5_down32_scoreVolume/score_volumes/atlasV5_down32_scoreVolume_VCA_R_bbox.txt\"\n",
      "aws s3 cp \"/media/yuncong/YuncongPublic/CSHL_volumes/atlasV5/atlasV5_down32_scoreVolume/score_volumes/atlasV5_down32_scoreVolume_DC_L.bp\" \"s3://mousebrainatlas-data/CSHL_volumes/atlasV5/atlasV5_down32_scoreVolume/score_volumes/atlasV5_down32_scoreVolume_DC_L.bp\"\n",
      "aws s3 cp \"/media/yuncong/YuncongPublic/CSHL_volumes/atlasV5/atlasV5_down32_scoreVolume/score_volumes/atlasV5_down32_scoreVolume_DC_L_bbox.txt\" \"s3://mousebrainatlas-data/CSHL_volumes/atlasV5/atlasV5_down32_scoreVolume/score_volumes/atlasV5_down32_scoreVolume_DC_L_bbox.txt\"\n",
      "aws s3 cp \"/media/yuncong/YuncongPublic/CSHL_volumes/atlasV5/atlasV5_down32_scoreVolume/score_volumes/atlasV5_down32_scoreVolume_Amb_R_surround_200.bp\" \"s3://mousebrainatlas-data/CSHL_volumes/atlasV5/atlasV5_down32_scoreVolume/score_volumes/atlasV5_down32_scoreVolume_Amb_R_surround_200.bp\"\n",
      "aws s3 cp \"/media/yuncong/YuncongPublic/CSHL_volumes/atlasV5/atlasV5_down32_scoreVolume/score_volumes/atlasV5_down32_scoreVolume_Amb_R_surround_200_bbox.txt\" \"s3://mousebrainatlas-data/CSHL_volumes/atlasV5/atlasV5_down32_scoreVolume/score_volumes/atlasV5_down32_scoreVolume_Amb_R_surround_200_bbox.txt\"\n",
      "aws s3 cp \"/media/yuncong/YuncongPublic/CSHL_volumes/atlasV5/atlasV5_down32_scoreVolume/score_volumes/atlasV5_down32_scoreVolume_Amb_R.bp\" \"s3://mousebrainatlas-data/CSHL_volumes/atlasV5/atlasV5_down32_scoreVolume/score_volumes/atlasV5_down32_scoreVolume_Amb_R.bp\"\n",
      "aws s3 cp \"/media/yuncong/YuncongPublic/CSHL_volumes/atlasV5/atlasV5_down32_scoreVolume/score_volumes/atlasV5_down32_scoreVolume_Amb_R_bbox.txt\" \"s3://mousebrainatlas-data/CSHL_volumes/atlasV5/atlasV5_down32_scoreVolume/score_volumes/atlasV5_down32_scoreVolume_Amb_R_bbox.txt\"\n",
      "aws s3 cp \"/media/yuncong/YuncongPublic/CSHL_volumes/atlasV5/atlasV5_down32_scoreVolume/score_volumes/atlasV5_down32_scoreVolume_LC_L_surround_200.bp\" \"s3://mousebrainatlas-data/CSHL_volumes/atlasV5/atlasV5_down32_scoreVolume/score_volumes/atlasV5_down32_scoreVolume_LC_L_surround_200.bp\"\n",
      "aws s3 cp \"/media/yuncong/YuncongPublic/CSHL_volumes/atlasV5/atlasV5_down32_scoreVolume/score_volumes/atlasV5_down32_scoreVolume_LC_L_surround_200_bbox.txt\" \"s3://mousebrainatlas-data/CSHL_volumes/atlasV5/atlasV5_down32_scoreVolume/score_volumes/atlasV5_down32_scoreVolume_LC_L_surround_200_bbox.txt\"\n",
      "aws s3 cp \"/media/yuncong/YuncongPublic/CSHL_volumes/atlasV5/atlasV5_down32_scoreVolume/score_volumes/atlasV5_down32_scoreVolume_LC_R.bp\" \"s3://mousebrainatlas-data/CSHL_volumes/atlasV5/atlasV5_down32_scoreVolume/score_volumes/atlasV5_down32_scoreVolume_LC_R.bp\"\n"
     ]
    },
    {
     "name": "stdout",
     "output_type": "stream",
     "text": [
      "aws s3 cp \"/media/yuncong/YuncongPublic/CSHL_volumes/atlasV5/atlasV5_down32_scoreVolume/score_volumes/atlasV5_down32_scoreVolume_LC_R_bbox.txt\" \"s3://mousebrainatlas-data/CSHL_volumes/atlasV5/atlasV5_down32_scoreVolume/score_volumes/atlasV5_down32_scoreVolume_LC_R_bbox.txt\"\n",
      "aws s3 cp \"/media/yuncong/YuncongPublic/CSHL_volumes/atlasV5/atlasV5_down32_scoreVolume/score_volumes/atlasV5_down32_scoreVolume_7n_R.bp\" \"s3://mousebrainatlas-data/CSHL_volumes/atlasV5/atlasV5_down32_scoreVolume/score_volumes/atlasV5_down32_scoreVolume_7n_R.bp\"\n",
      "aws s3 cp \"/media/yuncong/YuncongPublic/CSHL_volumes/atlasV5/atlasV5_down32_scoreVolume/score_volumes/atlasV5_down32_scoreVolume_7n_R_bbox.txt\" \"s3://mousebrainatlas-data/CSHL_volumes/atlasV5/atlasV5_down32_scoreVolume/score_volumes/atlasV5_down32_scoreVolume_7n_R_bbox.txt\"\n",
      "aws s3 cp \"/media/yuncong/YuncongPublic/CSHL_volumes/atlasV5/atlasV5_down32_scoreVolume/score_volumes/atlasV5_down32_scoreVolume_4N_R.bp\" \"s3://mousebrainatlas-data/CSHL_volumes/atlasV5/atlasV5_down32_scoreVolume/score_volumes/atlasV5_down32_scoreVolume_4N_R.bp\"\n",
      "aws s3 cp \"/media/yuncong/YuncongPublic/CSHL_volumes/atlasV5/atlasV5_down32_scoreVolume/score_volumes/atlasV5_down32_scoreVolume_4N_R_bbox.txt\" \"s3://mousebrainatlas-data/CSHL_volumes/atlasV5/atlasV5_down32_scoreVolume/score_volumes/atlasV5_down32_scoreVolume_4N_R_bbox.txt\"\n",
      "aws s3 cp \"/media/yuncong/YuncongPublic/CSHL_volumes/atlasV5/atlasV5_down32_scoreVolume/score_volumes/atlasV5_down32_scoreVolume_7n_L.bp\" \"s3://mousebrainatlas-data/CSHL_volumes/atlasV5/atlasV5_down32_scoreVolume/score_volumes/atlasV5_down32_scoreVolume_7n_L.bp\"\n",
      "aws s3 cp \"/media/yuncong/YuncongPublic/CSHL_volumes/atlasV5/atlasV5_down32_scoreVolume/score_volumes/atlasV5_down32_scoreVolume_7n_L_bbox.txt\" \"s3://mousebrainatlas-data/CSHL_volumes/atlasV5/atlasV5_down32_scoreVolume/score_volumes/atlasV5_down32_scoreVolume_7n_L_bbox.txt\"\n",
      "aws s3 cp \"/media/yuncong/YuncongPublic/CSHL_volumes/atlasV5/atlasV5_down32_scoreVolume/score_volumes/atlasV5_down32_scoreVolume_4N_L.bp\" \"s3://mousebrainatlas-data/CSHL_volumes/atlasV5/atlasV5_down32_scoreVolume/score_volumes/atlasV5_down32_scoreVolume_4N_L.bp\"\n",
      "aws s3 cp \"/media/yuncong/YuncongPublic/CSHL_volumes/atlasV5/atlasV5_down32_scoreVolume/score_volumes/atlasV5_down32_scoreVolume_4N_L_bbox.txt\" \"s3://mousebrainatlas-data/CSHL_volumes/atlasV5/atlasV5_down32_scoreVolume/score_volumes/atlasV5_down32_scoreVolume_4N_L_bbox.txt\"\n",
      "aws s3 cp \"/media/yuncong/YuncongPublic/CSHL_volumes/atlasV5/atlasV5_down32_scoreVolume/score_volumes/atlasV5_down32_scoreVolume_VLL_L_surround_200.bp\" \"s3://mousebrainatlas-data/CSHL_volumes/atlasV5/atlasV5_down32_scoreVolume/score_volumes/atlasV5_down32_scoreVolume_VLL_L_surround_200.bp\"\n",
      "aws s3 cp \"/media/yuncong/YuncongPublic/CSHL_volumes/atlasV5/atlasV5_down32_scoreVolume/score_volumes/atlasV5_down32_scoreVolume_VLL_L_surround_200_bbox.txt\" \"s3://mousebrainatlas-data/CSHL_volumes/atlasV5/atlasV5_down32_scoreVolume/score_volumes/atlasV5_down32_scoreVolume_VLL_L_surround_200_bbox.txt\"\n",
      "aws s3 cp \"/media/yuncong/YuncongPublic/CSHL_volumes/atlasV5/atlasV5_down32_scoreVolume/score_volumes/atlasV5_down32_scoreVolume_LC_L.bp\" \"s3://mousebrainatlas-data/CSHL_volumes/atlasV5/atlasV5_down32_scoreVolume/score_volumes/atlasV5_down32_scoreVolume_LC_L.bp\"\n",
      "aws s3 cp \"/media/yuncong/YuncongPublic/CSHL_volumes/atlasV5/atlasV5_down32_scoreVolume/score_volumes/atlasV5_down32_scoreVolume_LC_L_bbox.txt\" \"s3://mousebrainatlas-data/CSHL_volumes/atlasV5/atlasV5_down32_scoreVolume/score_volumes/atlasV5_down32_scoreVolume_LC_L_bbox.txt\"\n",
      "aws s3 cp \"/media/yuncong/YuncongPublic/CSHL_volumes/atlasV5/atlasV5_down32_scoreVolume/score_volumes/atlasV5_down32_scoreVolume_SC.bp\" \"s3://mousebrainatlas-data/CSHL_volumes/atlasV5/atlasV5_down32_scoreVolume/score_volumes/atlasV5_down32_scoreVolume_SC.bp\"\n",
      "aws s3 cp \"/media/yuncong/YuncongPublic/CSHL_volumes/atlasV5/atlasV5_down32_scoreVolume/score_volumes/atlasV5_down32_scoreVolume_SC_bbox.txt\" \"s3://mousebrainatlas-data/CSHL_volumes/atlasV5/atlasV5_down32_scoreVolume/score_volumes/atlasV5_down32_scoreVolume_SC_bbox.txt\"\n",
      "aws s3 cp \"/media/yuncong/YuncongPublic/CSHL_volumes/atlasV5/atlasV5_down32_scoreVolume/score_volumes/atlasV5_down32_scoreVolume_Amb_L.bp\" \"s3://mousebrainatlas-data/CSHL_volumes/atlasV5/atlasV5_down32_scoreVolume/score_volumes/atlasV5_down32_scoreVolume_Amb_L.bp\"\n",
      "aws s3 cp \"/media/yuncong/YuncongPublic/CSHL_volumes/atlasV5/atlasV5_down32_scoreVolume/score_volumes/atlasV5_down32_scoreVolume_Amb_L_bbox.txt\" \"s3://mousebrainatlas-data/CSHL_volumes/atlasV5/atlasV5_down32_scoreVolume/score_volumes/atlasV5_down32_scoreVolume_Amb_L_bbox.txt\"\n",
      "aws s3 cp \"/media/yuncong/YuncongPublic/CSHL_volumes/atlasV5/atlasV5_down32_scoreVolume/score_volumes/atlasV5_down32_scoreVolume_LRt_R_surround_200.bp\" \"s3://mousebrainatlas-data/CSHL_volumes/atlasV5/atlasV5_down32_scoreVolume/score_volumes/atlasV5_down32_scoreVolume_LRt_R_surround_200.bp\"\n",
      "aws s3 cp \"/media/yuncong/YuncongPublic/CSHL_volumes/atlasV5/atlasV5_down32_scoreVolume/score_volumes/atlasV5_down32_scoreVolume_LRt_R_surround_200_bbox.txt\" \"s3://mousebrainatlas-data/CSHL_volumes/atlasV5/atlasV5_down32_scoreVolume/score_volumes/atlasV5_down32_scoreVolume_LRt_R_surround_200_bbox.txt\"\n",
      "aws s3 cp \"/media/yuncong/YuncongPublic/CSHL_volumes/atlasV5/atlasV5_down32_scoreVolume/score_volumes/atlasV5_down32_scoreVolume_4N_R_surround_200.bp\" \"s3://mousebrainatlas-data/CSHL_volumes/atlasV5/atlasV5_down32_scoreVolume/score_volumes/atlasV5_down32_scoreVolume_4N_R_surround_200.bp\"\n",
      "aws s3 cp \"/media/yuncong/YuncongPublic/CSHL_volumes/atlasV5/atlasV5_down32_scoreVolume/score_volumes/atlasV5_down32_scoreVolume_4N_R_surround_200_bbox.txt\" \"s3://mousebrainatlas-data/CSHL_volumes/atlasV5/atlasV5_down32_scoreVolume/score_volumes/atlasV5_down32_scoreVolume_4N_R_surround_200_bbox.txt\"\n",
      "aws s3 cp \"/media/yuncong/YuncongPublic/CSHL_volumes/atlasV5/atlasV5_down32_scoreVolume/score_volumes/atlasV5_down32_scoreVolume_PBG_L.bp\" \"s3://mousebrainatlas-data/CSHL_volumes/atlasV5/atlasV5_down32_scoreVolume/score_volumes/atlasV5_down32_scoreVolume_PBG_L.bp\"\n",
      "aws s3 cp \"/media/yuncong/YuncongPublic/CSHL_volumes/atlasV5/atlasV5_down32_scoreVolume/score_volumes/atlasV5_down32_scoreVolume_PBG_L_bbox.txt\" \"s3://mousebrainatlas-data/CSHL_volumes/atlasV5/atlasV5_down32_scoreVolume/score_volumes/atlasV5_down32_scoreVolume_PBG_L_bbox.txt\"\n",
      "aws s3 cp \"/media/yuncong/YuncongPublic/CSHL_volumes/atlasV5/atlasV5_down32_scoreVolume/score_volumes/atlasV5_down32_scoreVolume_PBG_R.bp\" \"s3://mousebrainatlas-data/CSHL_volumes/atlasV5/atlasV5_down32_scoreVolume/score_volumes/atlasV5_down32_scoreVolume_PBG_R.bp\"\n",
      "aws s3 cp \"/media/yuncong/YuncongPublic/CSHL_volumes/atlasV5/atlasV5_down32_scoreVolume/score_volumes/atlasV5_down32_scoreVolume_PBG_R_bbox.txt\" \"s3://mousebrainatlas-data/CSHL_volumes/atlasV5/atlasV5_down32_scoreVolume/score_volumes/atlasV5_down32_scoreVolume_PBG_R_bbox.txt\"\n",
      "aws s3 cp \"/media/yuncong/YuncongPublic/CSHL_volumes/atlasV5/atlasV5_down32_scoreVolume/score_volumes/atlasV5_down32_scoreVolume_PBG_R_surround_200.bp\" \"s3://mousebrainatlas-data/CSHL_volumes/atlasV5/atlasV5_down32_scoreVolume/score_volumes/atlasV5_down32_scoreVolume_PBG_R_surround_200.bp\"\n",
      "aws s3 cp \"/media/yuncong/YuncongPublic/CSHL_volumes/atlasV5/atlasV5_down32_scoreVolume/score_volumes/atlasV5_down32_scoreVolume_PBG_R_surround_200_bbox.txt\" \"s3://mousebrainatlas-data/CSHL_volumes/atlasV5/atlasV5_down32_scoreVolume/score_volumes/atlasV5_down32_scoreVolume_PBG_R_surround_200_bbox.txt\"\n",
      "aws s3 cp \"/media/yuncong/YuncongPublic/CSHL_volumes/atlasV5/atlasV5_down32_scoreVolume/score_volumes/atlasV5_down32_scoreVolume_VCP_L_surround_200.bp\" \"s3://mousebrainatlas-data/CSHL_volumes/atlasV5/atlasV5_down32_scoreVolume/score_volumes/atlasV5_down32_scoreVolume_VCP_L_surround_200.bp\"\n",
      "aws s3 cp \"/media/yuncong/YuncongPublic/CSHL_volumes/atlasV5/atlasV5_down32_scoreVolume/score_volumes/atlasV5_down32_scoreVolume_VCP_L_surround_200_bbox.txt\" \"s3://mousebrainatlas-data/CSHL_volumes/atlasV5/atlasV5_down32_scoreVolume/score_volumes/atlasV5_down32_scoreVolume_VCP_L_surround_200_bbox.txt\"\n",
      "aws s3 cp \"/media/yuncong/YuncongPublic/CSHL_volumes/atlasV5/atlasV5_down32_scoreVolume/score_volumes/atlasV5_down32_scoreVolume_RtTg_surround_200.bp\" \"s3://mousebrainatlas-data/CSHL_volumes/atlasV5/atlasV5_down32_scoreVolume/score_volumes/atlasV5_down32_scoreVolume_RtTg_surround_200.bp\"\n"
     ]
    },
    {
     "name": "stdout",
     "output_type": "stream",
     "text": [
      "aws s3 cp \"/media/yuncong/YuncongPublic/CSHL_volumes/atlasV5/atlasV5_down32_scoreVolume/score_volumes/atlasV5_down32_scoreVolume_RtTg_surround_200_bbox.txt\" \"s3://mousebrainatlas-data/CSHL_volumes/atlasV5/atlasV5_down32_scoreVolume/score_volumes/atlasV5_down32_scoreVolume_RtTg_surround_200_bbox.txt\"\n",
      "aws s3 cp \"/media/yuncong/YuncongPublic/CSHL_volumes/atlasV5/atlasV5_down32_scoreVolume/score_volumes/atlasV5_down32_scoreVolume_3N_L_surround_200.bp\" \"s3://mousebrainatlas-data/CSHL_volumes/atlasV5/atlasV5_down32_scoreVolume/score_volumes/atlasV5_down32_scoreVolume_3N_L_surround_200.bp\"\n",
      "aws s3 cp \"/media/yuncong/YuncongPublic/CSHL_volumes/atlasV5/atlasV5_down32_scoreVolume/score_volumes/atlasV5_down32_scoreVolume_3N_L_surround_200_bbox.txt\" \"s3://mousebrainatlas-data/CSHL_volumes/atlasV5/atlasV5_down32_scoreVolume/score_volumes/atlasV5_down32_scoreVolume_3N_L_surround_200_bbox.txt\"\n",
      "aws s3 cp \"/media/yuncong/YuncongPublic/CSHL_volumes/atlasV5/atlasV5_down32_scoreVolume/score_volumes/atlasV5_down32_scoreVolume_Sp5I_L_surround_200.bp\" \"s3://mousebrainatlas-data/CSHL_volumes/atlasV5/atlasV5_down32_scoreVolume/score_volumes/atlasV5_down32_scoreVolume_Sp5I_L_surround_200.bp\"\n",
      "aws s3 cp \"/media/yuncong/YuncongPublic/CSHL_volumes/atlasV5/atlasV5_down32_scoreVolume/score_volumes/atlasV5_down32_scoreVolume_Sp5I_L_surround_200_bbox.txt\" \"s3://mousebrainatlas-data/CSHL_volumes/atlasV5/atlasV5_down32_scoreVolume/score_volumes/atlasV5_down32_scoreVolume_Sp5I_L_surround_200_bbox.txt\"\n",
      "aws s3 cp \"/media/yuncong/YuncongPublic/CSHL_volumes/atlasV5/atlasV5_down32_scoreVolume/score_volumes/atlasV5_down32_scoreVolume_LRt_L_surround_200.bp\" \"s3://mousebrainatlas-data/CSHL_volumes/atlasV5/atlasV5_down32_scoreVolume/score_volumes/atlasV5_down32_scoreVolume_LRt_L_surround_200.bp\"\n",
      "aws s3 cp \"/media/yuncong/YuncongPublic/CSHL_volumes/atlasV5/atlasV5_down32_scoreVolume/score_volumes/atlasV5_down32_scoreVolume_LRt_L_surround_200_bbox.txt\" \"s3://mousebrainatlas-data/CSHL_volumes/atlasV5/atlasV5_down32_scoreVolume/score_volumes/atlasV5_down32_scoreVolume_LRt_L_surround_200_bbox.txt\"\n",
      "aws s3 cp \"/media/yuncong/YuncongPublic/CSHL_volumes/atlasV5/atlasV5_down32_scoreVolume/score_volumes/atlasV5_down32_scoreVolume_5N_L.bp\" \"s3://mousebrainatlas-data/CSHL_volumes/atlasV5/atlasV5_down32_scoreVolume/score_volumes/atlasV5_down32_scoreVolume_5N_L.bp\"\n",
      "aws s3 cp \"/media/yuncong/YuncongPublic/CSHL_volumes/atlasV5/atlasV5_down32_scoreVolume/score_volumes/atlasV5_down32_scoreVolume_5N_L_bbox.txt\" \"s3://mousebrainatlas-data/CSHL_volumes/atlasV5/atlasV5_down32_scoreVolume/score_volumes/atlasV5_down32_scoreVolume_5N_L_bbox.txt\"\n",
      "aws s3 cp \"/media/yuncong/YuncongPublic/CSHL_volumes/atlasV5/atlasV5_down32_scoreVolume/score_volumes/atlasV5_down32_scoreVolume_AP.bp\" \"s3://mousebrainatlas-data/CSHL_volumes/atlasV5/atlasV5_down32_scoreVolume/score_volumes/atlasV5_down32_scoreVolume_AP.bp\"\n",
      "aws s3 cp \"/media/yuncong/YuncongPublic/CSHL_volumes/atlasV5/atlasV5_down32_scoreVolume/score_volumes/atlasV5_down32_scoreVolume_AP_bbox.txt\" \"s3://mousebrainatlas-data/CSHL_volumes/atlasV5/atlasV5_down32_scoreVolume/score_volumes/atlasV5_down32_scoreVolume_AP_bbox.txt\"\n",
      "aws s3 cp \"/media/yuncong/YuncongPublic/CSHL_volumes/atlasV5/atlasV5_down32_scoreVolume/score_volumes/atlasV5_down32_scoreVolume_5N_R.bp\" \"s3://mousebrainatlas-data/CSHL_volumes/atlasV5/atlasV5_down32_scoreVolume/score_volumes/atlasV5_down32_scoreVolume_5N_R.bp\"\n",
      "aws s3 cp \"/media/yuncong/YuncongPublic/CSHL_volumes/atlasV5/atlasV5_down32_scoreVolume/score_volumes/atlasV5_down32_scoreVolume_5N_R_bbox.txt\" \"s3://mousebrainatlas-data/CSHL_volumes/atlasV5/atlasV5_down32_scoreVolume/score_volumes/atlasV5_down32_scoreVolume_5N_R_bbox.txt\"\n",
      "aws s3 cp \"/media/yuncong/YuncongPublic/CSHL_volumes/atlasV5/atlasV5_down32_scoreVolume/score_volumes/atlasV5_down32_scoreVolume_VCP_R_surround_200.bp\" \"s3://mousebrainatlas-data/CSHL_volumes/atlasV5/atlasV5_down32_scoreVolume/score_volumes/atlasV5_down32_scoreVolume_VCP_R_surround_200.bp\"\n",
      "aws s3 cp \"/media/yuncong/YuncongPublic/CSHL_volumes/atlasV5/atlasV5_down32_scoreVolume/score_volumes/atlasV5_down32_scoreVolume_VCP_R_surround_200_bbox.txt\" \"s3://mousebrainatlas-data/CSHL_volumes/atlasV5/atlasV5_down32_scoreVolume/score_volumes/atlasV5_down32_scoreVolume_VCP_R_surround_200_bbox.txt\"\n",
      "aws s3 cp \"/media/yuncong/YuncongPublic/CSHL_volumes/atlasV5/atlasV5_down32_scoreVolume/score_volumes/atlasV5_down32_scoreVolume_IC.bp\" \"s3://mousebrainatlas-data/CSHL_volumes/atlasV5/atlasV5_down32_scoreVolume/score_volumes/atlasV5_down32_scoreVolume_IC.bp\"\n",
      "aws s3 cp \"/media/yuncong/YuncongPublic/CSHL_volumes/atlasV5/atlasV5_down32_scoreVolume/score_volumes/atlasV5_down32_scoreVolume_IC_bbox.txt\" \"s3://mousebrainatlas-data/CSHL_volumes/atlasV5/atlasV5_down32_scoreVolume/score_volumes/atlasV5_down32_scoreVolume_IC_bbox.txt\"\n",
      "aws s3 cp \"/media/yuncong/YuncongPublic/CSHL_volumes/atlasV5/atlasV5_down32_scoreVolume/score_volumes/atlasV5_down32_scoreVolume_RMC_R_surround_200.bp\" \"s3://mousebrainatlas-data/CSHL_volumes/atlasV5/atlasV5_down32_scoreVolume/score_volumes/atlasV5_down32_scoreVolume_RMC_R_surround_200.bp\"\n",
      "aws s3 cp \"/media/yuncong/YuncongPublic/CSHL_volumes/atlasV5/atlasV5_down32_scoreVolume/score_volumes/atlasV5_down32_scoreVolume_RMC_R_surround_200_bbox.txt\" \"s3://mousebrainatlas-data/CSHL_volumes/atlasV5/atlasV5_down32_scoreVolume/score_volumes/atlasV5_down32_scoreVolume_RMC_R_surround_200_bbox.txt\"\n",
      "aws s3 cp \"/media/yuncong/YuncongPublic/CSHL_volumes/atlasV5/atlasV5_down32_scoreVolume/score_volumes/atlasV5_down32_scoreVolume_Sp5I_R.bp\" \"s3://mousebrainatlas-data/CSHL_volumes/atlasV5/atlasV5_down32_scoreVolume/score_volumes/atlasV5_down32_scoreVolume_Sp5I_R.bp\"\n",
      "aws s3 cp \"/media/yuncong/YuncongPublic/CSHL_volumes/atlasV5/atlasV5_down32_scoreVolume/score_volumes/atlasV5_down32_scoreVolume_Sp5I_R_bbox.txt\" \"s3://mousebrainatlas-data/CSHL_volumes/atlasV5/atlasV5_down32_scoreVolume/score_volumes/atlasV5_down32_scoreVolume_Sp5I_R_bbox.txt\"\n",
      "aws s3 cp \"/media/yuncong/YuncongPublic/CSHL_volumes/atlasV5/atlasV5_down32_scoreVolume/score_volumes/atlasV5_down32_scoreVolume_Tz_R_surround_200.bp\" \"s3://mousebrainatlas-data/CSHL_volumes/atlasV5/atlasV5_down32_scoreVolume/score_volumes/atlasV5_down32_scoreVolume_Tz_R_surround_200.bp\"\n",
      "aws s3 cp \"/media/yuncong/YuncongPublic/CSHL_volumes/atlasV5/atlasV5_down32_scoreVolume/score_volumes/atlasV5_down32_scoreVolume_Tz_R_surround_200_bbox.txt\" \"s3://mousebrainatlas-data/CSHL_volumes/atlasV5/atlasV5_down32_scoreVolume/score_volumes/atlasV5_down32_scoreVolume_Tz_R_surround_200_bbox.txt\"\n",
      "aws s3 cp \"/media/yuncong/YuncongPublic/CSHL_volumes/atlasV5/atlasV5_down32_scoreVolume/score_volumes/atlasV5_down32_scoreVolume_5N_L_surround_200.bp\" \"s3://mousebrainatlas-data/CSHL_volumes/atlasV5/atlasV5_down32_scoreVolume/score_volumes/atlasV5_down32_scoreVolume_5N_L_surround_200.bp\"\n",
      "aws s3 cp \"/media/yuncong/YuncongPublic/CSHL_volumes/atlasV5/atlasV5_down32_scoreVolume/score_volumes/atlasV5_down32_scoreVolume_5N_L_surround_200_bbox.txt\" \"s3://mousebrainatlas-data/CSHL_volumes/atlasV5/atlasV5_down32_scoreVolume/score_volumes/atlasV5_down32_scoreVolume_5N_L_surround_200_bbox.txt\"\n",
      "aws s3 cp \"/media/yuncong/YuncongPublic/CSHL_volumes/atlasV5/atlasV5_down32_scoreVolume/score_volumes/atlasV5_down32_scoreVolume_Sp5C_L_surround_200.bp\" \"s3://mousebrainatlas-data/CSHL_volumes/atlasV5/atlasV5_down32_scoreVolume/score_volumes/atlasV5_down32_scoreVolume_Sp5C_L_surround_200.bp\"\n",
      "aws s3 cp \"/media/yuncong/YuncongPublic/CSHL_volumes/atlasV5/atlasV5_down32_scoreVolume/score_volumes/atlasV5_down32_scoreVolume_Sp5C_L_surround_200_bbox.txt\" \"s3://mousebrainatlas-data/CSHL_volumes/atlasV5/atlasV5_down32_scoreVolume/score_volumes/atlasV5_down32_scoreVolume_Sp5C_L_surround_200_bbox.txt\"\n"
     ]
    }
   ],
   "source": [
    "# Save full-brain atlas volumes.\n",
    "\n",
    "for name_s, vol in atlas_volumes.iteritems():\n",
    "    vol_fp = DataManager.get_volume_filepath(stack_m=atlas_name, structure=name_s)\n",
    "    create_parent_dir_if_not_exists(vol_fp)\n",
    "    bp.pack_ndarray_file(vol, vol_fp)\n",
    "    upload_to_s3(vol_fp)\n",
    "    \n",
    "    # Save atlas score volume bbox txt.\n",
    "    fp = DataManager.get_original_volume_bbox_filepath(stack=atlas_name, structure=name_s)\n",
    "    np.savetxt(fp, atlas_volume_bbox_rel2uncropped[None,:], fmt='%d')\n",
    "    upload_to_s3(fp)\n",
    "    # This is wrt aligned uncropped volume"
   ]
  },
  {
   "cell_type": "markdown",
   "metadata": {},
   "source": [
    "## Surround"
   ]
  },
  {
   "cell_type": "code",
   "execution_count": null,
   "metadata": {
    "collapsed": true
   },
   "outputs": [],
   "source": [
    "# # Generate and save surround score volumes. (in fact binary, but dtype is np.float16, same as interior score volumes.)\n",
    "\n",
    "# valid_level = .5\n",
    "\n",
    "# surround_distance_um = 200\n",
    "# surround_distance_voxel = surround_distance_um / XY_PIXEL_DISTANCE_TB\n",
    "# print \"surround size (in voxels):\", surround_distance_voxel"
   ]
  },
  {
   "cell_type": "code",
   "execution_count": null,
   "metadata": {
    "collapsed": true,
    "scrolled": true
   },
   "outputs": [],
   "source": [
    "# for name_s, vol in atlas_volumes.iteritems():\n",
    "#     if name_s == 'shell':\n",
    "#         # for shell, do not compute surround, because it is \n",
    "#         continue\n",
    "    \n",
    "#     if name_s in singular_structures:\n",
    "#         vol = symmetricalize_volume(vol)\n",
    "\n",
    "#     surround_vol = get_surround_volume(vol, valid_level=valid_level, distance=surround_distance_voxel, prob=True)\n",
    "#     vol_fp = DataManager.get_volume_filepath(stack_m=atlas_name, \n",
    "#                                              structure=convert_to_surround_name(name_s, margin=surround_distance_um))\n",
    "#     create_parent_dir_if_not_exists(vol_fp)\n",
    "#     bp.pack_ndarray_file(surround_vol.astype(np.float16), vol_fp)\n",
    "#     upload_to_s3(vol_fp)\n",
    "\n",
    "#     fp = DataManager.get_original_volume_bbox_filepath(stack=atlas_name, structure=convert_to_surround_name(name_s, margin=surround_distance_um))\n",
    "#     np.savetxt(fp, atlas_volume_bbox_rel2uncropped[None,:], fmt='%d')\n",
    "#     upload_to_s3(fp)"
   ]
  },
  {
   "cell_type": "code",
   "execution_count": null,
   "metadata": {
    "collapsed": true
   },
   "outputs": [],
   "source": [
    "# surround_vol = get_surround_volume(atlas_prob_volume_allLandmarks['IC'], distance=13, valid_level=0.5, prob=True)\n",
    "# display_volume_sections(surround_vol, direction='x', vmin=0, vmax=1.)"
   ]
  },
  {
   "cell_type": "markdown",
   "metadata": {},
   "source": [
    "## Convert surround volumes to meshes, for visualization."
   ]
  },
  {
   "cell_type": "code",
   "execution_count": 173,
   "metadata": {},
   "outputs": [
    {
     "name": "stderr",
     "output_type": "stream",
     "text": [
      "marching cube: 0.14 seconds\n",
      "mesh_to_polydata: 0.08 seconds\n",
      "simplify 0 @ 24392: 0.44 seconds\n",
      "simplify 1 @ 4881: 0.22 seconds\n",
      "simplify 2 @ 979: 0.04 seconds\n"
     ]
    },
    {
     "name": "stdout",
     "output_type": "stream",
     "text": [
      "aws s3 cp \"/home/yuncong/CSHL_meshes/atlasV6/atlasV6_down32_scoreVolume/atlasV6_down32_scoreVolume_5N_L_surround_200.stl\" \"s3://mousebrainatlas-data/CSHL_meshes/atlasV6/atlasV6_down32_scoreVolume/atlasV6_down32_scoreVolume_5N_L_surround_200.stl\"\n"
     ]
    },
    {
     "name": "stderr",
     "output_type": "stream",
     "text": [
      "marching cube: 0.04 seconds\n",
      "mesh_to_polydata: 0.03 seconds\n",
      "simplify 0 @ 24410: 0.21 seconds\n",
      "simplify 1 @ 4885: 0.23 seconds\n",
      "simplify 2 @ 980: 0.05 seconds\n"
     ]
    },
    {
     "name": "stdout",
     "output_type": "stream",
     "text": [
      "aws s3 cp \"/home/yuncong/CSHL_meshes/atlasV6/atlasV6_down32_scoreVolume/atlasV6_down32_scoreVolume_5N_R_surround_200.stl\" \"s3://mousebrainatlas-data/CSHL_meshes/atlasV6/atlasV6_down32_scoreVolume/atlasV6_down32_scoreVolume_5N_R_surround_200.stl\"\n"
     ]
    },
    {
     "name": "stderr",
     "output_type": "stream",
     "text": [
      "marching cube: 0.01 seconds\n",
      "mesh_to_polydata: 0.01 seconds\n",
      "simplify 0 @ 6785: 0.06 seconds\n",
      "simplify 1 @ 1360: 0.05 seconds\n",
      "simplify 2 @ 275: 0.01 seconds\n"
     ]
    },
    {
     "name": "stdout",
     "output_type": "stream",
     "text": [
      "aws s3 cp \"/home/yuncong/CSHL_meshes/atlasV6/atlasV6_down32_scoreVolume/atlasV6_down32_scoreVolume_6N_L_surround_200.stl\" \"s3://mousebrainatlas-data/CSHL_meshes/atlasV6/atlasV6_down32_scoreVolume/atlasV6_down32_scoreVolume_6N_L_surround_200.stl\"\n"
     ]
    },
    {
     "name": "stderr",
     "output_type": "stream",
     "text": [
      "marching cube: 0.02 seconds\n",
      "mesh_to_polydata: 0.02 seconds\n",
      "simplify 0 @ 6776: 0.11 seconds\n",
      "simplify 1 @ 1358: 0.09 seconds\n",
      "simplify 2 @ 274: 0.02 seconds\n"
     ]
    },
    {
     "name": "stdout",
     "output_type": "stream",
     "text": [
      "aws s3 cp \"/home/yuncong/CSHL_meshes/atlasV6/atlasV6_down32_scoreVolume/atlasV6_down32_scoreVolume_6N_R_surround_200.stl\" \"s3://mousebrainatlas-data/CSHL_meshes/atlasV6/atlasV6_down32_scoreVolume/atlasV6_down32_scoreVolume_6N_R_surround_200.stl\"\n"
     ]
    },
    {
     "name": "stderr",
     "output_type": "stream",
     "text": [
      "marching cube: 0.15 seconds\n",
      "mesh_to_polydata: 0.05 seconds\n",
      "simplify 0 @ 35261: 0.38 seconds\n",
      "simplify 1 @ 7055: 0.38 seconds\n",
      "simplify 2 @ 1414: 0.08 seconds\n"
     ]
    },
    {
     "name": "stdout",
     "output_type": "stream",
     "text": [
      "aws s3 cp \"/home/yuncong/CSHL_meshes/atlasV6/atlasV6_down32_scoreVolume/atlasV6_down32_scoreVolume_7N_L_surround_200.stl\" \"s3://mousebrainatlas-data/CSHL_meshes/atlasV6/atlasV6_down32_scoreVolume/atlasV6_down32_scoreVolume_7N_L_surround_200.stl\"\n"
     ]
    },
    {
     "name": "stderr",
     "output_type": "stream",
     "text": [
      "marching cube: 0.14 seconds\n",
      "mesh_to_polydata: 0.08 seconds\n",
      "simplify 0 @ 35166: 0.57 seconds\n",
      "simplify 1 @ 7036: 0.57 seconds\n",
      "simplify 2 @ 1410: 0.12 seconds\n"
     ]
    },
    {
     "name": "stdout",
     "output_type": "stream",
     "text": [
      "aws s3 cp \"/home/yuncong/CSHL_meshes/atlasV6/atlasV6_down32_scoreVolume/atlasV6_down32_scoreVolume_7N_R_surround_200.stl\" \"s3://mousebrainatlas-data/CSHL_meshes/atlasV6/atlasV6_down32_scoreVolume/atlasV6_down32_scoreVolume_7N_R_surround_200.stl\"\n"
     ]
    },
    {
     "name": "stderr",
     "output_type": "stream",
     "text": [
      "marching cube: 0.15 seconds\n",
      "mesh_to_polydata: 0.05 seconds\n",
      "simplify 0 @ 34826: 0.34 seconds\n",
      "simplify 1 @ 6968: 0.36 seconds\n",
      "simplify 2 @ 1396: 0.08 seconds\n"
     ]
    },
    {
     "name": "stdout",
     "output_type": "stream",
     "text": [
      "aws s3 cp \"/home/yuncong/CSHL_meshes/atlasV6/atlasV6_down32_scoreVolume/atlasV6_down32_scoreVolume_7n_L_surround_200.stl\" \"s3://mousebrainatlas-data/CSHL_meshes/atlasV6/atlasV6_down32_scoreVolume/atlasV6_down32_scoreVolume_7n_L_surround_200.stl\"\n"
     ]
    },
    {
     "name": "stderr",
     "output_type": "stream",
     "text": [
      "marching cube: 0.12 seconds\n",
      "mesh_to_polydata: 0.04 seconds\n",
      "simplify 0 @ 34783: 0.29 seconds\n",
      "simplify 1 @ 6959: 0.33 seconds\n",
      "simplify 2 @ 1395: 0.07 seconds\n"
     ]
    },
    {
     "name": "stdout",
     "output_type": "stream",
     "text": [
      "aws s3 cp \"/home/yuncong/CSHL_meshes/atlasV6/atlasV6_down32_scoreVolume/atlasV6_down32_scoreVolume_7n_R_surround_200.stl\" \"s3://mousebrainatlas-data/CSHL_meshes/atlasV6/atlasV6_down32_scoreVolume/atlasV6_down32_scoreVolume_7n_R_surround_200.stl\"\n"
     ]
    },
    {
     "name": "stderr",
     "output_type": "stream",
     "text": [
      "marching cube: 0.02 seconds\n",
      "mesh_to_polydata: 0.01 seconds\n",
      "simplify 0 @ 7600: 0.07 seconds\n",
      "simplify 1 @ 1523: 0.06 seconds\n",
      "simplify 2 @ 307: 0.02 seconds\n"
     ]
    },
    {
     "name": "stdout",
     "output_type": "stream",
     "text": [
      "aws s3 cp \"/home/yuncong/CSHL_meshes/atlasV6/atlasV6_down32_scoreVolume/atlasV6_down32_scoreVolume_Amb_L_surround_200.stl\" \"s3://mousebrainatlas-data/CSHL_meshes/atlasV6/atlasV6_down32_scoreVolume/atlasV6_down32_scoreVolume_Amb_L_surround_200.stl\"\n"
     ]
    },
    {
     "name": "stderr",
     "output_type": "stream",
     "text": [
      "marching cube: 0.01 seconds\n",
      "mesh_to_polydata: 0.01 seconds\n",
      "simplify 0 @ 7589: 0.08 seconds\n",
      "simplify 1 @ 1521: 0.07 seconds\n",
      "simplify 2 @ 307: 0.02 seconds\n"
     ]
    },
    {
     "name": "stdout",
     "output_type": "stream",
     "text": [
      "aws s3 cp \"/home/yuncong/CSHL_meshes/atlasV6/atlasV6_down32_scoreVolume/atlasV6_down32_scoreVolume_Amb_R_surround_200.stl\" \"s3://mousebrainatlas-data/CSHL_meshes/atlasV6/atlasV6_down32_scoreVolume/atlasV6_down32_scoreVolume_Amb_R_surround_200.stl\"\n"
     ]
    },
    {
     "name": "stderr",
     "output_type": "stream",
     "text": [
      "marching cube: 0.03 seconds\n",
      "mesh_to_polydata: 0.02 seconds\n",
      "simplify 0 @ 16381: 0.15 seconds\n",
      "simplify 1 @ 3279: 0.14 seconds\n",
      "simplify 2 @ 659: 0.03 seconds\n"
     ]
    },
    {
     "name": "stdout",
     "output_type": "stream",
     "text": [
      "aws s3 cp \"/home/yuncong/CSHL_meshes/atlasV6/atlasV6_down32_scoreVolume/atlasV6_down32_scoreVolume_LC_L_surround_200.stl\" \"s3://mousebrainatlas-data/CSHL_meshes/atlasV6/atlasV6_down32_scoreVolume/atlasV6_down32_scoreVolume_LC_L_surround_200.stl\"\n"
     ]
    },
    {
     "name": "stderr",
     "output_type": "stream",
     "text": [
      "marching cube: 0.03 seconds\n",
      "mesh_to_polydata: 0.02 seconds\n",
      "simplify 0 @ 16354: 0.15 seconds\n"
     ]
    },
    {
     "name": "stdout",
     "output_type": "stream",
     "text": [
      "aws s3 cp \"/home/yuncong/CSHL_meshes/atlasV6/atlasV6_down32_scoreVolume/atlasV6_down32_scoreVolume_LC_R_surround_200.stl\" \"s3://mousebrainatlas-data/CSHL_meshes/atlasV6/atlasV6_down32_scoreVolume/atlasV6_down32_scoreVolume_LC_R_surround_200.stl\"\n"
     ]
    },
    {
     "name": "stderr",
     "output_type": "stream",
     "text": [
      "simplify 1 @ 3274: 0.14 seconds\n",
      "simplify 2 @ 658: 0.03 seconds\n",
      "marching cube: 0.07 seconds\n",
      "mesh_to_polydata: 0.04 seconds\n",
      "simplify 0 @ 32340: 0.27 seconds\n",
      "simplify 1 @ 6471: 0.29 seconds\n",
      "simplify 2 @ 1297: 0.06 seconds\n"
     ]
    },
    {
     "name": "stdout",
     "output_type": "stream",
     "text": [
      "aws s3 cp \"/home/yuncong/CSHL_meshes/atlasV6/atlasV6_down32_scoreVolume/atlasV6_down32_scoreVolume_LRt_L_surround_200.stl\" \"s3://mousebrainatlas-data/CSHL_meshes/atlasV6/atlasV6_down32_scoreVolume/atlasV6_down32_scoreVolume_LRt_L_surround_200.stl\"\n"
     ]
    },
    {
     "name": "stderr",
     "output_type": "stream",
     "text": [
      "marching cube: 0.08 seconds\n",
      "mesh_to_polydata: 0.04 seconds\n",
      "simplify 0 @ 32508: 0.29 seconds\n",
      "simplify 1 @ 6504: 0.31 seconds\n",
      "simplify 2 @ 1304: 0.07 seconds\n"
     ]
    },
    {
     "name": "stdout",
     "output_type": "stream",
     "text": [
      "aws s3 cp \"/home/yuncong/CSHL_meshes/atlasV6/atlasV6_down32_scoreVolume/atlasV6_down32_scoreVolume_LRt_R_surround_200.stl\" \"s3://mousebrainatlas-data/CSHL_meshes/atlasV6/atlasV6_down32_scoreVolume/atlasV6_down32_scoreVolume_LRt_R_surround_200.stl\"\n"
     ]
    },
    {
     "name": "stderr",
     "output_type": "stream",
     "text": [
      "marching cube: 0.10 seconds\n",
      "mesh_to_polydata: 0.06 seconds\n",
      "simplify 0 @ 47570: 0.51 seconds\n",
      "simplify 1 @ 9517: 0.47 seconds\n",
      "simplify 2 @ 1906: 0.09 seconds\n"
     ]
    },
    {
     "name": "stdout",
     "output_type": "stream",
     "text": [
      "aws s3 cp \"/home/yuncong/CSHL_meshes/atlasV6/atlasV6_down32_scoreVolume/atlasV6_down32_scoreVolume_Pn_L_surround_200.stl\" \"s3://mousebrainatlas-data/CSHL_meshes/atlasV6/atlasV6_down32_scoreVolume/atlasV6_down32_scoreVolume_Pn_L_surround_200.stl\"\n"
     ]
    },
    {
     "name": "stderr",
     "output_type": "stream",
     "text": [
      "marching cube: 0.09 seconds\n",
      "mesh_to_polydata: 0.05 seconds\n",
      "simplify 0 @ 47533: 0.42 seconds\n",
      "simplify 1 @ 9509: 0.48 seconds\n",
      "simplify 2 @ 1905: 0.09 seconds\n"
     ]
    },
    {
     "name": "stdout",
     "output_type": "stream",
     "text": [
      "aws s3 cp \"/home/yuncong/CSHL_meshes/atlasV6/atlasV6_down32_scoreVolume/atlasV6_down32_scoreVolume_Pn_R_surround_200.stl\" \"s3://mousebrainatlas-data/CSHL_meshes/atlasV6/atlasV6_down32_scoreVolume/atlasV6_down32_scoreVolume_Pn_R_surround_200.stl\"\n"
     ]
    },
    {
     "name": "stderr",
     "output_type": "stream",
     "text": [
      "marching cube: 0.04 seconds\n",
      "mesh_to_polydata: 0.02 seconds\n",
      "simplify 0 @ 20103: 0.18 seconds\n",
      "simplify 1 @ 4023: 0.18 seconds\n",
      "simplify 2 @ 807: 0.04 seconds\n"
     ]
    },
    {
     "name": "stdout",
     "output_type": "stream",
     "text": [
      "aws s3 cp \"/home/yuncong/CSHL_meshes/atlasV6/atlasV6_down32_scoreVolume/atlasV6_down32_scoreVolume_Tz_L_surround_200.stl\" \"s3://mousebrainatlas-data/CSHL_meshes/atlasV6/atlasV6_down32_scoreVolume/atlasV6_down32_scoreVolume_Tz_L_surround_200.stl\"\n"
     ]
    },
    {
     "name": "stderr",
     "output_type": "stream",
     "text": [
      "marching cube: 0.08 seconds\n",
      "mesh_to_polydata: 0.05 seconds\n",
      "simplify 0 @ 20073: 0.34 seconds\n",
      "simplify 1 @ 4017: 0.30 seconds\n",
      "simplify 2 @ 806: 0.05 seconds\n"
     ]
    },
    {
     "name": "stdout",
     "output_type": "stream",
     "text": [
      "aws s3 cp \"/home/yuncong/CSHL_meshes/atlasV6/atlasV6_down32_scoreVolume/atlasV6_down32_scoreVolume_Tz_R_surround_200.stl\" \"s3://mousebrainatlas-data/CSHL_meshes/atlasV6/atlasV6_down32_scoreVolume/atlasV6_down32_scoreVolume_Tz_R_surround_200.stl\"\n"
     ]
    },
    {
     "name": "stderr",
     "output_type": "stream",
     "text": [
      "marching cube: 0.12 seconds\n",
      "mesh_to_polydata: 0.05 seconds\n"
     ]
    },
    {
     "name": "stdout",
     "output_type": "stream",
     "text": [
      "aws s3 cp \"/home/yuncong/CSHL_meshes/atlasV6/atlasV6_down32_scoreVolume/atlasV6_down32_scoreVolume_VLL_L_surround_200.stl\" \"s3://mousebrainatlas-data/CSHL_meshes/atlasV6/atlasV6_down32_scoreVolume/atlasV6_down32_scoreVolume_VLL_L_surround_200.stl\"\n"
     ]
    },
    {
     "name": "stderr",
     "output_type": "stream",
     "text": [
      "simplify 0 @ 37958: 0.40 seconds\n",
      "simplify 1 @ 7594: 0.41 seconds\n",
      "simplify 2 @ 1522: 0.08 seconds\n",
      "marching cube: 0.35 seconds\n",
      "mesh_to_polydata: 0.09 seconds\n",
      "simplify 0 @ 38012: 0.68 seconds\n",
      "simplify 1 @ 7605: 0.48 seconds\n",
      "simplify 2 @ 1524: 0.09 seconds\n"
     ]
    },
    {
     "name": "stdout",
     "output_type": "stream",
     "text": [
      "aws s3 cp \"/home/yuncong/CSHL_meshes/atlasV6/atlasV6_down32_scoreVolume/atlasV6_down32_scoreVolume_VLL_R_surround_200.stl\" \"s3://mousebrainatlas-data/CSHL_meshes/atlasV6/atlasV6_down32_scoreVolume/atlasV6_down32_scoreVolume_VLL_R_surround_200.stl\"\n"
     ]
    },
    {
     "name": "stderr",
     "output_type": "stream",
     "text": [
      "marching cube: 0.05 seconds\n",
      "mesh_to_polydata: 0.04 seconds\n",
      "simplify 0 @ 20124: 0.20 seconds\n",
      "simplify 1 @ 4028: 0.21 seconds\n",
      "simplify 2 @ 808: 0.04 seconds\n"
     ]
    },
    {
     "name": "stdout",
     "output_type": "stream",
     "text": [
      "aws s3 cp \"/home/yuncong/CSHL_meshes/atlasV6/atlasV6_down32_scoreVolume/atlasV6_down32_scoreVolume_RMC_L_surround_200.stl\" \"s3://mousebrainatlas-data/CSHL_meshes/atlasV6/atlasV6_down32_scoreVolume/atlasV6_down32_scoreVolume_RMC_L_surround_200.stl\"\n"
     ]
    },
    {
     "name": "stderr",
     "output_type": "stream",
     "text": [
      "marching cube: 0.04 seconds\n",
      "mesh_to_polydata: 0.02 seconds\n",
      "simplify 0 @ 20117: 0.17 seconds\n",
      "simplify 1 @ 4026: 0.18 seconds\n",
      "simplify 2 @ 808: 0.04 seconds\n"
     ]
    },
    {
     "name": "stdout",
     "output_type": "stream",
     "text": [
      "aws s3 cp \"/home/yuncong/CSHL_meshes/atlasV6/atlasV6_down32_scoreVolume/atlasV6_down32_scoreVolume_RMC_R_surround_200.stl\" \"s3://mousebrainatlas-data/CSHL_meshes/atlasV6/atlasV6_down32_scoreVolume/atlasV6_down32_scoreVolume_RMC_R_surround_200.stl\"\n"
     ]
    },
    {
     "name": "stderr",
     "output_type": "stream",
     "text": [
      "marching cube: 0.09 seconds\n",
      "mesh_to_polydata: 0.03 seconds\n",
      "simplify 0 @ 25702: 0.21 seconds\n",
      "simplify 1 @ 5143: 0.27 seconds\n",
      "simplify 2 @ 1031: 0.06 seconds\n"
     ]
    },
    {
     "name": "stdout",
     "output_type": "stream",
     "text": [
      "aws s3 cp \"/home/yuncong/CSHL_meshes/atlasV6/atlasV6_down32_scoreVolume/atlasV6_down32_scoreVolume_SNC_L_surround_200.stl\" \"s3://mousebrainatlas-data/CSHL_meshes/atlasV6/atlasV6_down32_scoreVolume/atlasV6_down32_scoreVolume_SNC_L_surround_200.stl\"\n"
     ]
    },
    {
     "name": "stderr",
     "output_type": "stream",
     "text": [
      "marching cube: 0.06 seconds\n",
      "mesh_to_polydata: 0.03 seconds\n",
      "simplify 0 @ 25717: 0.20 seconds\n",
      "simplify 1 @ 5146: 0.22 seconds\n",
      "simplify 2 @ 1032: 0.05 seconds\n"
     ]
    },
    {
     "name": "stdout",
     "output_type": "stream",
     "text": [
      "aws s3 cp \"/home/yuncong/CSHL_meshes/atlasV6/atlasV6_down32_scoreVolume/atlasV6_down32_scoreVolume_SNC_R_surround_200.stl\" \"s3://mousebrainatlas-data/CSHL_meshes/atlasV6/atlasV6_down32_scoreVolume/atlasV6_down32_scoreVolume_SNC_R_surround_200.stl\"\n"
     ]
    },
    {
     "name": "stderr",
     "output_type": "stream",
     "text": [
      "marching cube: 0.26 seconds\n",
      "mesh_to_polydata: 0.09 seconds\n",
      "simplify 0 @ 74151: 0.78 seconds\n",
      "simplify 1 @ 14833: 0.82 seconds\n",
      "simplify 2 @ 2969: 0.17 seconds\n"
     ]
    },
    {
     "name": "stdout",
     "output_type": "stream",
     "text": [
      "aws s3 cp \"/home/yuncong/CSHL_meshes/atlasV6/atlasV6_down32_scoreVolume/atlasV6_down32_scoreVolume_SNR_L_surround_200.stl\" \"s3://mousebrainatlas-data/CSHL_meshes/atlasV6/atlasV6_down32_scoreVolume/atlasV6_down32_scoreVolume_SNR_L_surround_200.stl\"\n"
     ]
    },
    {
     "name": "stderr",
     "output_type": "stream",
     "text": [
      "marching cube: 0.19 seconds\n",
      "mesh_to_polydata: 0.08 seconds\n",
      "simplify 0 @ 74168: 0.62 seconds\n",
      "simplify 1 @ 14836: 0.71 seconds\n",
      "simplify 2 @ 2970: 0.16 seconds\n"
     ]
    },
    {
     "name": "stdout",
     "output_type": "stream",
     "text": [
      "aws s3 cp \"/home/yuncong/CSHL_meshes/atlasV6/atlasV6_down32_scoreVolume/atlasV6_down32_scoreVolume_SNR_R_surround_200.stl\" \"s3://mousebrainatlas-data/CSHL_meshes/atlasV6/atlasV6_down32_scoreVolume/atlasV6_down32_scoreVolume_SNR_R_surround_200.stl\"\n"
     ]
    },
    {
     "name": "stderr",
     "output_type": "stream",
     "text": [
      "marching cube: 0.03 seconds\n",
      "mesh_to_polydata: 0.02 seconds\n",
      "simplify 0 @ 11818: 0.15 seconds\n",
      "simplify 1 @ 2366: 0.11 seconds\n",
      "simplify 2 @ 476: 0.02 seconds\n"
     ]
    },
    {
     "name": "stdout",
     "output_type": "stream",
     "text": [
      "aws s3 cp \"/home/yuncong/CSHL_meshes/atlasV6/atlasV6_down32_scoreVolume/atlasV6_down32_scoreVolume_3N_L_surround_200.stl\" \"s3://mousebrainatlas-data/CSHL_meshes/atlasV6/atlasV6_down32_scoreVolume/atlasV6_down32_scoreVolume_3N_L_surround_200.stl\"\n"
     ]
    },
    {
     "name": "stderr",
     "output_type": "stream",
     "text": [
      "marching cube: 0.05 seconds\n",
      "mesh_to_polydata: 0.03 seconds\n",
      "simplify 0 @ 11830: 0.26 seconds\n",
      "simplify 1 @ 2369: 0.20 seconds\n",
      "simplify 2 @ 477: 0.04 seconds\n"
     ]
    },
    {
     "name": "stdout",
     "output_type": "stream",
     "text": [
      "aws s3 cp \"/home/yuncong/CSHL_meshes/atlasV6/atlasV6_down32_scoreVolume/atlasV6_down32_scoreVolume_3N_R_surround_200.stl\" \"s3://mousebrainatlas-data/CSHL_meshes/atlasV6/atlasV6_down32_scoreVolume/atlasV6_down32_scoreVolume_3N_R_surround_200.stl\"\n"
     ]
    },
    {
     "name": "stderr",
     "output_type": "stream",
     "text": [
      "marching cube: 0.02 seconds\n",
      "mesh_to_polydata: 0.02 seconds\n",
      "simplify 0 @ 5686: 0.09 seconds\n",
      "simplify 1 @ 1140: 0.08 seconds\n"
     ]
    },
    {
     "name": "stdout",
     "output_type": "stream",
     "text": [
      "aws s3 cp \"/home/yuncong/CSHL_meshes/atlasV6/atlasV6_down32_scoreVolume/atlasV6_down32_scoreVolume_4N_L_surround_200.stl\" \"s3://mousebrainatlas-data/CSHL_meshes/atlasV6/atlasV6_down32_scoreVolume/atlasV6_down32_scoreVolume_4N_L_surround_200.stl\"\n"
     ]
    },
    {
     "name": "stderr",
     "output_type": "stream",
     "text": [
      "simplify 2 @ 231: 0.02 seconds\n",
      "marching cube: 0.02 seconds\n",
      "mesh_to_polydata: 0.01 seconds\n",
      "simplify 0 @ 5695: 0.06 seconds\n",
      "simplify 1 @ 1142: 0.05 seconds\n",
      "simplify 2 @ 231: 0.01 seconds\n"
     ]
    },
    {
     "name": "stdout",
     "output_type": "stream",
     "text": [
      "aws s3 cp \"/home/yuncong/CSHL_meshes/atlasV6/atlasV6_down32_scoreVolume/atlasV6_down32_scoreVolume_4N_R_surround_200.stl\" \"s3://mousebrainatlas-data/CSHL_meshes/atlasV6/atlasV6_down32_scoreVolume/atlasV6_down32_scoreVolume_4N_R_surround_200.stl\"\n"
     ]
    },
    {
     "name": "stderr",
     "output_type": "stream",
     "text": [
      "marching cube: 0.08 seconds\n",
      "mesh_to_polydata: 0.04 seconds\n",
      "simplify 0 @ 29397: 0.39 seconds\n",
      "simplify 1 @ 5882: 0.48 seconds\n",
      "simplify 2 @ 1179: 0.10 seconds\n"
     ]
    },
    {
     "name": "stdout",
     "output_type": "stream",
     "text": [
      "aws s3 cp \"/home/yuncong/CSHL_meshes/atlasV6/atlasV6_down32_scoreVolume/atlasV6_down32_scoreVolume_Sp5I_L_surround_200.stl\" \"s3://mousebrainatlas-data/CSHL_meshes/atlasV6/atlasV6_down32_scoreVolume/atlasV6_down32_scoreVolume_Sp5I_L_surround_200.stl\"\n"
     ]
    },
    {
     "name": "stderr",
     "output_type": "stream",
     "text": [
      "marching cube: 0.08 seconds\n",
      "mesh_to_polydata: 0.04 seconds\n",
      "simplify 0 @ 29344: 0.37 seconds\n",
      "simplify 1 @ 5872: 0.31 seconds\n",
      "simplify 2 @ 1177: 0.06 seconds\n"
     ]
    },
    {
     "name": "stdout",
     "output_type": "stream",
     "text": [
      "aws s3 cp \"/home/yuncong/CSHL_meshes/atlasV6/atlasV6_down32_scoreVolume/atlasV6_down32_scoreVolume_Sp5I_R_surround_200.stl\" \"s3://mousebrainatlas-data/CSHL_meshes/atlasV6/atlasV6_down32_scoreVolume/atlasV6_down32_scoreVolume_Sp5I_R_surround_200.stl\"\n"
     ]
    },
    {
     "name": "stderr",
     "output_type": "stream",
     "text": [
      "marching cube: 0.10 seconds\n",
      "mesh_to_polydata: 0.06 seconds\n",
      "simplify 0 @ 34383: 0.54 seconds\n",
      "simplify 1 @ 6879: 0.35 seconds\n",
      "simplify 2 @ 1379: 0.07 seconds\n"
     ]
    },
    {
     "name": "stdout",
     "output_type": "stream",
     "text": [
      "aws s3 cp \"/home/yuncong/CSHL_meshes/atlasV6/atlasV6_down32_scoreVolume/atlasV6_down32_scoreVolume_Sp5O_L_surround_200.stl\" \"s3://mousebrainatlas-data/CSHL_meshes/atlasV6/atlasV6_down32_scoreVolume/atlasV6_down32_scoreVolume_Sp5O_L_surround_200.stl\"\n"
     ]
    },
    {
     "name": "stderr",
     "output_type": "stream",
     "text": [
      "marching cube: 0.09 seconds\n",
      "mesh_to_polydata: 0.06 seconds\n",
      "simplify 0 @ 34409: 0.50 seconds\n",
      "simplify 1 @ 6885: 0.34 seconds\n",
      "simplify 2 @ 1380: 0.07 seconds\n"
     ]
    },
    {
     "name": "stdout",
     "output_type": "stream",
     "text": [
      "aws s3 cp \"/home/yuncong/CSHL_meshes/atlasV6/atlasV6_down32_scoreVolume/atlasV6_down32_scoreVolume_Sp5O_R_surround_200.stl\" \"s3://mousebrainatlas-data/CSHL_meshes/atlasV6/atlasV6_down32_scoreVolume/atlasV6_down32_scoreVolume_Sp5O_R_surround_200.stl\"\n"
     ]
    },
    {
     "name": "stderr",
     "output_type": "stream",
     "text": [
      "marching cube: 0.24 seconds\n",
      "mesh_to_polydata: 0.10 seconds\n",
      "simplify 0 @ 78061: 0.72 seconds\n",
      "simplify 1 @ 15615: 0.89 seconds\n",
      "simplify 2 @ 3126: 0.18 seconds\n"
     ]
    },
    {
     "name": "stdout",
     "output_type": "stream",
     "text": [
      "aws s3 cp \"/home/yuncong/CSHL_meshes/atlasV6/atlasV6_down32_scoreVolume/atlasV6_down32_scoreVolume_Sp5C_L_surround_200.stl\" \"s3://mousebrainatlas-data/CSHL_meshes/atlasV6/atlasV6_down32_scoreVolume/atlasV6_down32_scoreVolume_Sp5C_L_surround_200.stl\"\n"
     ]
    },
    {
     "name": "stderr",
     "output_type": "stream",
     "text": [
      "marching cube: 0.24 seconds\n",
      "mesh_to_polydata: 0.10 seconds\n",
      "simplify 0 @ 77988: 0.73 seconds\n",
      "simplify 1 @ 15600: 0.94 seconds\n",
      "simplify 2 @ 3123: 0.19 seconds\n"
     ]
    },
    {
     "name": "stdout",
     "output_type": "stream",
     "text": [
      "aws s3 cp \"/home/yuncong/CSHL_meshes/atlasV6/atlasV6_down32_scoreVolume/atlasV6_down32_scoreVolume_Sp5C_R_surround_200.stl\" \"s3://mousebrainatlas-data/CSHL_meshes/atlasV6/atlasV6_down32_scoreVolume/atlasV6_down32_scoreVolume_Sp5C_R_surround_200.stl\"\n"
     ]
    },
    {
     "name": "stderr",
     "output_type": "stream",
     "text": [
      "marching cube: 0.02 seconds\n",
      "mesh_to_polydata: 0.01 seconds\n",
      "simplify 0 @ 11099: 0.09 seconds\n",
      "simplify 1 @ 2223: 0.09 seconds\n",
      "simplify 2 @ 447: 0.02 seconds\n"
     ]
    },
    {
     "name": "stdout",
     "output_type": "stream",
     "text": [
      "aws s3 cp \"/home/yuncong/CSHL_meshes/atlasV6/atlasV6_down32_scoreVolume/atlasV6_down32_scoreVolume_PBG_L_surround_200.stl\" \"s3://mousebrainatlas-data/CSHL_meshes/atlasV6/atlasV6_down32_scoreVolume/atlasV6_down32_scoreVolume_PBG_L_surround_200.stl\"\n"
     ]
    },
    {
     "name": "stderr",
     "output_type": "stream",
     "text": [
      "marching cube: 0.02 seconds\n",
      "mesh_to_polydata: 0.01 seconds\n",
      "simplify 0 @ 11114: 0.10 seconds\n",
      "simplify 1 @ 2226: 0.10 seconds\n",
      "simplify 2 @ 448: 0.02 seconds\n"
     ]
    },
    {
     "name": "stdout",
     "output_type": "stream",
     "text": [
      "aws s3 cp \"/home/yuncong/CSHL_meshes/atlasV6/atlasV6_down32_scoreVolume/atlasV6_down32_scoreVolume_PBG_R_surround_200.stl\" \"s3://mousebrainatlas-data/CSHL_meshes/atlasV6/atlasV6_down32_scoreVolume/atlasV6_down32_scoreVolume_PBG_R_surround_200.stl\"\n"
     ]
    },
    {
     "name": "stderr",
     "output_type": "stream",
     "text": [
      "marching cube: 0.05 seconds\n",
      "mesh_to_polydata: 0.03 seconds\n",
      "simplify 0 @ 18883: 0.18 seconds\n",
      "simplify 1 @ 3779: 0.21 seconds\n",
      "simplify 2 @ 759: 0.04 seconds\n"
     ]
    },
    {
     "name": "stdout",
     "output_type": "stream",
     "text": [
      "aws s3 cp \"/home/yuncong/CSHL_meshes/atlasV6/atlasV6_down32_scoreVolume/atlasV6_down32_scoreVolume_10N_L_surround_200.stl\" \"s3://mousebrainatlas-data/CSHL_meshes/atlasV6/atlasV6_down32_scoreVolume/atlasV6_down32_scoreVolume_10N_L_surround_200.stl\"\n"
     ]
    },
    {
     "name": "stderr",
     "output_type": "stream",
     "text": [
      "marching cube: 0.05 seconds\n",
      "mesh_to_polydata: 0.02 seconds\n",
      "simplify 0 @ 18888: 0.15 seconds\n",
      "simplify 1 @ 3780: 0.17 seconds\n",
      "simplify 2 @ 759: 0.04 seconds\n"
     ]
    },
    {
     "name": "stdout",
     "output_type": "stream",
     "text": [
      "aws s3 cp \"/home/yuncong/CSHL_meshes/atlasV6/atlasV6_down32_scoreVolume/atlasV6_down32_scoreVolume_10N_R_surround_200.stl\" \"s3://mousebrainatlas-data/CSHL_meshes/atlasV6/atlasV6_down32_scoreVolume/atlasV6_down32_scoreVolume_10N_R_surround_200.stl\"\n"
     ]
    },
    {
     "name": "stderr",
     "output_type": "stream",
     "text": [
      "marching cube: 0.09 seconds\n",
      "mesh_to_polydata: 0.05 seconds\n",
      "simplify 0 @ 41873: 0.37 seconds\n",
      "simplify 1 @ 8377: 0.45 seconds\n",
      "simplify 2 @ 1678: 0.09 seconds\n"
     ]
    },
    {
     "name": "stdout",
     "output_type": "stream",
     "text": [
      "aws s3 cp \"/home/yuncong/CSHL_meshes/atlasV6/atlasV6_down32_scoreVolume/atlasV6_down32_scoreVolume_VCA_L_surround_200.stl\" \"s3://mousebrainatlas-data/CSHL_meshes/atlasV6/atlasV6_down32_scoreVolume/atlasV6_down32_scoreVolume_VCA_L_surround_200.stl\"\n"
     ]
    },
    {
     "name": "stderr",
     "output_type": "stream",
     "text": [
      "marching cube: 0.10 seconds\n",
      "mesh_to_polydata: 0.05 seconds\n",
      "simplify 0 @ 41871: 0.57 seconds\n",
      "simplify 1 @ 8377: 0.85 seconds\n",
      "simplify 2 @ 1678: 0.19 seconds\n"
     ]
    },
    {
     "name": "stdout",
     "output_type": "stream",
     "text": [
      "aws s3 cp \"/home/yuncong/CSHL_meshes/atlasV6/atlasV6_down32_scoreVolume/atlasV6_down32_scoreVolume_VCA_R_surround_200.stl\" \"s3://mousebrainatlas-data/CSHL_meshes/atlasV6/atlasV6_down32_scoreVolume/atlasV6_down32_scoreVolume_VCA_R_surround_200.stl\"\n"
     ]
    },
    {
     "name": "stderr",
     "output_type": "stream",
     "text": [
      "marching cube: 0.11 seconds\n",
      "mesh_to_polydata: 0.06 seconds\n",
      "simplify 0 @ 25050: 0.38 seconds\n",
      "simplify 1 @ 5013: 0.39 seconds\n",
      "simplify 2 @ 1005: 0.09 seconds\n"
     ]
    },
    {
     "name": "stdout",
     "output_type": "stream",
     "text": [
      "aws s3 cp \"/home/yuncong/CSHL_meshes/atlasV6/atlasV6_down32_scoreVolume/atlasV6_down32_scoreVolume_VCP_L_surround_200.stl\" \"s3://mousebrainatlas-data/CSHL_meshes/atlasV6/atlasV6_down32_scoreVolume/atlasV6_down32_scoreVolume_VCP_L_surround_200.stl\"\n"
     ]
    },
    {
     "name": "stderr",
     "output_type": "stream",
     "text": [
      "marching cube: 0.06 seconds\n",
      "mesh_to_polydata: 0.03 seconds\n",
      "simplify 0 @ 25045: 0.23 seconds\n",
      "simplify 1 @ 5012: 0.25 seconds\n",
      "simplify 2 @ 1005: 0.05 seconds\n"
     ]
    },
    {
     "name": "stdout",
     "output_type": "stream",
     "text": [
      "aws s3 cp \"/home/yuncong/CSHL_meshes/atlasV6/atlasV6_down32_scoreVolume/atlasV6_down32_scoreVolume_VCP_R_surround_200.stl\" \"s3://mousebrainatlas-data/CSHL_meshes/atlasV6/atlasV6_down32_scoreVolume/atlasV6_down32_scoreVolume_VCP_R_surround_200.stl\"\n"
     ]
    },
    {
     "name": "stderr",
     "output_type": "stream",
     "text": [
      "marching cube: 0.08 seconds\n",
      "mesh_to_polydata: 0.04 seconds\n",
      "simplify 0 @ 38251: 0.31 seconds\n",
      "simplify 1 @ 7653: 0.37 seconds\n",
      "simplify 2 @ 1533: 0.08 seconds\n"
     ]
    },
    {
     "name": "stdout",
     "output_type": "stream",
     "text": [
      "aws s3 cp \"/home/yuncong/CSHL_meshes/atlasV6/atlasV6_down32_scoreVolume/atlasV6_down32_scoreVolume_DC_L_surround_200.stl\" \"s3://mousebrainatlas-data/CSHL_meshes/atlasV6/atlasV6_down32_scoreVolume/atlasV6_down32_scoreVolume_DC_L_surround_200.stl\"\n"
     ]
    },
    {
     "name": "stderr",
     "output_type": "stream",
     "text": [
      "marching cube: 0.08 seconds\n",
      "mesh_to_polydata: 0.04 seconds\n",
      "simplify 0 @ 38163: 0.32 seconds\n",
      "simplify 1 @ 7635: 0.39 seconds\n",
      "simplify 2 @ 1530: 0.08 seconds\n"
     ]
    },
    {
     "name": "stdout",
     "output_type": "stream",
     "text": [
      "aws s3 cp \"/home/yuncong/CSHL_meshes/atlasV6/atlasV6_down32_scoreVolume/atlasV6_down32_scoreVolume_DC_R_surround_200.stl\" \"s3://mousebrainatlas-data/CSHL_meshes/atlasV6/atlasV6_down32_scoreVolume/atlasV6_down32_scoreVolume_DC_R_surround_200.stl\"\n"
     ]
    },
    {
     "name": "stderr",
     "output_type": "stream",
     "text": [
      "marching cube: 0.02 seconds\n",
      "mesh_to_polydata: 0.02 seconds\n",
      "simplify 0 @ 12331: 0.13 seconds\n",
      "simplify 1 @ 2469: 0.11 seconds\n",
      "simplify 2 @ 497: 0.02 seconds\n"
     ]
    },
    {
     "name": "stdout",
     "output_type": "stream",
     "text": [
      "aws s3 cp \"/home/yuncong/CSHL_meshes/atlasV6/atlasV6_down32_scoreVolume/atlasV6_down32_scoreVolume_AP_surround_200.stl\" \"s3://mousebrainatlas-data/CSHL_meshes/atlasV6/atlasV6_down32_scoreVolume/atlasV6_down32_scoreVolume_AP_surround_200.stl\"\n"
     ]
    },
    {
     "name": "stderr",
     "output_type": "stream",
     "text": [
      "marching cube: 0.17 seconds\n",
      "mesh_to_polydata: 0.10 seconds\n",
      "simplify 0 @ 37409: 0.72 seconds\n",
      "simplify 1 @ 7485: 0.72 seconds\n",
      "simplify 2 @ 1500: 0.14 seconds\n"
     ]
    },
    {
     "name": "stdout",
     "output_type": "stream",
     "text": [
      "aws s3 cp \"/home/yuncong/CSHL_meshes/atlasV6/atlasV6_down32_scoreVolume/atlasV6_down32_scoreVolume_12N_surround_200.stl\" \"s3://mousebrainatlas-data/CSHL_meshes/atlasV6/atlasV6_down32_scoreVolume/atlasV6_down32_scoreVolume_12N_surround_200.stl\"\n"
     ]
    },
    {
     "name": "stderr",
     "output_type": "stream",
     "text": [
      "marching cube: 0.26 seconds\n",
      "mesh_to_polydata: 0.14 seconds\n",
      "simplify 0 @ 63271: 0.77 seconds\n",
      "simplify 1 @ 12657: 0.72 seconds\n",
      "simplify 2 @ 2534: 0.15 seconds\n"
     ]
    },
    {
     "name": "stdout",
     "output_type": "stream",
     "text": [
      "aws s3 cp \"/home/yuncong/CSHL_meshes/atlasV6/atlasV6_down32_scoreVolume/atlasV6_down32_scoreVolume_RtTg_surround_200.stl\" \"s3://mousebrainatlas-data/CSHL_meshes/atlasV6/atlasV6_down32_scoreVolume/atlasV6_down32_scoreVolume_RtTg_surround_200.stl\"\n"
     ]
    },
    {
     "name": "stderr",
     "output_type": "stream",
     "text": [
      "marching cube: 0.74 seconds\n",
      "mesh_to_polydata: 0.30 seconds\n",
      "simplify 0 @ 248709: 2.29 seconds\n"
     ]
    },
    {
     "name": "stdout",
     "output_type": "stream",
     "text": [
      "aws s3 cp \"/home/yuncong/CSHL_meshes/atlasV6/atlasV6_down32_scoreVolume/atlasV6_down32_scoreVolume_SC_surround_200.stl\" \"s3://mousebrainatlas-data/CSHL_meshes/atlasV6/atlasV6_down32_scoreVolume/atlasV6_down32_scoreVolume_SC_surround_200.stl\"\n"
     ]
    },
    {
     "name": "stderr",
     "output_type": "stream",
     "text": [
      "simplify 1 @ 49745: 3.24 seconds\n",
      "simplify 2 @ 9952: 0.70 seconds\n",
      "marching cube: 0.54 seconds\n",
      "mesh_to_polydata: 0.24 seconds\n",
      "simplify 0 @ 199294: 2.06 seconds\n",
      "simplify 1 @ 39862: 2.25 seconds\n",
      "simplify 2 @ 7975: 0.47 seconds\n"
     ]
    },
    {
     "name": "stdout",
     "output_type": "stream",
     "text": [
      "aws s3 cp \"/home/yuncong/CSHL_meshes/atlasV6/atlasV6_down32_scoreVolume/atlasV6_down32_scoreVolume_IC_surround_200.stl\" \"s3://mousebrainatlas-data/CSHL_meshes/atlasV6/atlasV6_down32_scoreVolume/atlasV6_down32_scoreVolume_IC_surround_200.stl\"\n"
     ]
    }
   ],
   "source": [
    "structure_meshes_surround_rel2canon = {}\n",
    "\n",
    "for name_s in all_known_structures_sided:\n",
    "# for name_s in ['7N_L']:\n",
    "    \n",
    "    try:\n",
    "        surr_name = convert_to_surround_name(name_s, margin=surround_distance_um)\n",
    "        surround_vol = DataManager.load_original_volume(stack=atlas_name, structure=surr_name, downscale=32)\n",
    "        \n",
    "#         if name_s in singular_structures:\n",
    "#             surround_vol = symmetricalize_volume(surround_vol)\n",
    "        \n",
    "        surround_vol_bbox_rel2atlas = np.array(bbox_3d(surround_vol))\n",
    "        surround_vol_inbbox = crop_and_pad_volume(surround_vol, out_bbox=surround_vol_bbox_rel2atlas)\n",
    "\n",
    "        polydata_rel2canon = \\\n",
    "        volume_to_polydata(surround_vol_inbbox, \n",
    "                           origin=(surround_vol_bbox_rel2atlas[[0,2,4]]+atlas_volume_bbox_rel2uncropped[[0,2,4]]-canonical_centroid_rel2uncropped),\n",
    "                           num_simplify_iter=3, smooth=True)\n",
    "        \n",
    "        structure_meshes_surround_rel2canon[name_s] = polydata_rel2canon\n",
    "        \n",
    "        mesh_fp = DataManager.get_mesh_filepath(stack_m=atlas_name, structure=surr_name)\n",
    "        save_mesh(polydata_rel2canon, mesh_fp)\n",
    "        upload_to_s3(mesh_fp)\n",
    "    \n",
    "    except Exception as e:\n",
    "        sys.stderr.write('Error generating mesh for %s : %s\\n' % (name_s, str(e)))        "
   ]
  },
  {
   "cell_type": "markdown",
   "metadata": {},
   "source": [
    "# Load surround meshes"
   ]
  },
  {
   "cell_type": "code",
   "execution_count": 11,
   "metadata": {
    "collapsed": true
   },
   "outputs": [],
   "source": [
    "structure_meshes_surround_rel2canon = {}\n",
    "\n",
    "for name_s in all_known_structures_sided:\n",
    "# for name_s in ['7N_L']:\n",
    "    \n",
    "    try:\n",
    "        surr_name = convert_to_surround_name(name_s, margin=200)\n",
    "        mesh_fp = DataManager.get_mesh_filepath(stack_m=atlas_name, structure=surr_name)\n",
    "        download_from_s3(mesh_fp)\n",
    "        structure_meshes_surround_rel2canon[name_s] = load_mesh_stl(mesh_fp, return_polydata_only=True)\n",
    "    \n",
    "    except Exception as e:\n",
    "        sys.stderr.write('Error generating mesh for %s : %s\\n' % (name_s, str(e)))        "
   ]
  },
  {
   "cell_type": "markdown",
   "metadata": {},
   "source": [
    "# Load"
   ]
  },
  {
   "cell_type": "code",
   "execution_count": 4,
   "metadata": {
    "collapsed": true
   },
   "outputs": [],
   "source": [
    "brain_spec = dict(name='MD589', \n",
    "                  resolution='10.0um', \n",
    "                  vol_type='annotationAsScore', \n",
    "                  prep_id=None,\n",
    "                  detector_id=None,\n",
    "                  structure=None)"
   ]
  },
  {
   "cell_type": "code",
   "execution_count": 5,
   "metadata": {
    "collapsed": true
   },
   "outputs": [],
   "source": [
    "shell_polydata_rel2uncropped = DataManager.load_mesh_v2(brain_spec, structure='shell', resolution='10.0um')"
   ]
  },
  {
   "cell_type": "code",
   "execution_count": 6,
   "metadata": {
    "collapsed": true
   },
   "outputs": [],
   "source": [
    "from data_manager import *"
   ]
  },
  {
   "cell_type": "code",
   "execution_count": 7,
   "metadata": {
    "collapsed": true
   },
   "outputs": [],
   "source": [
    "vs, fs = polydata_to_mesh(shell_polydata_rel2uncropped)\n",
    "vs2 = convert_resolution(vs, in_resolution='10.0um', out_resolution='down32', \n",
    "                   stack=brain_spec['name'])\n",
    "shell_polydata_rel2uncropped = mesh_to_polydata(vs2, fs)"
   ]
  },
  {
   "cell_type": "code",
   "execution_count": 8,
   "metadata": {},
   "outputs": [
    {
     "ename": "NameError",
     "evalue": "name 'canonical_centroid_rel2uncropped' is not defined",
     "output_type": "error",
     "traceback": [
      "\u001b[0;31m---------------------------------------------------------------------------\u001b[0m",
      "\u001b[0;31mNameError\u001b[0m                                 Traceback (most recent call last)",
      "\u001b[0;32m<ipython-input-8-eadec2a680e5>\u001b[0m in \u001b[0;36m<module>\u001b[0;34m()\u001b[0m\n\u001b[1;32m      4\u001b[0m \u001b[0;31m# shell_polydata_rel2uncropped = DataManager.load_shell_mesh(stack=stack_fixed, downscale=32)\u001b[0m\u001b[0;34m\u001b[0m\u001b[0;34m\u001b[0m\u001b[0m\n\u001b[1;32m      5\u001b[0m shell_actor_rel2canon = actor_mesh(shell_polydata_rel2uncropped, (1,1,1), opacity=.15, \n\u001b[0;32m----> 6\u001b[0;31m                               wireframe=False, origin=-canonical_centroid_rel2uncropped)\n\u001b[0m",
      "\u001b[0;31mNameError\u001b[0m: name 'canonical_centroid_rel2uncropped' is not defined"
     ]
    }
   ],
   "source": [
    "# Load shell\n",
    "\n",
    "# stack_fixed = 'MD589'\n",
    "# shell_polydata_rel2uncropped = DataManager.load_shell_mesh(stack=stack_fixed, downscale=32)\n",
    "shell_actor_rel2canon = actor_mesh(shell_polydata_rel2uncropped, (1,1,1), opacity=.15, \n",
    "                              wireframe=False, origin=-canonical_centroid_rel2uncropped)"
   ]
  },
  {
   "cell_type": "code",
   "execution_count": 9,
   "metadata": {
    "collapsed": true
   },
   "outputs": [],
   "source": [
    "# atlas_volume, structure_to_label, label_to_structure = \\\n",
    "# DataManager.load_original_volume_all_known_structures(stack=atlas_name, sided=True)"
   ]
  },
  {
   "cell_type": "code",
   "execution_count": null,
   "metadata": {
    "collapsed": true
   },
   "outputs": [],
   "source": [
    "structure_mesh_surround_actors_rel2canon = [actor_mesh(polydata, \n",
    "#                                                        np.array(name_unsided_to_color[convert_to_original_name(name_s)])/255.,\n",
    "                                                       np.array((0,0,1)),\n",
    "                                             wireframe=False, opacity=.5) \n",
    "                                   for name_s, polydata in structure_meshes_surround_rel2canon.iteritems()]"
   ]
  },
  {
   "cell_type": "code",
   "execution_count": 15,
   "metadata": {
    "collapsed": true
   },
   "outputs": [],
   "source": [
    "structure_mesh_actors_rel2canon = [actor_mesh(polydata, \n",
    "                                              np.array(name_unsided_to_color[convert_to_original_name(name_s)])/255.,\n",
    "#                                               np.array((1,0,0)),\n",
    "                                             wireframe=False) \n",
    "                                   for name_s, polydata in structure_meshes_rel2canon.iteritems()]"
   ]
  },
  {
   "cell_type": "code",
   "execution_count": 16,
   "metadata": {
    "collapsed": true
   },
   "outputs": [],
   "source": [
    "vol, origin_rel2canon = structure_vol_origin_dicts_rel2canon['7N_L']\n",
    "\n",
    "one_structure_volume_actor_rel2canon = actor_volume(vol.astype(np.float32), what='score', \n",
    "                                              origin=origin_rel2canon,\n",
    "                                                    auxdata=0.8*(vol>0.1).astype(np.float32),\n",
    "                                              c=np.array(name_unsided_to_color['7N'])/255.)\n",
    "#                                             c=np.array((1,0,0)))"
   ]
  },
  {
   "cell_type": "code",
   "execution_count": 17,
   "metadata": {
    "collapsed": true
   },
   "outputs": [],
   "source": [
    "# vol, origin_rel2canon = shell_vol_origin_dict_rel2canon['shell']\n",
    "\n",
    "# shell_volume_actor_rel2canon = actor_volume(vol.astype(np.float32), what='probability', \n",
    "#                                               origin=origin_rel2canon,\n",
    "# #                                               c=np.array(name_unsided_to_color['7N'])/255.)\n",
    "#                                             c=np.array((1,0,0)))"
   ]
  },
  {
   "cell_type": "markdown",
   "metadata": {},
   "source": [
    "# Render"
   ]
  },
  {
   "cell_type": "code",
   "execution_count": 30,
   "metadata": {},
   "outputs": [
    {
     "name": "stdout",
     "output_type": "stream",
     "text": [
      "rm /tmp/brain_video/*\n",
      "0\n",
      "/home/yuncong/ffmpeg-3.4.1-64bit-static/ffmpeg -framerate 20 -pattern_type glob -i \"/tmp/brain_video/*.png\" -c:v libx264 -vf \"scale=-1:1080,format=yuv420p\" /home/yuncong/atlas_rotated.mp4\n",
      "1\n"
     ]
    }
   ],
   "source": [
    "launch_vtk([] \\\n",
    "    + structure_mesh_actors_rel2canon \\\n",
    "#     + [one_structure_volume_actor_rel2canon] \\\n",
    "#     + [shell_volume_actor_rel2canon] \\\n",
    "#     + structure_mesh_surround_actors_rel2canon \\\n",
    "    + [shell_actor_rel2canon] \\\n",
    "    + [actor_sphere((0,0,0), radius=1)], \n",
    "           init_angle='sagittal', distance=2500,\n",
    "    background_color=(1,1,1),\n",
    "depth_peeling=True, animate=True, movie_fp='/home/yuncong/atlas_rotated.mp4', framerate=20)"
   ]
  }
 ],
 "metadata": {
  "kernelspec": {
   "display_name": "Python 2",
   "language": "python",
   "name": "python2"
  },
  "language_info": {
   "codemirror_mode": {
    "name": "ipython",
    "version": 2
   },
   "file_extension": ".py",
   "mimetype": "text/x-python",
   "name": "python",
   "nbconvert_exporter": "python",
   "pygments_lexer": "ipython2",
   "version": "2.7.12"
  }
 },
 "nbformat": 4,
 "nbformat_minor": 2
}
