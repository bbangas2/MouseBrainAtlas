{
 "cells": [
  {
   "cell_type": "code",
   "execution_count": 1,
   "metadata": {
    "collapsed": false
   },
   "outputs": [
    {
     "name": "stdout",
     "output_type": "stream",
     "text": [
      "Setting environment for Gordon\n"
     ]
    }
   ],
   "source": [
    "%reload_ext autoreload\n",
    "%autoreload 2\n",
    "\n",
    "import cv2\n",
    "\n",
    "import os\n",
    "import sys\n",
    "sys.path.append(os.path.join(os.environ['REPO_DIR'], 'utilities'))\n",
    "from utilities2015 import *\n",
    "from data_manager import *\n",
    "from metadata import *\n",
    "\n",
    "from collections import defaultdict\n",
    "\n",
    "from matplotlib.path import Path\n",
    "%matplotlib inline\n",
    "\n",
    "from skimage.transform import estimate_transform"
   ]
  },
  {
   "cell_type": "code",
   "execution_count": 24,
   "metadata": {
    "collapsed": false
   },
   "outputs": [
    {
     "name": "stdout",
     "output_type": "stream",
     "text": [
      "Setting environment for Gordon\n"
     ]
    }
   ],
   "source": [
    "stack = 'MD594'"
   ]
  },
  {
   "cell_type": "code",
   "execution_count": null,
   "metadata": {
    "collapsed": true
   },
   "outputs": [],
   "source": [
    "# if os.path.exists('/oasis/projects/nsf/csd395/yuncong/CSHL_data_labelings_originalLossless/'+stack):\n",
    "#     os.system('rm -r ' + '/oasis/projects/nsf/csd395/yuncong/CSHL_data_labelings_originalLossless/'+stack)"
   ]
  },
  {
   "cell_type": "code",
   "execution_count": 19,
   "metadata": {
    "collapsed": true
   },
   "outputs": [],
   "source": [
    "transforms = pickle.load(open(os.environ['DATA_DIR'] + '/%s_finalTransfParams.pkl' % stack, 'r'))"
   ]
  },
  {
   "cell_type": "code",
   "execution_count": 20,
   "metadata": {
    "collapsed": true
   },
   "outputs": [],
   "source": [
    "new_annotation_rootdir = '/oasis/projects/nsf/csd395/yuncong/CSHL_data_labelings_losslessAlignCropped_midbrainIncluded/'"
   ]
  },
  {
   "cell_type": "code",
   "execution_count": 21,
   "metadata": {
    "collapsed": true
   },
   "outputs": [],
   "source": [
    "def transfer_latest_original_to_alignedCropped(stack, sec, username):\n",
    "    \n",
    "    res = DataManager.load_annotation(stack=stack, section=sec, username=username, \n",
    "                                      annotation_rootdir='/oasis/projects/nsf/csd395/yuncong/CSHL_data_labelings_originalLossless/')\n",
    "    if res is None:\n",
    "        return\n",
    "    \n",
    "    annotations, _, timestamp = res\n",
    "    \n",
    "    new_cropbox_xmin, new_cropbox_ymin = brainstem_bbox_lookup_midbrain[stack][:2]\n",
    "    \n",
    "    T = np.linalg.inv(transforms[sec])\n",
    "    T[:2, 2] = (T[:2, 2] - [new_cropbox_xmin, new_cropbox_ymin])*32\n",
    "    \n",
    "    new_annotations = []\n",
    "    for pol in annotations:\n",
    "        new_pol = pol.copy()\n",
    "        if len(pol['vertices']) == 0:\n",
    "            continue\n",
    "        \n",
    "        vs = pol['vertices']\n",
    "        new_pol['vertices'] = np.dot(T, np.vstack([vs.T, np.ones((1, vs.shape[0]))]))[:2].T.astype(np.int) \n",
    "        \n",
    "        vs = pol['labelPos']\n",
    "        new_pol['labelPos'] = np.squeeze(np.dot(T, np.r_[vs, 1]))[:2].T.astype(np.int)\n",
    "                \n",
    "        new_annotations.append(new_pol)\n",
    "        \n",
    "    DataManager.save_annotation(new_annotations, stack, sec, username=username, timestamp=timestamp, \n",
    "                                annotation_rootdir=new_annotation_rootdir)"
   ]
  },
  {
   "cell_type": "code",
   "execution_count": 23,
   "metadata": {
    "collapsed": true
   },
   "outputs": [],
   "source": [
    "# transfer labelings on originalLossless to labelings on new alignedCropped\n",
    "\n",
    "for sec in range(section_number_lookup[stack]):\n",
    "    transfer_latest_original_to_alignedCropped(stack, sec, username='yuncong')\n",
    "    transfer_latest_original_to_alignedCropped(stack, sec, username='autoAnnotate')\n",
    "    transfer_latest_original_to_alignedCropped(stack, sec, username='localAdjusted')\n",
    "    transfer_latest_original_to_alignedCropped(stack, sec, username='globalAligned')"
   ]
  },
  {
   "cell_type": "code",
   "execution_count": null,
   "metadata": {
    "collapsed": true
   },
   "outputs": [],
   "source": []
  }
 ],
 "metadata": {
  "kernelspec": {
   "display_name": "Python 2",
   "language": "python",
   "name": "python2"
  },
  "language_info": {
   "codemirror_mode": {
    "name": "ipython",
    "version": 2
   },
   "file_extension": ".py",
   "mimetype": "text/x-python",
   "name": "python",
   "nbconvert_exporter": "python",
   "pygments_lexer": "ipython2",
   "version": "2.7.3"
  }
 },
 "nbformat": 4,
 "nbformat_minor": 0
}
