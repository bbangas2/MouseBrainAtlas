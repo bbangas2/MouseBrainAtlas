{
 "cells": [
  {
   "cell_type": "code",
   "execution_count": null,
   "metadata": {
    "collapsed": true
   },
   "outputs": [],
   "source": [
    "# This script removes extra parts in the sp5 structure that are beyond the image frame."
   ]
  },
  {
   "cell_type": "code",
   "execution_count": 2,
   "metadata": {
    "collapsed": true
   },
   "outputs": [],
   "source": [
    "%reload_ext autoreload\n",
    "%autoreload 2\n",
    "\n",
    "import cv2\n",
    "\n",
    "import os\n",
    "import sys\n",
    "sys.path.append(os.path.join(os.environ['REPO_DIR'], 'utilities'))\n",
    "from utilities2015 import *\n",
    "\n",
    "from collections import defaultdict\n",
    "\n",
    "from matplotlib.path import Path\n",
    "%matplotlib inline\n",
    "\n",
    "from skimage.transform import estimate_transform"
   ]
  },
  {
   "cell_type": "code",
   "execution_count": 6,
   "metadata": {
    "collapsed": true
   },
   "outputs": [],
   "source": [
    "stack = 'MD594'\n",
    "first_bs_section, last_bs_section = section_range_lookup[stack]"
   ]
  },
  {
   "cell_type": "code",
   "execution_count": 10,
   "metadata": {
    "collapsed": false
   },
   "outputs": [],
   "source": [
    "from shapely.geometry import Polygon, LineString"
   ]
  },
  {
   "cell_type": "code",
   "execution_count": 151,
   "metadata": {
    "collapsed": false
   },
   "outputs": [],
   "source": [
    "# delete all latest labelings\n",
    "for sec in range(first_bs_section, last_bs_section+1):\n",
    "    \n",
    "    dm = DataManager(stack=stack, section=sec, labeling_dir='/home/yuncong/CSHL_data_labelings_losslessAlignCropped/')\n",
    "    res = dm.load_review_result_path('yuncong', 'latest', suffix='consolidated')\n",
    "    if res is None:\n",
    "        continue\n",
    "        \n",
    "    fn, usr, ts = res\n",
    "    os.system('rm %s' % fn)"
   ]
  },
  {
   "cell_type": "code",
   "execution_count": 108,
   "metadata": {
    "collapsed": true
   },
   "outputs": [],
   "source": [
    "from scipy.spatial.distance import cdist"
   ]
  },
  {
   "cell_type": "code",
   "execution_count": 152,
   "metadata": {
    "collapsed": false,
    "scrolled": true
   },
   "outputs": [
    {
     "name": "stderr",
     "output_type": "stream",
     "text": [
      "username yuncong does not have any annotations for current section 93 \n",
      "username yuncong does not have any annotations for current section 94 \n",
      "username yuncong does not have any annotations for current section 95 \n",
      "username yuncong does not have any annotations for current section 97 \n",
      "username yuncong does not have any annotations for current section 99 \n",
      "username yuncong does not have any annotations for current section 101 \n",
      "username yuncong does not have any annotations for current section 103 \n",
      "username yuncong does not have any annotations for current section 105 \n",
      "username yuncong does not have any annotations for current section 107 \n",
      "username yuncong does not have any annotations for current section 109 \n",
      "username yuncong does not have any annotations for current section 111 \n",
      "username yuncong does not have any annotations for current section 113 \n",
      "username yuncong does not have any annotations for current section 115 \n",
      "username yuncong does not have any annotations for current section 117 \n",
      "username yuncong does not have any annotations for current section 119 \n",
      "username yuncong does not have any annotations for current section 121 \n",
      "username yuncong does not have any annotations for current section 123 \n",
      "username yuncong does not have any annotations for current section 125 \n",
      "username yuncong does not have any annotations for current section 127 \n",
      "username yuncong does not have any annotations for current section 129 \n",
      "username yuncong does not have any annotations for current section 131 \n",
      "username yuncong does not have any annotations for current section 133 \n",
      "username yuncong does not have any annotations for current section 135 \n",
      "more than two intersections with the border: 166\n",
      "more than two intersections with the border: 168\n",
      "more than two intersections with the border: 170\n",
      "username yuncong does not have any annotations for current section 179 \n",
      "username yuncong does not have any annotations for current section 230 \n",
      "username yuncong does not have any annotations for current section 309 \n",
      "username yuncong does not have any annotations for current section 311 \n",
      "username yuncong does not have any annotations for current section 313 \n",
      "username yuncong does not have any annotations for current section 315 \n",
      "username yuncong does not have any annotations for current section 317 \n",
      "username yuncong does not have any annotations for current section 319 \n",
      "username yuncong does not have any annotations for current section 321 \n",
      "username yuncong does not have any annotations for current section 323 \n",
      "username yuncong does not have any annotations for current section 325 \n",
      "username yuncong does not have any annotations for current section 327 \n",
      "username yuncong does not have any annotations for current section 329 \n",
      "username yuncong does not have any annotations for current section 331 \n",
      "username yuncong does not have any annotations for current section 333 \n",
      "username yuncong does not have any annotations for current section 335 \n",
      "username yuncong does not have any annotations for current section 337 \n",
      "username yuncong does not have any annotations for current section 339 \n",
      "username yuncong does not have any annotations for current section 341 \n",
      "username yuncong does not have any annotations for current section 343 \n",
      "username yuncong does not have any annotations for current section 345 \n",
      "username yuncong does not have any annotations for current section 347 \n",
      "username yuncong does not have any annotations for current section 349 \n",
      "username yuncong does not have any annotations for current section 351 \n",
      "username yuncong does not have any annotations for current section 353 \n",
      "username yuncong does not have any annotations for current section 355 \n",
      "username yuncong does not have any annotations for current section 357 \n",
      "username yuncong does not have any annotations for current section 359 \n",
      "username yuncong does not have any annotations for current section 361 \n",
      "username yuncong does not have any annotations for current section 363 \n",
      "username yuncong does not have any annotations for current section 364 \n"
     ]
    }
   ],
   "source": [
    "borders = LineString([(dm.image_width-1, 0), (dm.image_width-1, dm.image_height-1), (0, dm.image_height-1)])\n",
    "\n",
    "for sec in range(first_bs_section, last_bs_section+1):\n",
    "# for sec in range(190, 191):\n",
    "\n",
    "    try:\n",
    "        dm = DataManager(stack=stack, section=sec,\n",
    "                         labeling_dir='/home/yuncong/CSHL_data_labelings_losslessAlignCropped/')\n",
    "        user, ts, _, res  = dm.load_proposal_review_result('yuncong', 'latest', 'consolidated')\n",
    "    except:\n",
    "        continue\n",
    "    \n",
    "    new_res = []\n",
    "    for pol in res:\n",
    "        new_pol = pol.copy()\n",
    "        \n",
    "        vs = np.array(pol['vertices'])\n",
    "        \n",
    "        if len(vs) == 0:\n",
    "            continue\n",
    "\n",
    "        if len(np.where((vs[:,0] < 0) | (vs[:,0] >= dm.image_width) | \\\n",
    "                        (vs[:,1] < 0) | (vs[:,1] >= dm.image_height))[0]) > 0:\n",
    "            intersections = Polygon(vs).exterior.intersection(borders)\n",
    "            if len(intersections) > 2:\n",
    "                sys.stderr.write('more than two intersections with the border: %d\\n' % sec)\n",
    "                continue\n",
    "                \n",
    "            e1, e2 = [(int(g.x), int(g.y)) for g in intersections.geoms]\n",
    "            w = np.where((vs[:,0] >= dm.image_width) | (vs[:,1] >= dm.image_height))[0]\n",
    "#             print w\n",
    "            w1 = w.min()\n",
    "            w2 = w.max()\n",
    "            \n",
    "            valid_e1 = vs[w1-1]\n",
    "            valid_e2 = vs[w2+1]\n",
    "            \n",
    "            if e1[0] == e2[0]: # intersect on right\n",
    "                if (e1[1] - e2[1]) * (valid_e1[1] - valid_e2[1]) > 0:\n",
    "                    vs = np.vstack([vs[:w1], e1, e2, vs[w2+1:]])\n",
    "                else:\n",
    "                    vs = np.vstack([vs[:w1], e2, e1, vs[w2+1:]])\n",
    "            elif e1[1] == e2[1]: # intersect on bottom\n",
    "                if (e1[0] - e2[0]) * (valid_e1[0] - valid_e2[0]) > 0:\n",
    "                    vs = np.vstack([vs[:w1], e1, e2, vs[w2+1:]])\n",
    "                else:\n",
    "                    vs = np.vstack([vs[:w1], e2, e1, vs[w2+1:]])\n",
    "            elif: # one on right, one on bottom\n",
    "                d = cdist([valid_e1, valid_e2], [e1, e2])\n",
    "                r, c = np.unravel_index(np.argmin(d), (2,2))\n",
    "                if r == c:\n",
    "                    vs = np.vstack([vs[:w1], e1, (dm.image_width-1, dm.image_height-1), e2, vs[w2+1:]])\n",
    "                else:\n",
    "                    vs = np.vstack([vs[:w1], e2, (dm.image_width-1, dm.image_height-1), e1, vs[w2+1:]])\n",
    "                         \n",
    "        new_pol['vertices'] = vs\n",
    "        new_pol['labelPos'] = np.atleast_2d(vs).mean(axis=0)\n",
    "        \n",
    "        new_res.append(new_pol)\n",
    "        \n",
    "    out_dir = create_if_not_exists('/oasis/projects/nsf/csd395/yuncong/CSHL_data_labelings_losslessAlignCropped/' + \\\n",
    "                                   stack + '/' + '%04d'%sec)\n",
    "\n",
    "    new_ts = datetime.datetime.now().strftime(\"%m%d%Y%H%M%S\")\n",
    "    pickle.dump(new_res, \n",
    "                open(out_dir + '/' + stack + '_' + '%04d'%sec + '_' + user + '_' + new_ts + '_consolidated.pkl', 'w'))"
   ]
  }
 ],
 "metadata": {
  "kernelspec": {
   "display_name": "Python 2",
   "language": "python",
   "name": "python2"
  },
  "language_info": {
   "codemirror_mode": {
    "name": "ipython",
    "version": 2
   },
   "file_extension": ".py",
   "mimetype": "text/x-python",
   "name": "python",
   "nbconvert_exporter": "python",
   "pygments_lexer": "ipython2",
   "version": "2.7.3"
  }
 },
 "nbformat": 4,
 "nbformat_minor": 0
}
