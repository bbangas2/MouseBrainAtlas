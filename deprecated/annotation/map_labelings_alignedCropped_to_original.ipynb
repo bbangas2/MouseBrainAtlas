{
 "cells": [
  {
   "cell_type": "code",
   "execution_count": 1,
   "metadata": {
    "collapsed": false
   },
   "outputs": [
    {
     "name": "stdout",
     "output_type": "stream",
     "text": [
      "Setting environment for Gordon\n"
     ]
    }
   ],
   "source": [
    "%reload_ext autoreload\n",
    "%autoreload 2\n",
    "\n",
    "import cv2\n",
    "\n",
    "import os\n",
    "import sys\n",
    "sys.path.append(os.path.join(os.environ['REPO_DIR'], 'utilities'))\n",
    "from utilities2015 import *\n",
    "from data_manager import *\n",
    "from metadata import *\n",
    "\n",
    "from collections import defaultdict\n",
    "\n",
    "from matplotlib.path import Path\n",
    "%matplotlib inline\n",
    "\n",
    "from skimage.transform import estimate_transform"
   ]
  },
  {
   "cell_type": "code",
   "execution_count": 33,
   "metadata": {
    "collapsed": false
   },
   "outputs": [],
   "source": [
    "stack = 'MD585'"
   ]
  },
  {
   "cell_type": "code",
   "execution_count": 34,
   "metadata": {
    "collapsed": true
   },
   "outputs": [],
   "source": [
    "if os.path.exists('/oasis/projects/nsf/csd395/yuncong/CSHL_data_labelings_originalLossless/'+stack):\n",
    "    os.system('rm -r ' + '/oasis/projects/nsf/csd395/yuncong/CSHL_data_labelings_originalLossless/'+stack)"
   ]
  },
  {
   "cell_type": "code",
   "execution_count": 35,
   "metadata": {
    "collapsed": false
   },
   "outputs": [],
   "source": [
    "transforms = pickle.load(open(os.environ['DATA_DIR'] + '/%s_finalTransfParams.pkl' % stack, 'r'))"
   ]
  },
  {
   "cell_type": "code",
   "execution_count": 36,
   "metadata": {
    "collapsed": true
   },
   "outputs": [],
   "source": [
    "new_annotation_rootdir = '/oasis/projects/nsf/csd395/yuncong/CSHL_data_labelings_originalLossless/'"
   ]
  },
  {
   "cell_type": "code",
   "execution_count": 37,
   "metadata": {
    "collapsed": true
   },
   "outputs": [],
   "source": [
    "def transfer_latest_to_original(stack, sec, username):\n",
    "    \n",
    "    res = DataManager.load_annotation(stack=stack, section=sec, username=username, \n",
    "                                                    annotation_rootdir='/oasis/projects/nsf/csd395/yuncong/CSHL_data_labelings_losslessAlignCropped/')\n",
    "    if res is None:\n",
    "        return\n",
    "    \n",
    "    annotations, _, timestamp = res\n",
    "    \n",
    "    cropbox_xmin, cropbox_ymin = brainstem_bbox_lookup[stack][:2]\n",
    "    \n",
    "    new_annotations = []\n",
    "    for pol in annotations:\n",
    "        new_pol = pol.copy()\n",
    "        if len(pol['vertices']) == 0:\n",
    "            continue        \n",
    "        \n",
    "        vs = np.dot(transforms[sec], \n",
    "               (np.dot(np.diag([1./32, 1./32, 1]), \n",
    "                       np.c_[pol['vertices'], np.ones((len(pol['vertices']),))].T) +\\\n",
    "                        np.array([cropbox_xmin, cropbox_ymin, 0])[:,np.newaxis]))[:2].T\n",
    "        vs *= 32\n",
    "        new_pol['vertices'] = vs\n",
    "        \n",
    "        vs = np.dot(transforms[sec],  \n",
    "               (np.dot(np.diag([1./32, 1./32, 1]), \n",
    "                       np.r_[new_pol['labelPos'],1]) + [cropbox_xmin, cropbox_ymin, 0]))[:2]\n",
    "        vs *= 32\n",
    "        new_pol['labelPos'] = np.squeeze(vs)\n",
    "        \n",
    "        new_annotations.append(new_pol)\n",
    "        \n",
    "    DataManager.save_annotation(new_annotations, stack, sec, username=username, timestamp=timestamp, \n",
    "                                annotation_rootdir=new_annotation_rootdir)"
   ]
  },
  {
   "cell_type": "code",
   "execution_count": 38,
   "metadata": {
    "collapsed": false,
    "scrolled": true
   },
   "outputs": [],
   "source": [
    "# transfer current labelings to labelings on originalLossless\n",
    "\n",
    "for sec in range(section_number_lookup[stack]):\n",
    "    transfer_latest_to_original(stack, sec, username='yuncong')\n",
    "    transfer_latest_to_original(stack, sec, username='autoAnnotate')"
   ]
  },
  {
   "cell_type": "code",
   "execution_count": null,
   "metadata": {
    "collapsed": true
   },
   "outputs": [],
   "source": []
  }
 ],
 "metadata": {
  "kernelspec": {
   "display_name": "Python 2",
   "language": "python",
   "name": "python2"
  },
  "language_info": {
   "codemirror_mode": {
    "name": "ipython",
    "version": 2
   },
   "file_extension": ".py",
   "mimetype": "text/x-python",
   "name": "python",
   "nbconvert_exporter": "python",
   "pygments_lexer": "ipython2",
   "version": "2.7.6"
  }
 },
 "nbformat": 4,
 "nbformat_minor": 0
}
