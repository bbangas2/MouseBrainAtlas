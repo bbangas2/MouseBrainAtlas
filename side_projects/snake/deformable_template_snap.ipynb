{
 "cells": [
  {
   "cell_type": "code",
   "execution_count": 1,
   "metadata": {
    "collapsed": true
   },
   "outputs": [],
   "source": [
    "%load_ext autoreload\n",
    "%autoreload 2\n",
    "\n",
    "import os\n",
    "import time\n",
    "\n",
    "import sys\n",
    "sys.path.append(os.environ['GORDON_REPO_DIR'] + '/pipeline_scripts')\n",
    "\n",
    "import utilities2014\n",
    "reload(utilities2014)\n",
    "from utilities2014 import *\n",
    "\n",
    "sys.path.append('/home/yuncong/project/opencv-2.4.9/release/lib/python2.7/site-packages')\n",
    "import cv2\n",
    "\n",
    "from joblib import Parallel, delayed\n",
    "\n",
    "from skimage.color import gray2rgb\n",
    "from skimage.util import img_as_float, pad\n",
    "from skimage.morphology import disk\n",
    "from skimage.filters.rank import gradient\n",
    "\n",
    "import matplotlib.pyplot as plt\n",
    "%matplotlib inline"
   ]
  },
  {
   "cell_type": "code",
   "execution_count": 12,
   "metadata": {
    "collapsed": false
   },
   "outputs": [],
   "source": [
    "section_ind = 3\n",
    "dm = DataManager(generate_hierarchy=False, stack='RS141', resol='x5', section=section_ind)\n",
    "dm._load_image()\n",
    "\n",
    "texton_hists = dm.load_pipeline_result('texHist', 'npy')\n",
    "segmentation = dm.load_pipeline_result('segmentation', 'npy')\n",
    "n_superpixels = len(np.unique(segmentation)) - 1\n",
    "textonmap = dm.load_pipeline_result('texMap', 'npy')\n",
    "n_texton = len(np.unique(textonmap)) - 1\n",
    "\n",
    "texture_map = dm.load_pipeline_result('textureMap', 'npy')\n",
    "Gmax = dm.load_pipeline_result('Gmax', 'npy')\n",
    "Gmax_viz = plt.cm.jet(Gmax/np.nanmax(Gmax))\n",
    "\n",
    "thetas = np.linspace(-np.pi/4, np.pi/4, 9)\n",
    "n_theta = len(thetas)\n",
    "Rs = [np.array([[np.cos(theta), np.sin(theta)], [-np.sin(theta), np.cos(theta)]]) for theta in thetas]"
   ]
  },
  {
   "cell_type": "code",
   "execution_count": 13,
   "metadata": {
    "collapsed": true
   },
   "outputs": [],
   "source": [
    "lm_ind = 3\n",
    "\n",
    "lm = np.load('/home/yuncong/csd395/sample_landmark_%d.npy'%lm_ind)\n",
    "\n",
    "lm_int_texture = lm[:, 2:2+n_texton]\n",
    "lm_ext_texture = lm[:, 2+n_texton:-2]\n",
    "lm_vector = lm[:, -2:]\n",
    "\n",
    "lm_pts = lm[:, [1,0]]\n",
    "lm_pts_centered = lm_pts - lm_pts.mean(axis=0)\n",
    "\n",
    "template_points_rotated_versions = []\n",
    "for R in Rs:\n",
    "    lm_pts_rotated = np.dot(R, lm_pts_centered.T).astype(np.int).T\n",
    "    lm_pts_rotated_shifted = lm_pts_rotated - lm_pts_rotated.min(axis=0)\n",
    "    template_points_rotated_versions.append(lm_pts_rotated_shifted)\n",
    "\n",
    "template_shape_rotated_versions = [pts.max(axis=0) + [1,1] for pts in template_points_rotated_versions]"
   ]
  },
  {
   "cell_type": "code",
   "execution_count": 31,
   "metadata": {
    "collapsed": true
   },
   "outputs": [],
   "source": [
    "locs = np.load('/home/yuncong/csd395/top3LocsLm%dSect%d.npy'%(lm_ind, section_ind))\n",
    "shifted_ymean_best, shifted_xmean_best, v, orientation = locs[0]\n",
    "template_points = template_points_rotated_versions[int(orientation)]\n",
    "shifted_ys_best = (shifted_ymean_best - template_points[:,0].mean(axis=0) + template_points[:,0]).astype(np.int)\n",
    "shifted_xs_best = (shifted_xmean_best - template_points[:,1].mean(axis=0) + template_points[:,1]).astype(np.int)"
   ]
  },
  {
   "cell_type": "code",
   "execution_count": 87,
   "metadata": {
    "collapsed": true
   },
   "outputs": [],
   "source": [
    "def snap(pts, contrast_map, snap_explore_radius = 50, iterations = 1, texture_sample_radius = 5):\n",
    "    \n",
    "    pts = pts.copy()\n",
    "    n = len(pts)\n",
    "    rs = np.r_[np.arange(-snap_explore_radius, 0), np.arange(1, snap_explore_radius+1)]\n",
    "    int_rs = np.arange(-texture_sample_radius, 0)\n",
    "    ext_rs = np.arange(1, texture_sample_radius+1)\n",
    "    \n",
    "    for _ in range(iterations):\n",
    "    \n",
    "        D = cdist(pts, pts)\n",
    "        pts_sorted = D.argsort(axis=1)[:,:20]\n",
    "\n",
    "        gradient_dirs = np.empty((pts.shape[0], 2))\n",
    "        for i, neighborhood in enumerate(pts_sorted):\n",
    "            X = pts[neighborhood]\n",
    "            c = X.mean(axis=0)\n",
    "            Xc = X - c\n",
    "            U,S,V = np.linalg.svd(np.dot(Xc.T, Xc))\n",
    "            tangent_dir = U[:,0]\n",
    "            gradient_dirs[i] = np.array([tangent_dir[1], -tangent_dir[0]])\n",
    "            if np.dot(gradient_dirs[i], lm_vector[i]) < 0:\n",
    "                gradient_dirs[i] = -gradient_dirs[i]\n",
    "    \n",
    "        sample_ys = pts[:,0][:,None] + np.outer(gradient_dirs[:,0], rs).astype(np.int)\n",
    "        sample_xs = pts[:,1][:,None] + np.outer(gradient_dirs[:,1], rs).astype(np.int)\n",
    "\n",
    "        \n",
    "        int_texture_sample_ys = np.array([np.add.outer(sample_ys[i], np.outer(gradient_dirs[:,0], int_rs)[i].astype(np.int)) \n",
    "                                          for i in range(n)])\n",
    "        int_texture_sample_xs = np.array([np.add.outer(sample_xs[i], np.outer(gradient_dirs[:,1], int_rs)[i].astype(np.int)) \n",
    "                                          for i in range(n)])\n",
    "        avg_int_texture_samples = texture_map[int_texture_sample_ys, int_texture_sample_xs].mean(axis=2)\n",
    "        int_chi2s = np.array([chi2s(lm_int_texture, avg_int_texture_samples[:,i]) for i in range(len(rs))]).T\n",
    "        \n",
    "        ext_texture_sample_ys = np.array([np.add.outer(sample_ys[i], np.outer(gradient_dirs[:,0], ext_rs)[i].astype(np.int)) for i in range(n)])\n",
    "        ext_texture_sample_xs = np.array([np.add.outer(sample_xs[i], np.outer(gradient_dirs[:,1], ext_rs)[i].astype(np.int)) for i in range(n)])\n",
    "        avg_ext_texture_samples = texture_map[ext_texture_sample_ys, ext_texture_sample_xs].mean(axis=2)\n",
    "        ext_chi2s = np.array([chi2s(lm_ext_texture, avg_ext_texture_samples[:,i]) for i in range(len(rs))]).T\n",
    "\n",
    "        scores = contrast_map[sample_ys, sample_xs] + np.exp(-np.minimum(int_chi2s, ext_chi2s)/.1)\n",
    "\n",
    "    #     scores = contrast_map[sample_ys, sample_xs]\n",
    "\n",
    "        best_sample = scores.argmax(axis=1)\n",
    "        snapped_pts = np.c_[sample_ys[range(n), best_sample], sample_xs[range(n), best_sample]]\n",
    "        \n",
    "        pts = snapped_pts\n",
    "\n",
    "    return pts, scores.max(axis=1).sum()"
   ]
  },
  {
   "cell_type": "code",
   "execution_count": 39,
   "metadata": {
    "collapsed": true
   },
   "outputs": [],
   "source": [
    "def rigid_transform_from_pairs(X,Y):\n",
    "    '''\n",
    "    X, Y are n-by-2 matrices\n",
    "    Y = RX\n",
    "    '''\n",
    "    \n",
    "    Xcentroid = X.mean(axis=0)\n",
    "    Ycentroid = Y.mean(axis=0)\n",
    "    \n",
    "    Xcentered = X - Xcentroid\n",
    "    Ycentered = Y - Ycentroid\n",
    "    \n",
    "    U, S, V = np.linalg.svd(np.dot(Xcentered.T, Ycentered))\n",
    "    M = [[1, 0], [0, np.linalg.det(np.dot(V, U.T))]]\n",
    "    R = np.dot(V, np.dot(M, U.T))\n",
    "    angle = np.arctan2(R[1,0], R[0,0])\n",
    "    t = Ycentroid.T - np.dot(R, Xcentroid.T)\n",
    "    \n",
    "    T = np.eye(3)\n",
    "    T[:2, :2] = R\n",
    "    T[:2, 2] = t\n",
    "   \n",
    "    return T, angle\n",
    "\n",
    "def rigid_transform_to(pts1, T):\n",
    "    pts1_trans = np.dot(T, np.column_stack([pts1, np.ones((pts1.shape[0],))]).T).T\n",
    "    pts1_trans = pts1_trans[:,:2]/pts1_trans[:,-1][:,np.newaxis]\n",
    "    return pts1_trans\n"
   ]
  },
  {
   "cell_type": "code",
   "execution_count": 109,
   "metadata": {
    "collapsed": false
   },
   "outputs": [],
   "source": [
    "snapped = np.c_[shifted_ys_best, shifted_xs_best]\n",
    "\n",
    "snapped_history = []\n",
    "\n",
    "for i in range(100):\n",
    "    snapped_history.append(snapped)\n",
    "    snapped_new, _ = snap(snapped, Gmax)\n",
    "#     print np.sum(np.abs(snapped - snapped_new))\n",
    "    if np.sum(np.abs(snapped - snapped_new)) < 10:\n",
    "        break\n",
    "    snapped = snapped_new"
   ]
  },
  {
   "cell_type": "code",
   "execution_count": 103,
   "metadata": {
    "collapsed": false
   },
   "outputs": [
    {
     "name": "stdout",
     "output_type": "stream",
     "text": [
      "0 40.6067404558\n",
      "1 nan\n",
      "2 57.7429791071\n",
      "3 36.8225149958\n",
      "4 nan\n",
      "5 60.0589084139\n",
      "6 68.6065242693\n",
      "7 64.3426460241\n",
      "8 nan\n",
      "9 52.6805961445\n",
      "10 55.229302551\n",
      "11 38.8268407179\n",
      "12 64.8035679239\n",
      "13 55.586598863\n",
      "14 55.2922909811\n",
      "15 nan\n",
      "16 67.9496971726\n",
      "17 62.989036161\n",
      "18 42.1249655512\n",
      "19 65.8949858045\n"
     ]
    }
   ],
   "source": [
    "snapped = np.c_[shifted_ys_best, shifted_xs_best]\n",
    "\n",
    "scores = []\n",
    "new_pts = []\n",
    "samples = []\n",
    "\n",
    "for iter_ind in range(20):\n",
    "        \n",
    "    r = np.random.randint(0,len(snapped),2)\n",
    "    snapped_new_sampled, _ = snap(snapped, Gmax, iterations=10)\n",
    "    T, a = rigid_transform_from_pairs(snapped[r], snapped_new_sampled[r])\n",
    "    snapped_new_hypothesis = rigid_transform_to(snapped, T).astype(np.int)\n",
    "    snapped_new_consensus, score = snap(snapped_new_hypothesis, Gmax, snap_explore_radius=1, iterations=10)\n",
    "\n",
    "    print iter_ind, score\n",
    "\n",
    "    scores.append(score)\n",
    "    new_pts.append(snapped_new_consensus)\n",
    "    samples.append(r)"
   ]
  },
  {
   "cell_type": "code",
   "execution_count": 106,
   "metadata": {
    "collapsed": false
   },
   "outputs": [],
   "source": [
    "best_iter = np.argmax(np.nan_to_num(scores))\n",
    "snapped_new = new_pts[best_iter]\n",
    "best_sample = samples[best_iter]\n",
    "# snapped_new = new_pts[0]"
   ]
  },
  {
   "cell_type": "code",
   "execution_count": 107,
   "metadata": {
    "collapsed": false
   },
   "outputs": [
    {
     "data": {
      "text/html": [
       "<a href='tmp.jpg' target='_blank'>tmp.jpg</a><br>"
      ],
      "text/plain": [
       "/oasis/projects/nsf/csd395/yuncong/Brain/notebooks/tmp.jpg"
      ]
     },
     "execution_count": 107,
     "metadata": {},
     "output_type": "execute_result"
    }
   ],
   "source": [
    "# bg = Gmax_viz[:,:,:3].copy()\n",
    "bg = dm.image_rgb.copy()\n",
    "\n",
    "overlay = np.zeros_like(dm.image, np.bool)\n",
    "overlay[snapped[best_sample,0], snapped[best_sample,1]] = 1\n",
    "overlay = binary_dilation(overlay, disk(5))\n",
    "\n",
    "bg[overlay] = [0,1,0]\n",
    "\n",
    "overlay = np.zeros_like(dm.image, np.bool)\n",
    "overlay[snapped_new_sampled[best_sample,0], snapped_new_sampled[best_sample,1]] = 1\n",
    "overlay = binary_dilation(overlay, disk(5))\n",
    "\n",
    "bg[overlay] = [0,0,1]\n",
    "\n",
    "overlay = np.zeros_like(dm.image, np.bool)\n",
    "overlay[snapped_new[:,0], snapped_new[:,1]] = 1\n",
    "overlay = binary_dilation(overlay, disk(5))\n",
    "\n",
    "bg[overlay] = [1,0,0]\n",
    "\n",
    "display(bg)"
   ]
  },
  {
   "cell_type": "code",
   "execution_count": 111,
   "metadata": {
    "collapsed": false,
    "scrolled": true
   },
   "outputs": [
    {
     "data": {
      "text/html": [
       "<a href='tmp.jpg' target='_blank'>tmp.jpg</a><br>"
      ],
      "text/plain": [
       "/oasis/projects/nsf/csd395/yuncong/Brain/notebooks/tmp.jpg"
      ]
     },
     "execution_count": 111,
     "metadata": {},
     "output_type": "execute_result"
    }
   ],
   "source": [
    "# bg = Gmax_viz[:,:,:3].copy()\n",
    "bg = dm.image_rgb.copy()\n",
    "\n",
    "overlay = np.zeros_like(dm.image, np.bool)\n",
    "overlay[snapped_history[0][:,0], snapped_history[0][:,1]] = 1\n",
    "overlay = binary_dilation(overlay, disk(5))\n",
    "\n",
    "bg[overlay] = [0,1,0]\n",
    "\n",
    "# overlay = np.zeros_like(dm.image, np.bool)\n",
    "# overlay[snapped_history[1][:,0], snapped_history[1][:,1]] = 1\n",
    "# overlay = binary_dilation(overlay, disk(5))\n",
    "\n",
    "# bg[overlay] = [0,0,1]\n",
    "\n",
    "overlay = np.zeros_like(dm.image, np.bool)\n",
    "overlay[snapped_history[-1][:,0], snapped_history[-1][:,1]] = 1\n",
    "overlay = binary_dilation(overlay, disk(5))\n",
    "\n",
    "bg[overlay] = [1,0,0]\n",
    "\n",
    "display(bg)"
   ]
  }
 ],
 "metadata": {
  "kernelspec": {
   "display_name": "Python 2",
   "language": "python",
   "name": "python2"
  },
  "language_info": {
   "codemirror_mode": {
    "name": "ipython",
    "version": 2
   },
   "file_extension": ".py",
   "mimetype": "text/x-python",
   "name": "python",
   "nbconvert_exporter": "python",
   "pygments_lexer": "ipython2",
   "version": "2.7.3"
  }
 },
 "nbformat": 4,
 "nbformat_minor": 0
}
