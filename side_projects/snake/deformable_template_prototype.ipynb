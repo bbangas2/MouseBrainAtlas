{
 "cells": [
  {
   "cell_type": "code",
   "execution_count": null,
   "metadata": {
    "collapsed": true
   },
   "outputs": [],
   "source": [
    "h, w = template_shape_rotated_versions[lm_ind].astype(np.float)\n",
    "M = 2\n",
    "N = 2\n",
    "Y,X = np.mgrid[:h, :w]\n",
    "basis_x = w * np.array([[2*np.sin(np.pi*n*X/w)*np.cos(np.pi*m*Y/h) for n in range(1, N+1)] for m in range(1, M+1)])\n",
    "basis_y = h * np.array([[2*np.cos(np.pi*m*X/w)*np.sin(np.pi*n*Y/h) for n in range(1, N+1)] for m in range(1, M+1)])"
   ]
  },
  {
   "cell_type": "code",
   "execution_count": null,
   "metadata": {
    "collapsed": true
   },
   "outputs": [],
   "source": [
    "# sx = 2 * np.random.random((M,N)) - 1\n",
    "# sy = 2 * np.random.random((M,N)) - 1\n",
    "\n",
    "sigma = .8\n",
    "sx = np.random.normal(0, sigma, (M,N))\n",
    "sy = np.random.normal(0, sigma, (M,N))\n",
    "\n",
    "z = np.array([[np.pi*2*(n**2+m**2) for n in range(1, N+1)] for m in range(1, M+1)])\n",
    "Dx = sx[:,:,None,None] * basis_x/z[:,:,None,None]\n",
    "Dy = sy[:,:,None,None] * basis_y/z[:,:,None,None]\n",
    "Dx = Dx.sum(axis=0).sum(axis=0)\n",
    "Dy = Dy.sum(axis=0).sum(axis=0)\n",
    "Xt = X + Dx\n",
    "Yt = Y + Dy\n",
    "\n",
    "ys = template_points_rotated_versions[lm_ind][:,0]\n",
    "xs = template_points_rotated_versions[lm_ind][:,1]\n",
    "yst = template_points_rotated_versions[lm_ind][:,0] + Dy[template_points_rotated_versions[lm_ind][:,0], template_points_rotated_versions[lm_ind][:,1]]\n",
    "xst = template_points_rotated_versions[lm_ind][:,1] + Dx[template_points_rotated_versions[lm_ind][:,0], template_points_rotated_versions[lm_ind][:,1]]\n",
    "\n",
    "plt.figure(figsize=(10,5))\n",
    "plt.scatter(Xt[np.ogrid[:X.shape[0]:10, :X.shape[1]:10]].flat, Yt[np.ogrid[:Y.shape[0]:10, :Y.shape[1]:10]].flat, s=2, c='k');\n",
    "plt.scatter(xst, yst, s=50, c='g');\n",
    "plt.axis('equal');"
   ]
  },
  {
   "cell_type": "code",
   "execution_count": null,
   "metadata": {
    "collapsed": true
   },
   "outputs": [],
   "source": [
    "plt.figure(figsize=(10,5))\n",
    "plt.scatter(X[np.ogrid[:X.shape[0]:10, :X.shape[1]:10]].flat, Y[np.ogrid[:Y.shape[0]:10, :Y.shape[1]:10]].flat, s=2, c='k');\n",
    "plt.scatter(xs, ys, s=50, c='g');\n",
    "plt.axis('equal');"
   ]
  }
 ],
 "metadata": {
  "kernelspec": {
   "display_name": "Python 2",
   "language": "python",
   "name": "python2"
  },
  "language_info": {
   "codemirror_mode": {
    "name": "ipython",
    "version": 2
   },
   "file_extension": ".py",
   "mimetype": "text/x-python",
   "name": "python",
   "nbconvert_exporter": "python",
   "pygments_lexer": "ipython2",
   "version": "2.7.3"
  }
 },
 "nbformat": 4,
 "nbformat_minor": 0
}
