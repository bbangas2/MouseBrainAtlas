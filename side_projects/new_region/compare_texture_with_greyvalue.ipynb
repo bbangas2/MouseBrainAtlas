{
 "cells": [
  {
   "cell_type": "code",
   "execution_count": 1,
   "metadata": {
    "collapsed": false
   },
   "outputs": [
    {
     "name": "stdout",
     "output_type": "stream",
     "text": [
      "Setting environment for Gordon\n"
     ]
    },
    {
     "name": "stderr",
     "output_type": "stream",
     "text": [
      "No vtk\n",
      "Cannot import mxnet.\n"
     ]
    }
   ],
   "source": [
    "%reload_ext autoreload\n",
    "%autoreload 2\n",
    "\n",
    "import os\n",
    "import sys\n",
    "import time\n",
    "\n",
    "sys.path.append(os.path.join(os.environ['REPO_DIR'], 'utilities'))\n",
    "from utilities2015 import *\n",
    "from data_manager import *\n",
    "from metadata import *\n",
    "\n",
    "import matplotlib.pyplot as plt\n",
    "%matplotlib inline\n",
    "\n",
    "from multiprocess import Pool\n",
    "\n",
    "from learning_utilities import *"
   ]
  },
  {
   "cell_type": "code",
   "execution_count": 2,
   "metadata": {
    "collapsed": true
   },
   "outputs": [],
   "source": [
    "from skimage.filters import gaussian"
   ]
  },
  {
   "cell_type": "code",
   "execution_count": 3,
   "metadata": {
    "collapsed": true
   },
   "outputs": [],
   "source": [
    "stack = 'MD589'\n",
    "s2f = metadata_cache['sections_to_filenames'][stack]\n",
    "first_sec, last_sec = metadata_cache['section_limits'][stack]\n",
    "im_w, im_h = metadata_cache['image_shape'][stack]"
   ]
  },
  {
   "cell_type": "code",
   "execution_count": 4,
   "metadata": {
    "collapsed": false
   },
   "outputs": [],
   "source": [
    "paired_structures = ['5N', '6N', '7N', '7n', 'Amb', 'LC', 'LRt', 'Pn', 'Tz', 'VLL', 'RMC', 'SNC', 'SNR', '3N', '4N',\n",
    "                    'Sp5I', 'Sp5O', 'Sp5C', 'PBG', '10N', 'VCA', 'VCP', 'DC']\n",
    "singular_structures = ['AP', '12N', 'RtTg', 'SC', 'IC']\n",
    "structures = paired_structures + singular_structures"
   ]
  },
  {
   "cell_type": "code",
   "execution_count": 5,
   "metadata": {
    "collapsed": false
   },
   "outputs": [],
   "source": [
    "n_structures = len(structures)"
   ]
  },
  {
   "cell_type": "code",
   "execution_count": 6,
   "metadata": {
    "collapsed": true
   },
   "outputs": [],
   "source": [
    "sec = 200"
   ]
  },
  {
   "cell_type": "code",
   "execution_count": 7,
   "metadata": {
    "collapsed": false,
    "scrolled": true
   },
   "outputs": [],
   "source": [
    "feature_vec = np.dstack(DataManager.load_scoremap(stack=stack, section=sec, downscale_factor=8,\n",
    "                                        label=s, train_sample_scheme=1) for s in structures).astype(np.float16)"
   ]
  },
  {
   "cell_type": "code",
   "execution_count": 8,
   "metadata": {
    "collapsed": false
   },
   "outputs": [
    {
     "name": "stderr",
     "output_type": "stream",
     "text": [
      "/oasis/projects/nsf/csd395/yuncong/brain_virtualenv/lib/python2.7/site-packages/PIL/Image.py:2274: DecompressionBombWarning: Image size (185246720 pixels) exceeds limit of 89478485 pixels, could be decompression bomb DOS attack.\n",
      "  DecompressionBombWarning)\n"
     ]
    }
   ],
   "source": [
    "img = imread(DataManager.get_image_filepath(stack=stack, section=sec))[::8, ::8]"
   ]
  },
  {
   "cell_type": "code",
   "execution_count": 9,
   "metadata": {
    "collapsed": false
   },
   "outputs": [
    {
     "name": "stderr",
     "output_type": "stream",
     "text": [
      "/oasis/projects/nsf/csd395/yuncong/brain_virtualenv/lib/python2.7/site-packages/skimage/util/dtype.py:122: UserWarning: Possible precision loss when converting from float64 to uint8\n",
      "  .format(dtypeobj_in, dtypeobj_out))\n"
     ]
    }
   ],
   "source": [
    "img_smoothed = img_as_ubyte(gaussian(img[..., 1], sigma=3))"
   ]
  },
  {
   "cell_type": "code",
   "execution_count": 10,
   "metadata": {
    "collapsed": true
   },
   "outputs": [],
   "source": [
    "mask = DataManager.load_thumbnail_mask_v2(stack=stack, section=sec)"
   ]
  },
  {
   "cell_type": "code",
   "execution_count": 11,
   "metadata": {
    "collapsed": true
   },
   "outputs": [],
   "source": [
    "r = 30"
   ]
  },
  {
   "cell_type": "code",
   "execution_count": 12,
   "metadata": {
    "collapsed": false,
    "scrolled": true
   },
   "outputs": [],
   "source": [
    "feature_pool = []\n",
    "grayval_pool = []\n",
    "locations = []\n",
    "for y in range(100, img.shape[0]-100, 50):\n",
    "    for x in range(100, img.shape[1]-100, 50):\n",
    "        if mask[y/8, x/8]:\n",
    "#             grayval_pool.append(np.uint8(np.mean(img[y-r:y+r, x-r:x+r])))\n",
    "            grayval_pool.append(img_smoothed[y, x])\n",
    "            feature_pool.append(feature_vec[y, x])\n",
    "            locations.append((x,y))"
   ]
  },
  {
   "cell_type": "code",
   "execution_count": 13,
   "metadata": {
    "collapsed": true
   },
   "outputs": [],
   "source": [
    "n = len(feature_pool)"
   ]
  },
  {
   "cell_type": "markdown",
   "metadata": {},
   "source": [
    "# Find pairs"
   ]
  },
  {
   "cell_type": "code",
   "execution_count": 78,
   "metadata": {
    "collapsed": true
   },
   "outputs": [],
   "source": [
    "D_feat = pdist(feature_pool)\n",
    "D_grey = pdist([[v] for v in grayval_pool])"
   ]
  },
  {
   "cell_type": "code",
   "execution_count": 81,
   "metadata": {
    "collapsed": true
   },
   "outputs": [],
   "source": [
    "# Method 1\n",
    "\n",
    "# n_pair = D_feat.size\n",
    "# rank_feat = dict(zip(np.argsort(D_feat)[::-1], range(n_pair)))\n",
    "# rank_grey = dict(zip(np.argsort(D_grey), range(n_pair)))\n",
    "# rank = [rank_feat[i] + rank_grey[i] for i in range(n_pair)]\n",
    "# best_pair_indices = np.argsort(rank)\n",
    "\n",
    "# Method 2\n",
    "\n",
    "pair_indices_same_gray = np.where(D_grey == 0)[0]\n",
    "best_pair_indices = pair_indices_same_gray[np.argsort(D_feat[pair_indices_same_gray])[::-1]]"
   ]
  },
  {
   "cell_type": "code",
   "execution_count": 82,
   "metadata": {
    "collapsed": false
   },
   "outputs": [],
   "source": [
    "rs, cs = np.triu_indices(n, k=1)"
   ]
  },
  {
   "cell_type": "code",
   "execution_count": null,
   "metadata": {
    "collapsed": false,
    "scrolled": true
   },
   "outputs": [],
   "source": [
    "k = 5\n",
    "fig, axes = plt.subplots(nrows=k, ncols=6, figsize=(6*3, k*3), squeeze=True)\n",
    "\n",
    "for i in range(k):\n",
    "\n",
    "    best_pair_index = best_pair_indices[i]\n",
    "    ind1, ind2 = rs[best_pair_index], cs[best_pair_index]\n",
    "    x1, y1 = locations[ind1]\n",
    "    x2, y2 = locations[ind2]\n",
    "    \n",
    "    axes[i,0].imshow(img_smoothed[y1-r:y1+r, x1-r:x1+r], cmap=plt.cm.gray, vmin=0, vmax=255);\n",
    "    axes[i,0].axis('off');\n",
    "    axes[i,0].set_title('Patch %d@(%d,%d)' % (ind1, x1, y1));\n",
    "\n",
    "    axes[i,1].imshow(img_smoothed[y2-r:y2+r, x2-r:x2+r], cmap=plt.cm.gray, vmin=0, vmax=255);\n",
    "    axes[i,1].axis('off');\n",
    "    axes[i,1].set_title('Patch %d@(%d,%d)' % (ind2, x2, y2));\n",
    "\n",
    "    axes[i,2].imshow(img[y1-r:y1+r, x1-r:x1+r]);\n",
    "    axes[i,2].axis('off');\n",
    "    axes[i,2].set_title('Patch %d@(%d,%d)' % (ind1, x1, y1));\n",
    "    \n",
    "    axes[i,3].imshow(img[y2-r:y2+r, x2-r:x2+r]);\n",
    "    axes[i,3].axis('off');\n",
    "    axes[i,3].set_title('Patch %d@(%d,%d)' % (ind2, x2, y2));\n",
    "    \n",
    "    most_diff_feat = np.argsort(np.abs(feature_pool[ind1] - feature_pool[ind2]))[-1]\n",
    "    \n",
    "    axes[i,4].imshow(feature_vec[y1-r:y1+r, x1-r:x1+r, most_diff_feat]);\n",
    "    axes[i,4].axis('off');\n",
    "    axes[i,4].set_title('Patch %d@(%d,%d), %s' % (ind1, x1, y1, structures[most_diff_feat]));\n",
    "    \n",
    "    axes[i,5].imshow(feature_vec[y2-r:y2+r, x2-r:x2+r, most_diff_feat]);\n",
    "    axes[i,5].axis('off');\n",
    "    axes[i,5].set_title('Patch %d@(%d,%d), %s' % (ind2, x2, y2, structures[most_diff_feat]));\n",
    "\n",
    "fig.show()"
   ]
  },
  {
   "cell_type": "markdown",
   "metadata": {},
   "source": [
    "# Show a group"
   ]
  },
  {
   "cell_type": "code",
   "execution_count": 14,
   "metadata": {
    "collapsed": false
   },
   "outputs": [],
   "source": [
    "from itertools import groupby\n",
    "grayval_grouped = {gg: [i for g, i in group] \n",
    "     for gg, group in groupby(sorted([(g, i) for i, g in enumerate(grayval_pool)]), lambda (g, i): g)}"
   ]
  },
  {
   "cell_type": "code",
   "execution_count": 15,
   "metadata": {
    "collapsed": true
   },
   "outputs": [],
   "source": [
    "plot_dir = create_if_not_exists('/home/yuncong/csd395/GreyVsTexture')"
   ]
  },
  {
   "cell_type": "code",
   "execution_count": 16,
   "metadata": {
    "collapsed": false,
    "scrolled": false
   },
   "outputs": [],
   "source": [
    "for g, indices in grayval_grouped.iteritems():\n",
    "        \n",
    "    nn = len(indices)\n",
    "    if n == 1:\n",
    "        continue\n",
    "\n",
    "    fig, axes = plt.subplots(nrows=2+n_structures, ncols=nn, figsize=(nn*3, (2+n_structures)*3), squeeze=False)\n",
    "\n",
    "    for i, ind in enumerate(indices):\n",
    "\n",
    "        x, y = locations[ind]\n",
    "\n",
    "        axes[0,i].imshow(img_smoothed[y-r:y+r, x-r:x+r], cmap=plt.cm.gray, vmin=0, vmax=255);\n",
    "        axes[0,i].axis('off');\n",
    "        axes[0,i].set_title('Patch %d@(%d,%d)' % (ind, x, y), fontsize=10);\n",
    "\n",
    "        axes[1,i].imshow(img[y-r:y+r, x-r:x+r]);\n",
    "        axes[1,i].axis('off');\n",
    "        axes[1,i].set_title('Patch %d@(%d,%d)' % (ind, x, y), fontsize=10);\n",
    "\n",
    "        for most_diff_feat in range(n_structures):\n",
    "            axes[2+most_diff_feat,i].imshow(feature_vec[y-r:y+r, x-r:x+r, most_diff_feat]);\n",
    "            axes[2+most_diff_feat,i].axis('off');\n",
    "            axes[2+most_diff_feat,i].set_title('%s' % structures[most_diff_feat], fontsize=10);\n",
    "\n",
    "    fig.suptitle('Greyvalue = %d' % g)\n",
    "#         fig.show()\n",
    "    fig.savefig(os.path.join(plot_dir, '%(stack)s_%(fn)s_grey%(grey)d.png' % \\\n",
    "                             dict(stack=stack, fn=s2f[sec], grey=g)))\n",
    "    plt.close()"
   ]
  },
  {
   "cell_type": "code",
   "execution_count": null,
   "metadata": {
    "collapsed": true
   },
   "outputs": [],
   "source": []
  }
 ],
 "metadata": {
  "kernelspec": {
   "display_name": "Python 2",
   "language": "python",
   "name": "python2"
  },
  "language_info": {
   "codemirror_mode": {
    "name": "ipython",
    "version": 2
   },
   "file_extension": ".py",
   "mimetype": "text/x-python",
   "name": "python",
   "nbconvert_exporter": "python",
   "pygments_lexer": "ipython2",
   "version": "2.7.3"
  }
 },
 "nbformat": 4,
 "nbformat_minor": 1
}
