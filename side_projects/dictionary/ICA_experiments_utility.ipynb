{
 "metadata": {
  "name": "",
  "signature": "sha256:ee8b7657680a988612fd97a43c125f2afabba376791d062255402be145488d55"
 },
 "nbformat": 3,
 "nbformat_minor": 0,
 "worksheets": [
  {
   "cells": [
    {
     "cell_type": "code",
     "collapsed": false,
     "input": [
      "def get_patches(im, step, size, mask):\n",
      "    \n",
      "    lur, luc = np.mgrid[slice(0,im.shape[0],step), slice(0,im.shape[1],step)]\n",
      "    ldr = lur + size\n",
      "    ldc = luc + size\n",
      "    \n",
      "    nrows_patch, ncols_patch = lur.shape\n",
      "\n",
      "    patches = []\n",
      "    patch_positions = []\n",
      "    out_mask = np.zeros((nrows_patch, ncols_patch), dtype=np.bool)\n",
      "    for ri in range(nrows_patch):\n",
      "        for ci in range(ncols_patch):\n",
      "            lur_i = lur[ri, ci]\n",
      "            luc_i = luc[ri, ci]\n",
      "            ldr_i = ldr[ri, ci]\n",
      "            ldc_i = ldc[ri, ci]\n",
      "            if (ldr_i >= im.shape[0]) or (ldc_i >= im.shape[1]):\n",
      "                continue\n",
      "#             if mask[lur_i, luc_i] and mask[ldr_i, ldc_i] and mask[lur_i, ldc_i] and mask[ldr_i, luc_i]:\n",
      "            if np.all(mask[lur_i:ldr_i, luc_i:ldc_i]):\n",
      "                patch = im[lur_i:ldr_i, luc_i:ldc_i]\n",
      "                patches.append(patch)\n",
      "                out_mask[ri, ci] = True\n",
      "                patch_positions.append([lur_i, ldr_i, luc_i, ldc_i])\n",
      "                \n",
      "    patch_positions = np.array(patch_positions)\n",
      "                \n",
      "    return patches, patch_positions, (nrows_patch, ncols_patch), out_mask"
     ],
     "language": "python",
     "metadata": {},
     "outputs": [],
     "prompt_number": 1
    },
    {
     "cell_type": "code",
     "collapsed": false,
     "input": [
      "def show_gallery(images, ncols=20, title=None, **kargs):\n",
      "    \n",
      "    n_images = len(images)\n",
      "\n",
      "    cols = min(ncols, n_images)\n",
      "    rows = int(np.ceil(n_images/float(cols)))\n",
      "    \n",
      "#     fig, axes = plt.subplots(rows, cols, figsize=figsize)\n",
      "    \n",
      "    # figsize should have correct aspect ratio\n",
      "    fig, axes = plt.subplots(rows, cols, figsize=(20, int(20. / cols * rows)));\n",
      "    axes = np.atleast_2d(axes)\n",
      "\n",
      "    for i in range(rows):\n",
      "        for j in range(cols):\n",
      "            axes[i,j].axis('off')\n",
      "            if j+cols*i >= n_images: continue\n",
      "            axes[i,j].imshow(images[j+cols*i], **kargs)\n",
      "    \n",
      "    if title is not None:\n",
      "        fig.suptitle(title)\n",
      "        \n",
      "    plt.tight_layout()\n",
      "            \n",
      "    plt.show()\n",
      "    "
     ],
     "language": "python",
     "metadata": {},
     "outputs": [
      {
       "ename": "SyntaxError",
       "evalue": "invalid syntax (<ipython-input-1-70560c6efbbe>, line 9)",
       "output_type": "pyerr",
       "traceback": [
        "\u001b[1;36m  File \u001b[1;32m\"<ipython-input-1-70560c6efbbe>\"\u001b[1;36m, line \u001b[1;32m9\u001b[0m\n\u001b[1;33m    fig, axes = plt.subplots(rows, cols, figsize=20,5));\u001b[0m\n\u001b[1;37m                                                      ^\u001b[0m\n\u001b[1;31mSyntaxError\u001b[0m\u001b[1;31m:\u001b[0m invalid syntax\n"
       ]
      }
     ],
     "prompt_number": 1
    },
    {
     "cell_type": "code",
     "collapsed": false,
     "input": [
      "def patch_indices_from_coords(x,y):\n",
      "    # find the patches that correspond to a certain region of interest given by image coordinates\n",
      "    print [i for i, (ymin, ymax, xmin, xmax) in enumerate(patch_positions) if xmin < x and ymin < y and \\\n",
      "           xmax > x+10 and ymax > y+10]"
     ],
     "language": "python",
     "metadata": {},
     "outputs": []
    },
    {
     "cell_type": "code",
     "collapsed": false,
     "input": [
      "import scipy.linalg\n",
      "\n",
      "class transform(object):\n",
      "    \n",
      "    def __init__(self):\n",
      "        self.mean = None\n",
      "        \n",
      "    def center(self, X):\n",
      "        '''\n",
      "        X is d x n\n",
      "        '''\n",
      "        if self.mean is None:\n",
      "            self.mean = X.mean(axis=1)\n",
      "        X = X - self.mean[:, np.newaxis]\n",
      "        return X\n",
      "    \n",
      "    def normalize(self, X):\n",
      "        X = X/np.sqrt(np.sum(X**2, axis=0))[np.newaxis, :]\n",
      "        return X\n",
      "\n",
      "    def center_and_normalize(self, X):\n",
      "        X1 = self.center(X)\n",
      "        return self.normalize(X1)\n",
      "    \n",
      "    def whiten(self, X):\n",
      "        XXT = np.dot(X, X.T)\n",
      "        D, U = linalg.eig(XXT)\n",
      "        D_negsqrt = np.diagflat(1./np.sqrt(D))\n",
      "        whitening = np.dot(D_negsqrt, U.T)\n",
      "        X = np.dot(whitening, X)\n",
      "\n",
      "        residue = np.linalg.norm(np.dot(X, X.T) - eye(X.shape[0]))\n",
      "        print 'difference between covariance matrix and identity matrix =', residue\n",
      "        return X"
     ],
     "language": "python",
     "metadata": {},
     "outputs": []
    }
   ],
   "metadata": {}
  }
 ]
}