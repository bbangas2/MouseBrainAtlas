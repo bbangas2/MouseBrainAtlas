{
 "cells": [
  {
   "cell_type": "code",
   "execution_count": 2,
   "metadata": {
    "collapsed": false
   },
   "outputs": [
    {
     "name": "stdout",
     "output_type": "stream",
     "text": [
      "Setting environment for Gordon\n"
     ]
    }
   ],
   "source": [
    "%reload_ext autoreload\n",
    "%autoreload 2\n",
    "\n",
    "import os\n",
    "import sys\n",
    "import time\n",
    "import cv2\n",
    "\n",
    "from joblib import Parallel, delayed\n",
    "\n",
    "sys.path.append(os.path.join(os.environ['REPO_DIR'], 'utilities'))\n",
    "from utilities2015 import *\n",
    "from data_manager import *\n",
    "from metadata import *\n",
    "\n",
    "import matplotlib.pyplot as plt\n",
    "%matplotlib inline\n",
    "\n",
    "from skimage.transform import rotate"
   ]
  },
  {
   "cell_type": "code",
   "execution_count": null,
   "metadata": {
    "collapsed": false
   },
   "outputs": [],
   "source": [
    "cell_masks = []\n",
    "\n",
    "stack = 'MD589'\n",
    "\n",
    "for sec in range(93, 143, 10):\n",
    "# sec = 113\n",
    "    blob_coords = pickle.load(open('/home/yuncong/csd395/CSHL_cells/%(stack)s_%(sec)04d_blobCoords.pkl' % {'stack': stack, 'sec': sec}, 'r'))\n",
    "    blob_orientations = bp.unpack_ndarray_file('/home/yuncong/csd395/CSHL_cells/%(stack)s_%(sec)04d_blobOrientations.bp' % {'stack': stack, 'sec': sec})\n",
    "\n",
    "    blob_centers = [coords.mean(axis=0) for coords in blob_coords]\n",
    "\n",
    "    for blob_index_inSec, coords in enumerate(blob_coords):\n",
    "        ymin, xmin = coords.min(axis=0)\n",
    "        ymax, xmax = coords.max(axis=0)\n",
    "        cell_mask = np.zeros((ymax+1-ymin, xmax+1-xmin), np.bool)\n",
    "        cell_mask[coords[:,0]-ymin, coords[:,1]-xmin] = 1\n",
    "\n",
    "        patch_rotationNormalized = rotate(cell_mask, angle=-np.rad2deg(blob_orientations[blob_index_inSec]), \n",
    "                      center=(blob_centers[blob_index_inSec][1] - xmin, blob_centers[blob_index_inSec][0] - ymin),\n",
    "                      cval=0.) > .5\n",
    "\n",
    "        cell_masks.append(patch_rotationNormalized)"
   ]
  },
  {
   "cell_type": "code",
   "execution_count": null,
   "metadata": {
    "collapsed": true
   },
   "outputs": [],
   "source": [
    "cell_masks_normalized = np.asarray(pad_patches_to_same_size(cell_masks, pad_value=0, keep_center=True))"
   ]
  },
  {
   "cell_type": "code",
   "execution_count": null,
   "metadata": {
    "collapsed": true
   },
   "outputs": [],
   "source": [
    "bp.pack_ndarray_file(cell_masks_normalized, '/home/yuncong/csd395/CSHL_cells/fractal_dim/cell_masks_normalized.bp')"
   ]
  },
  {
   "cell_type": "code",
   "execution_count": null,
   "metadata": {
    "collapsed": true
   },
   "outputs": [],
   "source": []
  },
  {
   "cell_type": "code",
   "execution_count": 3,
   "metadata": {
    "collapsed": false
   },
   "outputs": [],
   "source": [
    "cell_masks_normalized = bp.unpack_ndarray_file('/home/yuncong/csd395/CSHL_cells/fractal_dim/cell_masks_normalized.bp')"
   ]
  },
  {
   "cell_type": "code",
   "execution_count": 4,
   "metadata": {
    "collapsed": false
   },
   "outputs": [
    {
     "name": "stdout",
     "output_type": "stream",
     "text": [
      "197953 cells\n"
     ]
    }
   ],
   "source": [
    "n_cells = len(cell_masks_normalized)\n",
    "print n_cells, 'cells'\n",
    "\n",
    "cell_masks_normalized_flattened = np.reshape(cell_masks_normalized, (len(cell_masks_normalized), -1))\n",
    "cell_masks_normalized_flattened.shape\n",
    "\n",
    "cell_masks_normalized_size = cell_masks_normalized_flattened.sum(axis=1)"
   ]
  },
  {
   "cell_type": "code",
   "execution_count": null,
   "metadata": {
    "collapsed": true
   },
   "outputs": [],
   "source": []
  },
  {
   "cell_type": "code",
   "execution_count": null,
   "metadata": {
    "collapsed": false
   },
   "outputs": [],
   "source": [
    "# visualize some random cells\n",
    "indices = np.random.randint(0, n_cells, 10)\n",
    "display_images_in_grids([cell_masks_normalized[i] for i in indices], 10, maintain_shape=False)"
   ]
  },
  {
   "cell_type": "code",
   "execution_count": null,
   "metadata": {
    "collapsed": true
   },
   "outputs": [],
   "source": []
  },
  {
   "cell_type": "code",
   "execution_count": 6,
   "metadata": {
    "collapsed": false
   },
   "outputs": [],
   "source": [
    "memberCount = np.bincount(indices_of_closest_seed, minlength=len(seeds))\n",
    "seedIndices_sorted_by_memberCount = np.argsort(memberCount)[::-1]\n",
    "memberCount_sorted = memberCount[seedIndices_sorted_by_memberCount]\n",
    "seeds_ranked_by_memberCount = seeds[seedIndices_sorted_by_memberCount]"
   ]
  },
  {
   "cell_type": "code",
   "execution_count": 7,
   "metadata": {
    "collapsed": false,
    "scrolled": true
   },
   "outputs": [
    {
     "data": {
      "text/plain": [
       "array([252, 245, 196, ...,   1,   1,   1])"
      ]
     },
     "execution_count": 7,
     "metadata": {},
     "output_type": "execute_result"
    }
   ],
   "source": [
    "memberCount_sorted"
   ]
  },
  {
   "cell_type": "code",
   "execution_count": 8,
   "metadata": {
    "collapsed": false
   },
   "outputs": [
    {
     "data": {
      "image/png": "[encoded data removed]",
      "text/plain": [
       "<matplotlib.figure.Figure at 0x2f70d50>"
      ]
     },
     "metadata": {},
     "output_type": "display_data"
    }
   ],
   "source": [
    "plt.plot(np.cumsum(memberCount_sorted) / float(n_cells));\n",
    "plt.xlabel('top # seeds');\n",
    "plt.ylabel('percentage coverage');"
   ]
  },
  {
   "cell_type": "code",
   "execution_count": null,
   "metadata": {
    "collapsed": true
   },
   "outputs": [],
   "source": []
  },
  {
   "cell_type": "code",
   "execution_count": 9,
   "metadata": {
    "collapsed": false
   },
   "outputs": [],
   "source": [
    "from multiprocess import Pool"
   ]
  },
  {
   "cell_type": "code",
   "execution_count": 10,
   "metadata": {
    "collapsed": true
   },
   "outputs": [],
   "source": [
    "from scipy.sparse import dok_matrix, coo_matrix"
   ]
  },
  {
   "cell_type": "code",
   "execution_count": 11,
   "metadata": {
    "collapsed": true
   },
   "outputs": [],
   "source": [
    "from scipy.spatial.distance import squareform\n",
    "\n",
    "def compute_jaccard_list_with_all(seed_indices):\n",
    "\n",
    "    pool = Pool(14)\n",
    "    affinities_to_seeds = pool.map(compute_jaccard_with_i, seed_indices)\n",
    "    pool.close()\n",
    "    pool.join()\n",
    "    return np.asarray(affinities_to_seeds)\n",
    "\n",
    "def compute_jaccard_with_i_list(i, indices):\n",
    "    intersections = cell_masks_normalized_flattened[indices[:,None], cell_masks_normalized_flattened[i]].sum(axis=1)\n",
    "    unions = cell_masks_normalized_size[i] + cell_masks_normalized_size[indices] - intersections\n",
    "    scores = intersections.astype(np.float)/unions\n",
    "    return scores\n",
    "    \n",
    "def compute_jaccard_pairwise(indices, square_form=True, parallel=True):\n",
    "    n = len(indices)\n",
    "\n",
    "    if parallel:\n",
    "        pool = Pool(16)\n",
    "        pairwise_scores = pool.map(lambda x: compute_jaccard_with_i_list(x[0],x[1]), \n",
    "                                   [(indices[i], indices[i+1:]) for i in range(n)])\n",
    "        pool.close()\n",
    "        pool.join()\n",
    "    else:\n",
    "        pairwise_scores = [compute_jaccard_with_i_list(indices[i], indices[i+1:]) for i in range(n)]\n",
    "        \n",
    "    if square_form:\n",
    "        return squareform(np.concatenate(pairwise_scores))\n",
    "    else:\n",
    "        return pairwise_scores\n",
    "    \n",
    "# def compute_jaccard_with_i_slave(args):\n",
    "#     i, j1, j2 = args\n",
    "# #     intersections_with_i = (cell_masks_normalized_flattened[i] & cell_masks_normalized_flattened[j1:j2+1]).sum(axis=1)\n",
    "#     intersections_with_i = cell_masks_normalized_flattened[j1:j2+1, cell_masks_normalized_flattened[i]].sum(axis=1)\n",
    "#     unions_with_i = cell_masks_normalized_size[i] + cell_masks_normalized_size[j1:j2+1] - intersections_with_i\n",
    "    \n",
    "# #     S = cell_masks_normalized_flattened[j1:j2+1]\n",
    "# #     intersections_with_i = S[:, cell_masks_normalized_flattened[i]].sum(axis=1)\n",
    "# #     unions_with_i = cell_masks_normalized_size[i] + S - intersections_with_i\n",
    "    \n",
    "# #     intersections_with_i = cell_masks_normalized_flattened[j1:j2+1, cell_masks_normalized_flattened[i]].sum(axis=1)\n",
    "# #     unions_with_i = cell_masks_normalized_size[i] + cell_masks_normalized_size[j1:j2+1] - intersections_with_i\n",
    "#     return intersections_with_i.astype(np.float)/unions_with_i\n",
    "\n",
    "# def compute_jaccard_with_i_parallel(i):\n",
    "    \n",
    "#     # overhead is too much, not saving time\n",
    "    \n",
    "#     from multiprocess import Pool\n",
    "    \n",
    "#     n_jobs = 8\n",
    "#     pool = Pool(n_jobs)\n",
    "\n",
    "#     slave_start_indices = np.linspace(0, n_cells, n_jobs+1).astype(np.int)\n",
    "#     jaccard_with_i = pool.map(compute_jaccard_with_i_slave,\n",
    "#                               [(i, slave_start_indices[s], slave_start_indices[s+1]-1) for s in range(n_jobs)])\n",
    "#     jaccard_with_i = np.concatenate(jaccard_with_i)\n",
    "\n",
    "#     pool.terminate()\n",
    "#     pool.close()\n",
    "            \n",
    "#     return jaccard_with_i\n",
    "\n",
    "def compute_jaccard_with_i(i, upper=False):\n",
    "    if upper:\n",
    "        intersections_with_i = cell_masks_normalized_flattened[i+1:, cell_masks_normalized_flattened[i]].sum(axis=1)\n",
    "        unions_with_i = cell_masks_normalized_size[i] + cell_masks_normalized_size[i+1:] - intersections_with_i\n",
    "    else:\n",
    "        intersections_with_i = cell_masks_normalized_flattened[:, cell_masks_normalized_flattened[i]].sum(axis=1)\n",
    "        unions_with_i = cell_masks_normalized_size[i] + cell_masks_normalized_size - intersections_with_i\n",
    "        \n",
    "    return intersections_with_i.astype(np.float)/unions_with_i\n",
    "\n",
    "def compute_jaccard_with_template(template):\n",
    "    intersections_with_template = [template[m].sum() for m in cell_masks_normalized_flattened]\n",
    "    unions_with_template = (template + cell_masks_normalized_size - intersections_with_template)\n",
    "    return intersections_with_template.astype(np.float)/unions_with_template\n",
    "\n",
    "def compute_jaccard_with_i_sparse(i, upper=False, threshold=.85, n_neighbors=10):\n",
    "    if upper:\n",
    "        scores = compute_jaccard_with_i(i, upper=True)\n",
    "        nearest_neighbors = np.where(scores > threshold)[0]\n",
    "        return i+1+nearest_neighbors, scores[nearest_neighbors]\n",
    "    else:\n",
    "        scores = compute_jaccard_with_i(i, upper=False)\n",
    "        nearest_neighbors = np.argsort(scores)[::-1][:10]\n",
    "        return nearest_neighbors, scores[nearest_neighbors]"
   ]
  },
  {
   "cell_type": "code",
   "execution_count": 12,
   "metadata": {
    "collapsed": true
   },
   "outputs": [],
   "source": [
    "def compute_jaccard_list_vs_list(indices1, indices2, parallel, mem_limited):\n",
    "    pass"
   ]
  },
  {
   "cell_type": "code",
   "execution_count": null,
   "metadata": {
    "collapsed": false,
    "scrolled": true
   },
   "outputs": [],
   "source": [
    "data_per_batch = 1000\n",
    "n_batches = n_cells / data_per_batch\n",
    "print 'n_batches =', n_batches\n",
    "slave_start_indices = np.linspace(0, n_cells, n_batches+1).astype(np.int)\n",
    "\n",
    "for batch_index in range(n_batches):\n",
    "    \n",
    "    print batch_index\n",
    "    t = time.time()\n",
    "\n",
    "    begin_data_index = slave_start_indices[batch_index]\n",
    "    end_data_index = slave_start_indices[batch_index+1]-1\n",
    "    scores = compute_jaccard_list_with_all(range(begin_data_index, end_data_index+1))\n",
    "#     scores[scores < threshold] = 0\n",
    "    bp.pack_ndarray_file(scores.astype(np.float16), '/home/yuncong/csd395/CSHL_cells/fractal_dim/pairwise_scores_%d_%d.bp' % (begin_data_index,\n",
    "                                                                                                          end_data_index))\n",
    "    \n",
    "    sys.stderr.write('Compute pairwise affinities: %f s.\\n' % (time.time()-t)) # 44s / 1000 x 200k"
   ]
  },
  {
   "cell_type": "code",
   "execution_count": null,
   "metadata": {
    "collapsed": false
   },
   "outputs": [],
   "source": [
    "affinities_mat_full = dok_matrix((n_cells, n_cells), dtype=np.float16)\n",
    "\n",
    "data_per_batch = 1000\n",
    "n_batches = n_cells / data_per_batch\n",
    "print 'n_batches =', n_batches\n",
    "slave_start_indices = np.linspace(0, n_cells, n_batches+1).astype(np.int)\n",
    "\n",
    "threshold = 0.8\n",
    "\n",
    "for batch_index in range(n_batches):\n",
    "    \n",
    "    print batch_index\n",
    "    t = time.time()\n",
    "\n",
    "    begin_data_index = slave_start_indices[batch_index]\n",
    "    end_data_index = slave_start_indices[batch_index+1]-1\n",
    "    \n",
    "    scores = bp.unpack_ndarray_file('/home/yuncong/csd395/CSHL_cells/fractal_dim/pairwise_scores_%d_%d.bp' % (begin_data_index,\n",
    "                                                                                                          end_data_index))\n",
    "    \n",
    "    sys.stderr.write('Load pairwise affinities: %f s.\\n' % (time.time()-t)) # 15s / 1000 x 200k\n",
    "    \n",
    "    t = time.time()\n",
    "    \n",
    "#     nearest_neighbors_cols = np.argsort(scores, axis=1)[:, ::-1][:, :10]\n",
    "#     for i in range\n",
    "    \n",
    "    nearest_neighbors_rows, nearest_neighbors_cols = np.where(scores > threshold)\n",
    "    \n",
    "    sys.stderr.write('Load pairwise affinities: %f s.\\n' % (time.time()-t)) # 15s / 1000 x 200k\n",
    "    \n",
    "    t = time.time()\n",
    "    affinities_mat_full[begin_data_index + nearest_neighbors_rows, nearest_neighbors_cols] = scores[nearest_neighbors_rows, nearest_neighbors_cols]\n",
    "    \n",
    "    sys.stderr.write('Load pairwise affinities: %f s.\\n' % (time.time()-t)) # 15s / 1000 x 200k\n",
    "    \n",
    "    break"
   ]
  },
  {
   "cell_type": "code",
   "execution_count": null,
   "metadata": {
    "collapsed": true
   },
   "outputs": [],
   "source": [
    "import scipy.sparse.linalg\n",
    "\n",
    "D = np.sum(affinities_mat_full, axis=1)\n",
    "L = D - affinities_mat_full\n",
    "eigenvalues, eigenvectors = scipy.sparse.linalg.eigsh(L, M=D)\n",
    "embedding = eigenvectors[:7, :]"
   ]
  },
  {
   "cell_type": "code",
   "execution_count": null,
   "metadata": {
    "collapsed": true
   },
   "outputs": [],
   "source": []
  },
  {
   "cell_type": "code",
   "execution_count": null,
   "metadata": {
    "collapsed": true
   },
   "outputs": [],
   "source": []
  },
  {
   "cell_type": "code",
   "execution_count": null,
   "metadata": {
    "collapsed": false
   },
   "outputs": [],
   "source": [
    "# toy example\n",
    "\n",
    "n_classes = 3\n",
    "\n",
    "data1 = np.random.multivariate_normal([0,0], np.eye(2), 100)\n",
    "data2 = np.random.multivariate_normal([4,4], np.eye(2), 100)\n",
    "data3 = np.random.multivariate_normal([-4,4], np.eye(2), 100)\n",
    "data = np.r_[data1, data2, data3]\n",
    "\n",
    "colors = ['b', 'r', 'g']\n",
    "\n",
    "plt.scatter(data1[:,0], data1[:,1], c=colors[0]);\n",
    "plt.scatter(data2[:,0], data2[:,1], c=colors[1]);\n",
    "plt.scatter(data3[:,0], data3[:,1], c=colors[2]);\n",
    "plt.show();"
   ]
  },
  {
   "cell_type": "code",
   "execution_count": null,
   "metadata": {
    "collapsed": true
   },
   "outputs": [],
   "source": [
    "# Full Spectral Clutering\n",
    "\n",
    "import scipy.linalg\n",
    "\n",
    "affinities_mat_full = squareform(pdist(data))\n",
    "affinities_mat_full = np.exp(-affinities_mat_full**2/10.)\n",
    "\n",
    "D = np.diag(np.sum(affinities_mat_full, axis=1))\n",
    "L = D - affinities_mat_full\n",
    "eigenvalues, eigenvectors = scipy.linalg.eigh(L, D)\n",
    "nvec = 2\n",
    "E_original_order = eigenvectors[:, 1:1+nvec]"
   ]
  },
  {
   "cell_type": "code",
   "execution_count": null,
   "metadata": {
    "collapsed": false
   },
   "outputs": [],
   "source": [
    "from sklearn.cluster import KMeans, MiniBatchKMeans\n",
    "\n",
    "kmeans = KMeans(n_clusters=n_classes)\n",
    "kmeans.fit(E_original_order);\n",
    "\n",
    "print np.bincount(kmeans.labels_, minlength=n_classes)\n",
    "\n",
    "for i in range(n_classes):\n",
    "    indices = np.where(kmeans.labels_ == i)[0]\n",
    "    plt.scatter(data[indices,0], data[indices,1], c=colors[i]);\n",
    "plt.show();"
   ]
  },
  {
   "cell_type": "code",
   "execution_count": null,
   "metadata": {
    "collapsed": false
   },
   "outputs": [],
   "source": [
    "# Nystroem extension, example\n",
    "\n",
    "from scipy.spatial.distance import cdist, pdist\n",
    "\n",
    "t = time.time()\n",
    "\n",
    "n_seeds = 3\n",
    "sampled = np.random.choice(range(len(data)), n_seeds, replace=False)\n",
    "\n",
    "affinities_with_samples = cdist(data[sampled], data)\n",
    "affinities_with_samples = np.exp(-affinities_with_samples**2/10.)\n",
    "\n",
    "sys.stderr.write('Compute pairwise affinities (with samples): %f s.\\n' % (time.time()-t))"
   ]
  },
  {
   "cell_type": "code",
   "execution_count": 38,
   "metadata": {
    "collapsed": false
   },
   "outputs": [
    {
     "name": "stderr",
     "output_type": "stream",
     "text": [
      "Compute pairwise affinities (with samples): 5.630616 s.\n"
     ]
    }
   ],
   "source": [
    "# our data, Nystroem extension\n",
    "# https://people.eecs.berkeley.edu/~malik/papers/FBCM-nystrom.pdf\n",
    "\n",
    "t = time.time()\n",
    "\n",
    "n_seeds = 200\n",
    "sampled = seeds_ranked_by_memberCount[:n_seeds].copy()\n",
    "\n",
    "affinities_with_samples = compute_jaccard_list_with_all(sampled)\n",
    "\n",
    "sys.stderr.write('Compute pairwise affinities (with samples): %f s.\\n' % (time.time()-t))"
   ]
  },
  {
   "cell_type": "code",
   "execution_count": 39,
   "metadata": {
    "collapsed": false
   },
   "outputs": [],
   "source": [
    "nonsampled = np.setdiff1d(range(affinities_with_samples.shape[1]), sampled)\n",
    "permutation = np.r_[sampled, nonsampled]"
   ]
  },
  {
   "cell_type": "code",
   "execution_count": 40,
   "metadata": {
    "collapsed": false
   },
   "outputs": [
    {
     "name": "stderr",
     "output_type": "stream",
     "text": [
      "Nystroem: 247.729180 s.\n"
     ]
    }
   ],
   "source": [
    "t = time.time()\n",
    "\n",
    "from scipy.linalg import sqrtm\n",
    "\n",
    "A = affinities_with_samples[:, sampled].copy()\n",
    "B = affinities_with_samples[:, nonsampled].copy()\n",
    "\n",
    "d1 = np.sum(np.c_[A, B], axis=1)\n",
    "Ai = np.linalg.inv(A)\n",
    "d2 = np.sum(B, axis=0) + np.dot(B.T, np.dot(Ai, np.sum(B, axis=1)))\n",
    "dhat_si = np.sqrt(1./np.r_[d1, d2])\n",
    "A = A*np.outer(dhat_si[:n_seeds], dhat_si[:n_seeds])\n",
    "B = B*np.outer(dhat_si[:n_seeds], dhat_si[n_seeds:])\n",
    "\n",
    "Asi = sqrtm(Ai)\n",
    "\n",
    "M = np.dot(B.T, Asi)\n",
    "S = A + np.dot(M.T, M)\n",
    "\n",
    "U, L, T = np.linalg.svd(S)\n",
    "\n",
    "V = np.dot(np.vstack([A, B.T]), np.dot(Asi, np.dot(U, np.linalg.inv(np.diag(np.sqrt(L))))))\n",
    "\n",
    "sys.stderr.write('Nystroem: %f s.\\n' % (time.time()-t)) # 60s / 100 samples"
   ]
  },
  {
   "cell_type": "code",
   "execution_count": 19,
   "metadata": {
    "collapsed": true
   },
   "outputs": [],
   "source": [
    "E_allEig = V[:,1:]/V[:,0][:,None]"
   ]
  },
  {
   "cell_type": "code",
   "execution_count": 25,
   "metadata": {
    "collapsed": false,
    "scrolled": true
   },
   "outputs": [],
   "source": [
    "E_allEig_original_order = np.zeros_like(E_allEig)\n",
    "E_allEig_original_order[permutation] = E_allEig\n",
    "\n",
    "bp.pack_ndarray_file(E_allEig_original_order, \n",
    "                     '/home/yuncong/csd395/CSHL_cells/fractal_dim/embeddingAllEigen_nystromSample%d.bp' % n_seeds)\n",
    "\n",
    "# print E_allEig_original_order.mean(axis=0)\n",
    "# print E_allEig_original_order.std(axis=0)\n",
    "\n",
    "E_allEig_original_order_normalized = (E_allEig_original_order-E_allEig_original_order.mean(axis=0))/E_allEig_original_order.std(axis=0)\n",
    "\n",
    "bp.pack_ndarray_file(E_allEig_original_order_normalized, \n",
    "                     '/home/yuncong/csd395/CSHL_cells/fractal_dim/embeddingAllEigenNormalized_nystromSample%d.bp' % n_seeds)"
   ]
  },
  {
   "cell_type": "code",
   "execution_count": 21,
   "metadata": {
    "collapsed": true
   },
   "outputs": [],
   "source": [
    "nvec = 2\n",
    "E = E_allEig_original_order_normalized[:nvec]"
   ]
  },
  {
   "cell_type": "code",
   "execution_count": 99,
   "metadata": {
    "collapsed": true
   },
   "outputs": [],
   "source": [
    "bp.pack_ndarray_file(E_original_order, '/home/yuncong/csd395/CSHL_cells/fractal_dim/embedding_nystromSample%d.bp' % n_seeds)"
   ]
  },
  {
   "cell_type": "code",
   "execution_count": null,
   "metadata": {
    "collapsed": false,
    "scrolled": true
   },
   "outputs": [],
   "source": [
    "for i in range(E_original_order.shape[1]):\n",
    "    plt.stem(E_original_order[:,i]);\n",
    "    plt.xlabel('data index');\n",
    "    plt.ylabel('value of embedding coordinate %d' % i);\n",
    "    plt.show();"
   ]
  },
  {
   "cell_type": "code",
   "execution_count": 70,
   "metadata": {
    "collapsed": false,
    "scrolled": true
   },
   "outputs": [
    {
     "name": "stdout",
     "output_type": "stream",
     "text": [
      "[246 131 433 279 596 187 181 102  84 385 581 349 259 185 198  69 168 223\n",
      " 303 126 279 337 291 147 113 617 218 127 240 258 163  86 144 239 280 166\n",
      " 409  90 228 192 270 165 121 212 204 188 167 420 201 197 125 196 116 180\n",
      " 167 194 108 174 136  53 346 181 244 667 177 855 476 216  33 302 322 153\n",
      " 135  63 157 192 248  25 172 136 274 306 255 148 183 250 207 618 270 112\n",
      " 115  70 328 181 263 289 142 158 131  74 222 243 160 568  58 205 322 202\n",
      " 109 102 162 178 306 290 507 171 207 129 252 360 178 377 188  10 150  69\n",
      " 115 166 206 118 284 379 214 225 148 350 115 198 138 106 193 225 213 316\n",
      " 619 130 180  57 288 195 167 240 243 462 106 222  92 145  12  50 171 176\n",
      " 141 248  95 342 111  83  99 110 210  51  66  45 302 242 181 172 134 122\n",
      "  54 150 221  52 108 192 188 235 427 147  43  99  61 221 152 108 106  10\n",
      " 180 276 176 640 198 160 210 659 135 209 194 262 111 155 225 558 362 126\n",
      " 190 113 197  95 185  98  71 247 164 175 198 713 291 129 200 156  79 266\n",
      " 347 204 178 253 218 211 344 256 226 226 169 203 242 202 289  86 229 125\n",
      " 213 129 132 112 612 276 140   9  48   9 194  56 190 104 182 255  30 207\n",
      "  87 144  96 220 154 562  42 235 295 178 145 367 213 254 299 274  15 194\n",
      " 127 246 267 520 104 535 181  70 197 144 276  92  86 180 361 137 221 151\n",
      " 341 122 120 267 225 120 142 233 294 338 449 121 247 110  90 117 141  66\n",
      " 110 106  98 144 268  44 188 226 249  66 321 179 272 181 234  42 136 286\n",
      "  78 175 282 138 256  98 221  55 208 129 197 262 315 188 188 285 243 476\n",
      " 158 293 294 118 124 414 150 165 128 105 298 319 123 312 125 275 166 191\n",
      " 134  96  99 232 527  47 208 738 125 227 235 229 172 235 131 201  65  72\n",
      " 306 189 195 231 495 499 184 278 314 157  73 168 520 111 225 362 217 125\n",
      " 239 339 141 185 145 340 201 122 109 255  80 737 310 225 195 177 316 651\n",
      " 355 100  84 226 337 108 172 704  94 201 206 280  58 193 156 230 205 143\n",
      "  65 230  83 196 121 169 199 229 297 153 181 334 134 210 594 616  81 719\n",
      " 100 103 172 193 231  55 111 236 165 271 266 144 156 130 136 196  44  79\n",
      " 101 301  59 270 194 204 110 191   0  94 141  83 272  70   0 119 299 161\n",
      " 119 200 347 447 364 570 221 297 142  83 122 281 336 155 208  99 215 303\n",
      " 113 101  76 166  92  76 160 103  90 153 314   0 200 356 169 263 224 114\n",
      " 276 237 196 129 151 111   0 345 213   0 198 526 139 278 133 226 164 125\n",
      " 136 134 125 214 123   0 158 132 234 132  80 332 140  83  72  76  72  74\n",
      " 115  99 139 191 117 225 730 343 272 289 156  80 259  81  55  68 205 435\n",
      "  90  78 169  73 106  99 206 246 145 129 192 141 148 273 286  80 146 253\n",
      " 239 343  76 138 435  89 170 181 134 283 268 121 379 165 191  24 135 231\n",
      " 380 371 336 234 118 166  16 416 119   0 291  97 193  90 215 129 208 129\n",
      "  48 190 179 246   0 227 205 136 475 158 588  74 119 158 138  93  80 162\n",
      " 200  71   0 220 193 210 206 165 151 102 157 432 159 297 309 135 156 279\n",
      " 289 449 315 288 251 263 258 237 195 123  72 154 146 166 236 190 658 205\n",
      " 185 247 256 174 317 262  88 145 143 116 205  55 125 328 144 161 249 166\n",
      " 177  94 286 117  78 151 166 212 195  93 158 258 263  83 220 207 137 184\n",
      " 294 274  84 171 161 169 782 234 150 138  48 156 164 242 232 848  86 177\n",
      "  56 202 276 395 135  99 261 221 209 147  85 173 220 104  39 246 178 312\n",
      "  59 198 225 252 141 241 148 238 213  66 141 198 333 246 134 109 101 121\n",
      "  83 245 125 192 157 123 202 149 183 121  89 328  91  91 219 276 354 105\n",
      " 128 246 238   0  92 161 211  57  90 142 118 115 175 300 274 128 377 332\n",
      " 294 126 222 108  74  96 247 198 119 192 244 138 100 163 190 188  61 129\n",
      " 344 216 111 238 607 181 173 146 107 135 134 168 124 366  57 173 248 152\n",
      "  97 188 558 124 164 107  99  78 241 280  57 105 123 176 200 179 143 717\n",
      " 246  41 235 265 356 109  58 423 164  93 207 249 163 128 109 193 123 103\n",
      " 101 162 156 254 187 142 103 153 153   0 251 208 167 277 146 142 325 201\n",
      " 119 580  90 140 218 141  33 423 167 231 115  49 272 261 135 228   0 343\n",
      " 126  63 151 120 230 435 206 148  27 185 108 134 195 155 111  90 187  47\n",
      " 103 127 123 137  70  62 172 173 375 136 144 437 219 195  78  70  74 121\n",
      " 159 240 130 290 225 313  88 208 212 112 113 275 287 145   0  81 200 119\n",
      " 186 138  92 278 388 211 235 145  35 166]\n"
     ]
    }
   ],
   "source": [
    "from sklearn.cluster import KMeans, MiniBatchKMeans\n",
    "\n",
    "n_classes = 1000\n",
    "\n",
    "kmeans = MiniBatchKMeans(n_clusters=n_classes)\n",
    "kmeans.fit(E_original_order);\n",
    "\n",
    "print np.bincount(kmeans.labels_, minlength=n_classes)"
   ]
  },
  {
   "cell_type": "code",
   "execution_count": null,
   "metadata": {
    "collapsed": true
   },
   "outputs": [],
   "source": [
    "for i in range(n_classes):\n",
    "    indices = np.where(kmeans.labels_ == i)[0]\n",
    "    plt.scatter(data[indices,0], data[indices,1], c=colors[i]);\n",
    "\n",
    "plt.scatter(data[sampled,0], data[sampled,1], c='y', marker='*', s=400);    \n",
    "\n",
    "plt.show();"
   ]
  },
  {
   "cell_type": "code",
   "execution_count": 71,
   "metadata": {
    "collapsed": false
   },
   "outputs": [
    {
     "name": "stdout",
     "output_type": "stream",
     "text": [
      "705\n",
      "858\n",
      "998\n",
      "660\n",
      "112\n",
      "495\n",
      "151\n",
      "821\n",
      "473\n",
      "832\n"
     ]
    }
   ],
   "source": [
    "# Show examples\n",
    "\n",
    "example_indices = []\n",
    "\n",
    "for clusterLabel in np.random.choice(range(n_classes), 10, replace=False):\n",
    "    \n",
    "    print clusterLabel\n",
    "    inCluster_indices = np.where(kmeans.labels_ == clusterLabel)[0]\n",
    "    example_indices += list(inCluster_indices[np.random.choice(range(len(inCluster_indices)), min(10, len(inCluster_indices)), replace=False)])\n",
    "    \n",
    "display_images_in_grids([cell_masks_normalized[i] for i in example_indices], nc=10,\n",
    "                        export_fn='/home/yuncong/csd395/CSHL_cells/gallery/gridplots_spectralClustering/cluster_random10Classes_%dclasses_%dev.png' % \\\n",
    "                       (n_classes, nvec))\n",
    "#     plt.show();"
   ]
  },
  {
   "cell_type": "code",
   "execution_count": 33,
   "metadata": {
    "collapsed": false,
    "scrolled": true
   },
   "outputs": [
    {
     "name": "stdout",
     "output_type": "stream",
     "text": [
      "0\n",
      "1\n",
      "2\n",
      "3\n",
      "4\n",
      "5\n",
      "6\n",
      "7\n",
      "8\n",
      "9\n",
      "10\n",
      "11\n",
      "12\n",
      "13\n",
      "14\n",
      "15\n",
      "16\n",
      "17\n",
      "18\n",
      "19\n",
      "20\n",
      "21\n",
      "22\n",
      "23\n",
      "24\n",
      "25\n",
      "26\n",
      "27\n",
      "28\n",
      "29\n",
      "30\n",
      "31\n",
      "32\n",
      "33\n",
      "34\n",
      "35\n",
      "36\n",
      "37\n",
      "38\n",
      "39\n",
      "40\n",
      "41\n",
      "42\n",
      "43\n",
      "44\n",
      "45\n",
      "46\n",
      "47\n",
      "48\n",
      "49\n",
      "50\n",
      "51\n",
      "52\n",
      "53\n",
      "54\n",
      "55\n",
      "56\n",
      "57\n",
      "58\n",
      "59\n",
      "60\n",
      "61\n",
      "62\n",
      "63\n",
      "64\n",
      "65\n",
      "66\n",
      "67\n",
      "68\n",
      "69\n",
      "70\n",
      "71\n",
      "72\n",
      "73\n",
      "74\n",
      "75\n",
      "76\n",
      "77\n",
      "78\n",
      "79\n",
      "80\n",
      "81\n",
      "82\n",
      "83\n",
      "84\n",
      "85\n",
      "86\n",
      "87\n",
      "88\n",
      "89\n",
      "90\n",
      "91\n",
      "92\n",
      "93\n",
      "94\n",
      "95\n",
      "96\n",
      "97\n",
      "98\n",
      "99\n"
     ]
    },
    {
     "name": "stderr",
     "output_type": "stream",
     "text": [
      "[autoreload of utilities2015 failed: Traceback (most recent call last):\n",
      "  File \"/oasis/projects/nsf/csd181/yuncong/virtualenv-1.9.1/yuncongve/lib/python2.7/site-packages/IPython/extensions/autoreload.py\", line 247, in check\n",
      "    superreload(m, reload, self.old_objects)\n",
      "AttributeError: __abstractmethods__\n",
      "]\n"
     ]
    }
   ],
   "source": [
    "# Show examples\n",
    "\n",
    "for clusterLabel in range(n_classes):\n",
    "# for clusterLabel in range(10):\n",
    "    print clusterLabel\n",
    "    inCluster_indices = np.where(kmeans.labels_ == clusterLabel)[0]\n",
    "    example_indices = list(inCluster_indices[np.random.choice(range(len(inCluster_indices)), min(10, len(inCluster_indices)), replace=False)])\n",
    "    \n",
    "    display_images_in_grids([cell_masks_normalized[i] for i in example_indices], nc=10,\n",
    "                            export_fn='/home/yuncong/csd395/CSHL_cells/gallery/gridplots_spectralClustering/cluster_%05d.png'%clusterLabel)\n",
    "#     plt.show();"
   ]
  },
  {
   "cell_type": "code",
   "execution_count": null,
   "metadata": {
    "collapsed": true
   },
   "outputs": [],
   "source": []
  },
  {
   "cell_type": "code",
   "execution_count": null,
   "metadata": {
    "collapsed": false
   },
   "outputs": [],
   "source": [
    "t = time.time()\n",
    "\n",
    "pool = Pool(16)\n",
    "cols_vals = pool.map(lambda i: compute_jaccard_with_i_sparse(i, upper=True), range(n_cells))\n",
    "pool.close()\n",
    "pool.join()\n",
    "\n",
    "sys.stderr.write('Compute pairwise affinities (sparse): %f s.\\n' % (time.time()-t)) # 4s / 100 data (14 cores)"
   ]
  },
  {
   "cell_type": "code",
   "execution_count": null,
   "metadata": {
    "collapsed": true
   },
   "outputs": [],
   "source": [
    "S = dok_matrix((n_cells, n_cells), dtype=np.float32)\n",
    "for i, (cols, vals) in enumerate(cols_vals):\n",
    "    S[i, cols] = vals"
   ]
  },
  {
   "cell_type": "code",
   "execution_count": null,
   "metadata": {
    "collapsed": true
   },
   "outputs": [],
   "source": [
    "def compute_new_medoid_cluster_i(i, cluster_indicator):\n",
    "    member_indices = np.where(cluster_indicator == i)[0]               \n",
    "    pairwise_scores = compute_jaccard_pairwise(member_indices, parallel=False)\n",
    "    total_scores_i_as_medoid = np.sum(pairwise_scores, axis=1)\n",
    "    return member_indices[np.argmax(total_scores_i_as_medoid)]\n",
    "\n",
    "def compute_new_medoids(cluster_indicator):\n",
    "\n",
    "    pool = Pool(14)\n",
    "    new_medoids = pool.map(lambda i: compute_new_medoid_cluster_i(i, cluster_indicator), \n",
    "                           range(n_seeds))\n",
    "    pool.close()\n",
    "    pool.join()\n",
    "\n",
    "    return np.asarray(new_medoids)"
   ]
  },
  {
   "cell_type": "code",
   "execution_count": null,
   "metadata": {
    "collapsed": true
   },
   "outputs": [],
   "source": [
    "# Kernel K-Means http://www.cs.utexas.edu/users/inderjit/public_papers/kdd_spectral_kernelkmeans.pdf"
   ]
  },
  {
   "cell_type": "code",
   "execution_count": null,
   "metadata": {
    "collapsed": false,
    "scrolled": true
   },
   "outputs": [],
   "source": [
    "# K-Medoids https://www.wikiwand.com/en/K-medoids\n",
    "# Start with the top 1000 centroids found by K-means++.\n",
    "\n",
    "# K-means is not guaranteed to converge if Jaccard index is used as distance measure but centroids are computed as mean vector.\n",
    "# ref: http://www.statistik.lmu.de/~leisch/papers/Leisch-2006.pdf - 3.2.2\n",
    "\n",
    "n_iter = 10\n",
    "\n",
    "n_seeds = 1000\n",
    "seeds_init = seeds_ranked_by_memberCount[:n_seeds]\n",
    "\n",
    "for it in range(n_iter):\n",
    "\n",
    "    t = time.time()\n",
    "\n",
    "    if it == 0:\n",
    "        medoids = seeds_init.copy()\n",
    "    \n",
    "    affinities_to_medoids = compute_jaccard_list_with_all(medoids)\n",
    "    cluster_indicator = np.argmax(affinities_to_medoids, axis=0)\n",
    "\n",
    "    sys.stderr.write('Compute affinities to all medoids: %f s.\\n' % (time.time()-t)) # 37s / 1000 seeds (14 cores)\n",
    "\n",
    "    t = time.time()\n",
    "    \n",
    "    new_medoids = compute_new_medoids(cluster_indicator)\n",
    "    \n",
    "    if np.count_nonzero(new_medoids != medoids) == 0:\n",
    "        break\n",
    "    \n",
    "    medoids = new_medoids.copy()\n",
    "    \n",
    "    sys.stderr.write('Compute new medoid: %f s.\\n' % (time.time()-t)) # 10s / 1000 seeds"
   ]
  },
  {
   "cell_type": "code",
   "execution_count": null,
   "metadata": {
    "collapsed": false,
    "scrolled": true
   },
   "outputs": [],
   "source": [
    "np.bincount(cluster_indicator, minlength=n_seeds)"
   ]
  },
  {
   "cell_type": "code",
   "execution_count": null,
   "metadata": {
    "collapsed": true
   },
   "outputs": [],
   "source": [
    "# Fast Approximate Spectral Clustering https://people.eecs.berkeley.edu/~jordan/papers/yan-huang-jordan-kdd09.pdf\n",
    "\n",
    "reduced_data = cell_masks_normalized_flattened[medoids]\n",
    "reduced_data_size = cell_masks_normalized_size[medoids]\n",
    "n_reduced_data = len(reduced_data)"
   ]
  },
  {
   "cell_type": "code",
   "execution_count": null,
   "metadata": {
    "collapsed": true
   },
   "outputs": [],
   "source": [
    "affinities_mat_reduced_data = compute_jaccard_pairwise(medoids, nearest_k=10)"
   ]
  },
  {
   "cell_type": "code",
   "execution_count": null,
   "metadata": {
    "collapsed": true
   },
   "outputs": [],
   "source": []
  },
  {
   "cell_type": "code",
   "execution_count": null,
   "metadata": {
    "collapsed": false
   },
   "outputs": [],
   "source": [
    "t = time.time()\n",
    "affinities_mat_full = compute_jaccard_pairwise(np.arange(n_cells))\n",
    "sys.stderr.write('Compute new medoid: %f s.\\n' % (time.time()-t))"
   ]
  },
  {
   "cell_type": "code",
   "execution_count": null,
   "metadata": {
    "collapsed": true
   },
   "outputs": [],
   "source": []
  },
  {
   "cell_type": "code",
   "execution_count": null,
   "metadata": {
    "collapsed": true
   },
   "outputs": [],
   "source": [
    "# Use K-means++ to select 20000 seeds, then assign clusters and compute radius\n",
    "# Reference: http://ilpubs.stanford.edu:8090/778/1/2006-13.pdf"
   ]
  },
  {
   "cell_type": "code",
   "execution_count": null,
   "metadata": {
    "collapsed": false,
    "scrolled": true
   },
   "outputs": [],
   "source": [
    "n_class = 20000\n",
    "\n",
    "# distances_to_seeds = np.empty((n_class, n_cells))\n",
    "cluster_max_radius_evolution = np.empty((n_class, ))\n",
    "cluster_mean_radius_evolution = np.empty((n_class, ))\n",
    "cluster_random1_radius_evolution = np.empty((n_class, ))\n",
    "cluster_random100_radius_evolution = np.empty((n_class, ))\n",
    "cluster_random1run_radius_evolution = np.empty((n_class, ))\n",
    "seeds = np.empty((n_class, ), np.int)\n",
    "\n",
    "distances_to_closest_seed = np.empty((n_cells, ))\n",
    "indices_of_closest_seed = np.empty((n_cells, ), np.int)\n",
    "\n",
    "t1 = time.time()\n",
    "\n",
    "bar = show_progress_bar(0, n_class)\n",
    "\n",
    "for it in range(n_class):\n",
    "            \n",
    "    bar.value = it\n",
    "        \n",
    "    if it == 0:\n",
    "        seed = np.random.randint(n_cells)\n",
    "    else:\n",
    "        seed = np.random.choice(range(n_cells), 1, p=d2_weights)[0]\n",
    "        \n",
    "    seeds[it] = int(seed)\n",
    "    \n",
    "#     t = time.time()\n",
    "    distances = 1. - compute_jaccard_with_i(seed)\n",
    "#     distances = 1. - compute_jaccard_with_i_parallel(seed)\n",
    "#     print time.time() - t\n",
    "    # sequential: 0.05-0.5s / 20k cells\n",
    "    # parallel: 0.35s, even slower than sequential\n",
    "\n",
    "    \n",
    "    if it == 0:\n",
    "        distances_to_closest_seed = distances\n",
    "        indices_of_closest_seed[:] = 0\n",
    "    else:    \n",
    "        needs_update = distances < distances_to_closest_seed\n",
    "        distances_to_closest_seed[needs_update] = distances[needs_update]\n",
    "        indices_of_closest_seed[needs_update] = it\n",
    "        \n",
    "    d2s = distances_to_closest_seed**2\n",
    "    d2_weights = d2s / d2s.sum()\n",
    "    \n",
    "    # different ways to compute r\n",
    "    cluster_max_radius = np.max(distances_to_closest_seed)\n",
    "    cluster_mean_radius = np.mean(distances_to_closest_seed)\n",
    "    cluster_random1_radius = distances_to_closest_seed[np.random.randint(0, n_cells, 1)]\n",
    "    cluster_random100_radius = distances_to_closest_seed[np.random.randint(0, n_cells, 100)].mean()\n",
    "    \n",
    "    if it == 0:\n",
    "        cluster_random1run_radius = cluster_random1_radius\n",
    "    else:\n",
    "        cluster_random1run_radius = (it * cluster_random1run_radius + cluster_random1_radius) / float(it+1)    \n",
    "    \n",
    "    cluster_max_radius_evolution[it] = cluster_max_radius\n",
    "    cluster_mean_radius_evolution[it] = cluster_mean_radius\n",
    "    cluster_random1_radius_evolution[it] = cluster_random1_radius\n",
    "    cluster_random100_radius_evolution[it] = cluster_random100_radius\n",
    "    cluster_random1run_radius_evolution[it] = cluster_random1run_radius\n",
    "    \n",
    "#     print 2, time.time() - t\n",
    "    \n",
    "print time.time() - t1 # 21s / 100 iterations; 4800s / 20000 iters\n",
    "\n",
    "bp.pack_ndarray_file(seeds, '/home/yuncong/csd395/CSHL_cells/fractal_dim/seeds_%d.bp' % n_class)\n",
    "bp.pack_ndarray_file(distances_to_closest_seed, '/home/yuncong/csd395/CSHL_cells/fractal_dim/distancesToClosestSeed_%d.bp' % n_class)\n",
    "bp.pack_ndarray_file(indices_of_closest_seed, '/home/yuncong/csd395/CSHL_cells/fractal_dim/indicesToClosestSeed_%d.bp' % n_class)\n",
    "bp.pack_ndarray_file(cluster_mean_radius_evolution, '/home/yuncong/csd395/CSHL_cells/fractal_dim/clusterMeanRadiusEvolution_%d.bp' % n_class)\n",
    "bp.pack_ndarray_file(cluster_random1run_radius_evolution, '/home/yuncong/csd395/CSHL_cells/fractal_dim/clusterRand1RunRadiusEvolution_%d.bp' % n_class)"
   ]
  },
  {
   "cell_type": "code",
   "execution_count": null,
   "metadata": {
    "collapsed": true
   },
   "outputs": [],
   "source": []
  },
  {
   "cell_type": "code",
   "execution_count": null,
   "metadata": {
    "collapsed": true
   },
   "outputs": [],
   "source": []
  },
  {
   "cell_type": "code",
   "execution_count": 5,
   "metadata": {
    "collapsed": true
   },
   "outputs": [],
   "source": [
    "seeds = bp.unpack_ndarray_file('/home/yuncong/csd395/CSHL_cells/fractal_dim/seeds_20000.bp').astype(np.int)\n",
    "distances_to_closest_seed = bp.unpack_ndarray_file('/home/yuncong/csd395/CSHL_cells/fractal_dim/distancesToClosestSeed_20000.bp')\n",
    "indices_of_closest_seed = bp.unpack_ndarray_file('/home/yuncong/csd395/CSHL_cells/fractal_dim/indicesToClosestSeed_20000.bp')\n",
    "cluster_mean_radius_evolution = bp.unpack_ndarray_file('/home/yuncong/csd395/CSHL_cells/fractal_dim/clusterMeanRadiusEvolution_20000.bp')\n",
    "cluster_random1run_radius_evolution = bp.unpack_ndarray_file('/home/yuncong/csd395/CSHL_cells/fractal_dim/clusterRand1RunRadiusEvolution_20000.bp')"
   ]
  },
  {
   "cell_type": "code",
   "execution_count": null,
   "metadata": {
    "collapsed": false,
    "scrolled": true
   },
   "outputs": [],
   "source": [
    "plt.figure(figsize=(20,3));\n",
    "plt.bar(1+np.arange(n_class), np.bincount(indices_of_closest_seed, minlength=n_class));\n",
    "plt.xlabel('k-means label');\n",
    "plt.ylabel('number of cells');"
   ]
  },
  {
   "cell_type": "code",
   "execution_count": null,
   "metadata": {
    "collapsed": false
   },
   "outputs": [],
   "source": [
    "# plt.plot(np.log(1./cluster_max_radius_evolution), np.log(np.arange(n_class)));\n",
    "plt.plot(np.log(1./cluster_mean_radius_evolution), np.log(np.arange(n_class)), label='mean');\n",
    "# plt.plot(np.log(1./cluster_random1_radius_evolution), np.log(np.arange(n_class)), label='random1');\n",
    "# plt.plot(np.log(1./cluster_random100_radius_evolution), np.log(np.arange(n_class)), label='random100');\n",
    "# plt.plot(np.log(1./cluster_random1run_radius_evolution), np.log(np.arange(n_class)), label='random1run');\n",
    "plt.xlabel('log(1/r)');\n",
    "plt.ylabel('log(N)');\n",
    "plt.title('log-log plot');\n",
    "plt.legend(loc='lower right');"
   ]
  },
  {
   "cell_type": "code",
   "execution_count": null,
   "metadata": {
    "collapsed": false
   },
   "outputs": [],
   "source": [
    "fractal_dimensions = np.log(np.arange(n_class))/np.log(1./cluster_mean_radius_evolution)"
   ]
  },
  {
   "cell_type": "code",
   "execution_count": null,
   "metadata": {
    "collapsed": false
   },
   "outputs": [],
   "source": [
    "valid_starting_from = np.where(~np.isnan(fractal_dimensions) & ~np.isinf(fractal_dimensions) & (fractal_dimensions > 0))[0].min()\n",
    "plt.plot(np.arange(valid_starting_from, n_class), fractal_dimensions[valid_starting_from:]);\n",
    "plt.xlabel('number of classes');\n",
    "plt.ylabel('fractal dimension');\n",
    "plt.title('estimation of fractal dimension');"
   ]
  },
  {
   "cell_type": "code",
   "execution_count": null,
   "metadata": {
    "collapsed": false
   },
   "outputs": [],
   "source": [
    "valid_fractal_dimensions = fractal_dimensions[valid_starting_from:]\n",
    "print 'Estimated fractal dimension :', 'lower bound =', np.min(valid_fractal_dimensions), \\\n",
    "        ', upper bound =', np.max(valid_fractal_dimensions)"
   ]
  },
  {
   "cell_type": "code",
   "execution_count": null,
   "metadata": {
    "collapsed": true
   },
   "outputs": [],
   "source": []
  },
  {
   "cell_type": "code",
   "execution_count": null,
   "metadata": {
    "collapsed": true
   },
   "outputs": [],
   "source": [
    "from sklearn.cluster import SpectralClustering"
   ]
  },
  {
   "cell_type": "code",
   "execution_count": null,
   "metadata": {
    "collapsed": false
   },
   "outputs": [],
   "source": [
    "n_clusters = 100\n",
    "spectral_clustering = SpectralClustering(n_clusters=n_clusters, n_init=10, affinity='precomputed')"
   ]
  },
  {
   "cell_type": "code",
   "execution_count": null,
   "metadata": {
    "collapsed": false
   },
   "outputs": [],
   "source": [
    "spectral_clustering.fit(affinities_mat_reduced_data)"
   ]
  },
  {
   "cell_type": "code",
   "execution_count": null,
   "metadata": {
    "collapsed": false
   },
   "outputs": [],
   "source": [
    "reducedData_to_clusterLabel = spectral_clustering.labels_"
   ]
  },
  {
   "cell_type": "code",
   "execution_count": null,
   "metadata": {
    "collapsed": false,
    "scrolled": true
   },
   "outputs": [],
   "source": [
    "np.bincount(reducedData_to_clusterLabel, minlength=n_clusters)"
   ]
  },
  {
   "cell_type": "code",
   "execution_count": null,
   "metadata": {
    "collapsed": false
   },
   "outputs": [],
   "source": [
    "data_to_clusterLabel = reducedData_to_clusterLabel[cluster_indicator]"
   ]
  },
  {
   "cell_type": "code",
   "execution_count": null,
   "metadata": {
    "collapsed": false
   },
   "outputs": [],
   "source": [
    "np.bincount(data_to_clusterLabel, minlength=n_clusters)"
   ]
  },
  {
   "cell_type": "code",
   "execution_count": null,
   "metadata": {
    "collapsed": false,
    "scrolled": true
   },
   "outputs": [],
   "source": [
    "# Show examples\n",
    "\n",
    "# for clusterLabel in range(n_clusters):\n",
    "for clusterLabel in range(10):\n",
    "    print clusterLabel\n",
    "    inCluster_indices = np.where(data_to_clusterLabel == clusterLabel)[0]\n",
    "    example_indices = list(inCluster_indices[np.random.choice(range(len(inCluster_indices)), min(10, len(inCluster_indices)), replace=False)])\n",
    "    \n",
    "    display_images_in_grids([cell_masks_normalized[i] for i in example_indices], nc=10)\n",
    "#                            export_fn='/home/yuncong/csd395/CSHL_cells/gallery/gridplots_kmeans++/seed_%d.png'%seed_ind)\n",
    "    plt.show();"
   ]
  },
  {
   "cell_type": "code",
   "execution_count": null,
   "metadata": {
    "collapsed": false,
    "scrolled": false
   },
   "outputs": [],
   "source": [
    "# Show examples\n",
    "\n",
    "seed_indices = np.random.randint(0, len(seeds), 10)\n",
    "\n",
    "for seed_ind in seed_indices:\n",
    "    \n",
    "    seed = seeds[seed_ind]\n",
    "    \n",
    "    inCluster_indices = np.where(indices_of_closest_seed == seed_ind)[0]\n",
    "    example_indices = list(inCluster_indices[np.random.choice(range(len(inCluster_indices)), min(10, len(inCluster_indices)), replace=False)])\n",
    "    example_indices = [i for i in example_indices if i != seed_ind]\n",
    "    \n",
    "    display_images_in_grids([cell_masks_normalized[i] for i in [seed] + example_indices], nc=10, \n",
    "                            titles=['seed no.%d'%seed_ind] + ['' for _ in range(len(example_indices))],\n",
    "                           export_fn='/home/yuncong/csd395/CSHL_cells/gallery/gridplots_kmeans++/seed_%d.png'%seed_ind)\n",
    "    plt.show();"
   ]
  },
  {
   "cell_type": "code",
   "execution_count": null,
   "metadata": {
    "collapsed": true
   },
   "outputs": [],
   "source": []
  }
 ],
 "metadata": {
  "kernelspec": {
   "display_name": "Python 2",
   "language": "python",
   "name": "python2"
  },
  "language_info": {
   "codemirror_mode": {
    "name": "ipython",
    "version": 2
   },
   "file_extension": ".py",
   "mimetype": "text/x-python",
   "name": "python",
   "nbconvert_exporter": "python",
   "pygments_lexer": "ipython2",
   "version": "2.7.3"
  }
 },
 "nbformat": 4,
 "nbformat_minor": 0
}
