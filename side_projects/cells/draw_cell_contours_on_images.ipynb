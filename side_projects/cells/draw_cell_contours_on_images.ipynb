{
 "cells": [
  {
   "cell_type": "code",
   "execution_count": 1,
   "metadata": {
    "collapsed": false
   },
   "outputs": [
    {
     "name": "stdout",
     "output_type": "stream",
     "text": [
      "Setting environment for Gordon\n"
     ]
    }
   ],
   "source": [
    "%reload_ext autoreload\n",
    "%autoreload 2\n",
    "\n",
    "import os\n",
    "import sys\n",
    "import time\n",
    "import cv2\n",
    "\n",
    "from joblib import Parallel, delayed\n",
    "\n",
    "sys.path.append(os.path.join(os.environ['REPO_DIR'], 'utilities'))\n",
    "from utilities2015 import *\n",
    "from data_manager import *\n",
    "from metadata import *\n",
    "\n",
    "import matplotlib.pyplot as plt\n",
    "%matplotlib inline"
   ]
  },
  {
   "cell_type": "code",
   "execution_count": 2,
   "metadata": {
    "collapsed": true
   },
   "outputs": [],
   "source": [
    "from skimage.filters import threshold_otsu\n",
    "from scipy.ndimage.morphology import distance_transform_edt\n",
    "from skimage.feature import peak_local_max\n",
    "from skimage.morphology import watershed, binary_dilation, disk\n",
    "from skimage.segmentation import mark_boundaries, find_boundaries\n",
    "from skimage.measure import regionprops, label\n",
    "from sklearn.cluster import KMeans\n",
    "from skimage.transform import rotate, resize"
   ]
  },
  {
   "cell_type": "code",
   "execution_count": 3,
   "metadata": {
    "collapsed": false
   },
   "outputs": [],
   "source": [
    "stack = 'MD589'\n",
    "\n",
    "# first_bs_sec, last_bs_sec = section_range_lookup[stack]\n",
    "# mask = imread('/home/yuncong/csd395/CSHL_data_processed/%s_cellDetectionMask_lossless.png'%stack).astype(np.bool)[...,0]\n",
    "\n",
    "# bbox_xmin, bbox_ymin, bbox_w, bbox_h = np.array(brainstem_bbox_lookup_midbrain[stack])*32\n",
    "# bbox_xmax = bbox_xmin + bbox_w - 1\n",
    "# bbox_ymax = bbox_ymin + bbox_h - 1"
   ]
  },
  {
   "cell_type": "code",
   "execution_count": 4,
   "metadata": {
    "collapsed": true
   },
   "outputs": [],
   "source": [
    "min_blob_area = 40\n",
    "max_blob_area = 1000"
   ]
  },
  {
   "cell_type": "code",
   "execution_count": 5,
   "metadata": {
    "collapsed": true
   },
   "outputs": [],
   "source": [
    "output_dir = create_if_not_exists('/home/yuncong/csd395/CSHL_cells_v2/detected_cells/' + stack)"
   ]
  },
  {
   "cell_type": "code",
   "execution_count": null,
   "metadata": {
    "collapsed": true
   },
   "outputs": [],
   "source": [
    "def draw_cell_contour_on_image(stack, sec, kmeans, bbox, export=False, export_fn=None):\n",
    "    \n",
    "#     stack = 'MD589'\n",
    "#     sec = 113\n",
    "\n",
    "    region_features = bp.unpack_ndarray_file(output_dir + '/%(stack)s_%(sec)04d_sizeAndHuMoments.bp' % {'stack': stack, 'sec': sec})    \n",
    "    valid_props = pickle.load(open(output_dir + '%(stack)s_%(sec)04d_blobCoords.pkl' % {'stack': stack, 'sec': sec}, 'r'))\n",
    "\n",
    "    bbox_xmin, bbox_ymin, bbox_xmax, bbox_ymax = bbox\n",
    "    \n",
    "    img = imread(DataManager.get_image_filepath(stack=stack, section=sec, version='rgb-jpg'))\n",
    "    img_gray = rgb2gray(img[bbox_ymin:bbox_ymax+1, bbox_xmin:bbox_xmax+1])\n",
    "\n",
    "    t = time.time()\n",
    "\n",
    "    kmeans_labels= kmeans.predict(region_features)\n",
    "    plt.bar(np.arange(n_clusters), np.bincount(kmeans_labels, minlength=n_clusters));\n",
    "\n",
    "    sys.stderr.write('kmeans: %.2f\\n' % (time.time() - t) )\n",
    "\n",
    "    t = time.time()\n",
    "\n",
    "    kmeans_labelmap = np.zeros_like(img_gray, np.int)\n",
    "    for pr, l in zip(valid_props, kmeans_labels):\n",
    "        coords = pr.coords\n",
    "        kmeans_labelmap[coords[:, 0], coords[:, 1]] = l + 1\n",
    "\n",
    "    sys.stderr.write('labelmap: %.2f\\n' % (time.time() - t) )\n",
    "\n",
    "    t = time.time()\n",
    "    def f(km_l): return find_boundaries(kmeans_labelmap == km_l)\n",
    "    bordermaps = Parallel(n_jobs=16)(delayed(f)(km_l) for km_l in range(1, n_clusters+1))\n",
    "    sys.stderr.write('bordermap: %.2f\\n' % (time.time() - t) )\n",
    "\n",
    "    t = time.time()\n",
    "    kmeans_bordermap = img_as_ubyte(gray2rgb(img_gray))\n",
    "    for km_l in range(n_clusters):\n",
    "        kmeans_bordermap[bordermaps[km_l]] = colors[km_l]\n",
    "    sys.stderr.write('bordermap: %.2f\\n' % (time.time() - t) )\n",
    "    \n",
    "    if export:\n",
    "        if export_fn is None:\n",
    "            export_fn = '/home/yuncong/csd395/CSHL_cells_kmeansBorderMaps/%(stack)s_%(sec)04d_kmeansBorderMap_sepNorm.jpg' % {'stack':stack, 'sec':sec}\n",
    "            \n",
    "        imsave(export_fn, kmeans_bordermap)\n",
    "    \n",
    "    return kmeans_bordermap"
   ]
  },
  {
   "cell_type": "code",
   "execution_count": null,
   "metadata": {
    "collapsed": false
   },
   "outputs": [],
   "source": [
    "display_image(kmeans_bordermap)"
   ]
  },
  {
   "cell_type": "code",
   "execution_count": null,
   "metadata": {
    "collapsed": true
   },
   "outputs": [],
   "source": []
  },
  {
   "cell_type": "code",
   "execution_count": null,
   "metadata": {
    "collapsed": true
   },
   "outputs": [],
   "source": [
    "all_sources = []\n",
    "\n",
    "for sec in range(first_bs_sec, last_bs_sec, 50):    \n",
    "    blob_orientations = bp.unpack_ndarray_file('/home/yuncong/csd395/CSHL_cells/%(stack)s_%(sec)04d_blobOrientations.bp' % {'stack': stack, 'sec': sec})\n",
    "#     blob_centroids = bp.unpack_ndarray_file('/home/yuncong/csd395/CSHL_cells/%(stack)s_%(sec)04d_blobCentroids.bp' % {'stack': stack, 'sec': sec})\n",
    "#     blob_majorAxisLens = bp.unpack_ndarray_file('/home/yuncong/csd395/CSHL_cells/%(stack)s_%(sec)04d_blobMajorAxisLen.bp' % {'stack': stack, 'sec': sec})\n",
    "#     blob_minorAxisLens = bp.unpack_ndarray_file('/home/yuncong/csd395/CSHL_cells/%(stack)s_%(sec)04d_blobMinorAxisLen.bp' % {'stack': stack, 'sec': sec})\n",
    "\n",
    "#     blob_index = 0\n",
    "    \n",
    "#     fitted_ellipse_axisParallel_ys, \\\n",
    "#     fitted_ellipse_axisParallel_xs = ellipse(blob_centroids[blob_index][0], blob_centroids[blob_index][1], \n",
    "#                                              blob_majorAxisLens[blob_index], blob_minorAxisLens[blob_index])\n",
    "    \n",
    "#     fitted_ellipse_axisParallel_rotated = \n",
    "    \n",
    "#     np.dot(R, np.c_[fitted_ellipse_axisParallel_xs - blob_centroids[blob_index][1], \n",
    "#                     fitted_ellipse_axisParallel_ys - blob_centroids[blob_index][0]])\n",
    "    \n",
    "    \n",
    "    n_blobs = len(blob_orientations)\n",
    "    print n_blobs\n",
    "    all_sources.append([(sec, i) for i in range(n_blobs)])\n",
    "    \n",
    "all_sources = np.concatenate(all_sources)"
   ]
  },
  {
   "cell_type": "code",
   "execution_count": null,
   "metadata": {
    "collapsed": false,
    "scrolled": true
   },
   "outputs": [],
   "source": [
    "len(all_sources)"
   ]
  },
  {
   "cell_type": "code",
   "execution_count": null,
   "metadata": {
    "collapsed": true
   },
   "outputs": [],
   "source": []
  },
  {
   "cell_type": "code",
   "execution_count": null,
   "metadata": {
    "collapsed": true
   },
   "outputs": [],
   "source": [
    "n_clusters = 30\n",
    "colors = np.r_[[(0,0,0)], random_colors(n_clusters)].astype(np.uint8)"
   ]
  },
  {
   "cell_type": "code",
   "execution_count": null,
   "metadata": {
    "collapsed": true
   },
   "outputs": [],
   "source": []
  },
  {
   "cell_type": "code",
   "execution_count": null,
   "metadata": {
    "collapsed": true
   },
   "outputs": [],
   "source": [
    "# KMeans on Hu-moment features."
   ]
  },
  {
   "cell_type": "code",
   "execution_count": null,
   "metadata": {
    "collapsed": false,
    "scrolled": true
   },
   "outputs": [],
   "source": [
    "all_features = []\n",
    "all_sources = []\n",
    "\n",
    "for sec in range(first_bs_sec, last_bs_sec, 50):\n",
    "# for sec in [113]:\n",
    "    fs = bp.unpack_ndarray_file('/home/yuncong/csd395/CSHL_cells/%(stack)s_%(sec)04d_features.bp' % {'stack': stack, 'sec': sec})    \n",
    "    all_sources.append([(sec, i) for i in range(len(fs))])\n",
    "    all_features.append(fs)    \n",
    "    \n",
    "all_features = np.concatenate(all_features)\n",
    "all_sources = np.concatenate(all_sources)"
   ]
  },
  {
   "cell_type": "code",
   "execution_count": null,
   "metadata": {
    "collapsed": false
   },
   "outputs": [],
   "source": [
    "t = time.time()\n",
    "\n",
    "kmeans = KMeans(n_clusters=n_clusters, init='k-means++', n_init=10, max_iter=1000, tol=0.00001,\n",
    "                precompute_distances='auto', verbose=0, n_jobs=-1)\n",
    "\n",
    "kmeans.fit(all_features)\n",
    "\n",
    "sys.stderr.write('kmeans: %.2f\\n' % (time.time() - t) ) # 164s - 1145k patches"
   ]
  },
  {
   "cell_type": "code",
   "execution_count": null,
   "metadata": {
    "collapsed": true
   },
   "outputs": [],
   "source": [
    "# from sklearn.externals import joblib\n",
    "# joblib.dump(kmeans, '/home/yuncong/csd395/CSHL_cells/kmeans.pkl') \n",
    "\n",
    "# kmeans = joblib.load('/home/yuncong/csd395/CSHL_cells/kmeans.pkl') \n",
    "# n_clusters = kmeans.n_clusters"
   ]
  },
  {
   "cell_type": "code",
   "execution_count": null,
   "metadata": {
    "collapsed": false
   },
   "outputs": [],
   "source": [
    "# kmeans label histogram\n",
    "\n",
    "plt.figure(figsize=(20,5));\n",
    "bc = np.bincount(kmeans.labels_, minlength=n_clusters)\n",
    "plt.bar(np.arange(n_clusters)-.4, bc);\n",
    "plt.xticks(np.arange(n_clusters), np.arange(n_clusters)+1);\n",
    "plt.xlabel('Kmeans label', fontsize=20);\n",
    "plt.ylabel('Number of blobs', fontsize=20);"
   ]
  },
  {
   "cell_type": "code",
   "execution_count": null,
   "metadata": {
    "collapsed": false
   },
   "outputs": [],
   "source": [
    "valid_clusters = np.where(bc > 10)[0] + 1\n",
    "small_clusters = set(range(1, n_clusters+1)) - set(valid_clusters)\n",
    "\n",
    "print len(small_clusters), 'clusters with fewer than 5 blobs:', small_clusters\n",
    "print len(valid_clusters), 'valid clusters:', valid_clusters"
   ]
  },
  {
   "cell_type": "code",
   "execution_count": null,
   "metadata": {
    "collapsed": false
   },
   "outputs": [],
   "source": [
    "from collections import defaultdict\n",
    "sampled_indices = defaultdict(list)\n",
    "for l in valid_clusters:\n",
    "    all_example_indices = np.where(kmeans.labels_ == l-1)[0]\n",
    "    random_example_indices = np.random.choice(all_example_indices, min(100, len(all_example_indices)), replace=False)\n",
    "    for ind in random_example_indices:\n",
    "        sec, sec_ind = all_sources[ind]\n",
    "        sampled_indices[sec].append((sec_ind, l))\n",
    "        \n",
    "sampled_indices.default_factory = None"
   ]
  },
  {
   "cell_type": "code",
   "execution_count": null,
   "metadata": {
    "collapsed": false,
    "scrolled": true
   },
   "outputs": [],
   "source": [
    "# for i in range(n_clusters):\n",
    "#     create_if_not_exists('/home/yuncong/csd395/CSHL_cells/gallery/%02d' % i)"
   ]
  },
  {
   "cell_type": "code",
   "execution_count": null,
   "metadata": {
    "collapsed": true
   },
   "outputs": [],
   "source": [
    "margin = 10"
   ]
  },
  {
   "cell_type": "code",
   "execution_count": null,
   "metadata": {
    "collapsed": false
   },
   "outputs": [],
   "source": [
    "# patches_allLabels_debug = defaultdict(list)\n",
    "patches_allLabels = defaultdict(list)\n",
    "\n",
    "for sec, secInd_label_tuples in sampled_indices.iteritems():\n",
    "    \n",
    "#     if sec != 93:\n",
    "#         continue\n",
    "    \n",
    "    print sec\n",
    "\n",
    "    blob_coords = pickle.load(open('/home/yuncong/csd395/CSHL_cells/%(stack)s_%(sec)04d_blobCoords.pkl' % {'stack': stack, 'sec': sec}, 'r'))\n",
    "    blob_orientations = bp.unpack_ndarray_file('/home/yuncong/csd395/CSHL_cells/%(stack)s_%(sec)04d_blobOrientations.bp' % {'stack': stack, 'sec': sec})\n",
    "    blob_centers = [coords.mean(axis=0) for coords in blob_coords]\n",
    "    \n",
    "    blob_majorAxisLens = bp.unpack_ndarray_file('/home/yuncong/csd395/CSHL_cells/%(stack)s_%(sec)04d_blobMajorAxisLen.bp' % {'stack': stack, 'sec': sec}) = bp.unpack_ndarray_file('/home/yuncong/csd395/CSHL_cells/%(stack)s_%(sec)04d_blobOrientations.bp' % {'stack': stack, 'sec': sec})\n",
    "    blob_minorAxisLens = bp.unpack_ndarray_file('/home/yuncong/csd395/CSHL_cells/%(stack)s_%(sec)04d_blobMinorAxisLen.bp' % {'stack': stack, 'sec': sec}) = bp.unpack_ndarray_file('/home/yuncong/csd395/CSHL_cells/%(stack)s_%(sec)04d_blobOrientations.bp' % {'stack': stack, 'sec': sec})\n",
    "    \n",
    "    img = imread(DataManager.get_image_filepath(stack=stack, section=sec, version='rgb-jpg'))\n",
    "    img_rgb = img[bbox_ymin:bbox_ymax+1, bbox_xmin:bbox_xmax+1]\n",
    "\n",
    "    for blob_index_inSec, l in secInd_label_tuples:\n",
    "        coords = blob_coords[blob_index_inSec]\n",
    "        p_ymin, p_xmin = coords.min(axis=0)\n",
    "        p_ymax, p_xmax = coords.max(axis=0)\n",
    "#         patch = img_rgb[p_ymin:p_ymax+1, p_xmin:p_xmax+1].copy()\n",
    "\n",
    "        if p_ymin < margin or p_xmin < margin:\n",
    "            continue\n",
    "\n",
    "        patch = img_rgb[p_ymin-margin:p_ymax+1+margin, p_xmin-margin:p_xmax+1+margin].copy()\n",
    "        \n",
    "        filled = np.zeros(patch.shape[:2])\n",
    "        filled[coords[:,0]-(p_ymin-margin), coords[:,1]-(p_xmin-margin)] = 1\n",
    "        boundaries = find_boundaries(filled.astype(np.uint8), mode='inner')\n",
    "        patch[boundaries] = (255,0,0)\n",
    "        \n",
    "#         patch[coords[:,0]-ymin, coords[:,1]-xmin] = (0,0,0)\n",
    "#         patches_allLabels_debug[l].append([p_ymin, p_ymax, p_xmin, p_xmax])\n",
    "        \n",
    "        patch_rotationNormalized = rotate(patch, angle=-np.rad2deg(blob_orientations[blob_index_inSec]), \n",
    "                                          center=(blob_centers[blob_index_inSec][1] - (p_xmin-margin), \n",
    "                                                  blob_centers[blob_index_inSec][0] - (p_ymin-margin)),\n",
    "                                          cval=1.)\n",
    "        \n",
    "        patches_allLabels[l].append(patch_rotationNormalized)\n",
    "#         cv2.imwrite('/home/yuncong/csd395/CSHL_cells/gallery/%(label)s/%(sec)04d_%(ind)d.jpg' % {'label':l, 'sec': sec, 'ind': blob_index_inSec}, patch)\n",
    "\n",
    "patches_allLabels.default_factory = None\n",
    "# patches_allLabels_debug.default_factory = None"
   ]
  },
  {
   "cell_type": "code",
   "execution_count": null,
   "metadata": {
    "collapsed": false
   },
   "outputs": [],
   "source": [
    "for l, patches in patches_allLabels.iteritems():\n",
    "    print 'kmeans label', l\n",
    "    display_images_in_grids(patches, nc=10)"
   ]
  },
  {
   "cell_type": "code",
   "execution_count": null,
   "metadata": {
    "collapsed": true
   },
   "outputs": [],
   "source": [
    "! rm /home/yuncong/csd395/CSHL_cells/gallery/gridplots/*"
   ]
  },
  {
   "cell_type": "code",
   "execution_count": null,
   "metadata": {
    "collapsed": true
   },
   "outputs": [],
   "source": [
    "for l, patches in patches_allLabels.iteritems():\n",
    "    display_images_in_grids(patches, nc=10, \n",
    "            export_fn='/home/yuncong/csd395/CSHL_cells/gallery/gridplots/gridplots_%02d_%d.png'%(l, len(patches)))"
   ]
  },
  {
   "cell_type": "code",
   "execution_count": null,
   "metadata": {
    "collapsed": true
   },
   "outputs": [],
   "source": []
  }
 ],
 "metadata": {
  "kernelspec": {
   "display_name": "Python 2",
   "language": "python",
   "name": "python2"
  },
  "language_info": {
   "codemirror_mode": {
    "name": "ipython",
    "version": 2
   },
   "file_extension": ".py",
   "mimetype": "text/x-python",
   "name": "python",
   "nbconvert_exporter": "python",
   "pygments_lexer": "ipython2",
   "version": "2.7.3"
  }
 },
 "nbformat": 4,
 "nbformat_minor": 0
}
