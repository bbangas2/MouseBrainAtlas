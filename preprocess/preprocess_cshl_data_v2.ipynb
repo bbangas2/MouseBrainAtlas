{
 "cells": [
  {
   "cell_type": "code",
   "execution_count": 1,
   "metadata": {},
   "outputs": [],
   "source": [
    "%reload_ext autoreload\n",
    "%autoreload 2"
   ]
  },
  {
   "cell_type": "code",
   "execution_count": 2,
   "metadata": {
    "scrolled": true
   },
   "outputs": [
    {
     "name": "stderr",
     "output_type": "stream",
     "text": [
      "ENABLE_UPLOAD_S3 is not set, default to False.\n",
      "ENABLE_DOWNLOAD_S3 is not set, default to False.\n"
     ]
    },
    {
     "name": "stdout",
     "output_type": "stream",
     "text": [
      "Setting environment for Precision WorkStation\n"
     ]
    },
    {
     "name": "stderr",
     "output_type": "stream",
     "text": [
      "/usr/local/lib/python2.7/dist-packages/sklearn/cross_validation.py:44: DeprecationWarning: This module was deprecated in version 0.18 in favor of the model_selection module into which all the refactored classes and functions are moved. Also note that the interface of the new CV iterators are different from that of this module. This module will be removed in 0.20.\n",
      "  \"This module will be removed in 0.20.\", DeprecationWarning)\n"
     ]
    }
   ],
   "source": [
    "import os\n",
    "import sys\n",
    "import time\n",
    "\n",
    "import matplotlib.pyplot as plt\n",
    "%matplotlib inline\n",
    "import numpy as np\n",
    "\n",
    "sys.path.append(os.path.join(os.environ['REPO_DIR'], 'utilities'))\n",
    "from utilities2015 import *\n",
    "from metadata import *\n",
    "from data_manager import *\n",
    "from learning_utilities import *"
   ]
  },
  {
   "cell_type": "code",
   "execution_count": 7,
   "metadata": {},
   "outputs": [
    {
     "name": "stdout",
     "output_type": "stream",
     "text": [
      "warning: Skipping file s3://mousebrainatlas-rawdata/CSHL_data/MD589/MD589-IHC1-2015.07.30-21.30.07_MD589_1_0001_lossless.jp2. Object is of storage class GLACIER. Unable to perform download operations on GLACIER objects. You must restore the object to be able to the perform operation. See aws s3 download help for additional parameter options to ignore or force these transfers.\n",
      "warning: Skipping file s3://mousebrainatlas-rawdata/CSHL_data/MD589/MD589-IHC1-2015.07.30-21.30.07_MD589_2_0002_lossless.jp2. Object is of storage class GLACIER. Unable to perform download operations on GLACIER objects. You must restore the object to be able to the perform operation. See aws s3 download help for additional parameter options to ignore or force these transfers.\n",
      "warning: Skipping file s3://mousebrainatlas-rawdata/CSHL_data/MD589/MD589-IHC1-2015.07.30-21.30.07_MD589_3_0003_lossless.jp2. Object is of storage class GLACIER. Unable to perform download operations on GLACIER objects. You must restore the object to be able to the perform operation. See aws s3 download help for additional parameter options to ignore or force these transfers.\n",
      "warning: Skipping file s3://mousebrainatlas-rawdata/CSHL_data/MD589/MD589-IHC10-2015.07.30-21.57.04_MD589_1_0028_lossless.jp2. Object is of storage class GLACIER. Unable to perform download operations on GLACIER objects. You must restore the object to be able to the perform operation. See aws s3 download help for additional parameter options to ignore or force these transfers.\n",
      "warning: Skipping file s3://mousebrainatlas-rawdata/CSHL_data/MD589/MD589-IHC10-2015.07.30-21.57.04_MD589_2_0029_lossless.jp2. Object is of storage class GLACIER. Unable to perform download operations on GLACIER objects. You must restore the object to be able to the perform operation. See aws s3 download help for additional parameter options to ignore or force these transfers.\n",
      "warning: Skipping file s3://mousebrainatlas-rawdata/CSHL_data/MD589/MD589-IHC10-2015.07.30-21.57.04_MD589_3_0030_lossless.jp2. Object is of storage class GLACIER. Unable to perform download operations on GLACIER objects. You must restore the object to be able to the perform operation. See aws s3 download help for additional parameter options to ignore or force these transfers.\n",
      "warning: Skipping file s3://mousebrainatlas-rawdata/CSHL_data/MD589/MD589-IHC11-2015.07.30-22.00.52_MD589_1_0031_lossless.jp2. Object is of storage class GLACIER. Unable to perform download operations on GLACIER objects. You must restore the object to be able to the perform operation. See aws s3 download help for additional parameter options to ignore or force these transfers.\n",
      "warning: Skipping file s3://mousebrainatlas-rawdata/CSHL_data/MD589/MD589-IHC11-2015.07.30-22.00.52_MD589_2_0032_lossless.jp2. Object is of storage class GLACIER. Unable to perform download operations on GLACIER objects. You must restore the object to be able to the perform operation. See aws s3 download help for additional parameter options to ignore or force these transfers.\n",
      "warning: Skipping file s3://mousebrainatlas-rawdata/CSHL_data/MD589/MD589-IHC11-2015.07.30-22.00.52_MD589_3_0033_lossless.jp2. Object is of storage class GLACIER. Unable to perform download operations on GLACIER objects. You must restore the object to be able to the perform operation. See aws s3 download help for additional parameter options to ignore or force these transfers.\n",
      "warning: Skipping file s3://mousebrainatlas-rawdata/CSHL_data/MD589/MD589-IHC12-2015.07.30-22.04.41_MD589_1_0034_lossless.jp2. Object is of storage class GLACIER. Unable to perform download operations on GLACIER objects. You must restore the object to be able to the perform operation. See aws s3 download help for additional parameter options to ignore or force these transfers.\n",
      "warning: Skipping file s3://mousebrainatlas-rawdata/CSHL_data/MD589/MD589-IHC12-2015.07.30-22.04.41_MD589_2_0035_lossless.jp2. Object is of storage class GLACIER. Unable to perform download operations on GLACIER objects. You must restore the object to be able to the perform operation. See aws s3 download help for additional parameter options to ignore or force these transfers.\n",
      "warning: Skipping file s3://mousebrainatlas-rawdata/CSHL_data/MD589/MD589-IHC12-2015.07.30-22.04.41_MD589_3_0036_lossless.jp2. Object is of storage class GLACIER. Unable to perform download operations on GLACIER objects. You must restore the object to be able to the perform operation. See aws s3 download help for additional parameter options to ignore or force these transfers.\n",
      "warning: Skipping file s3://mousebrainatlas-rawdata/CSHL_data/MD589/MD589-IHC13-2015.07.30-22.08.30_MD589_1_0037_lossless.jp2. Object is of storage class GLACIER. Unable to perform download operations on GLACIER objects. You must restore the object to be able to the perform operation. See aws s3 download help for additional parameter options to ignore or force these transfers.\n",
      "warning: Skipping file s3://mousebrainatlas-rawdata/CSHL_data/MD589/MD589-IHC13-2015.07.30-22.08.30_MD589_2_0038_lossless.jp2. Object is of storage class GLACIER. Unable to perform download operations on GLACIER objects. You must restore the object to be able to the perform operation. See aws s3 download help for additional parameter options to ignore or force these transfers.\n",
      "warning: Skipping file s3://mousebrainatlas-rawdata/CSHL_data/MD589/MD589-IHC13-2015.07.30-22.08.30_MD589_3_0039_lossless.jp2. Object is of storage class GLACIER. Unable to perform download operations on GLACIER objects. You must restore the object to be able to the perform operation. See aws s3 download help for additional parameter options to ignore or force these transfers.\n",
      "warning: Skipping file s3://mousebrainatlas-rawdata/CSHL_data/MD589/MD589-IHC14-2015.07.30-22.12.17_MD589_1_0040_lossless.jp2. Object is of storage class GLACIER. Unable to perform download operations on GLACIER objects. You must restore the object to be able to the perform operation. See aws s3 download help for additional parameter options to ignore or force these transfers.\n",
      "warning: Skipping file s3://mousebrainatlas-rawdata/CSHL_data/MD589/MD589-IHC14-2015.07.30-22.12.17_MD589_2_0041_lossless.jp2. Object is of storage class GLACIER. Unable to perform download operations on GLACIER objects. You must restore the object to be able to the perform operation. See aws s3 download help for additional parameter options to ignore or force these transfers.\n",
      "warning: Skipping file s3://mousebrainatlas-rawdata/CSHL_data/MD589/MD589-IHC14-2015.07.30-22.12.17_MD589_3_0042_lossless.jp2. Object is of storage class GLACIER. Unable to perform download operations on GLACIER objects. You must restore the object to be able to the perform operation. See aws s3 download help for additional parameter options to ignore or force these transfers.\n",
      "warning: Skipping file s3://mousebrainatlas-rawdata/CSHL_data/MD589/MD589-IHC15-2015.07.30-22.16.07_MD589_1_0043_lossless.jp2. Object is of storage class GLACIER. Unable to perform download operations on GLACIER objects. You must restore the object to be able to the perform operation. See aws s3 download help for additional parameter options to ignore or force these transfers.\n",
      "warning: Skipping file s3://mousebrainatlas-rawdata/CSHL_data/MD589/MD589-IHC15-2015.07.30-22.16.07_MD589_2_0044_lossless.jp2. Object is of storage class GLACIER. Unable to perform download operations on GLACIER objects. You must restore the object to be able to the perform operation. See aws s3 download help for additional parameter options to ignore or force these transfers.\n",
      "warning: Skipping file s3://mousebrainatlas-rawdata/CSHL_data/MD589/MD589-IHC15-2015.07.30-22.16.07_MD589_3_0045_lossless.jp2. Object is of storage class GLACIER. Unable to perform download operations on GLACIER objects. You must restore the object to be able to the perform operation. See aws s3 download help for additional parameter options to ignore or force these transfers.\n",
      "warning: Skipping file s3://mousebrainatlas-rawdata/CSHL_data/MD589/MD589-IHC16-2015.07.30-22.20.07_MD589_1_0046_lossless.jp2. Object is of storage class GLACIER. Unable to perform download operations on GLACIER objects. You must restore the object to be able to the perform operation. See aws s3 download help for additional parameter options to ignore or force these transfers.\n",
      "warning: Skipping file s3://mousebrainatlas-rawdata/CSHL_data/MD589/MD589-IHC16-2015.07.30-22.20.07_MD589_2_0047_lossless.jp2. Object is of storage class GLACIER. Unable to perform download operations on GLACIER objects. You must restore the object to be able to the perform operation. See aws s3 download help for additional parameter options to ignore or force these transfers.\n",
      "warning: Skipping file s3://mousebrainatlas-rawdata/CSHL_data/MD589/MD589-IHC16-2015.07.30-22.20.07_MD589_3_0048_lossless.jp2. Object is of storage class GLACIER. Unable to perform download operations on GLACIER objects. You must restore the object to be able to the perform operation. See aws s3 download help for additional parameter options to ignore or force these transfers.\n"
     ]
    },
    {
     "name": "stdout",
     "output_type": "stream",
     "text": [
      "warning: Skipping file s3://mousebrainatlas-rawdata/CSHL_data/MD589/MD589-IHC17-2015.07.30-22.23.59_MD589_1_0049_lossless.jp2. Object is of storage class GLACIER. Unable to perform download operations on GLACIER objects. You must restore the object to be able to the perform operation. See aws s3 download help for additional parameter options to ignore or force these transfers.\n",
      "warning: Skipping file s3://mousebrainatlas-rawdata/CSHL_data/MD589/MD589-IHC17-2015.07.30-22.23.59_MD589_2_0050_lossless.jp2. Object is of storage class GLACIER. Unable to perform download operations on GLACIER objects. You must restore the object to be able to the perform operation. See aws s3 download help for additional parameter options to ignore or force these transfers.\n",
      "warning: Skipping file s3://mousebrainatlas-rawdata/CSHL_data/MD589/MD589-IHC17-2015.07.30-22.23.59_MD589_3_0051_lossless.jp2. Object is of storage class GLACIER. Unable to perform download operations on GLACIER objects. You must restore the object to be able to the perform operation. See aws s3 download help for additional parameter options to ignore or force these transfers.\n",
      "warning: Skipping file s3://mousebrainatlas-rawdata/CSHL_data/MD589/MD589-IHC18-2015.07.30-22.27.59_MD589_1_0052_lossless.jp2. Object is of storage class GLACIER. Unable to perform download operations on GLACIER objects. You must restore the object to be able to the perform operation. See aws s3 download help for additional parameter options to ignore or force these transfers.\n",
      "warning: Skipping file s3://mousebrainatlas-rawdata/CSHL_data/MD589/MD589-IHC18-2015.07.30-22.27.59_MD589_2_0053_lossless.jp2. Object is of storage class GLACIER. Unable to perform download operations on GLACIER objects. You must restore the object to be able to the perform operation. See aws s3 download help for additional parameter options to ignore or force these transfers.\n",
      "warning: Skipping file s3://mousebrainatlas-rawdata/CSHL_data/MD589/MD589-IHC18-2015.07.30-22.27.59_MD589_3_0054_lossless.jp2. Object is of storage class GLACIER. Unable to perform download operations on GLACIER objects. You must restore the object to be able to the perform operation. See aws s3 download help for additional parameter options to ignore or force these transfers.\n",
      "warning: Skipping file s3://mousebrainatlas-rawdata/CSHL_data/MD589/MD589-IHC19-2015.07.30-22.32.05_MD589_1_0055_lossless.jp2. Object is of storage class GLACIER. Unable to perform download operations on GLACIER objects. You must restore the object to be able to the perform operation. See aws s3 download help for additional parameter options to ignore or force these transfers.\n",
      "warning: Skipping file s3://mousebrainatlas-rawdata/CSHL_data/MD589/MD589-IHC19-2015.07.30-22.32.05_MD589_2_0056_lossless.jp2. Object is of storage class GLACIER. Unable to perform download operations on GLACIER objects. You must restore the object to be able to the perform operation. See aws s3 download help for additional parameter options to ignore or force these transfers.\n",
      "warning: Skipping file s3://mousebrainatlas-rawdata/CSHL_data/MD589/MD589-IHC19-2015.07.30-22.32.05_MD589_3_0057_lossless.jp2. Object is of storage class GLACIER. Unable to perform download operations on GLACIER objects. You must restore the object to be able to the perform operation. See aws s3 download help for additional parameter options to ignore or force these transfers.\n",
      "warning: Skipping file s3://mousebrainatlas-rawdata/CSHL_data/MD589/MD589-IHC2-2015.07.30-21.32.04_MD589_1_0004_lossless.jp2. Object is of storage class GLACIER. Unable to perform download operations on GLACIER objects. You must restore the object to be able to the perform operation. See aws s3 download help for additional parameter options to ignore or force these transfers.\n",
      "warning: Skipping file s3://mousebrainatlas-rawdata/CSHL_data/MD589/MD589-IHC2-2015.07.30-21.32.04_MD589_2_0005_lossless.jp2. Object is of storage class GLACIER. Unable to perform download operations on GLACIER objects. You must restore the object to be able to the perform operation. See aws s3 download help for additional parameter options to ignore or force these transfers.\n",
      "warning: Skipping file s3://mousebrainatlas-rawdata/CSHL_data/MD589/MD589-IHC2-2015.07.30-21.32.04_MD589_3_0006_lossless.jp2. Object is of storage class GLACIER. Unable to perform download operations on GLACIER objects. You must restore the object to be able to the perform operation. See aws s3 download help for additional parameter options to ignore or force these transfers.\n",
      "warning: Skipping file s3://mousebrainatlas-rawdata/CSHL_data/MD589/MD589-IHC20-2015.07.30-22.36.03_MD589_1_0058_lossless.jp2. Object is of storage class GLACIER. Unable to perform download operations on GLACIER objects. You must restore the object to be able to the perform operation. See aws s3 download help for additional parameter options to ignore or force these transfers.\n",
      "warning: Skipping file s3://mousebrainatlas-rawdata/CSHL_data/MD589/MD589-IHC20-2015.07.30-22.36.03_MD589_2_0059_lossless.jp2. Object is of storage class GLACIER. Unable to perform download operations on GLACIER objects. You must restore the object to be able to the perform operation. See aws s3 download help for additional parameter options to ignore or force these transfers.\n",
      "warning: Skipping file s3://mousebrainatlas-rawdata/CSHL_data/MD589/MD589-IHC20-2015.07.30-22.36.03_MD589_3_0060_lossless.jp2. Object is of storage class GLACIER. Unable to perform download operations on GLACIER objects. You must restore the object to be able to the perform operation. See aws s3 download help for additional parameter options to ignore or force these transfers.\n",
      "warning: Skipping file s3://mousebrainatlas-rawdata/CSHL_data/MD589/MD589-IHC21-2015.07.30-22.40.00_MD589_1_0061_lossless.jp2. Object is of storage class GLACIER. Unable to perform download operations on GLACIER objects. You must restore the object to be able to the perform operation. See aws s3 download help for additional parameter options to ignore or force these transfers.\n",
      "warning: Skipping file s3://mousebrainatlas-rawdata/CSHL_data/MD589/MD589-IHC21-2015.07.30-22.40.00_MD589_2_0062_lossless.jp2. Object is of storage class GLACIER. Unable to perform download operations on GLACIER objects. You must restore the object to be able to the perform operation. See aws s3 download help for additional parameter options to ignore or force these transfers.\n",
      "warning: Skipping file s3://mousebrainatlas-rawdata/CSHL_data/MD589/MD589-IHC21-2015.07.30-22.40.00_MD589_3_0063_lossless.jp2. Object is of storage class GLACIER. Unable to perform download operations on GLACIER objects. You must restore the object to be able to the perform operation. See aws s3 download help for additional parameter options to ignore or force these transfers.\n",
      "warning: Skipping file s3://mousebrainatlas-rawdata/CSHL_data/MD589/MD589-IHC22-2015.07.30-22.44.25_MD589_1_0064_lossless.jp2. Object is of storage class GLACIER. Unable to perform download operations on GLACIER objects. You must restore the object to be able to the perform operation. See aws s3 download help for additional parameter options to ignore or force these transfers.\n",
      "warning: Skipping file s3://mousebrainatlas-rawdata/CSHL_data/MD589/MD589-IHC22-2015.07.30-22.44.25_MD589_2_0065_lossless.jp2. Object is of storage class GLACIER. Unable to perform download operations on GLACIER objects. You must restore the object to be able to the perform operation. See aws s3 download help for additional parameter options to ignore or force these transfers.\n",
      "warning: Skipping file s3://mousebrainatlas-rawdata/CSHL_data/MD589/MD589-IHC22-2015.07.30-22.44.25_MD589_3_0066_lossless.jp2. Object is of storage class GLACIER. Unable to perform download operations on GLACIER objects. You must restore the object to be able to the perform operation. See aws s3 download help for additional parameter options to ignore or force these transfers.\n",
      "warning: Skipping file s3://mousebrainatlas-rawdata/CSHL_data/MD589/MD589-IHC23-2015.07.30-22.48.41_MD589_1_0067_lossless.jp2. Object is of storage class GLACIER. Unable to perform download operations on GLACIER objects. You must restore the object to be able to the perform operation. See aws s3 download help for additional parameter options to ignore or force these transfers.\n",
      "warning: Skipping file s3://mousebrainatlas-rawdata/CSHL_data/MD589/MD589-IHC23-2015.07.30-22.48.41_MD589_2_0068_lossless.jp2. Object is of storage class GLACIER. Unable to perform download operations on GLACIER objects. You must restore the object to be able to the perform operation. See aws s3 download help for additional parameter options to ignore or force these transfers.\n",
      "warning: Skipping file s3://mousebrainatlas-rawdata/CSHL_data/MD589/MD589-IHC23-2015.07.30-22.48.41_MD589_3_0069_lossless.jp2. Object is of storage class GLACIER. Unable to perform download operations on GLACIER objects. You must restore the object to be able to the perform operation. See aws s3 download help for additional parameter options to ignore or force these transfers.\n",
      "warning: Skipping file s3://mousebrainatlas-rawdata/CSHL_data/MD589/MD589-IHC24-2015.07.30-22.52.55_MD589_1_0070_lossless.jp2. Object is of storage class GLACIER. Unable to perform download operations on GLACIER objects. You must restore the object to be able to the perform operation. See aws s3 download help for additional parameter options to ignore or force these transfers.\n",
      "warning: Skipping file s3://mousebrainatlas-rawdata/CSHL_data/MD589/MD589-IHC24-2015.07.30-22.52.55_MD589_2_0071_lossless.jp2. Object is of storage class GLACIER. Unable to perform download operations on GLACIER objects. You must restore the object to be able to the perform operation. See aws s3 download help for additional parameter options to ignore or force these transfers.\n",
      "warning: Skipping file s3://mousebrainatlas-rawdata/CSHL_data/MD589/MD589-IHC24-2015.07.30-22.52.55_MD589_3_0072_lossless.jp2. Object is of storage class GLACIER. Unable to perform download operations on GLACIER objects. You must restore the object to be able to the perform operation. See aws s3 download help for additional parameter options to ignore or force these transfers.\n",
      "warning: Skipping file s3://mousebrainatlas-rawdata/CSHL_data/MD589/MD589-IHC25-2015.07.30-22.57.23_MD589_1_0073_lossless.jp2. Object is of storage class GLACIER. Unable to perform download operations on GLACIER objects. You must restore the object to be able to the perform operation. See aws s3 download help for additional parameter options to ignore or force these transfers.\n",
      "warning: Skipping file s3://mousebrainatlas-rawdata/CSHL_data/MD589/MD589-IHC25-2015.07.30-22.57.23_MD589_2_0074_lossless.jp2. Object is of storage class GLACIER. Unable to perform download operations on GLACIER objects. You must restore the object to be able to the perform operation. See aws s3 download help for additional parameter options to ignore or force these transfers.\n",
      "warning: Skipping file s3://mousebrainatlas-rawdata/CSHL_data/MD589/MD589-IHC25-2015.07.30-22.57.23_MD589_3_0075_lossless.jp2. Object is of storage class GLACIER. Unable to perform download operations on GLACIER objects. You must restore the object to be able to the perform operation. See aws s3 download help for additional parameter options to ignore or force these transfers.\n",
      "warning: Skipping file s3://mousebrainatlas-rawdata/CSHL_data/MD589/MD589-IHC26-2015.07.30-23.01.56_MD589_1_0076_lossless.jp2. Object is of storage class GLACIER. Unable to perform download operations on GLACIER objects. You must restore the object to be able to the perform operation. See aws s3 download help for additional parameter options to ignore or force these transfers.\n",
      "warning: Skipping file s3://mousebrainatlas-rawdata/CSHL_data/MD589/MD589-IHC26-2015.07.30-23.01.56_MD589_2_0077_lossless.jp2. Object is of storage class GLACIER. Unable to perform download operations on GLACIER objects. You must restore the object to be able to the perform operation. See aws s3 download help for additional parameter options to ignore or force these transfers.\n",
      "warning: Skipping file s3://mousebrainatlas-rawdata/CSHL_data/MD589/MD589-IHC26-2015.07.30-23.01.56_MD589_3_0078_lossless.jp2. Object is of storage class GLACIER. Unable to perform download operations on GLACIER objects. You must restore the object to be able to the perform operation. See aws s3 download help for additional parameter options to ignore or force these transfers.\n",
      "warning: Skipping file s3://mousebrainatlas-rawdata/CSHL_data/MD589/MD589-IHC27-2015.07.30-23.06.26_MD589_1_0079_lossless.jp2. Object is of storage class GLACIER. Unable to perform download operations on GLACIER objects. You must restore the object to be able to the perform operation. See aws s3 download help for additional parameter options to ignore or force these transfers.\n",
      "warning: Skipping file s3://mousebrainatlas-rawdata/CSHL_data/MD589/MD589-IHC27-2015.07.30-23.06.26_MD589_2_0080_lossless.jp2. Object is of storage class GLACIER. Unable to perform download operations on GLACIER objects. You must restore the object to be able to the perform operation. See aws s3 download help for additional parameter options to ignore or force these transfers.\n",
      "warning: Skipping file s3://mousebrainatlas-rawdata/CSHL_data/MD589/MD589-IHC27-2015.07.30-23.06.26_MD589_3_0081_lossless.jp2. Object is of storage class GLACIER. Unable to perform download operations on GLACIER objects. You must restore the object to be able to the perform operation. See aws s3 download help for additional parameter options to ignore or force these transfers.\n",
      "warning: Skipping file s3://mousebrainatlas-rawdata/CSHL_data/MD589/MD589-IHC28-2015.07.30-23.11.15_MD589_1_0082_lossless.jp2. Object is of storage class GLACIER. Unable to perform download operations on GLACIER objects. You must restore the object to be able to the perform operation. See aws s3 download help for additional parameter options to ignore or force these transfers.\n",
      "warning: Skipping file s3://mousebrainatlas-rawdata/CSHL_data/MD589/MD589-IHC28-2015.07.30-23.11.15_MD589_2_0083_lossless.jp2. Object is of storage class GLACIER. Unable to perform download operations on GLACIER objects. You must restore the object to be able to the perform operation. See aws s3 download help for additional parameter options to ignore or force these transfers.\n",
      "warning: Skipping file s3://mousebrainatlas-rawdata/CSHL_data/MD589/MD589-IHC28-2015.07.30-23.11.15_MD589_3_0084_lossless.jp2. Object is of storage class GLACIER. Unable to perform download operations on GLACIER objects. You must restore the object to be able to the perform operation. See aws s3 download help for additional parameter options to ignore or force these transfers.\n",
      "warning: Skipping file s3://mousebrainatlas-rawdata/CSHL_data/MD589/MD589-IHC29-2015.07.30-23.16.01_MD589_1_0085_lossless.jp2. Object is of storage class GLACIER. Unable to perform download operations on GLACIER objects. You must restore the object to be able to the perform operation. See aws s3 download help for additional parameter options to ignore or force these transfers.\n",
      "warning: Skipping file s3://mousebrainatlas-rawdata/CSHL_data/MD589/MD589-IHC29-2015.07.30-23.16.01_MD589_2_0086_lossless.jp2. Object is of storage class GLACIER. Unable to perform download operations on GLACIER objects. You must restore the object to be able to the perform operation. See aws s3 download help for additional parameter options to ignore or force these transfers.\n",
      "warning: Skipping file s3://mousebrainatlas-rawdata/CSHL_data/MD589/MD589-IHC29-2015.07.30-23.16.01_MD589_3_0087_lossless.jp2. Object is of storage class GLACIER. Unable to perform download operations on GLACIER objects. You must restore the object to be able to the perform operation. See aws s3 download help for additional parameter options to ignore or force these transfers.\n",
      "warning: Skipping file s3://mousebrainatlas-rawdata/CSHL_data/MD589/MD589-IHC3-2015.07.30-21.34.34_MD589_1_0007_lossless.jp2. Object is of storage class GLACIER. Unable to perform download operations on GLACIER objects. You must restore the object to be able to the perform operation. See aws s3 download help for additional parameter options to ignore or force these transfers.\n",
      "warning: Skipping file s3://mousebrainatlas-rawdata/CSHL_data/MD589/MD589-IHC3-2015.07.30-21.34.34_MD589_2_0008_lossless.jp2. Object is of storage class GLACIER. Unable to perform download operations on GLACIER objects. You must restore the object to be able to the perform operation. See aws s3 download help for additional parameter options to ignore or force these transfers.\n",
      "warning: Skipping file s3://mousebrainatlas-rawdata/CSHL_data/MD589/MD589-IHC3-2015.07.30-21.34.34_MD589_3_0009_lossless.jp2. Object is of storage class GLACIER. Unable to perform download operations on GLACIER objects. You must restore the object to be able to the perform operation. See aws s3 download help for additional parameter options to ignore or force these transfers.\n",
      "warning: Skipping file s3://mousebrainatlas-rawdata/CSHL_data/MD589/MD589-IHC30-2015.07.30-23.20.46_MD589_1_0088_lossless.jp2. Object is of storage class GLACIER. Unable to perform download operations on GLACIER objects. You must restore the object to be able to the perform operation. See aws s3 download help for additional parameter options to ignore or force these transfers.\n",
      "warning: Skipping file s3://mousebrainatlas-rawdata/CSHL_data/MD589/MD589-IHC30-2015.07.30-23.20.46_MD589_2_0089_lossless.jp2. Object is of storage class GLACIER. Unable to perform download operations on GLACIER objects. You must restore the object to be able to the perform operation. See aws s3 download help for additional parameter options to ignore or force these transfers.\n",
      "warning: Skipping file s3://mousebrainatlas-rawdata/CSHL_data/MD589/MD589-IHC30-2015.07.30-23.20.46_MD589_3_0090_lossless.jp2. Object is of storage class GLACIER. Unable to perform download operations on GLACIER objects. You must restore the object to be able to the perform operation. See aws s3 download help for additional parameter options to ignore or force these transfers.\n",
      "warning: Skipping file s3://mousebrainatlas-rawdata/CSHL_data/MD589/MD589-IHC31-2015.07.30-23.26.22_MD589_1_0091_lossless.jp2. Object is of storage class GLACIER. Unable to perform download operations on GLACIER objects. You must restore the object to be able to the perform operation. See aws s3 download help for additional parameter options to ignore or force these transfers.\n",
      "warning: Skipping file s3://mousebrainatlas-rawdata/CSHL_data/MD589/MD589-IHC31-2015.07.30-23.26.22_MD589_2_0092_lossless.jp2. Object is of storage class GLACIER. Unable to perform download operations on GLACIER objects. You must restore the object to be able to the perform operation. See aws s3 download help for additional parameter options to ignore or force these transfers.\n",
      "warning: Skipping file s3://mousebrainatlas-rawdata/CSHL_data/MD589/MD589-IHC32-2015.07.30-23.30.34_MD589_1_0094_lossless.jp2. Object is of storage class GLACIER. Unable to perform download operations on GLACIER objects. You must restore the object to be able to the perform operation. See aws s3 download help for additional parameter options to ignore or force these transfers.\n",
      "warning: Skipping file s3://mousebrainatlas-rawdata/CSHL_data/MD589/MD589-IHC32-2015.07.30-23.30.34_MD589_2_0095_lossless.jp2. Object is of storage class GLACIER. Unable to perform download operations on GLACIER objects. You must restore the object to be able to the perform operation. See aws s3 download help for additional parameter options to ignore or force these transfers.\n",
      "warning: Skipping file s3://mousebrainatlas-rawdata/CSHL_data/MD589/MD589-IHC33-2015.07.30-23.34.35_MD589_1_0097_lossless.jp2. Object is of storage class GLACIER. Unable to perform download operations on GLACIER objects. You must restore the object to be able to the perform operation. See aws s3 download help for additional parameter options to ignore or force these transfers.\n",
      "warning: Skipping file s3://mousebrainatlas-rawdata/CSHL_data/MD589/MD589-IHC33-2015.07.30-23.34.35_MD589_2_0098_lossless.jp2. Object is of storage class GLACIER. Unable to perform download operations on GLACIER objects. You must restore the object to be able to the perform operation. See aws s3 download help for additional parameter options to ignore or force these transfers.\n",
      "warning: Skipping file s3://mousebrainatlas-rawdata/CSHL_data/MD589/MD589-IHC34-2015.07.30-23.38.35_MD589_1_0100_lossless.jp2. Object is of storage class GLACIER. Unable to perform download operations on GLACIER objects. You must restore the object to be able to the perform operation. See aws s3 download help for additional parameter options to ignore or force these transfers.\n",
      "warning: Skipping file s3://mousebrainatlas-rawdata/CSHL_data/MD589/MD589-IHC34-2015.07.30-23.38.35_MD589_2_0101_lossless.jp2. Object is of storage class GLACIER. Unable to perform download operations on GLACIER objects. You must restore the object to be able to the perform operation. See aws s3 download help for additional parameter options to ignore or force these transfers.\n",
      "warning: Skipping file s3://mousebrainatlas-rawdata/CSHL_data/MD589/MD589-IHC35-2015.07.30-23.42.32_MD589_1_0103_lossless.jp2. Object is of storage class GLACIER. Unable to perform download operations on GLACIER objects. You must restore the object to be able to the perform operation. See aws s3 download help for additional parameter options to ignore or force these transfers.\n",
      "warning: Skipping file s3://mousebrainatlas-rawdata/CSHL_data/MD589/MD589-IHC35-2015.07.30-23.42.32_MD589_2_0104_lossless.jp2. Object is of storage class GLACIER. Unable to perform download operations on GLACIER objects. You must restore the object to be able to the perform operation. See aws s3 download help for additional parameter options to ignore or force these transfers.\n",
      "warning: Skipping file s3://mousebrainatlas-rawdata/CSHL_data/MD589/MD589-IHC36-2015.07.30-23.46.36_MD589_1_0106_lossless.jp2. Object is of storage class GLACIER. Unable to perform download operations on GLACIER objects. You must restore the object to be able to the perform operation. See aws s3 download help for additional parameter options to ignore or force these transfers.\n",
      "warning: Skipping file s3://mousebrainatlas-rawdata/CSHL_data/MD589/MD589-IHC36-2015.07.30-23.46.36_MD589_2_0107_lossless.jp2. Object is of storage class GLACIER. Unable to perform download operations on GLACIER objects. You must restore the object to be able to the perform operation. See aws s3 download help for additional parameter options to ignore or force these transfers.\n",
      "warning: Skipping file s3://mousebrainatlas-rawdata/CSHL_data/MD589/MD589-IHC37-2015.07.30-23.50.39_MD589_1_0109_lossless.jp2. Object is of storage class GLACIER. Unable to perform download operations on GLACIER objects. You must restore the object to be able to the perform operation. See aws s3 download help for additional parameter options to ignore or force these transfers.\n",
      "warning: Skipping file s3://mousebrainatlas-rawdata/CSHL_data/MD589/MD589-IHC37-2015.07.30-23.50.39_MD589_2_0110_lossless.jp2. Object is of storage class GLACIER. Unable to perform download operations on GLACIER objects. You must restore the object to be able to the perform operation. See aws s3 download help for additional parameter options to ignore or force these transfers.\n",
      "warning: Skipping file s3://mousebrainatlas-rawdata/CSHL_data/MD589/MD589-IHC38-2015.07.30-23.54.24_MD589_1_0112_lossless.jp2. Object is of storage class GLACIER. Unable to perform download operations on GLACIER objects. You must restore the object to be able to the perform operation. See aws s3 download help for additional parameter options to ignore or force these transfers.\n",
      "warning: Skipping file s3://mousebrainatlas-rawdata/CSHL_data/MD589/MD589-IHC38-2015.07.30-23.54.24_MD589_2_0113_lossless.jp2. Object is of storage class GLACIER. Unable to perform download operations on GLACIER objects. You must restore the object to be able to the perform operation. See aws s3 download help for additional parameter options to ignore or force these transfers.\n",
      "warning: Skipping file s3://mousebrainatlas-rawdata/CSHL_data/MD589/MD589-IHC39-2015.07.30-23.58.27_MD589_1_0115_lossless.jp2. Object is of storage class GLACIER. Unable to perform download operations on GLACIER objects. You must restore the object to be able to the perform operation. See aws s3 download help for additional parameter options to ignore or force these transfers.\n",
      "warning: Skipping file s3://mousebrainatlas-rawdata/CSHL_data/MD589/MD589-IHC39-2015.07.30-23.58.27_MD589_2_0116_lossless.jp2. Object is of storage class GLACIER. Unable to perform download operations on GLACIER objects. You must restore the object to be able to the perform operation. See aws s3 download help for additional parameter options to ignore or force these transfers.\n",
      "warning: Skipping file s3://mousebrainatlas-rawdata/CSHL_data/MD589/MD589-IHC4-2015.07.30-21.37.21_MD589_1_0010_lossless.jp2. Object is of storage class GLACIER. Unable to perform download operations on GLACIER objects. You must restore the object to be able to the perform operation. See aws s3 download help for additional parameter options to ignore or force these transfers.\n",
      "warning: Skipping file s3://mousebrainatlas-rawdata/CSHL_data/MD589/MD589-IHC4-2015.07.30-21.37.21_MD589_2_0011_lossless.jp2. Object is of storage class GLACIER. Unable to perform download operations on GLACIER objects. You must restore the object to be able to the perform operation. See aws s3 download help for additional parameter options to ignore or force these transfers.\n",
      "warning: Skipping file s3://mousebrainatlas-rawdata/CSHL_data/MD589/MD589-IHC4-2015.07.30-21.37.21_MD589_3_0012_lossless.jp2. Object is of storage class GLACIER. Unable to perform download operations on GLACIER objects. You must restore the object to be able to the perform operation. See aws s3 download help for additional parameter options to ignore or force these transfers.\n",
      "warning: Skipping file s3://mousebrainatlas-rawdata/CSHL_data/MD589/MD589-IHC40-2015.07.31-00.02.21_MD589_1_0118_lossless.jp2. Object is of storage class GLACIER. Unable to perform download operations on GLACIER objects. You must restore the object to be able to the perform operation. See aws s3 download help for additional parameter options to ignore or force these transfers.\n",
      "warning: Skipping file s3://mousebrainatlas-rawdata/CSHL_data/MD589/MD589-IHC40-2015.07.31-00.02.21_MD589_2_0119_lossless.jp2. Object is of storage class GLACIER. Unable to perform download operations on GLACIER objects. You must restore the object to be able to the perform operation. See aws s3 download help for additional parameter options to ignore or force these transfers.\n",
      "warning: Skipping file s3://mousebrainatlas-rawdata/CSHL_data/MD589/MD589-IHC41-2015.07.31-00.06.24_MD589_1_0121_lossless.jp2. Object is of storage class GLACIER. Unable to perform download operations on GLACIER objects. You must restore the object to be able to the perform operation. See aws s3 download help for additional parameter options to ignore or force these transfers.\n",
      "warning: Skipping file s3://mousebrainatlas-rawdata/CSHL_data/MD589/MD589-IHC41-2015.07.31-00.06.24_MD589_2_0122_lossless.jp2. Object is of storage class GLACIER. Unable to perform download operations on GLACIER objects. You must restore the object to be able to the perform operation. See aws s3 download help for additional parameter options to ignore or force these transfers.\n",
      "warning: Skipping file s3://mousebrainatlas-rawdata/CSHL_data/MD589/MD589-IHC42-2015.07.31-00.10.45_MD589_1_0124_lossless.jp2. Object is of storage class GLACIER. Unable to perform download operations on GLACIER objects. You must restore the object to be able to the perform operation. See aws s3 download help for additional parameter options to ignore or force these transfers.\n",
      "warning: Skipping file s3://mousebrainatlas-rawdata/CSHL_data/MD589/MD589-IHC42-2015.07.31-00.10.45_MD589_2_0125_lossless.jp2. Object is of storage class GLACIER. Unable to perform download operations on GLACIER objects. You must restore the object to be able to the perform operation. See aws s3 download help for additional parameter options to ignore or force these transfers.\n",
      "warning: Skipping file s3://mousebrainatlas-rawdata/CSHL_data/MD589/MD589-IHC43-2015.07.31-00.14.56_MD589_1_0127_lossless.jp2. Object is of storage class GLACIER. Unable to perform download operations on GLACIER objects. You must restore the object to be able to the perform operation. See aws s3 download help for additional parameter options to ignore or force these transfers.\n",
      "warning: Skipping file s3://mousebrainatlas-rawdata/CSHL_data/MD589/MD589-IHC43-2015.07.31-00.14.56_MD589_2_0128_lossless.jp2. Object is of storage class GLACIER. Unable to perform download operations on GLACIER objects. You must restore the object to be able to the perform operation. See aws s3 download help for additional parameter options to ignore or force these transfers.\n",
      "warning: Skipping file s3://mousebrainatlas-rawdata/CSHL_data/MD589/MD589-IHC44-2015.07.31-00.18.50_MD589_1_0130_lossless.jp2. Object is of storage class GLACIER. Unable to perform download operations on GLACIER objects. You must restore the object to be able to the perform operation. See aws s3 download help for additional parameter options to ignore or force these transfers.\n",
      "warning: Skipping file s3://mousebrainatlas-rawdata/CSHL_data/MD589/MD589-IHC44-2015.07.31-00.18.50_MD589_2_0131_lossless.jp2. Object is of storage class GLACIER. Unable to perform download operations on GLACIER objects. You must restore the object to be able to the perform operation. See aws s3 download help for additional parameter options to ignore or force these transfers.\n",
      "warning: Skipping file s3://mousebrainatlas-rawdata/CSHL_data/MD589/MD589-IHC45-2015.07.31-00.23.02_MD589_1_0133_lossless.jp2. Object is of storage class GLACIER. Unable to perform download operations on GLACIER objects. You must restore the object to be able to the perform operation. See aws s3 download help for additional parameter options to ignore or force these transfers.\n",
      "warning: Skipping file s3://mousebrainatlas-rawdata/CSHL_data/MD589/MD589-IHC45-2015.07.31-00.23.02_MD589_2_0134_lossless.jp2. Object is of storage class GLACIER. Unable to perform download operations on GLACIER objects. You must restore the object to be able to the perform operation. See aws s3 download help for additional parameter options to ignore or force these transfers.\n",
      "warning: Skipping file s3://mousebrainatlas-rawdata/CSHL_data/MD589/MD589-IHC46-2015.07.31-00.27.07_MD589_1_0136_lossless.jp2. Object is of storage class GLACIER. Unable to perform download operations on GLACIER objects. You must restore the object to be able to the perform operation. See aws s3 download help for additional parameter options to ignore or force these transfers.\n",
      "warning: Skipping file s3://mousebrainatlas-rawdata/CSHL_data/MD589/MD589-IHC46-2015.07.31-00.27.07_MD589_2_0137_lossless.jp2. Object is of storage class GLACIER. Unable to perform download operations on GLACIER objects. You must restore the object to be able to the perform operation. See aws s3 download help for additional parameter options to ignore or force these transfers.\n",
      "warning: Skipping file s3://mousebrainatlas-rawdata/CSHL_data/MD589/MD589-IHC47-2015.07.31-00.31.08_MD589_1_0139_lossless.jp2. Object is of storage class GLACIER. Unable to perform download operations on GLACIER objects. You must restore the object to be able to the perform operation. See aws s3 download help for additional parameter options to ignore or force these transfers.\n",
      "warning: Skipping file s3://mousebrainatlas-rawdata/CSHL_data/MD589/MD589-IHC47-2015.07.31-00.31.08_MD589_2_0140_lossless.jp2. Object is of storage class GLACIER. Unable to perform download operations on GLACIER objects. You must restore the object to be able to the perform operation. See aws s3 download help for additional parameter options to ignore or force these transfers.\n",
      "warning: Skipping file s3://mousebrainatlas-rawdata/CSHL_data/MD589/MD589-IHC48-2015.07.31-00.35.14_MD589_1_0142_lossless.jp2. Object is of storage class GLACIER. Unable to perform download operations on GLACIER objects. You must restore the object to be able to the perform operation. See aws s3 download help for additional parameter options to ignore or force these transfers.\n",
      "warning: Skipping file s3://mousebrainatlas-rawdata/CSHL_data/MD589/MD589-IHC48-2015.07.31-00.35.14_MD589_2_0143_lossless.jp2. Object is of storage class GLACIER. Unable to perform download operations on GLACIER objects. You must restore the object to be able to the perform operation. See aws s3 download help for additional parameter options to ignore or force these transfers.\n",
      "warning: Skipping file s3://mousebrainatlas-rawdata/CSHL_data/MD589/MD589-IHC49-2015.07.31-00.39.15_MD589_1_0145_lossless.jp2. Object is of storage class GLACIER. Unable to perform download operations on GLACIER objects. You must restore the object to be able to the perform operation. See aws s3 download help for additional parameter options to ignore or force these transfers.\n",
      "warning: Skipping file s3://mousebrainatlas-rawdata/CSHL_data/MD589/MD589-IHC49-2015.07.31-00.39.15_MD589_2_0146_lossless.jp2. Object is of storage class GLACIER. Unable to perform download operations on GLACIER objects. You must restore the object to be able to the perform operation. See aws s3 download help for additional parameter options to ignore or force these transfers.\n",
      "warning: Skipping file s3://mousebrainatlas-rawdata/CSHL_data/MD589/MD589-IHC5-2015.07.30-21.40.24_MD589_1_0013_lossless.jp2. Object is of storage class GLACIER. Unable to perform download operations on GLACIER objects. You must restore the object to be able to the perform operation. See aws s3 download help for additional parameter options to ignore or force these transfers.\n",
      "warning: Skipping file s3://mousebrainatlas-rawdata/CSHL_data/MD589/MD589-IHC5-2015.07.30-21.40.24_MD589_2_0014_lossless.jp2. Object is of storage class GLACIER. Unable to perform download operations on GLACIER objects. You must restore the object to be able to the perform operation. See aws s3 download help for additional parameter options to ignore or force these transfers.\n",
      "warning: Skipping file s3://mousebrainatlas-rawdata/CSHL_data/MD589/MD589-IHC5-2015.07.30-21.40.24_MD589_3_0015_lossless.jp2. Object is of storage class GLACIER. Unable to perform download operations on GLACIER objects. You must restore the object to be able to the perform operation. See aws s3 download help for additional parameter options to ignore or force these transfers.\n",
      "warning: Skipping file s3://mousebrainatlas-rawdata/CSHL_data/MD589/MD589-IHC50-2015.07.31-00.43.12_MD589_1_0148_lossless.jp2. Object is of storage class GLACIER. Unable to perform download operations on GLACIER objects. You must restore the object to be able to the perform operation. See aws s3 download help for additional parameter options to ignore or force these transfers.\n",
      "warning: Skipping file s3://mousebrainatlas-rawdata/CSHL_data/MD589/MD589-IHC50-2015.07.31-00.43.12_MD589_2_0149_lossless.jp2. Object is of storage class GLACIER. Unable to perform download operations on GLACIER objects. You must restore the object to be able to the perform operation. See aws s3 download help for additional parameter options to ignore or force these transfers.\n",
      "warning: Skipping file s3://mousebrainatlas-rawdata/CSHL_data/MD589/MD589-IHC51-2015.07.31-00.47.11_MD589_1_0151_lossless.jp2. Object is of storage class GLACIER. Unable to perform download operations on GLACIER objects. You must restore the object to be able to the perform operation. See aws s3 download help for additional parameter options to ignore or force these transfers.\n",
      "warning: Skipping file s3://mousebrainatlas-rawdata/CSHL_data/MD589/MD589-IHC51-2015.07.31-00.47.11_MD589_2_0152_lossless.jp2. Object is of storage class GLACIER. Unable to perform download operations on GLACIER objects. You must restore the object to be able to the perform operation. See aws s3 download help for additional parameter options to ignore or force these transfers.\n",
      "warning: Skipping file s3://mousebrainatlas-rawdata/CSHL_data/MD589/MD589-IHC51-2015.07.31-00.47.11_MD589_3_0153_lossless.jp2. Object is of storage class GLACIER. Unable to perform download operations on GLACIER objects. You must restore the object to be able to the perform operation. See aws s3 download help for additional parameter options to ignore or force these transfers.\n",
      "warning: Skipping file s3://mousebrainatlas-rawdata/CSHL_data/MD589/MD589-IHC52-2015.07.31-00.52.41_MD589_1_0154_lossless.jp2. Object is of storage class GLACIER. Unable to perform download operations on GLACIER objects. You must restore the object to be able to the perform operation. See aws s3 download help for additional parameter options to ignore or force these transfers.\n",
      "warning: Skipping file s3://mousebrainatlas-rawdata/CSHL_data/MD589/MD589-IHC52-2015.07.31-00.52.41_MD589_2_0155_lossless.jp2. Object is of storage class GLACIER. Unable to perform download operations on GLACIER objects. You must restore the object to be able to the perform operation. See aws s3 download help for additional parameter options to ignore or force these transfers.\n",
      "warning: Skipping file s3://mousebrainatlas-rawdata/CSHL_data/MD589/MD589-IHC52-2015.07.31-00.52.41_MD589_3_0156_lossless.jp2. Object is of storage class GLACIER. Unable to perform download operations on GLACIER objects. You must restore the object to be able to the perform operation. See aws s3 download help for additional parameter options to ignore or force these transfers.\n",
      "warning: Skipping file s3://mousebrainatlas-rawdata/CSHL_data/MD589/MD589-IHC53-2015.07.31-00.58.06_MD589_1_0157_lossless.jp2. Object is of storage class GLACIER. Unable to perform download operations on GLACIER objects. You must restore the object to be able to the perform operation. See aws s3 download help for additional parameter options to ignore or force these transfers.\n",
      "warning: Skipping file s3://mousebrainatlas-rawdata/CSHL_data/MD589/MD589-IHC53-2015.07.31-00.58.06_MD589_2_0158_lossless.jp2. Object is of storage class GLACIER. Unable to perform download operations on GLACIER objects. You must restore the object to be able to the perform operation. See aws s3 download help for additional parameter options to ignore or force these transfers.\n",
      "warning: Skipping file s3://mousebrainatlas-rawdata/CSHL_data/MD589/MD589-IHC53-2015.07.31-00.58.06_MD589_3_0159_lossless.jp2. Object is of storage class GLACIER. Unable to perform download operations on GLACIER objects. You must restore the object to be able to the perform operation. See aws s3 download help for additional parameter options to ignore or force these transfers.\n",
      "warning: Skipping file s3://mousebrainatlas-rawdata/CSHL_data/MD589/MD589-IHC54-2015.07.31-01.03.25_MD589_1_0160_lossless.jp2. Object is of storage class GLACIER. Unable to perform download operations on GLACIER objects. You must restore the object to be able to the perform operation. See aws s3 download help for additional parameter options to ignore or force these transfers.\n",
      "warning: Skipping file s3://mousebrainatlas-rawdata/CSHL_data/MD589/MD589-IHC54-2015.07.31-01.03.25_MD589_2_0161_lossless.jp2. Object is of storage class GLACIER. Unable to perform download operations on GLACIER objects. You must restore the object to be able to the perform operation. See aws s3 download help for additional parameter options to ignore or force these transfers.\n",
      "warning: Skipping file s3://mousebrainatlas-rawdata/CSHL_data/MD589/MD589-IHC54-2015.07.31-01.03.25_MD589_3_0162_lossless.jp2. Object is of storage class GLACIER. Unable to perform download operations on GLACIER objects. You must restore the object to be able to the perform operation. See aws s3 download help for additional parameter options to ignore or force these transfers.\n",
      "warning: Skipping file s3://mousebrainatlas-rawdata/CSHL_data/MD589/MD589-IHC55-2015.07.31-01.08.44_MD589_1_0163_lossless.jp2. Object is of storage class GLACIER. Unable to perform download operations on GLACIER objects. You must restore the object to be able to the perform operation. See aws s3 download help for additional parameter options to ignore or force these transfers.\n",
      "warning: Skipping file s3://mousebrainatlas-rawdata/CSHL_data/MD589/MD589-IHC55-2015.07.31-01.08.44_MD589_2_0164_lossless.jp2. Object is of storage class GLACIER. Unable to perform download operations on GLACIER objects. You must restore the object to be able to the perform operation. See aws s3 download help for additional parameter options to ignore or force these transfers.\n",
      "warning: Skipping file s3://mousebrainatlas-rawdata/CSHL_data/MD589/MD589-IHC55-2015.07.31-01.08.44_MD589_3_0165_lossless.jp2. Object is of storage class GLACIER. Unable to perform download operations on GLACIER objects. You must restore the object to be able to the perform operation. See aws s3 download help for additional parameter options to ignore or force these transfers.\n",
      "warning: Skipping file s3://mousebrainatlas-rawdata/CSHL_data/MD589/MD589-IHC56-2015.07.31-01.13.31_MD589_1_0166_lossless.jp2. Object is of storage class GLACIER. Unable to perform download operations on GLACIER objects. You must restore the object to be able to the perform operation. See aws s3 download help for additional parameter options to ignore or force these transfers.\n",
      "warning: Skipping file s3://mousebrainatlas-rawdata/CSHL_data/MD589/MD589-IHC56-2015.07.31-01.13.31_MD589_2_0167_lossless.jp2. Object is of storage class GLACIER. Unable to perform download operations on GLACIER objects. You must restore the object to be able to the perform operation. See aws s3 download help for additional parameter options to ignore or force these transfers.\n",
      "warning: Skipping file s3://mousebrainatlas-rawdata/CSHL_data/MD589/MD589-IHC56-2015.07.31-01.13.31_MD589_3_0168_lossless.jp2. Object is of storage class GLACIER. Unable to perform download operations on GLACIER objects. You must restore the object to be able to the perform operation. See aws s3 download help for additional parameter options to ignore or force these transfers.\n",
      "warning: Skipping file s3://mousebrainatlas-rawdata/CSHL_data/MD589/MD589-IHC57-2015.07.31-01.18.16_MD589_1_0169_lossless.jp2. Object is of storage class GLACIER. Unable to perform download operations on GLACIER objects. You must restore the object to be able to the perform operation. See aws s3 download help for additional parameter options to ignore or force these transfers.\n",
      "warning: Skipping file s3://mousebrainatlas-rawdata/CSHL_data/MD589/MD589-IHC57-2015.07.31-01.18.16_MD589_2_0170_lossless.jp2. Object is of storage class GLACIER. Unable to perform download operations on GLACIER objects. You must restore the object to be able to the perform operation. See aws s3 download help for additional parameter options to ignore or force these transfers.\n",
      "warning: Skipping file s3://mousebrainatlas-rawdata/CSHL_data/MD589/MD589-IHC57-2015.07.31-01.18.16_MD589_3_0171_lossless.jp2. Object is of storage class GLACIER. Unable to perform download operations on GLACIER objects. You must restore the object to be able to the perform operation. See aws s3 download help for additional parameter options to ignore or force these transfers.\n",
      "warning: Skipping file s3://mousebrainatlas-rawdata/CSHL_data/MD589/MD589-IHC58-2015.07.31-01.22.39_MD589_1_0172_lossless.jp2. Object is of storage class GLACIER. Unable to perform download operations on GLACIER objects. You must restore the object to be able to the perform operation. See aws s3 download help for additional parameter options to ignore or force these transfers.\n",
      "warning: Skipping file s3://mousebrainatlas-rawdata/CSHL_data/MD589/MD589-IHC58-2015.07.31-01.22.39_MD589_2_0173_lossless.jp2. Object is of storage class GLACIER. Unable to perform download operations on GLACIER objects. You must restore the object to be able to the perform operation. See aws s3 download help for additional parameter options to ignore or force these transfers.\n",
      "warning: Skipping file s3://mousebrainatlas-rawdata/CSHL_data/MD589/MD589-IHC58-2015.07.31-01.22.39_MD589_3_0174_lossless.jp2. Object is of storage class GLACIER. Unable to perform download operations on GLACIER objects. You must restore the object to be able to the perform operation. See aws s3 download help for additional parameter options to ignore or force these transfers.\n",
      "warning: Skipping file s3://mousebrainatlas-rawdata/CSHL_data/MD589/MD589-IHC59-2015.07.31-01.26.55_MD589_1_0175_lossless.jp2. Object is of storage class GLACIER. Unable to perform download operations on GLACIER objects. You must restore the object to be able to the perform operation. See aws s3 download help for additional parameter options to ignore or force these transfers.\n",
      "warning: Skipping file s3://mousebrainatlas-rawdata/CSHL_data/MD589/MD589-IHC59-2015.07.31-01.26.55_MD589_2_0176_lossless.jp2. Object is of storage class GLACIER. Unable to perform download operations on GLACIER objects. You must restore the object to be able to the perform operation. See aws s3 download help for additional parameter options to ignore or force these transfers.\n",
      "warning: Skipping file s3://mousebrainatlas-rawdata/CSHL_data/MD589/MD589-IHC59-2015.07.31-01.26.55_MD589_3_0177_lossless.jp2. Object is of storage class GLACIER. Unable to perform download operations on GLACIER objects. You must restore the object to be able to the perform operation. See aws s3 download help for additional parameter options to ignore or force these transfers.\n",
      "warning: Skipping file s3://mousebrainatlas-rawdata/CSHL_data/MD589/MD589-IHC6-2015.07.30-21.43.32_MD589_1_0016_lossless.jp2. Object is of storage class GLACIER. Unable to perform download operations on GLACIER objects. You must restore the object to be able to the perform operation. See aws s3 download help for additional parameter options to ignore or force these transfers.\n",
      "warning: Skipping file s3://mousebrainatlas-rawdata/CSHL_data/MD589/MD589-IHC6-2015.07.30-21.43.32_MD589_2_0017_lossless.jp2. Object is of storage class GLACIER. Unable to perform download operations on GLACIER objects. You must restore the object to be able to the perform operation. See aws s3 download help for additional parameter options to ignore or force these transfers.\n",
      "warning: Skipping file s3://mousebrainatlas-rawdata/CSHL_data/MD589/MD589-IHC6-2015.07.30-21.43.32_MD589_3_0018_lossless.jp2. Object is of storage class GLACIER. Unable to perform download operations on GLACIER objects. You must restore the object to be able to the perform operation. See aws s3 download help for additional parameter options to ignore or force these transfers.\n",
      "warning: Skipping file s3://mousebrainatlas-rawdata/CSHL_data/MD589/MD589-IHC60-2015.07.31-01.31.11_MD589_1_0178_lossless.jp2. Object is of storage class GLACIER. Unable to perform download operations on GLACIER objects. You must restore the object to be able to the perform operation. See aws s3 download help for additional parameter options to ignore or force these transfers.\n",
      "warning: Skipping file s3://mousebrainatlas-rawdata/CSHL_data/MD589/MD589-IHC60-2015.07.31-01.31.11_MD589_2_0179_lossless.jp2. Object is of storage class GLACIER. Unable to perform download operations on GLACIER objects. You must restore the object to be able to the perform operation. See aws s3 download help for additional parameter options to ignore or force these transfers.\n",
      "warning: Skipping file s3://mousebrainatlas-rawdata/CSHL_data/MD589/MD589-IHC60-2015.07.31-01.31.11_MD589_3_0180_lossless.jp2. Object is of storage class GLACIER. Unable to perform download operations on GLACIER objects. You must restore the object to be able to the perform operation. See aws s3 download help for additional parameter options to ignore or force these transfers.\n",
      "warning: Skipping file s3://mousebrainatlas-rawdata/CSHL_data/MD589/MD589-IHC61-2015.07.31-01.35.17_MD589_1_0181_lossless.jp2. Object is of storage class GLACIER. Unable to perform download operations on GLACIER objects. You must restore the object to be able to the perform operation. See aws s3 download help for additional parameter options to ignore or force these transfers.\n",
      "warning: Skipping file s3://mousebrainatlas-rawdata/CSHL_data/MD589/MD589-IHC61-2015.07.31-01.35.17_MD589_2_0182_lossless.jp2. Object is of storage class GLACIER. Unable to perform download operations on GLACIER objects. You must restore the object to be able to the perform operation. See aws s3 download help for additional parameter options to ignore or force these transfers.\n",
      "warning: Skipping file s3://mousebrainatlas-rawdata/CSHL_data/MD589/MD589-IHC61-2015.07.31-01.35.17_MD589_3_0183_lossless.jp2. Object is of storage class GLACIER. Unable to perform download operations on GLACIER objects. You must restore the object to be able to the perform operation. See aws s3 download help for additional parameter options to ignore or force these transfers.\n",
      "warning: Skipping file s3://mousebrainatlas-rawdata/CSHL_data/MD589/MD589-IHC62-2015.07.31-01.39.26_MD589_1_0184_lossless.jp2. Object is of storage class GLACIER. Unable to perform download operations on GLACIER objects. You must restore the object to be able to the perform operation. See aws s3 download help for additional parameter options to ignore or force these transfers.\n",
      "warning: Skipping file s3://mousebrainatlas-rawdata/CSHL_data/MD589/MD589-IHC62-2015.07.31-01.39.26_MD589_2_0185_lossless.jp2. Object is of storage class GLACIER. Unable to perform download operations on GLACIER objects. You must restore the object to be able to the perform operation. See aws s3 download help for additional parameter options to ignore or force these transfers.\n",
      "warning: Skipping file s3://mousebrainatlas-rawdata/CSHL_data/MD589/MD589-IHC62-2015.07.31-01.39.26_MD589_3_0186_lossless.jp2. Object is of storage class GLACIER. Unable to perform download operations on GLACIER objects. You must restore the object to be able to the perform operation. See aws s3 download help for additional parameter options to ignore or force these transfers.\n",
      "warning: Skipping file s3://mousebrainatlas-rawdata/CSHL_data/MD589/MD589-IHC63-2015.07.31-01.43.31_MD589_1_0187_lossless.jp2. Object is of storage class GLACIER. Unable to perform download operations on GLACIER objects. You must restore the object to be able to the perform operation. See aws s3 download help for additional parameter options to ignore or force these transfers.\n",
      "warning: Skipping file s3://mousebrainatlas-rawdata/CSHL_data/MD589/MD589-IHC63-2015.07.31-01.43.31_MD589_2_0188_lossless.jp2. Object is of storage class GLACIER. Unable to perform download operations on GLACIER objects. You must restore the object to be able to the perform operation. See aws s3 download help for additional parameter options to ignore or force these transfers.\n",
      "warning: Skipping file s3://mousebrainatlas-rawdata/CSHL_data/MD589/MD589-IHC63-2015.07.31-01.43.31_MD589_3_0189_lossless.jp2. Object is of storage class GLACIER. Unable to perform download operations on GLACIER objects. You must restore the object to be able to the perform operation. See aws s3 download help for additional parameter options to ignore or force these transfers.\n",
      "warning: Skipping file s3://mousebrainatlas-rawdata/CSHL_data/MD589/MD589-IHC64-2015.07.31-01.47.28_MD589_1_0190_lossless.jp2. Object is of storage class GLACIER. Unable to perform download operations on GLACIER objects. You must restore the object to be able to the perform operation. See aws s3 download help for additional parameter options to ignore or force these transfers.\n",
      "warning: Skipping file s3://mousebrainatlas-rawdata/CSHL_data/MD589/MD589-IHC64-2015.07.31-01.47.28_MD589_2_0191_lossless.jp2. Object is of storage class GLACIER. Unable to perform download operations on GLACIER objects. You must restore the object to be able to the perform operation. See aws s3 download help for additional parameter options to ignore or force these transfers.\n",
      "warning: Skipping file s3://mousebrainatlas-rawdata/CSHL_data/MD589/MD589-IHC64-2015.07.31-01.47.28_MD589_3_0192_lossless.jp2. Object is of storage class GLACIER. Unable to perform download operations on GLACIER objects. You must restore the object to be able to the perform operation. See aws s3 download help for additional parameter options to ignore or force these transfers.\n",
      "warning: Skipping file s3://mousebrainatlas-rawdata/CSHL_data/MD589/MD589-IHC65-2015.07.31-01.51.22_MD589_1_0193_lossless.jp2. Object is of storage class GLACIER. Unable to perform download operations on GLACIER objects. You must restore the object to be able to the perform operation. See aws s3 download help for additional parameter options to ignore or force these transfers.\n",
      "warning: Skipping file s3://mousebrainatlas-rawdata/CSHL_data/MD589/MD589-IHC65-2015.07.31-01.51.22_MD589_2_0194_lossless.jp2. Object is of storage class GLACIER. Unable to perform download operations on GLACIER objects. You must restore the object to be able to the perform operation. See aws s3 download help for additional parameter options to ignore or force these transfers.\n",
      "warning: Skipping file s3://mousebrainatlas-rawdata/CSHL_data/MD589/MD589-IHC65-2015.07.31-01.51.22_MD589_3_0195_lossless.jp2. Object is of storage class GLACIER. Unable to perform download operations on GLACIER objects. You must restore the object to be able to the perform operation. See aws s3 download help for additional parameter options to ignore or force these transfers.\n",
      "warning: Skipping file s3://mousebrainatlas-rawdata/CSHL_data/MD589/MD589-IHC66-2015.07.31-01.55.14_MD589_1_0196_lossless.jp2. Object is of storage class GLACIER. Unable to perform download operations on GLACIER objects. You must restore the object to be able to the perform operation. See aws s3 download help for additional parameter options to ignore or force these transfers.\n",
      "warning: Skipping file s3://mousebrainatlas-rawdata/CSHL_data/MD589/MD589-IHC66-2015.07.31-01.55.14_MD589_2_0197_lossless.jp2. Object is of storage class GLACIER. Unable to perform download operations on GLACIER objects. You must restore the object to be able to the perform operation. See aws s3 download help for additional parameter options to ignore or force these transfers.\n",
      "warning: Skipping file s3://mousebrainatlas-rawdata/CSHL_data/MD589/MD589-IHC66-2015.07.31-01.55.14_MD589_3_0198_lossless.jp2. Object is of storage class GLACIER. Unable to perform download operations on GLACIER objects. You must restore the object to be able to the perform operation. See aws s3 download help for additional parameter options to ignore or force these transfers.\n",
      "warning: Skipping file s3://mousebrainatlas-rawdata/CSHL_data/MD589/MD589-IHC67-2015.07.31-01.59.20_MD589_1_0199_lossless.jp2. Object is of storage class GLACIER. Unable to perform download operations on GLACIER objects. You must restore the object to be able to the perform operation. See aws s3 download help for additional parameter options to ignore or force these transfers.\n",
      "warning: Skipping file s3://mousebrainatlas-rawdata/CSHL_data/MD589/MD589-IHC67-2015.07.31-01.59.20_MD589_2_0200_lossless.jp2. Object is of storage class GLACIER. Unable to perform download operations on GLACIER objects. You must restore the object to be able to the perform operation. See aws s3 download help for additional parameter options to ignore or force these transfers.\n",
      "warning: Skipping file s3://mousebrainatlas-rawdata/CSHL_data/MD589/MD589-IHC67-2015.07.31-01.59.20_MD589_3_0201_lossless.jp2. Object is of storage class GLACIER. Unable to perform download operations on GLACIER objects. You must restore the object to be able to the perform operation. See aws s3 download help for additional parameter options to ignore or force these transfers.\n",
      "warning: Skipping file s3://mousebrainatlas-rawdata/CSHL_data/MD589/MD589-IHC68-2015.07.31-02.03.18_MD589_1_0202_lossless.jp2. Object is of storage class GLACIER. Unable to perform download operations on GLACIER objects. You must restore the object to be able to the perform operation. See aws s3 download help for additional parameter options to ignore or force these transfers.\n",
      "warning: Skipping file s3://mousebrainatlas-rawdata/CSHL_data/MD589/MD589-IHC68-2015.07.31-02.03.18_MD589_2_0203_lossless.jp2. Object is of storage class GLACIER. Unable to perform download operations on GLACIER objects. You must restore the object to be able to the perform operation. See aws s3 download help for additional parameter options to ignore or force these transfers.\n",
      "warning: Skipping file s3://mousebrainatlas-rawdata/CSHL_data/MD589/MD589-IHC68-2015.07.31-02.03.18_MD589_3_0204_lossless.jp2. Object is of storage class GLACIER. Unable to perform download operations on GLACIER objects. You must restore the object to be able to the perform operation. See aws s3 download help for additional parameter options to ignore or force these transfers.\n",
      "warning: Skipping file s3://mousebrainatlas-rawdata/CSHL_data/MD589/MD589-IHC69-2015.07.31-02.07.15_MD589_1_0205_lossless.jp2. Object is of storage class GLACIER. Unable to perform download operations on GLACIER objects. You must restore the object to be able to the perform operation. See aws s3 download help for additional parameter options to ignore or force these transfers.\n",
      "warning: Skipping file s3://mousebrainatlas-rawdata/CSHL_data/MD589/MD589-IHC69-2015.07.31-02.07.15_MD589_2_0206_lossless.jp2. Object is of storage class GLACIER. Unable to perform download operations on GLACIER objects. You must restore the object to be able to the perform operation. See aws s3 download help for additional parameter options to ignore or force these transfers.\n",
      "warning: Skipping file s3://mousebrainatlas-rawdata/CSHL_data/MD589/MD589-IHC69-2015.07.31-02.07.15_MD589_3_0207_lossless.jp2. Object is of storage class GLACIER. Unable to perform download operations on GLACIER objects. You must restore the object to be able to the perform operation. See aws s3 download help for additional parameter options to ignore or force these transfers.\n",
      "warning: Skipping file s3://mousebrainatlas-rawdata/CSHL_data/MD589/MD589-IHC7-2015.07.30-21.46.35_MD589_1_0019_lossless.jp2. Object is of storage class GLACIER. Unable to perform download operations on GLACIER objects. You must restore the object to be able to the perform operation. See aws s3 download help for additional parameter options to ignore or force these transfers.\n",
      "warning: Skipping file s3://mousebrainatlas-rawdata/CSHL_data/MD589/MD589-IHC7-2015.07.30-21.46.35_MD589_2_0020_lossless.jp2. Object is of storage class GLACIER. Unable to perform download operations on GLACIER objects. You must restore the object to be able to the perform operation. See aws s3 download help for additional parameter options to ignore or force these transfers.\n",
      "warning: Skipping file s3://mousebrainatlas-rawdata/CSHL_data/MD589/MD589-IHC7-2015.07.30-21.46.35_MD589_3_0021_lossless.jp2. Object is of storage class GLACIER. Unable to perform download operations on GLACIER objects. You must restore the object to be able to the perform operation. See aws s3 download help for additional parameter options to ignore or force these transfers.\n",
      "warning: Skipping file s3://mousebrainatlas-rawdata/CSHL_data/MD589/MD589-IHC70-2015.07.31-02.11.06_MD589_1_0208_lossless.jp2. Object is of storage class GLACIER. Unable to perform download operations on GLACIER objects. You must restore the object to be able to the perform operation. See aws s3 download help for additional parameter options to ignore or force these transfers.\n",
      "warning: Skipping file s3://mousebrainatlas-rawdata/CSHL_data/MD589/MD589-IHC70-2015.07.31-02.11.06_MD589_2_0209_lossless.jp2. Object is of storage class GLACIER. Unable to perform download operations on GLACIER objects. You must restore the object to be able to the perform operation. See aws s3 download help for additional parameter options to ignore or force these transfers.\n",
      "warning: Skipping file s3://mousebrainatlas-rawdata/CSHL_data/MD589/MD589-IHC70-2015.07.31-02.11.06_MD589_3_0210_lossless.jp2. Object is of storage class GLACIER. Unable to perform download operations on GLACIER objects. You must restore the object to be able to the perform operation. See aws s3 download help for additional parameter options to ignore or force these transfers.\n",
      "warning: Skipping file s3://mousebrainatlas-rawdata/CSHL_data/MD589/MD589-IHC71-2015.07.31-02.15.02_MD589_1_0211_lossless.jp2. Object is of storage class GLACIER. Unable to perform download operations on GLACIER objects. You must restore the object to be able to the perform operation. See aws s3 download help for additional parameter options to ignore or force these transfers.\n",
      "warning: Skipping file s3://mousebrainatlas-rawdata/CSHL_data/MD589/MD589-IHC71-2015.07.31-02.15.02_MD589_2_0212_lossless.jp2. Object is of storage class GLACIER. Unable to perform download operations on GLACIER objects. You must restore the object to be able to the perform operation. See aws s3 download help for additional parameter options to ignore or force these transfers.\n",
      "warning: Skipping file s3://mousebrainatlas-rawdata/CSHL_data/MD589/MD589-IHC71-2015.07.31-02.15.02_MD589_3_0213_lossless.jp2. Object is of storage class GLACIER. Unable to perform download operations on GLACIER objects. You must restore the object to be able to the perform operation. See aws s3 download help for additional parameter options to ignore or force these transfers.\n",
      "warning: Skipping file s3://mousebrainatlas-rawdata/CSHL_data/MD589/MD589-IHC72-2015.07.31-02.18.55_MD589_1_0214_lossless.jp2. Object is of storage class GLACIER. Unable to perform download operations on GLACIER objects. You must restore the object to be able to the perform operation. See aws s3 download help for additional parameter options to ignore or force these transfers.\n",
      "warning: Skipping file s3://mousebrainatlas-rawdata/CSHL_data/MD589/MD589-IHC72-2015.07.31-02.18.55_MD589_2_0215_lossless.jp2. Object is of storage class GLACIER. Unable to perform download operations on GLACIER objects. You must restore the object to be able to the perform operation. See aws s3 download help for additional parameter options to ignore or force these transfers.\n",
      "warning: Skipping file s3://mousebrainatlas-rawdata/CSHL_data/MD589/MD589-IHC72-2015.07.31-02.18.55_MD589_3_0216_lossless.jp2. Object is of storage class GLACIER. Unable to perform download operations on GLACIER objects. You must restore the object to be able to the perform operation. See aws s3 download help for additional parameter options to ignore or force these transfers.\n",
      "warning: Skipping file s3://mousebrainatlas-rawdata/CSHL_data/MD589/MD589-IHC73-2015.07.31-02.22.43_MD589_1_0217_lossless.jp2. Object is of storage class GLACIER. Unable to perform download operations on GLACIER objects. You must restore the object to be able to the perform operation. See aws s3 download help for additional parameter options to ignore or force these transfers.\n",
      "warning: Skipping file s3://mousebrainatlas-rawdata/CSHL_data/MD589/MD589-IHC73-2015.07.31-02.22.43_MD589_2_0218_lossless.jp2. Object is of storage class GLACIER. Unable to perform download operations on GLACIER objects. You must restore the object to be able to the perform operation. See aws s3 download help for additional parameter options to ignore or force these transfers.\n",
      "warning: Skipping file s3://mousebrainatlas-rawdata/CSHL_data/MD589/MD589-IHC73-2015.07.31-02.22.43_MD589_3_0219_lossless.jp2. Object is of storage class GLACIER. Unable to perform download operations on GLACIER objects. You must restore the object to be able to the perform operation. See aws s3 download help for additional parameter options to ignore or force these transfers.\n",
      "warning: Skipping file s3://mousebrainatlas-rawdata/CSHL_data/MD589/MD589-IHC74-2015.07.31-02.26.27_MD589_1_0220_lossless.jp2. Object is of storage class GLACIER. Unable to perform download operations on GLACIER objects. You must restore the object to be able to the perform operation. See aws s3 download help for additional parameter options to ignore or force these transfers.\n",
      "warning: Skipping file s3://mousebrainatlas-rawdata/CSHL_data/MD589/MD589-IHC74-2015.07.31-02.26.27_MD589_2_0221_lossless.jp2. Object is of storage class GLACIER. Unable to perform download operations on GLACIER objects. You must restore the object to be able to the perform operation. See aws s3 download help for additional parameter options to ignore or force these transfers.\n",
      "warning: Skipping file s3://mousebrainatlas-rawdata/CSHL_data/MD589/MD589-IHC74-2015.07.31-02.26.27_MD589_3_0222_lossless.jp2. Object is of storage class GLACIER. Unable to perform download operations on GLACIER objects. You must restore the object to be able to the perform operation. See aws s3 download help for additional parameter options to ignore or force these transfers.\n",
      "warning: Skipping file s3://mousebrainatlas-rawdata/CSHL_data/MD589/MD589-IHC75-2015.07.31-02.30.14_MD589_1_0223_lossless.jp2. Object is of storage class GLACIER. Unable to perform download operations on GLACIER objects. You must restore the object to be able to the perform operation. See aws s3 download help for additional parameter options to ignore or force these transfers.\n",
      "warning: Skipping file s3://mousebrainatlas-rawdata/CSHL_data/MD589/MD589-IHC75-2015.07.31-02.30.14_MD589_2_0224_lossless.jp2. Object is of storage class GLACIER. Unable to perform download operations on GLACIER objects. You must restore the object to be able to the perform operation. See aws s3 download help for additional parameter options to ignore or force these transfers.\n",
      "warning: Skipping file s3://mousebrainatlas-rawdata/CSHL_data/MD589/MD589-IHC75-2015.07.31-02.30.14_MD589_3_0225_lossless.jp2. Object is of storage class GLACIER. Unable to perform download operations on GLACIER objects. You must restore the object to be able to the perform operation. See aws s3 download help for additional parameter options to ignore or force these transfers.\n",
      "warning: Skipping file s3://mousebrainatlas-rawdata/CSHL_data/MD589/MD589-IHC76-2015.07.31-02.33.49_MD589_1_0226_lossless.jp2. Object is of storage class GLACIER. Unable to perform download operations on GLACIER objects. You must restore the object to be able to the perform operation. See aws s3 download help for additional parameter options to ignore or force these transfers.\n",
      "warning: Skipping file s3://mousebrainatlas-rawdata/CSHL_data/MD589/MD589-IHC76-2015.07.31-02.33.49_MD589_2_0227_lossless.jp2. Object is of storage class GLACIER. Unable to perform download operations on GLACIER objects. You must restore the object to be able to the perform operation. See aws s3 download help for additional parameter options to ignore or force these transfers.\n",
      "warning: Skipping file s3://mousebrainatlas-rawdata/CSHL_data/MD589/MD589-IHC76-2015.07.31-02.33.49_MD589_3_0228_lossless.jp2. Object is of storage class GLACIER. Unable to perform download operations on GLACIER objects. You must restore the object to be able to the perform operation. See aws s3 download help for additional parameter options to ignore or force these transfers.\n",
      "warning: Skipping file s3://mousebrainatlas-rawdata/CSHL_data/MD589/MD589-IHC77-2015.07.31-02.37.12_MD589_1_0229_lossless.jp2. Object is of storage class GLACIER. Unable to perform download operations on GLACIER objects. You must restore the object to be able to the perform operation. See aws s3 download help for additional parameter options to ignore or force these transfers.\n",
      "warning: Skipping file s3://mousebrainatlas-rawdata/CSHL_data/MD589/MD589-IHC77-2015.07.31-02.37.12_MD589_2_0230_lossless.jp2. Object is of storage class GLACIER. Unable to perform download operations on GLACIER objects. You must restore the object to be able to the perform operation. See aws s3 download help for additional parameter options to ignore or force these transfers.\n",
      "warning: Skipping file s3://mousebrainatlas-rawdata/CSHL_data/MD589/MD589-IHC77-2015.07.31-02.37.12_MD589_3_0231_lossless.jp2. Object is of storage class GLACIER. Unable to perform download operations on GLACIER objects. You must restore the object to be able to the perform operation. See aws s3 download help for additional parameter options to ignore or force these transfers.\n",
      "warning: Skipping file s3://mousebrainatlas-rawdata/CSHL_data/MD589/MD589-IHC78-2015.07.31-02.40.28_MD589_1_0232_lossless.jp2. Object is of storage class GLACIER. Unable to perform download operations on GLACIER objects. You must restore the object to be able to the perform operation. See aws s3 download help for additional parameter options to ignore or force these transfers.\n",
      "warning: Skipping file s3://mousebrainatlas-rawdata/CSHL_data/MD589/MD589-IHC78-2015.07.31-02.40.28_MD589_2_0233_lossless.jp2. Object is of storage class GLACIER. Unable to perform download operations on GLACIER objects. You must restore the object to be able to the perform operation. See aws s3 download help for additional parameter options to ignore or force these transfers.\n",
      "warning: Skipping file s3://mousebrainatlas-rawdata/CSHL_data/MD589/MD589-IHC78-2015.07.31-02.40.28_MD589_3_0234_lossless.jp2. Object is of storage class GLACIER. Unable to perform download operations on GLACIER objects. You must restore the object to be able to the perform operation. See aws s3 download help for additional parameter options to ignore or force these transfers.\n",
      "warning: Skipping file s3://mousebrainatlas-rawdata/CSHL_data/MD589/MD589-IHC79-2015.07.31-02.43.44_MD589_1_0235_lossless.jp2. Object is of storage class GLACIER. Unable to perform download operations on GLACIER objects. You must restore the object to be able to the perform operation. See aws s3 download help for additional parameter options to ignore or force these transfers.\n",
      "warning: Skipping file s3://mousebrainatlas-rawdata/CSHL_data/MD589/MD589-IHC79-2015.07.31-02.43.44_MD589_2_0236_lossless.jp2. Object is of storage class GLACIER. Unable to perform download operations on GLACIER objects. You must restore the object to be able to the perform operation. See aws s3 download help for additional parameter options to ignore or force these transfers.\n",
      "warning: Skipping file s3://mousebrainatlas-rawdata/CSHL_data/MD589/MD589-IHC79-2015.07.31-02.43.44_MD589_3_0237_lossless.jp2. Object is of storage class GLACIER. Unable to perform download operations on GLACIER objects. You must restore the object to be able to the perform operation. See aws s3 download help for additional parameter options to ignore or force these transfers.\n",
      "warning: Skipping file s3://mousebrainatlas-rawdata/CSHL_data/MD589/MD589-IHC8-2015.07.30-21.49.48_MD589_1_0022_lossless.jp2. Object is of storage class GLACIER. Unable to perform download operations on GLACIER objects. You must restore the object to be able to the perform operation. See aws s3 download help for additional parameter options to ignore or force these transfers.\n",
      "warning: Skipping file s3://mousebrainatlas-rawdata/CSHL_data/MD589/MD589-IHC8-2015.07.30-21.49.48_MD589_2_0023_lossless.jp2. Object is of storage class GLACIER. Unable to perform download operations on GLACIER objects. You must restore the object to be able to the perform operation. See aws s3 download help for additional parameter options to ignore or force these transfers.\n",
      "warning: Skipping file s3://mousebrainatlas-rawdata/CSHL_data/MD589/MD589-IHC8-2015.07.30-21.49.48_MD589_3_0024_lossless.jp2. Object is of storage class GLACIER. Unable to perform download operations on GLACIER objects. You must restore the object to be able to the perform operation. See aws s3 download help for additional parameter options to ignore or force these transfers.\n",
      "warning: Skipping file s3://mousebrainatlas-rawdata/CSHL_data/MD589/MD589-IHC80-2015.07.31-02.46.49_MD589_1_0238_lossless.jp2. Object is of storage class GLACIER. Unable to perform download operations on GLACIER objects. You must restore the object to be able to the perform operation. See aws s3 download help for additional parameter options to ignore or force these transfers.\n",
      "warning: Skipping file s3://mousebrainatlas-rawdata/CSHL_data/MD589/MD589-IHC80-2015.07.31-02.46.49_MD589_2_0239_lossless.jp2. Object is of storage class GLACIER. Unable to perform download operations on GLACIER objects. You must restore the object to be able to the perform operation. See aws s3 download help for additional parameter options to ignore or force these transfers.\n",
      "warning: Skipping file s3://mousebrainatlas-rawdata/CSHL_data/MD589/MD589-IHC80-2015.07.31-02.46.49_MD589_3_0240_lossless.jp2. Object is of storage class GLACIER. Unable to perform download operations on GLACIER objects. You must restore the object to be able to the perform operation. See aws s3 download help for additional parameter options to ignore or force these transfers.\n",
      "warning: Skipping file s3://mousebrainatlas-rawdata/CSHL_data/MD589/MD589-IHC81-2015.07.31-02.49.49_MD589_1_0241_lossless.jp2. Object is of storage class GLACIER. Unable to perform download operations on GLACIER objects. You must restore the object to be able to the perform operation. See aws s3 download help for additional parameter options to ignore or force these transfers.\n",
      "warning: Skipping file s3://mousebrainatlas-rawdata/CSHL_data/MD589/MD589-IHC81-2015.07.31-02.49.49_MD589_2_0242_lossless.jp2. Object is of storage class GLACIER. Unable to perform download operations on GLACIER objects. You must restore the object to be able to the perform operation. See aws s3 download help for additional parameter options to ignore or force these transfers.\n",
      "warning: Skipping file s3://mousebrainatlas-rawdata/CSHL_data/MD589/MD589-IHC81-2015.07.31-02.49.49_MD589_3_0243_lossless.jp2. Object is of storage class GLACIER. Unable to perform download operations on GLACIER objects. You must restore the object to be able to the perform operation. See aws s3 download help for additional parameter options to ignore or force these transfers.\n",
      "warning: Skipping file s3://mousebrainatlas-rawdata/CSHL_data/MD589/MD589-IHC82-2015.07.31-02.52.24_MD589_1_0244_lossless.jp2. Object is of storage class GLACIER. Unable to perform download operations on GLACIER objects. You must restore the object to be able to the perform operation. See aws s3 download help for additional parameter options to ignore or force these transfers.\n",
      "warning: Skipping file s3://mousebrainatlas-rawdata/CSHL_data/MD589/MD589-IHC82-2015.07.31-02.52.24_MD589_2_0245_lossless.jp2. Object is of storage class GLACIER. Unable to perform download operations on GLACIER objects. You must restore the object to be able to the perform operation. See aws s3 download help for additional parameter options to ignore or force these transfers.\n",
      "warning: Skipping file s3://mousebrainatlas-rawdata/CSHL_data/MD589/MD589-IHC9-2015.07.30-21.53.17_MD589_1_0025_lossless.jp2. Object is of storage class GLACIER. Unable to perform download operations on GLACIER objects. You must restore the object to be able to the perform operation. See aws s3 download help for additional parameter options to ignore or force these transfers.\n",
      "warning: Skipping file s3://mousebrainatlas-rawdata/CSHL_data/MD589/MD589-IHC9-2015.07.30-21.53.17_MD589_2_0026_lossless.jp2. Object is of storage class GLACIER. Unable to perform download operations on GLACIER objects. You must restore the object to be able to the perform operation. See aws s3 download help for additional parameter options to ignore or force these transfers.\n",
      "warning: Skipping file s3://mousebrainatlas-rawdata/CSHL_data/MD589/MD589-IHC9-2015.07.30-21.53.17_MD589_3_0027_lossless.jp2. Object is of storage class GLACIER. Unable to perform download operations on GLACIER objects. You must restore the object to be able to the perform operation. See aws s3 download help for additional parameter options to ignore or force these transfers.\n",
      "warning: Skipping file s3://mousebrainatlas-rawdata/CSHL_data/MD589/MD589-N1-2015.07.30-16.19.59_MD589_1_0001_lossless.jp2. Object is of storage class GLACIER. Unable to perform download operations on GLACIER objects. You must restore the object to be able to the perform operation. See aws s3 download help for additional parameter options to ignore or force these transfers.\n",
      "warning: Skipping file s3://mousebrainatlas-rawdata/CSHL_data/MD589/MD589-N1-2015.07.30-16.19.59_MD589_2_0002_lossless.jp2. Object is of storage class GLACIER. Unable to perform download operations on GLACIER objects. You must restore the object to be able to the perform operation. See aws s3 download help for additional parameter options to ignore or force these transfers.\n",
      "warning: Skipping file s3://mousebrainatlas-rawdata/CSHL_data/MD589/MD589-N1-2015.07.30-16.19.59_MD589_3_0003_lossless.jp2. Object is of storage class GLACIER. Unable to perform download operations on GLACIER objects. You must restore the object to be able to the perform operation. See aws s3 download help for additional parameter options to ignore or force these transfers.\n",
      "warning: Skipping file s3://mousebrainatlas-rawdata/CSHL_data/MD589/MD589-N10-2015.07.30-16.48.18_MD589_1_0028_lossless.jp2. Object is of storage class GLACIER. Unable to perform download operations on GLACIER objects. You must restore the object to be able to the perform operation. See aws s3 download help for additional parameter options to ignore or force these transfers.\n",
      "warning: Skipping file s3://mousebrainatlas-rawdata/CSHL_data/MD589/MD589-N10-2015.07.30-16.48.18_MD589_2_0029_lossless.jp2. Object is of storage class GLACIER. Unable to perform download operations on GLACIER objects. You must restore the object to be able to the perform operation. See aws s3 download help for additional parameter options to ignore or force these transfers.\n",
      "warning: Skipping file s3://mousebrainatlas-rawdata/CSHL_data/MD589/MD589-N10-2015.07.30-16.48.18_MD589_3_0030_lossless.jp2. Object is of storage class GLACIER. Unable to perform download operations on GLACIER objects. You must restore the object to be able to the perform operation. See aws s3 download help for additional parameter options to ignore or force these transfers.\n",
      "warning: Skipping file s3://mousebrainatlas-rawdata/CSHL_data/MD589/MD589-N11-2015.07.30-16.52.12_MD589_1_0031_lossless.jp2. Object is of storage class GLACIER. Unable to perform download operations on GLACIER objects. You must restore the object to be able to the perform operation. See aws s3 download help for additional parameter options to ignore or force these transfers.\n",
      "warning: Skipping file s3://mousebrainatlas-rawdata/CSHL_data/MD589/MD589-N11-2015.07.30-16.52.12_MD589_2_0032_lossless.jp2. Object is of storage class GLACIER. Unable to perform download operations on GLACIER objects. You must restore the object to be able to the perform operation. See aws s3 download help for additional parameter options to ignore or force these transfers.\n",
      "warning: Skipping file s3://mousebrainatlas-rawdata/CSHL_data/MD589/MD589-N11-2015.07.30-16.52.12_MD589_3_0033_lossless.jp2. Object is of storage class GLACIER. Unable to perform download operations on GLACIER objects. You must restore the object to be able to the perform operation. See aws s3 download help for additional parameter options to ignore or force these transfers.\n",
      "warning: Skipping file s3://mousebrainatlas-rawdata/CSHL_data/MD589/MD589-N12-2015.08.04-08.43.30_MD589_1_0034_lossless.jp2. Object is of storage class GLACIER. Unable to perform download operations on GLACIER objects. You must restore the object to be able to the perform operation. See aws s3 download help for additional parameter options to ignore or force these transfers.\n",
      "warning: Skipping file s3://mousebrainatlas-rawdata/CSHL_data/MD589/MD589-N12-2015.08.04-08.43.30_MD589_2_0035_lossless.jp2. Object is of storage class GLACIER. Unable to perform download operations on GLACIER objects. You must restore the object to be able to the perform operation. See aws s3 download help for additional parameter options to ignore or force these transfers.\n",
      "warning: Skipping file s3://mousebrainatlas-rawdata/CSHL_data/MD589/MD589-N12-2015.08.04-08.43.30_MD589_3_0036_lossless.jp2. Object is of storage class GLACIER. Unable to perform download operations on GLACIER objects. You must restore the object to be able to the perform operation. See aws s3 download help for additional parameter options to ignore or force these transfers.\n",
      "warning: Skipping file s3://mousebrainatlas-rawdata/CSHL_data/MD589/MD589-N14-2015.07.30-16.55.58_MD589_1_0040_lossless.jp2. Object is of storage class GLACIER. Unable to perform download operations on GLACIER objects. You must restore the object to be able to the perform operation. See aws s3 download help for additional parameter options to ignore or force these transfers.\n",
      "warning: Skipping file s3://mousebrainatlas-rawdata/CSHL_data/MD589/MD589-N14-2015.07.30-16.55.58_MD589_2_0041_lossless.jp2. Object is of storage class GLACIER. Unable to perform download operations on GLACIER objects. You must restore the object to be able to the perform operation. See aws s3 download help for additional parameter options to ignore or force these transfers.\n",
      "warning: Skipping file s3://mousebrainatlas-rawdata/CSHL_data/MD589/MD589-N14-2015.07.30-16.55.58_MD589_3_0042_lossless.jp2. Object is of storage class GLACIER. Unable to perform download operations on GLACIER objects. You must restore the object to be able to the perform operation. See aws s3 download help for additional parameter options to ignore or force these transfers.\n",
      "warning: Skipping file s3://mousebrainatlas-rawdata/CSHL_data/MD589/MD589-N15-2015.07.30-16.59.48_MD589_1_0043_lossless.jp2. Object is of storage class GLACIER. Unable to perform download operations on GLACIER objects. You must restore the object to be able to the perform operation. See aws s3 download help for additional parameter options to ignore or force these transfers.\n",
      "warning: Skipping file s3://mousebrainatlas-rawdata/CSHL_data/MD589/MD589-N15-2015.07.30-16.59.48_MD589_2_0044_lossless.jp2. Object is of storage class GLACIER. Unable to perform download operations on GLACIER objects. You must restore the object to be able to the perform operation. See aws s3 download help for additional parameter options to ignore or force these transfers.\n",
      "warning: Skipping file s3://mousebrainatlas-rawdata/CSHL_data/MD589/MD589-N15-2015.07.30-16.59.48_MD589_3_0045_lossless.jp2. Object is of storage class GLACIER. Unable to perform download operations on GLACIER objects. You must restore the object to be able to the perform operation. See aws s3 download help for additional parameter options to ignore or force these transfers.\n",
      "warning: Skipping file s3://mousebrainatlas-rawdata/CSHL_data/MD589/MD589-N16-2015.07.30-17.03.43_MD589_1_0046_lossless.jp2. Object is of storage class GLACIER. Unable to perform download operations on GLACIER objects. You must restore the object to be able to the perform operation. See aws s3 download help for additional parameter options to ignore or force these transfers.\n",
      "warning: Skipping file s3://mousebrainatlas-rawdata/CSHL_data/MD589/MD589-N16-2015.07.30-17.03.43_MD589_2_0047_lossless.jp2. Object is of storage class GLACIER. Unable to perform download operations on GLACIER objects. You must restore the object to be able to the perform operation. See aws s3 download help for additional parameter options to ignore or force these transfers.\n",
      "warning: Skipping file s3://mousebrainatlas-rawdata/CSHL_data/MD589/MD589-N16-2015.07.30-17.03.43_MD589_3_0048_lossless.jp2. Object is of storage class GLACIER. Unable to perform download operations on GLACIER objects. You must restore the object to be able to the perform operation. See aws s3 download help for additional parameter options to ignore or force these transfers.\n",
      "warning: Skipping file s3://mousebrainatlas-rawdata/CSHL_data/MD589/MD589-N17-2015.07.30-17.07.32_MD589_1_0049_lossless.jp2. Object is of storage class GLACIER. Unable to perform download operations on GLACIER objects. You must restore the object to be able to the perform operation. See aws s3 download help for additional parameter options to ignore or force these transfers.\n",
      "warning: Skipping file s3://mousebrainatlas-rawdata/CSHL_data/MD589/MD589-N17-2015.07.30-17.07.32_MD589_2_0050_lossless.jp2. Object is of storage class GLACIER. Unable to perform download operations on GLACIER objects. You must restore the object to be able to the perform operation. See aws s3 download help for additional parameter options to ignore or force these transfers.\n",
      "warning: Skipping file s3://mousebrainatlas-rawdata/CSHL_data/MD589/MD589-N17-2015.07.30-17.07.32_MD589_3_0051_lossless.jp2. Object is of storage class GLACIER. Unable to perform download operations on GLACIER objects. You must restore the object to be able to the perform operation. See aws s3 download help for additional parameter options to ignore or force these transfers.\n",
      "warning: Skipping file s3://mousebrainatlas-rawdata/CSHL_data/MD589/MD589-N18-2015.07.30-17.11.24_MD589_1_0052_lossless.jp2. Object is of storage class GLACIER. Unable to perform download operations on GLACIER objects. You must restore the object to be able to the perform operation. See aws s3 download help for additional parameter options to ignore or force these transfers.\n"
     ]
    },
    {
     "name": "stdout",
     "output_type": "stream",
     "text": [
      "warning: Skipping file s3://mousebrainatlas-rawdata/CSHL_data/MD589/MD589-N18-2015.07.30-17.11.24_MD589_2_0053_lossless.jp2. Object is of storage class GLACIER. Unable to perform download operations on GLACIER objects. You must restore the object to be able to the perform operation. See aws s3 download help for additional parameter options to ignore or force these transfers.\n",
      "warning: Skipping file s3://mousebrainatlas-rawdata/CSHL_data/MD589/MD589-N18-2015.07.30-17.11.24_MD589_3_0054_lossless.jp2. Object is of storage class GLACIER. Unable to perform download operations on GLACIER objects. You must restore the object to be able to the perform operation. See aws s3 download help for additional parameter options to ignore or force these transfers.\n",
      "warning: Skipping file s3://mousebrainatlas-rawdata/CSHL_data/MD589/MD589-N19-2015.07.30-17.15.15_MD589_1_0055_lossless.jp2. Object is of storage class GLACIER. Unable to perform download operations on GLACIER objects. You must restore the object to be able to the perform operation. See aws s3 download help for additional parameter options to ignore or force these transfers.\n",
      "warning: Skipping file s3://mousebrainatlas-rawdata/CSHL_data/MD589/MD589-N19-2015.07.30-17.15.15_MD589_2_0056_lossless.jp2. Object is of storage class GLACIER. Unable to perform download operations on GLACIER objects. You must restore the object to be able to the perform operation. See aws s3 download help for additional parameter options to ignore or force these transfers.\n",
      "warning: Skipping file s3://mousebrainatlas-rawdata/CSHL_data/MD589/MD589-N19-2015.07.30-17.15.15_MD589_3_0057_lossless.jp2. Object is of storage class GLACIER. Unable to perform download operations on GLACIER objects. You must restore the object to be able to the perform operation. See aws s3 download help for additional parameter options to ignore or force these transfers.\n",
      "warning: Skipping file s3://mousebrainatlas-rawdata/CSHL_data/MD589/MD589-N2-2015.07.30-16.22.26_MD589_1_0004_lossless.jp2. Object is of storage class GLACIER. Unable to perform download operations on GLACIER objects. You must restore the object to be able to the perform operation. See aws s3 download help for additional parameter options to ignore or force these transfers.\n",
      "warning: Skipping file s3://mousebrainatlas-rawdata/CSHL_data/MD589/MD589-N2-2015.07.30-16.22.26_MD589_2_0005_lossless.jp2. Object is of storage class GLACIER. Unable to perform download operations on GLACIER objects. You must restore the object to be able to the perform operation. See aws s3 download help for additional parameter options to ignore or force these transfers.\n",
      "warning: Skipping file s3://mousebrainatlas-rawdata/CSHL_data/MD589/MD589-N2-2015.07.30-16.22.26_MD589_3_0006_lossless.jp2. Object is of storage class GLACIER. Unable to perform download operations on GLACIER objects. You must restore the object to be able to the perform operation. See aws s3 download help for additional parameter options to ignore or force these transfers.\n",
      "warning: Skipping file s3://mousebrainatlas-rawdata/CSHL_data/MD589/MD589-N20-2015.07.30-17.19.14_MD589_1_0058_lossless.jp2. Object is of storage class GLACIER. Unable to perform download operations on GLACIER objects. You must restore the object to be able to the perform operation. See aws s3 download help for additional parameter options to ignore or force these transfers.\n",
      "warning: Skipping file s3://mousebrainatlas-rawdata/CSHL_data/MD589/MD589-N20-2015.07.30-17.19.14_MD589_2_0059_lossless.jp2. Object is of storage class GLACIER. Unable to perform download operations on GLACIER objects. You must restore the object to be able to the perform operation. See aws s3 download help for additional parameter options to ignore or force these transfers.\n",
      "warning: Skipping file s3://mousebrainatlas-rawdata/CSHL_data/MD589/MD589-N20-2015.07.30-17.19.14_MD589_3_0060_lossless.jp2. Object is of storage class GLACIER. Unable to perform download operations on GLACIER objects. You must restore the object to be able to the perform operation. See aws s3 download help for additional parameter options to ignore or force these transfers.\n",
      "warning: Skipping file s3://mousebrainatlas-rawdata/CSHL_data/MD589/MD589-N21-2015.07.30-17.23.23_MD589_1_0061_lossless.jp2. Object is of storage class GLACIER. Unable to perform download operations on GLACIER objects. You must restore the object to be able to the perform operation. See aws s3 download help for additional parameter options to ignore or force these transfers.\n",
      "warning: Skipping file s3://mousebrainatlas-rawdata/CSHL_data/MD589/MD589-N21-2015.07.30-17.23.23_MD589_2_0062_lossless.jp2. Object is of storage class GLACIER. Unable to perform download operations on GLACIER objects. You must restore the object to be able to the perform operation. See aws s3 download help for additional parameter options to ignore or force these transfers.\n",
      "warning: Skipping file s3://mousebrainatlas-rawdata/CSHL_data/MD589/MD589-N21-2015.07.30-17.23.23_MD589_3_0063_lossless.jp2. Object is of storage class GLACIER. Unable to perform download operations on GLACIER objects. You must restore the object to be able to the perform operation. See aws s3 download help for additional parameter options to ignore or force these transfers.\n",
      "warning: Skipping file s3://mousebrainatlas-rawdata/CSHL_data/MD589/MD589-N22-2015.07.30-17.27.26_MD589_1_0064_lossless.jp2. Object is of storage class GLACIER. Unable to perform download operations on GLACIER objects. You must restore the object to be able to the perform operation. See aws s3 download help for additional parameter options to ignore or force these transfers.\n",
      "warning: Skipping file s3://mousebrainatlas-rawdata/CSHL_data/MD589/MD589-N22-2015.07.30-17.27.26_MD589_2_0065_lossless.jp2. Object is of storage class GLACIER. Unable to perform download operations on GLACIER objects. You must restore the object to be able to the perform operation. See aws s3 download help for additional parameter options to ignore or force these transfers.\n",
      "warning: Skipping file s3://mousebrainatlas-rawdata/CSHL_data/MD589/MD589-N22-2015.07.30-17.27.26_MD589_3_0066_lossless.jp2. Object is of storage class GLACIER. Unable to perform download operations on GLACIER objects. You must restore the object to be able to the perform operation. See aws s3 download help for additional parameter options to ignore or force these transfers.\n",
      "warning: Skipping file s3://mousebrainatlas-rawdata/CSHL_data/MD589/MD589-N23-2015.07.30-17.31.29_MD589_1_0067_lossless.jp2. Object is of storage class GLACIER. Unable to perform download operations on GLACIER objects. You must restore the object to be able to the perform operation. See aws s3 download help for additional parameter options to ignore or force these transfers.\n",
      "warning: Skipping file s3://mousebrainatlas-rawdata/CSHL_data/MD589/MD589-N23-2015.07.30-17.31.29_MD589_2_0068_lossless.jp2. Object is of storage class GLACIER. Unable to perform download operations on GLACIER objects. You must restore the object to be able to the perform operation. See aws s3 download help for additional parameter options to ignore or force these transfers.\n",
      "warning: Skipping file s3://mousebrainatlas-rawdata/CSHL_data/MD589/MD589-N23-2015.07.30-17.31.29_MD589_3_0069_lossless.jp2. Object is of storage class GLACIER. Unable to perform download operations on GLACIER objects. You must restore the object to be able to the perform operation. See aws s3 download help for additional parameter options to ignore or force these transfers.\n",
      "warning: Skipping file s3://mousebrainatlas-rawdata/CSHL_data/MD589/MD589-N24-2015.07.30-17.35.51_MD589_1_0070_lossless.jp2. Object is of storage class GLACIER. Unable to perform download operations on GLACIER objects. You must restore the object to be able to the perform operation. See aws s3 download help for additional parameter options to ignore or force these transfers.\n",
      "warning: Skipping file s3://mousebrainatlas-rawdata/CSHL_data/MD589/MD589-N24-2015.07.30-17.35.51_MD589_2_0071_lossless.jp2. Object is of storage class GLACIER. Unable to perform download operations on GLACIER objects. You must restore the object to be able to the perform operation. See aws s3 download help for additional parameter options to ignore or force these transfers.\n"
     ]
    },
    {
     "name": "stdout",
     "output_type": "stream",
     "text": [
      "warning: Skipping file s3://mousebrainatlas-rawdata/CSHL_data/MD589/MD589-N24-2015.07.30-17.35.51_MD589_3_0072_lossless.jp2. Object is of storage class GLACIER. Unable to perform download operations on GLACIER objects. You must restore the object to be able to the perform operation. See aws s3 download help for additional parameter options to ignore or force these transfers.\n",
      "warning: Skipping file s3://mousebrainatlas-rawdata/CSHL_data/MD589/MD589-N25-2015.07.30-17.40.16_MD589_1_0073_lossless.jp2. Object is of storage class GLACIER. Unable to perform download operations on GLACIER objects. You must restore the object to be able to the perform operation. See aws s3 download help for additional parameter options to ignore or force these transfers.\n",
      "warning: Skipping file s3://mousebrainatlas-rawdata/CSHL_data/MD589/MD589-N25-2015.07.30-17.40.16_MD589_2_0074_lossless.jp2. Object is of storage class GLACIER. Unable to perform download operations on GLACIER objects. You must restore the object to be able to the perform operation. See aws s3 download help for additional parameter options to ignore or force these transfers.\n",
      "warning: Skipping file s3://mousebrainatlas-rawdata/CSHL_data/MD589/MD589-N25-2015.07.30-17.40.16_MD589_3_0075_lossless.jp2. Object is of storage class GLACIER. Unable to perform download operations on GLACIER objects. You must restore the object to be able to the perform operation. See aws s3 download help for additional parameter options to ignore or force these transfers.\n",
      "warning: Skipping file s3://mousebrainatlas-rawdata/CSHL_data/MD589/MD589-N26-2015.07.30-17.44.37_MD589_1_0076_lossless.jp2. Object is of storage class GLACIER. Unable to perform download operations on GLACIER objects. You must restore the object to be able to the perform operation. See aws s3 download help for additional parameter options to ignore or force these transfers.\n",
      "warning: Skipping file s3://mousebrainatlas-rawdata/CSHL_data/MD589/MD589-N26-2015.07.30-17.44.37_MD589_2_0077_lossless.jp2. Object is of storage class GLACIER. Unable to perform download operations on GLACIER objects. You must restore the object to be able to the perform operation. See aws s3 download help for additional parameter options to ignore or force these transfers.\n",
      "warning: Skipping file s3://mousebrainatlas-rawdata/CSHL_data/MD589/MD589-N26-2015.07.30-17.44.37_MD589_3_0078_lossless.jp2. Object is of storage class GLACIER. Unable to perform download operations on GLACIER objects. You must restore the object to be able to the perform operation. See aws s3 download help for additional parameter options to ignore or force these transfers.\n",
      "warning: Skipping file s3://mousebrainatlas-rawdata/CSHL_data/MD589/MD589-N27-2015.07.30-17.49.06_MD589_1_0079_lossless.jp2. Object is of storage class GLACIER. Unable to perform download operations on GLACIER objects. You must restore the object to be able to the perform operation. See aws s3 download help for additional parameter options to ignore or force these transfers.\n",
      "warning: Skipping file s3://mousebrainatlas-rawdata/CSHL_data/MD589/MD589-N27-2015.07.30-17.49.06_MD589_2_0080_lossless.jp2. Object is of storage class GLACIER. Unable to perform download operations on GLACIER objects. You must restore the object to be able to the perform operation. See aws s3 download help for additional parameter options to ignore or force these transfers.\n",
      "warning: Skipping file s3://mousebrainatlas-rawdata/CSHL_data/MD589/MD589-N27-2015.07.30-17.49.06_MD589_3_0081_lossless.jp2. Object is of storage class GLACIER. Unable to perform download operations on GLACIER objects. You must restore the object to be able to the perform operation. See aws s3 download help for additional parameter options to ignore or force these transfers.\n",
      "warning: Skipping file s3://mousebrainatlas-rawdata/CSHL_data/MD589/MD589-N28-2015.07.30-17.53.43_MD589_1_0082_lossless.jp2. Object is of storage class GLACIER. Unable to perform download operations on GLACIER objects. You must restore the object to be able to the perform operation. See aws s3 download help for additional parameter options to ignore or force these transfers.\n",
      "warning: Skipping file s3://mousebrainatlas-rawdata/CSHL_data/MD589/MD589-N28-2015.07.30-17.53.43_MD589_2_0083_lossless.jp2. Object is of storage class GLACIER. Unable to perform download operations on GLACIER objects. You must restore the object to be able to the perform operation. See aws s3 download help for additional parameter options to ignore or force these transfers.\n",
      "warning: Skipping file s3://mousebrainatlas-rawdata/CSHL_data/MD589/MD589-N28-2015.07.30-17.53.43_MD589_3_0084_lossless.jp2. Object is of storage class GLACIER. Unable to perform download operations on GLACIER objects. You must restore the object to be able to the perform operation. See aws s3 download help for additional parameter options to ignore or force these transfers.\n",
      "warning: Skipping file s3://mousebrainatlas-rawdata/CSHL_data/MD589/MD589-N29-2015.07.30-17.58.29_MD589_1_0085_lossless.jp2. Object is of storage class GLACIER. Unable to perform download operations on GLACIER objects. You must restore the object to be able to the perform operation. See aws s3 download help for additional parameter options to ignore or force these transfers.\n",
      "warning: Skipping file s3://mousebrainatlas-rawdata/CSHL_data/MD589/MD589-N29-2015.07.30-17.58.29_MD589_2_0086_lossless.jp2. Object is of storage class GLACIER. Unable to perform download operations on GLACIER objects. You must restore the object to be able to the perform operation. See aws s3 download help for additional parameter options to ignore or force these transfers.\n",
      "warning: Skipping file s3://mousebrainatlas-rawdata/CSHL_data/MD589/MD589-N29-2015.07.30-17.58.29_MD589_3_0087_lossless.jp2. Object is of storage class GLACIER. Unable to perform download operations on GLACIER objects. You must restore the object to be able to the perform operation. See aws s3 download help for additional parameter options to ignore or force these transfers.\n",
      "warning: Skipping file s3://mousebrainatlas-rawdata/CSHL_data/MD589/MD589-N3-2015.07.30-16.25.24_MD589_1_0007_lossless.jp2. Object is of storage class GLACIER. Unable to perform download operations on GLACIER objects. You must restore the object to be able to the perform operation. See aws s3 download help for additional parameter options to ignore or force these transfers.\n",
      "warning: Skipping file s3://mousebrainatlas-rawdata/CSHL_data/MD589/MD589-N3-2015.07.30-16.25.24_MD589_2_0008_lossless.jp2. Object is of storage class GLACIER. Unable to perform download operations on GLACIER objects. You must restore the object to be able to the perform operation. See aws s3 download help for additional parameter options to ignore or force these transfers.\n",
      "warning: Skipping file s3://mousebrainatlas-rawdata/CSHL_data/MD589/MD589-N3-2015.07.30-16.25.24_MD589_3_0009_lossless.jp2. Object is of storage class GLACIER. Unable to perform download operations on GLACIER objects. You must restore the object to be able to the perform operation. See aws s3 download help for additional parameter options to ignore or force these transfers.\n",
      "warning: Skipping file s3://mousebrainatlas-rawdata/CSHL_data/MD589/MD589-N30-2015.07.30-18.03.11_MD589_1_0088_lossless.jp2. Object is of storage class GLACIER. Unable to perform download operations on GLACIER objects. You must restore the object to be able to the perform operation. See aws s3 download help for additional parameter options to ignore or force these transfers.\n",
      "warning: Skipping file s3://mousebrainatlas-rawdata/CSHL_data/MD589/MD589-N30-2015.07.30-18.03.11_MD589_2_0089_lossless.jp2. Object is of storage class GLACIER. Unable to perform download operations on GLACIER objects. You must restore the object to be able to the perform operation. See aws s3 download help for additional parameter options to ignore or force these transfers.\n",
      "warning: Skipping file s3://mousebrainatlas-rawdata/CSHL_data/MD589/MD589-N30-2015.07.30-18.03.11_MD589_3_0090_lossless.jp2. Object is of storage class GLACIER. Unable to perform download operations on GLACIER objects. You must restore the object to be able to the perform operation. See aws s3 download help for additional parameter options to ignore or force these transfers.\n",
      "warning: Skipping file s3://mousebrainatlas-rawdata/CSHL_data/MD589/MD589-N31-2015.07.30-18.08.35_MD589_1_0091_lossless.jp2. Object is of storage class GLACIER. Unable to perform download operations on GLACIER objects. You must restore the object to be able to the perform operation. See aws s3 download help for additional parameter options to ignore or force these transfers.\n",
      "warning: Skipping file s3://mousebrainatlas-rawdata/CSHL_data/MD589/MD589-N31-2015.07.30-18.08.35_MD589_2_0092_lossless.jp2. Object is of storage class GLACIER. Unable to perform download operations on GLACIER objects. You must restore the object to be able to the perform operation. See aws s3 download help for additional parameter options to ignore or force these transfers.\n",
      "warning: Skipping file s3://mousebrainatlas-rawdata/CSHL_data/MD589/MD589-N32-2015.07.30-18.12.36_MD589_1_0094_lossless.jp2. Object is of storage class GLACIER. Unable to perform download operations on GLACIER objects. You must restore the object to be able to the perform operation. See aws s3 download help for additional parameter options to ignore or force these transfers.\n",
      "warning: Skipping file s3://mousebrainatlas-rawdata/CSHL_data/MD589/MD589-N32-2015.07.30-18.12.36_MD589_2_0095_lossless.jp2. Object is of storage class GLACIER. Unable to perform download operations on GLACIER objects. You must restore the object to be able to the perform operation. See aws s3 download help for additional parameter options to ignore or force these transfers.\n",
      "warning: Skipping file s3://mousebrainatlas-rawdata/CSHL_data/MD589/MD589-N33-2015.07.30-18.16.40_MD589_1_0097_lossless.jp2. Object is of storage class GLACIER. Unable to perform download operations on GLACIER objects. You must restore the object to be able to the perform operation. See aws s3 download help for additional parameter options to ignore or force these transfers.\n",
      "warning: Skipping file s3://mousebrainatlas-rawdata/CSHL_data/MD589/MD589-N33-2015.07.30-18.16.40_MD589_2_0098_lossless.jp2. Object is of storage class GLACIER. Unable to perform download operations on GLACIER objects. You must restore the object to be able to the perform operation. See aws s3 download help for additional parameter options to ignore or force these transfers.\n",
      "warning: Skipping file s3://mousebrainatlas-rawdata/CSHL_data/MD589/MD589-N34-2015.07.30-18.20.43_MD589_1_0100_lossless.jp2. Object is of storage class GLACIER. Unable to perform download operations on GLACIER objects. You must restore the object to be able to the perform operation. See aws s3 download help for additional parameter options to ignore or force these transfers.\n",
      "warning: Skipping file s3://mousebrainatlas-rawdata/CSHL_data/MD589/MD589-N34-2015.07.30-18.20.43_MD589_2_0101_lossless.jp2. Object is of storage class GLACIER. Unable to perform download operations on GLACIER objects. You must restore the object to be able to the perform operation. See aws s3 download help for additional parameter options to ignore or force these transfers.\n",
      "warning: Skipping file s3://mousebrainatlas-rawdata/CSHL_data/MD589/MD589-N35-2015.07.30-18.24.53_MD589_1_0103_lossless.jp2. Object is of storage class GLACIER. Unable to perform download operations on GLACIER objects. You must restore the object to be able to the perform operation. See aws s3 download help for additional parameter options to ignore or force these transfers.\n",
      "warning: Skipping file s3://mousebrainatlas-rawdata/CSHL_data/MD589/MD589-N35-2015.07.30-18.24.53_MD589_2_0104_lossless.jp2. Object is of storage class GLACIER. Unable to perform download operations on GLACIER objects. You must restore the object to be able to the perform operation. See aws s3 download help for additional parameter options to ignore or force these transfers.\n",
      "warning: Skipping file s3://mousebrainatlas-rawdata/CSHL_data/MD589/MD589-N36-2015.07.30-18.28.52_MD589_1_0106_lossless.jp2. Object is of storage class GLACIER. Unable to perform download operations on GLACIER objects. You must restore the object to be able to the perform operation. See aws s3 download help for additional parameter options to ignore or force these transfers.\n",
      "warning: Skipping file s3://mousebrainatlas-rawdata/CSHL_data/MD589/MD589-N36-2015.07.30-18.28.52_MD589_2_0107_lossless.jp2. Object is of storage class GLACIER. Unable to perform download operations on GLACIER objects. You must restore the object to be able to the perform operation. See aws s3 download help for additional parameter options to ignore or force these transfers.\n",
      "warning: Skipping file s3://mousebrainatlas-rawdata/CSHL_data/MD589/MD589-N37-2015.07.30-18.32.51_MD589_1_0109_lossless.jp2. Object is of storage class GLACIER. Unable to perform download operations on GLACIER objects. You must restore the object to be able to the perform operation. See aws s3 download help for additional parameter options to ignore or force these transfers.\n",
      "warning: Skipping file s3://mousebrainatlas-rawdata/CSHL_data/MD589/MD589-N37-2015.07.30-18.32.51_MD589_2_0110_lossless.jp2. Object is of storage class GLACIER. Unable to perform download operations on GLACIER objects. You must restore the object to be able to the perform operation. See aws s3 download help for additional parameter options to ignore or force these transfers.\n",
      "warning: Skipping file s3://mousebrainatlas-rawdata/CSHL_data/MD589/MD589-N38-2015.07.30-18.36.50_MD589_1_0112_lossless.jp2. Object is of storage class GLACIER. Unable to perform download operations on GLACIER objects. You must restore the object to be able to the perform operation. See aws s3 download help for additional parameter options to ignore or force these transfers.\n",
      "warning: Skipping file s3://mousebrainatlas-rawdata/CSHL_data/MD589/MD589-N38-2015.07.30-18.36.50_MD589_2_0113_lossless.jp2. Object is of storage class GLACIER. Unable to perform download operations on GLACIER objects. You must restore the object to be able to the perform operation. See aws s3 download help for additional parameter options to ignore or force these transfers.\n",
      "warning: Skipping file s3://mousebrainatlas-rawdata/CSHL_data/MD589/MD589-N39-2015.07.30-18.40.43_MD589_1_0115_lossless.jp2. Object is of storage class GLACIER. Unable to perform download operations on GLACIER objects. You must restore the object to be able to the perform operation. See aws s3 download help for additional parameter options to ignore or force these transfers.\n",
      "warning: Skipping file s3://mousebrainatlas-rawdata/CSHL_data/MD589/MD589-N39-2015.07.30-18.40.43_MD589_2_0116_lossless.jp2. Object is of storage class GLACIER. Unable to perform download operations on GLACIER objects. You must restore the object to be able to the perform operation. See aws s3 download help for additional parameter options to ignore or force these transfers.\n",
      "warning: Skipping file s3://mousebrainatlas-rawdata/CSHL_data/MD589/MD589-N4-2015.07.30-16.28.25_MD589_1_0010_lossless.jp2. Object is of storage class GLACIER. Unable to perform download operations on GLACIER objects. You must restore the object to be able to the perform operation. See aws s3 download help for additional parameter options to ignore or force these transfers.\n",
      "warning: Skipping file s3://mousebrainatlas-rawdata/CSHL_data/MD589/MD589-N4-2015.07.30-16.28.25_MD589_2_0011_lossless.jp2. Object is of storage class GLACIER. Unable to perform download operations on GLACIER objects. You must restore the object to be able to the perform operation. See aws s3 download help for additional parameter options to ignore or force these transfers.\n",
      "warning: Skipping file s3://mousebrainatlas-rawdata/CSHL_data/MD589/MD589-N4-2015.07.30-16.28.25_MD589_3_0012_lossless.jp2. Object is of storage class GLACIER. Unable to perform download operations on GLACIER objects. You must restore the object to be able to the perform operation. See aws s3 download help for additional parameter options to ignore or force these transfers.\n",
      "warning: Skipping file s3://mousebrainatlas-rawdata/CSHL_data/MD589/MD589-N40-2015.07.30-18.44.48_MD589_1_0118_lossless.jp2. Object is of storage class GLACIER. Unable to perform download operations on GLACIER objects. You must restore the object to be able to the perform operation. See aws s3 download help for additional parameter options to ignore or force these transfers.\n",
      "warning: Skipping file s3://mousebrainatlas-rawdata/CSHL_data/MD589/MD589-N40-2015.07.30-18.44.48_MD589_2_0119_lossless.jp2. Object is of storage class GLACIER. Unable to perform download operations on GLACIER objects. You must restore the object to be able to the perform operation. See aws s3 download help for additional parameter options to ignore or force these transfers.\n",
      "warning: Skipping file s3://mousebrainatlas-rawdata/CSHL_data/MD589/MD589-N41-2015.07.30-18.48.44_MD589_1_0121_lossless.jp2. Object is of storage class GLACIER. Unable to perform download operations on GLACIER objects. You must restore the object to be able to the perform operation. See aws s3 download help for additional parameter options to ignore or force these transfers.\n",
      "warning: Skipping file s3://mousebrainatlas-rawdata/CSHL_data/MD589/MD589-N41-2015.07.30-18.48.44_MD589_2_0122_lossless.jp2. Object is of storage class GLACIER. Unable to perform download operations on GLACIER objects. You must restore the object to be able to the perform operation. See aws s3 download help for additional parameter options to ignore or force these transfers.\n",
      "warning: Skipping file s3://mousebrainatlas-rawdata/CSHL_data/MD589/MD589-N42-2015.07.30-18.52.37_MD589_1_0124_lossless.jp2. Object is of storage class GLACIER. Unable to perform download operations on GLACIER objects. You must restore the object to be able to the perform operation. See aws s3 download help for additional parameter options to ignore or force these transfers.\n",
      "warning: Skipping file s3://mousebrainatlas-rawdata/CSHL_data/MD589/MD589-N42-2015.07.30-18.52.37_MD589_2_0125_lossless.jp2. Object is of storage class GLACIER. Unable to perform download operations on GLACIER objects. You must restore the object to be able to the perform operation. See aws s3 download help for additional parameter options to ignore or force these transfers.\n",
      "warning: Skipping file s3://mousebrainatlas-rawdata/CSHL_data/MD589/MD589-N43-2015.07.30-18.56.33_MD589_1_0127_lossless.jp2. Object is of storage class GLACIER. Unable to perform download operations on GLACIER objects. You must restore the object to be able to the perform operation. See aws s3 download help for additional parameter options to ignore or force these transfers.\n",
      "warning: Skipping file s3://mousebrainatlas-rawdata/CSHL_data/MD589/MD589-N43-2015.07.30-18.56.33_MD589_2_0128_lossless.jp2. Object is of storage class GLACIER. Unable to perform download operations on GLACIER objects. You must restore the object to be able to the perform operation. See aws s3 download help for additional parameter options to ignore or force these transfers.\n",
      "warning: Skipping file s3://mousebrainatlas-rawdata/CSHL_data/MD589/MD589-N44-2015.07.30-19.00.35_MD589_1_0130_lossless.jp2. Object is of storage class GLACIER. Unable to perform download operations on GLACIER objects. You must restore the object to be able to the perform operation. See aws s3 download help for additional parameter options to ignore or force these transfers.\n",
      "warning: Skipping file s3://mousebrainatlas-rawdata/CSHL_data/MD589/MD589-N44-2015.07.30-19.00.35_MD589_2_0131_lossless.jp2. Object is of storage class GLACIER. Unable to perform download operations on GLACIER objects. You must restore the object to be able to the perform operation. See aws s3 download help for additional parameter options to ignore or force these transfers.\n",
      "warning: Skipping file s3://mousebrainatlas-rawdata/CSHL_data/MD589/MD589-N45-2015.07.30-19.04.31_MD589_1_0133_lossless.jp2. Object is of storage class GLACIER. Unable to perform download operations on GLACIER objects. You must restore the object to be able to the perform operation. See aws s3 download help for additional parameter options to ignore or force these transfers.\n",
      "warning: Skipping file s3://mousebrainatlas-rawdata/CSHL_data/MD589/MD589-N45-2015.07.30-19.04.31_MD589_2_0134_lossless.jp2. Object is of storage class GLACIER. Unable to perform download operations on GLACIER objects. You must restore the object to be able to the perform operation. See aws s3 download help for additional parameter options to ignore or force these transfers.\n",
      "warning: Skipping file s3://mousebrainatlas-rawdata/CSHL_data/MD589/MD589-N46-2015.07.30-19.08.29_MD589_1_0136_lossless.jp2. Object is of storage class GLACIER. Unable to perform download operations on GLACIER objects. You must restore the object to be able to the perform operation. See aws s3 download help for additional parameter options to ignore or force these transfers.\n",
      "warning: Skipping file s3://mousebrainatlas-rawdata/CSHL_data/MD589/MD589-N46-2015.07.30-19.08.29_MD589_2_0137_lossless.jp2. Object is of storage class GLACIER. Unable to perform download operations on GLACIER objects. You must restore the object to be able to the perform operation. See aws s3 download help for additional parameter options to ignore or force these transfers.\n",
      "warning: Skipping file s3://mousebrainatlas-rawdata/CSHL_data/MD589/MD589-N47-2015.07.30-19.12.19_MD589_1_0139_lossless.jp2. Object is of storage class GLACIER. Unable to perform download operations on GLACIER objects. You must restore the object to be able to the perform operation. See aws s3 download help for additional parameter options to ignore or force these transfers.\n",
      "warning: Skipping file s3://mousebrainatlas-rawdata/CSHL_data/MD589/MD589-N47-2015.07.30-19.12.19_MD589_2_0140_lossless.jp2. Object is of storage class GLACIER. Unable to perform download operations on GLACIER objects. You must restore the object to be able to the perform operation. See aws s3 download help for additional parameter options to ignore or force these transfers.\n",
      "warning: Skipping file s3://mousebrainatlas-rawdata/CSHL_data/MD589/MD589-N48-2015.07.30-19.16.21_MD589_1_0142_lossless.jp2. Object is of storage class GLACIER. Unable to perform download operations on GLACIER objects. You must restore the object to be able to the perform operation. See aws s3 download help for additional parameter options to ignore or force these transfers.\n",
      "warning: Skipping file s3://mousebrainatlas-rawdata/CSHL_data/MD589/MD589-N48-2015.07.30-19.16.21_MD589_2_0143_lossless.jp2. Object is of storage class GLACIER. Unable to perform download operations on GLACIER objects. You must restore the object to be able to the perform operation. See aws s3 download help for additional parameter options to ignore or force these transfers.\n",
      "warning: Skipping file s3://mousebrainatlas-rawdata/CSHL_data/MD589/MD589-N49-2015.07.30-19.20.15_MD589_1_0145_lossless.jp2. Object is of storage class GLACIER. Unable to perform download operations on GLACIER objects. You must restore the object to be able to the perform operation. See aws s3 download help for additional parameter options to ignore or force these transfers.\n",
      "warning: Skipping file s3://mousebrainatlas-rawdata/CSHL_data/MD589/MD589-N49-2015.07.30-19.20.15_MD589_2_0146_lossless.jp2. Object is of storage class GLACIER. Unable to perform download operations on GLACIER objects. You must restore the object to be able to the perform operation. See aws s3 download help for additional parameter options to ignore or force these transfers.\n",
      "warning: Skipping file s3://mousebrainatlas-rawdata/CSHL_data/MD589/MD589-N5-2015.07.30-16.31.30_MD589_1_0013_lossless.jp2. Object is of storage class GLACIER. Unable to perform download operations on GLACIER objects. You must restore the object to be able to the perform operation. See aws s3 download help for additional parameter options to ignore or force these transfers.\n",
      "warning: Skipping file s3://mousebrainatlas-rawdata/CSHL_data/MD589/MD589-N5-2015.07.30-16.31.30_MD589_2_0014_lossless.jp2. Object is of storage class GLACIER. Unable to perform download operations on GLACIER objects. You must restore the object to be able to the perform operation. See aws s3 download help for additional parameter options to ignore or force these transfers.\n",
      "warning: Skipping file s3://mousebrainatlas-rawdata/CSHL_data/MD589/MD589-N5-2015.07.30-16.31.30_MD589_3_0015_lossless.jp2. Object is of storage class GLACIER. Unable to perform download operations on GLACIER objects. You must restore the object to be able to the perform operation. See aws s3 download help for additional parameter options to ignore or force these transfers.\n",
      "warning: Skipping file s3://mousebrainatlas-rawdata/CSHL_data/MD589/MD589-N50-2015.07.30-19.24.13_MD589_1_0148_lossless.jp2. Object is of storage class GLACIER. Unable to perform download operations on GLACIER objects. You must restore the object to be able to the perform operation. See aws s3 download help for additional parameter options to ignore or force these transfers.\n",
      "warning: Skipping file s3://mousebrainatlas-rawdata/CSHL_data/MD589/MD589-N50-2015.07.30-19.24.13_MD589_2_0149_lossless.jp2. Object is of storage class GLACIER. Unable to perform download operations on GLACIER objects. You must restore the object to be able to the perform operation. See aws s3 download help for additional parameter options to ignore or force these transfers.\n",
      "warning: Skipping file s3://mousebrainatlas-rawdata/CSHL_data/MD589/MD589-N51-2015.07.30-19.28.17_MD589_1_0151_lossless.jp2. Object is of storage class GLACIER. Unable to perform download operations on GLACIER objects. You must restore the object to be able to the perform operation. See aws s3 download help for additional parameter options to ignore or force these transfers.\n",
      "warning: Skipping file s3://mousebrainatlas-rawdata/CSHL_data/MD589/MD589-N51-2015.07.30-19.28.17_MD589_2_0152_lossless.jp2. Object is of storage class GLACIER. Unable to perform download operations on GLACIER objects. You must restore the object to be able to the perform operation. See aws s3 download help for additional parameter options to ignore or force these transfers.\n",
      "warning: Skipping file s3://mousebrainatlas-rawdata/CSHL_data/MD589/MD589-N51-2015.07.30-19.28.17_MD589_3_0153_lossless.jp2. Object is of storage class GLACIER. Unable to perform download operations on GLACIER objects. You must restore the object to be able to the perform operation. See aws s3 download help for additional parameter options to ignore or force these transfers.\n",
      "warning: Skipping file s3://mousebrainatlas-rawdata/CSHL_data/MD589/MD589-N52-2015.07.30-19.33.44_MD589_1_0154_lossless.jp2. Object is of storage class GLACIER. Unable to perform download operations on GLACIER objects. You must restore the object to be able to the perform operation. See aws s3 download help for additional parameter options to ignore or force these transfers.\n",
      "warning: Skipping file s3://mousebrainatlas-rawdata/CSHL_data/MD589/MD589-N52-2015.07.30-19.33.44_MD589_2_0155_lossless.jp2. Object is of storage class GLACIER. Unable to perform download operations on GLACIER objects. You must restore the object to be able to the perform operation. See aws s3 download help for additional parameter options to ignore or force these transfers.\n",
      "warning: Skipping file s3://mousebrainatlas-rawdata/CSHL_data/MD589/MD589-N52-2015.07.30-19.33.44_MD589_3_0156_lossless.jp2. Object is of storage class GLACIER. Unable to perform download operations on GLACIER objects. You must restore the object to be able to the perform operation. See aws s3 download help for additional parameter options to ignore or force these transfers.\n",
      "warning: Skipping file s3://mousebrainatlas-rawdata/CSHL_data/MD589/MD589-N53-2015.07.30-19.39.11_MD589_1_0157_lossless.jp2. Object is of storage class GLACIER. Unable to perform download operations on GLACIER objects. You must restore the object to be able to the perform operation. See aws s3 download help for additional parameter options to ignore or force these transfers.\n",
      "warning: Skipping file s3://mousebrainatlas-rawdata/CSHL_data/MD589/MD589-N53-2015.07.30-19.39.11_MD589_2_0158_lossless.jp2. Object is of storage class GLACIER. Unable to perform download operations on GLACIER objects. You must restore the object to be able to the perform operation. See aws s3 download help for additional parameter options to ignore or force these transfers.\n",
      "warning: Skipping file s3://mousebrainatlas-rawdata/CSHL_data/MD589/MD589-N53-2015.07.30-19.39.11_MD589_3_0159_lossless.jp2. Object is of storage class GLACIER. Unable to perform download operations on GLACIER objects. You must restore the object to be able to the perform operation. See aws s3 download help for additional parameter options to ignore or force these transfers.\n",
      "warning: Skipping file s3://mousebrainatlas-rawdata/CSHL_data/MD589/MD589-N54-2015.07.30-19.44.32_MD589_1_0160_lossless.jp2. Object is of storage class GLACIER. Unable to perform download operations on GLACIER objects. You must restore the object to be able to the perform operation. See aws s3 download help for additional parameter options to ignore or force these transfers.\n",
      "warning: Skipping file s3://mousebrainatlas-rawdata/CSHL_data/MD589/MD589-N54-2015.07.30-19.44.32_MD589_2_0161_lossless.jp2. Object is of storage class GLACIER. Unable to perform download operations on GLACIER objects. You must restore the object to be able to the perform operation. See aws s3 download help for additional parameter options to ignore or force these transfers.\n",
      "warning: Skipping file s3://mousebrainatlas-rawdata/CSHL_data/MD589/MD589-N54-2015.07.30-19.44.32_MD589_3_0162_lossless.jp2. Object is of storage class GLACIER. Unable to perform download operations on GLACIER objects. You must restore the object to be able to the perform operation. See aws s3 download help for additional parameter options to ignore or force these transfers.\n",
      "warning: Skipping file s3://mousebrainatlas-rawdata/CSHL_data/MD589/MD589-N55-2015.07.30-19.49.42_MD589_1_0163_lossless.jp2. Object is of storage class GLACIER. Unable to perform download operations on GLACIER objects. You must restore the object to be able to the perform operation. See aws s3 download help for additional parameter options to ignore or force these transfers.\n",
      "warning: Skipping file s3://mousebrainatlas-rawdata/CSHL_data/MD589/MD589-N55-2015.07.30-19.49.42_MD589_2_0164_lossless.jp2. Object is of storage class GLACIER. Unable to perform download operations on GLACIER objects. You must restore the object to be able to the perform operation. See aws s3 download help for additional parameter options to ignore or force these transfers.\n",
      "warning: Skipping file s3://mousebrainatlas-rawdata/CSHL_data/MD589/MD589-N55-2015.07.30-19.49.42_MD589_3_0165_lossless.jp2. Object is of storage class GLACIER. Unable to perform download operations on GLACIER objects. You must restore the object to be able to the perform operation. See aws s3 download help for additional parameter options to ignore or force these transfers.\n",
      "warning: Skipping file s3://mousebrainatlas-rawdata/CSHL_data/MD589/MD589-N56-2015.07.30-19.54.42_MD589_1_0166_lossless.jp2. Object is of storage class GLACIER. Unable to perform download operations on GLACIER objects. You must restore the object to be able to the perform operation. See aws s3 download help for additional parameter options to ignore or force these transfers.\n",
      "warning: Skipping file s3://mousebrainatlas-rawdata/CSHL_data/MD589/MD589-N56-2015.07.30-19.54.42_MD589_2_0167_lossless.jp2. Object is of storage class GLACIER. Unable to perform download operations on GLACIER objects. You must restore the object to be able to the perform operation. See aws s3 download help for additional parameter options to ignore or force these transfers.\n",
      "warning: Skipping file s3://mousebrainatlas-rawdata/CSHL_data/MD589/MD589-N56-2015.07.30-19.54.42_MD589_3_0168_lossless.jp2. Object is of storage class GLACIER. Unable to perform download operations on GLACIER objects. You must restore the object to be able to the perform operation. See aws s3 download help for additional parameter options to ignore or force these transfers.\n",
      "warning: Skipping file s3://mousebrainatlas-rawdata/CSHL_data/MD589/MD589-N57-2015.07.30-19.59.14_MD589_1_0169_lossless.jp2. Object is of storage class GLACIER. Unable to perform download operations on GLACIER objects. You must restore the object to be able to the perform operation. See aws s3 download help for additional parameter options to ignore or force these transfers.\n",
      "warning: Skipping file s3://mousebrainatlas-rawdata/CSHL_data/MD589/MD589-N57-2015.07.30-19.59.14_MD589_2_0170_lossless.jp2. Object is of storage class GLACIER. Unable to perform download operations on GLACIER objects. You must restore the object to be able to the perform operation. See aws s3 download help for additional parameter options to ignore or force these transfers.\n",
      "warning: Skipping file s3://mousebrainatlas-rawdata/CSHL_data/MD589/MD589-N57-2015.07.30-19.59.14_MD589_3_0171_lossless.jp2. Object is of storage class GLACIER. Unable to perform download operations on GLACIER objects. You must restore the object to be able to the perform operation. See aws s3 download help for additional parameter options to ignore or force these transfers.\n",
      "warning: Skipping file s3://mousebrainatlas-rawdata/CSHL_data/MD589/MD589-N58-2015.07.30-20.03.53_MD589_1_0172_lossless.jp2. Object is of storage class GLACIER. Unable to perform download operations on GLACIER objects. You must restore the object to be able to the perform operation. See aws s3 download help for additional parameter options to ignore or force these transfers.\n",
      "warning: Skipping file s3://mousebrainatlas-rawdata/CSHL_data/MD589/MD589-N58-2015.07.30-20.03.53_MD589_2_0173_lossless.jp2. Object is of storage class GLACIER. Unable to perform download operations on GLACIER objects. You must restore the object to be able to the perform operation. See aws s3 download help for additional parameter options to ignore or force these transfers.\n",
      "warning: Skipping file s3://mousebrainatlas-rawdata/CSHL_data/MD589/MD589-N59-2015.07.30-20.07.00_MD589_1_0175_lossless.jp2. Object is of storage class GLACIER. Unable to perform download operations on GLACIER objects. You must restore the object to be able to the perform operation. See aws s3 download help for additional parameter options to ignore or force these transfers.\n",
      "warning: Skipping file s3://mousebrainatlas-rawdata/CSHL_data/MD589/MD589-N59-2015.07.30-20.07.00_MD589_2_0176_lossless.jp2. Object is of storage class GLACIER. Unable to perform download operations on GLACIER objects. You must restore the object to be able to the perform operation. See aws s3 download help for additional parameter options to ignore or force these transfers.\n",
      "warning: Skipping file s3://mousebrainatlas-rawdata/CSHL_data/MD589/MD589-N59-2015.07.30-20.07.00_MD589_3_0177_lossless.jp2. Object is of storage class GLACIER. Unable to perform download operations on GLACIER objects. You must restore the object to be able to the perform operation. See aws s3 download help for additional parameter options to ignore or force these transfers.\n",
      "warning: Skipping file s3://mousebrainatlas-rawdata/CSHL_data/MD589/MD589-N6-2015.07.30-16.34.46_MD589_1_0016_lossless.jp2. Object is of storage class GLACIER. Unable to perform download operations on GLACIER objects. You must restore the object to be able to the perform operation. See aws s3 download help for additional parameter options to ignore or force these transfers.\n",
      "warning: Skipping file s3://mousebrainatlas-rawdata/CSHL_data/MD589/MD589-N6-2015.07.30-16.34.46_MD589_2_0017_lossless.jp2. Object is of storage class GLACIER. Unable to perform download operations on GLACIER objects. You must restore the object to be able to the perform operation. See aws s3 download help for additional parameter options to ignore or force these transfers.\n",
      "warning: Skipping file s3://mousebrainatlas-rawdata/CSHL_data/MD589/MD589-N6-2015.07.30-16.34.46_MD589_3_0018_lossless.jp2. Object is of storage class GLACIER. Unable to perform download operations on GLACIER objects. You must restore the object to be able to the perform operation. See aws s3 download help for additional parameter options to ignore or force these transfers.\n",
      "warning: Skipping file s3://mousebrainatlas-rawdata/CSHL_data/MD589/MD589-N60-2015.07.30-20.11.20_MD589_1_0178_lossless.jp2. Object is of storage class GLACIER. Unable to perform download operations on GLACIER objects. You must restore the object to be able to the perform operation. See aws s3 download help for additional parameter options to ignore or force these transfers.\n"
     ]
    },
    {
     "name": "stdout",
     "output_type": "stream",
     "text": [
      "warning: Skipping file s3://mousebrainatlas-rawdata/CSHL_data/MD589/MD589-N60-2015.07.30-20.11.20_MD589_2_0179_lossless.jp2. Object is of storage class GLACIER. Unable to perform download operations on GLACIER objects. You must restore the object to be able to the perform operation. See aws s3 download help for additional parameter options to ignore or force these transfers.\r\n",
      "Completed 0 file(s) with ~0 file(s) remaining (calculating...)\r",
      "warning: Skipping file s3://mousebrainatlas-rawdata/CSHL_data/MD589/MD589-N60-2015.07.30-20.11.20_MD589_3_0180_lossless.jp2. Object is of storage class GLACIER. Unable to perform download operations on GLACIER objects. You must restore the object to be able to the perform operation. See aws s3 download help for additional parameter options to ignore or force these transfers.\r\n",
      "Completed 0 file(s) with ~0 file(s) remaining (calculating...)\r",
      "warning: Skipping file s3://mousebrainatlas-rawdata/CSHL_data/MD589/MD589-N61-2015.07.30-20.15.47_MD589_1_0181_lossless.jp2. Object is of storage class GLACIER. Unable to perform download operations on GLACIER objects. You must restore the object to be able to the perform operation. See aws s3 download help for additional parameter options to ignore or force these transfers.\r\n",
      "Completed 0 file(s) with ~0 file(s) remaining (calculating...)\r",
      "warning: Skipping file s3://mousebrainatlas-rawdata/CSHL_data/MD589/MD589-N61-2015.07.30-20.15.47_MD589_2_0182_lossless.jp2. Object is of storage class GLACIER. Unable to perform download operations on GLACIER objects. You must restore the object to be able to the perform operation. See aws s3 download help for additional parameter options to ignore or force these transfers.\r\n",
      "Completed 0 file(s) with ~0 file(s) remaining (calculating...)\r",
      "warning: Skipping file s3://mousebrainatlas-rawdata/CSHL_data/MD589/MD589-N61-2015.07.30-20.15.47_MD589_3_0183_lossless.jp2. Object is of storage class GLACIER. Unable to perform download operations on GLACIER objects. You must restore the object to be able to the perform operation. See aws s3 download help for additional parameter options to ignore or force these transfers.\r\n",
      "Completed 0 file(s) with ~0 file(s) remaining (calculating...)\r",
      "warning: Skipping file s3://mousebrainatlas-rawdata/CSHL_data/MD589/MD589-N62-2015.07.30-20.20.08_MD589_1_0184_lossless.jp2. Object is of storage class GLACIER. Unable to perform download operations on GLACIER objects. You must restore the object to be able to the perform operation. See aws s3 download help for additional parameter options to ignore or force these transfers.\r\n",
      "Completed 0 file(s) with ~0 file(s) remaining (calculating...)\r",
      "warning: Skipping file s3://mousebrainatlas-rawdata/CSHL_data/MD589/MD589-N62-2015.07.30-20.20.08_MD589_2_0185_lossless.jp2. Object is of storage class GLACIER. Unable to perform download operations on GLACIER objects. You must restore the object to be able to the perform operation. See aws s3 download help for additional parameter options to ignore or force these transfers.\r\n",
      "Completed 0 file(s) with ~0 file(s) remaining (calculating...)\r",
      "warning: Skipping file s3://mousebrainatlas-rawdata/CSHL_data/MD589/MD589-N63-2015.07.30-20.23.12_MD589_1_0187_lossless.jp2. Object is of storage class GLACIER. Unable to perform download operations on GLACIER objects. You must restore the object to be able to the perform operation. See aws s3 download help for additional parameter options to ignore or force these transfers.\r\n",
      "Completed 0 file(s) with ~0 file(s) remaining (calculating...)\r",
      "warning: Skipping file s3://mousebrainatlas-rawdata/CSHL_data/MD589/MD589-N63-2015.07.30-20.23.12_MD589_2_0188_lossless.jp2. Object is of storage class GLACIER. Unable to perform download operations on GLACIER objects. You must restore the object to be able to the perform operation. See aws s3 download help for additional parameter options to ignore or force these transfers.\r\n",
      "Completed 0 file(s) with ~0 file(s) remaining (calculating...)\r",
      "warning: Skipping file s3://mousebrainatlas-rawdata/CSHL_data/MD589/MD589-N63-2015.07.30-20.23.12_MD589_3_0189_lossless.jp2. Object is of storage class GLACIER. Unable to perform download operations on GLACIER objects. You must restore the object to be able to the perform operation. See aws s3 download help for additional parameter options to ignore or force these transfers.\r\n",
      "Completed 0 file(s) with ~0 file(s) remaining (calculating...)\r",
      "warning: Skipping file s3://mousebrainatlas-rawdata/CSHL_data/MD589/MD589-N64-2015.07.30-20.27.19_MD589_1_0190_lossless.jp2. Object is of storage class GLACIER. Unable to perform download operations on GLACIER objects. You must restore the object to be able to the perform operation. See aws s3 download help for additional parameter options to ignore or force these transfers.\r\n",
      "Completed 0 file(s) with ~0 file(s) remaining (calculating...)\r",
      "warning: Skipping file s3://mousebrainatlas-rawdata/CSHL_data/MD589/MD589-N64-2015.07.30-20.27.19_MD589_2_0191_lossless.jp2. Object is of storage class GLACIER. Unable to perform download operations on GLACIER objects. You must restore the object to be able to the perform operation. See aws s3 download help for additional parameter options to ignore or force these transfers.\r\n",
      "Completed 0 file(s) with ~0 file(s) remaining (calculating...)\r",
      "warning: Skipping file s3://mousebrainatlas-rawdata/CSHL_data/MD589/MD589-N64-2015.07.30-20.27.19_MD589_3_0192_lossless.jp2. Object is of storage class GLACIER. Unable to perform download operations on GLACIER objects. You must restore the object to be able to the perform operation. See aws s3 download help for additional parameter options to ignore or force these transfers.\r\n",
      "Completed 0 file(s) with ~0 file(s) remaining (calculating...)\r",
      "warning: Skipping file s3://mousebrainatlas-rawdata/CSHL_data/MD589/MD589-N65-2015.07.30-20.31.20_MD589_1_0193_lossless.jp2. Object is of storage class GLACIER. Unable to perform download operations on GLACIER objects. You must restore the object to be able to the perform operation. See aws s3 download help for additional parameter options to ignore or force these transfers.\r\n",
      "Completed 0 file(s) with ~0 file(s) remaining (calculating...)\r",
      "warning: Skipping file s3://mousebrainatlas-rawdata/CSHL_data/MD589/MD589-N65-2015.07.30-20.31.20_MD589_2_0194_lossless.jp2. Object is of storage class GLACIER. Unable to perform download operations on GLACIER objects. You must restore the object to be able to the perform operation. See aws s3 download help for additional parameter options to ignore or force these transfers.\r\n",
      "Completed 0 file(s) with ~0 file(s) remaining (calculating...)\r",
      "warning: Skipping file s3://mousebrainatlas-rawdata/CSHL_data/MD589/MD589-N65-2015.07.30-20.31.20_MD589_3_0195_lossless.jp2. Object is of storage class GLACIER. Unable to perform download operations on GLACIER objects. You must restore the object to be able to the perform operation. See aws s3 download help for additional parameter options to ignore or force these transfers.\r\n",
      "Completed 0 file(s) with ~0 file(s) remaining (calculating...)\r",
      "warning: Skipping file s3://mousebrainatlas-rawdata/CSHL_data/MD589/MD589-N66-2015.07.30-20.35.16_MD589_1_0196_lossless.jp2. Object is of storage class GLACIER. Unable to perform download operations on GLACIER objects. You must restore the object to be able to the perform operation. See aws s3 download help for additional parameter options to ignore or force these transfers.\r\n",
      "Completed 0 file(s) with ~0 file(s) remaining (calculating...)\r",
      "warning: Skipping file s3://mousebrainatlas-rawdata/CSHL_data/MD589/MD589-N66-2015.07.30-20.35.16_MD589_2_0197_lossless.jp2. Object is of storage class GLACIER. Unable to perform download operations on GLACIER objects. You must restore the object to be able to the perform operation. See aws s3 download help for additional parameter options to ignore or force these transfers.\r\n",
      "Completed 0 file(s) with ~0 file(s) remaining (calculating...)\r",
      "warning: Skipping file s3://mousebrainatlas-rawdata/CSHL_data/MD589/MD589-N66-2015.07.30-20.35.16_MD589_3_0198_lossless.jp2. Object is of storage class GLACIER. Unable to perform download operations on GLACIER objects. You must restore the object to be able to the perform operation. See aws s3 download help for additional parameter options to ignore or force these transfers.\r\n",
      "Completed 0 file(s) with ~0 file(s) remaining (calculating...)\r",
      "warning: Skipping file s3://mousebrainatlas-rawdata/CSHL_data/MD589/MD589-N67-2015.07.30-20.39.13_MD589_1_0199_lossless.jp2. Object is of storage class GLACIER. Unable to perform download operations on GLACIER objects. You must restore the object to be able to the perform operation. See aws s3 download help for additional parameter options to ignore or force these transfers.\r\n",
      "Completed 0 file(s) with ~0 file(s) remaining (calculating...)\r",
      "warning: Skipping file s3://mousebrainatlas-rawdata/CSHL_data/MD589/MD589-N67-2015.07.30-20.39.13_MD589_2_0200_lossless.jp2. Object is of storage class GLACIER. Unable to perform download operations on GLACIER objects. You must restore the object to be able to the perform operation. See aws s3 download help for additional parameter options to ignore or force these transfers.\r\n",
      "Completed 0 file(s) with ~0 file(s) remaining (calculating...)\r",
      "warning: Skipping file s3://mousebrainatlas-rawdata/CSHL_data/MD589/MD589-N67-2015.07.30-20.39.13_MD589_3_0201_lossless.jp2. Object is of storage class GLACIER. Unable to perform download operations on GLACIER objects. You must restore the object to be able to the perform operation. See aws s3 download help for additional parameter options to ignore or force these transfers.\r\n",
      "Completed 0 file(s) with ~0 file(s) remaining (calculating...)\r",
      "warning: Skipping file s3://mousebrainatlas-rawdata/CSHL_data/MD589/MD589-N68-2015.07.30-20.43.04_MD589_1_0202_lossless.jp2. Object is of storage class GLACIER. Unable to perform download operations on GLACIER objects. You must restore the object to be able to the perform operation. See aws s3 download help for additional parameter options to ignore or force these transfers.\r\n",
      "Completed 0 file(s) with ~0 file(s) remaining (calculating...)\r",
      "warning: Skipping file s3://mousebrainatlas-rawdata/CSHL_data/MD589/MD589-N68-2015.07.30-20.43.04_MD589_2_0203_lossless.jp2. Object is of storage class GLACIER. Unable to perform download operations on GLACIER objects. You must restore the object to be able to the perform operation. See aws s3 download help for additional parameter options to ignore or force these transfers.\r\n",
      "Completed 0 file(s) with ~0 file(s) remaining (calculating...)\r",
      "warning: Skipping file s3://mousebrainatlas-rawdata/CSHL_data/MD589/MD589-N68-2015.07.30-20.43.04_MD589_3_0204_lossless.jp2. Object is of storage class GLACIER. Unable to perform download operations on GLACIER objects. You must restore the object to be able to the perform operation. See aws s3 download help for additional parameter options to ignore or force these transfers.\r\n",
      "Completed 0 file(s) with ~0 file(s) remaining (calculating...)\r",
      "warning: Skipping file s3://mousebrainatlas-rawdata/CSHL_data/MD589/MD589-N69-2015.07.30-20.46.59_MD589_1_0205_lossless.jp2. Object is of storage class GLACIER. Unable to perform download operations on GLACIER objects. You must restore the object to be able to the perform operation. See aws s3 download help for additional parameter options to ignore or force these transfers.\r\n",
      "Completed 0 file(s) with ~0 file(s) remaining (calculating...)\r",
      "warning: Skipping file s3://mousebrainatlas-rawdata/CSHL_data/MD589/MD589-N69-2015.07.30-20.46.59_MD589_2_0206_lossless.jp2. Object is of storage class GLACIER. Unable to perform download operations on GLACIER objects. You must restore the object to be able to the perform operation. See aws s3 download help for additional parameter options to ignore or force these transfers.\r\n",
      "Completed 0 file(s) with ~0 file(s) remaining (calculating...)\r",
      "warning: Skipping file s3://mousebrainatlas-rawdata/CSHL_data/MD589/MD589-N69-2015.07.30-20.46.59_MD589_3_0207_lossless.jp2. Object is of storage class GLACIER. Unable to perform download operations on GLACIER objects. You must restore the object to be able to the perform operation. See aws s3 download help for additional parameter options to ignore or force these transfers.\r\n",
      "Completed 0 file(s) with ~0 file(s) remaining (calculating...)\r",
      "warning: Skipping file s3://mousebrainatlas-rawdata/CSHL_data/MD589/MD589-N7-2015.07.30-16.38.01_MD589_1_0019_lossless.jp2. Object is of storage class GLACIER. Unable to perform download operations on GLACIER objects. You must restore the object to be able to the perform operation. See aws s3 download help for additional parameter options to ignore or force these transfers.\r\n",
      "Completed 0 file(s) with ~0 file(s) remaining (calculating...)\r",
      "warning: Skipping file s3://mousebrainatlas-rawdata/CSHL_data/MD589/MD589-N7-2015.07.30-16.38.01_MD589_2_0020_lossless.jp2. Object is of storage class GLACIER. Unable to perform download operations on GLACIER objects. You must restore the object to be able to the perform operation. See aws s3 download help for additional parameter options to ignore or force these transfers.\r\n",
      "Completed 0 file(s) with ~0 file(s) remaining (calculating...)\r",
      "warning: Skipping file s3://mousebrainatlas-rawdata/CSHL_data/MD589/MD589-N7-2015.07.30-16.38.01_MD589_3_0021_lossless.jp2. Object is of storage class GLACIER. Unable to perform download operations on GLACIER objects. You must restore the object to be able to the perform operation. See aws s3 download help for additional parameter options to ignore or force these transfers.\r\n",
      "Completed 0 file(s) with ~0 file(s) remaining (calculating...)\r",
      "warning: Skipping file s3://mousebrainatlas-rawdata/CSHL_data/MD589/MD589-N70-2015.07.30-20.50.53_MD589_1_0208_lossless.jp2. Object is of storage class GLACIER. Unable to perform download operations on GLACIER objects. You must restore the object to be able to the perform operation. See aws s3 download help for additional parameter options to ignore or force these transfers.\r\n",
      "Completed 0 file(s) with ~0 file(s) remaining (calculating...)\r",
      "warning: Skipping file s3://mousebrainatlas-rawdata/CSHL_data/MD589/MD589-N70-2015.07.30-20.50.53_MD589_2_0209_lossless.jp2. Object is of storage class GLACIER. Unable to perform download operations on GLACIER objects. You must restore the object to be able to the perform operation. See aws s3 download help for additional parameter options to ignore or force these transfers.\r\n",
      "Completed 0 file(s) with ~0 file(s) remaining (calculating...)\r",
      "warning: Skipping file s3://mousebrainatlas-rawdata/CSHL_data/MD589/MD589-N70-2015.07.30-20.50.53_MD589_3_0210_lossless.jp2. Object is of storage class GLACIER. Unable to perform download operations on GLACIER objects. You must restore the object to be able to the perform operation. See aws s3 download help for additional parameter options to ignore or force these transfers.\r\n",
      "Completed 0 file(s) with ~0 file(s) remaining (calculating...)\r",
      "warning: Skipping file s3://mousebrainatlas-rawdata/CSHL_data/MD589/MD589-N71-2015.07.30-20.54.42_MD589_1_0211_lossless.jp2. Object is of storage class GLACIER. Unable to perform download operations on GLACIER objects. You must restore the object to be able to the perform operation. See aws s3 download help for additional parameter options to ignore or force these transfers.\r\n",
      "Completed 0 file(s) with ~0 file(s) remaining (calculating...)\r",
      "warning: Skipping file s3://mousebrainatlas-rawdata/CSHL_data/MD589/MD589-N71-2015.07.30-20.54.42_MD589_2_0212_lossless.jp2. Object is of storage class GLACIER. Unable to perform download operations on GLACIER objects. You must restore the object to be able to the perform operation. See aws s3 download help for additional parameter options to ignore or force these transfers.\r\n",
      "Completed 0 file(s) with ~0 file(s) remaining (calculating...)\r",
      "warning: Skipping file s3://mousebrainatlas-rawdata/CSHL_data/MD589/MD589-N71-2015.07.30-20.54.42_MD589_3_0213_lossless.jp2. Object is of storage class GLACIER. Unable to perform download operations on GLACIER objects. You must restore the object to be able to the perform operation. See aws s3 download help for additional parameter options to ignore or force these transfers.\r\n",
      "Completed 0 file(s) with ~0 file(s) remaining (calculating...)\r",
      "warning: Skipping file s3://mousebrainatlas-rawdata/CSHL_data/MD589/MD589-N72-2015.07.30-20.58.34_MD589_1_0214_lossless.jp2. Object is of storage class GLACIER. Unable to perform download operations on GLACIER objects. You must restore the object to be able to the perform operation. See aws s3 download help for additional parameter options to ignore or force these transfers.\r\n",
      "Completed 0 file(s) with ~0 file(s) remaining (calculating...)\r",
      "warning: Skipping file s3://mousebrainatlas-rawdata/CSHL_data/MD589/MD589-N72-2015.07.30-20.58.34_MD589_2_0215_lossless.jp2. Object is of storage class GLACIER. Unable to perform download operations on GLACIER objects. You must restore the object to be able to the perform operation. See aws s3 download help for additional parameter options to ignore or force these transfers.\r\n",
      "Completed 0 file(s) with ~0 file(s) remaining (calculating...)\r",
      "warning: Skipping file s3://mousebrainatlas-rawdata/CSHL_data/MD589/MD589-N72-2015.07.30-20.58.34_MD589_3_0216_lossless.jp2. Object is of storage class GLACIER. Unable to perform download operations on GLACIER objects. You must restore the object to be able to the perform operation. See aws s3 download help for additional parameter options to ignore or force these transfers.\r\n",
      "Completed 0 file(s) with ~0 file(s) remaining (calculating...)\r",
      "warning: Skipping file s3://mousebrainatlas-rawdata/CSHL_data/MD589/MD589-N73-2015.07.30-21.02.25_MD589_1_0217_lossless.jp2. Object is of storage class GLACIER. Unable to perform download operations on GLACIER objects. You must restore the object to be able to the perform operation. See aws s3 download help for additional parameter options to ignore or force these transfers.\r\n",
      "Completed 0 file(s) with ~0 file(s) remaining (calculating...)\r",
      "warning: Skipping file s3://mousebrainatlas-rawdata/CSHL_data/MD589/MD589-N73-2015.07.30-21.02.25_MD589_2_0218_lossless.jp2. Object is of storage class GLACIER. Unable to perform download operations on GLACIER objects. You must restore the object to be able to the perform operation. See aws s3 download help for additional parameter options to ignore or force these transfers.\r\n",
      "Completed 0 file(s) with ~0 file(s) remaining (calculating...)\r",
      "warning: Skipping file s3://mousebrainatlas-rawdata/CSHL_data/MD589/MD589-N73-2015.07.30-21.02.25_MD589_3_0219_lossless.jp2. Object is of storage class GLACIER. Unable to perform download operations on GLACIER objects. You must restore the object to be able to the perform operation. See aws s3 download help for additional parameter options to ignore or force these transfers.\r\n",
      "Completed 0 file(s) with ~0 file(s) remaining (calculating...)\r",
      "warning: Skipping file s3://mousebrainatlas-rawdata/CSHL_data/MD589/MD589-N74-2015.07.30-21.06.16_MD589_1_0220_lossless.jp2. Object is of storage class GLACIER. Unable to perform download operations on GLACIER objects. You must restore the object to be able to the perform operation. See aws s3 download help for additional parameter options to ignore or force these transfers.\r\n",
      "Completed 0 file(s) with ~0 file(s) remaining (calculating...)\r",
      "warning: Skipping file s3://mousebrainatlas-rawdata/CSHL_data/MD589/MD589-N74-2015.07.30-21.06.16_MD589_2_0221_lossless.jp2. Object is of storage class GLACIER. Unable to perform download operations on GLACIER objects. You must restore the object to be able to the perform operation. See aws s3 download help for additional parameter options to ignore or force these transfers.\r\n",
      "Completed 0 file(s) with ~0 file(s) remaining (calculating...)\r",
      "warning: Skipping file s3://mousebrainatlas-rawdata/CSHL_data/MD589/MD589-N74-2015.07.30-21.06.16_MD589_3_0222_lossless.jp2. Object is of storage class GLACIER. Unable to perform download operations on GLACIER objects. You must restore the object to be able to the perform operation. See aws s3 download help for additional parameter options to ignore or force these transfers.\r\n",
      "Completed 0 file(s) with ~0 file(s) remaining (calculating...)\r",
      "warning: Skipping file s3://mousebrainatlas-rawdata/CSHL_data/MD589/MD589-N75-2015.07.30-21.09.51_MD589_1_0223_lossless.jp2. Object is of storage class GLACIER. Unable to perform download operations on GLACIER objects. You must restore the object to be able to the perform operation. See aws s3 download help for additional parameter options to ignore or force these transfers.\r\n",
      "Completed 0 file(s) with ~0 file(s) remaining (calculating...)\r",
      "warning: Skipping file s3://mousebrainatlas-rawdata/CSHL_data/MD589/MD589-N75-2015.07.30-21.09.51_MD589_2_0224_lossless.jp2. Object is of storage class GLACIER. Unable to perform download operations on GLACIER objects. You must restore the object to be able to the perform operation. See aws s3 download help for additional parameter options to ignore or force these transfers.\r\n",
      "Completed 0 file(s) with ~0 file(s) remaining (calculating...)\r",
      "warning: Skipping file s3://mousebrainatlas-rawdata/CSHL_data/MD589/MD589-N75-2015.07.30-21.09.51_MD589_3_0225_lossless.jp2. Object is of storage class GLACIER. Unable to perform download operations on GLACIER objects. You must restore the object to be able to the perform operation. See aws s3 download help for additional parameter options to ignore or force these transfers.\r\n",
      "Completed 0 file(s) with ~0 file(s) remaining (calculating...)\r",
      "warning: Skipping file s3://mousebrainatlas-rawdata/CSHL_data/MD589/MD589-N76-2015.08.04-08.40.03_MD589_1_0226_lossless.jp2. Object is of storage class GLACIER. Unable to perform download operations on GLACIER objects. You must restore the object to be able to the perform operation. See aws s3 download help for additional parameter options to ignore or force these transfers.\r\n",
      "Completed 0 file(s) with ~0 file(s) remaining (calculating...)\r",
      "warning: Skipping file s3://mousebrainatlas-rawdata/CSHL_data/MD589/MD589-N76-2015.08.04-08.40.03_MD589_2_0227_lossless.jp2. Object is of storage class GLACIER. Unable to perform download operations on GLACIER objects. You must restore the object to be able to the perform operation. See aws s3 download help for additional parameter options to ignore or force these transfers.\r\n",
      "Completed 0 file(s) with ~0 file(s) remaining (calculating...)\r",
      "warning: Skipping file s3://mousebrainatlas-rawdata/CSHL_data/MD589/MD589-N76-2015.08.04-08.40.03_MD589_3_0228_lossless.jp2. Object is of storage class GLACIER. Unable to perform download operations on GLACIER objects. You must restore the object to be able to the perform operation. See aws s3 download help for additional parameter options to ignore or force these transfers.\r\n",
      "Completed 0 file(s) with ~0 file(s) remaining (calculating...)\r",
      "warning: Skipping file s3://mousebrainatlas-rawdata/CSHL_data/MD589/MD589-N77-2015.07.30-21.13.20_MD589_1_0229_lossless.jp2. Object is of storage class GLACIER. Unable to perform download operations on GLACIER objects. You must restore the object to be able to the perform operation. See aws s3 download help for additional parameter options to ignore or force these transfers.\r\n",
      "Completed 0 file(s) with ~0 file(s) remaining (calculating...)\r",
      "warning: Skipping file s3://mousebrainatlas-rawdata/CSHL_data/MD589/MD589-N77-2015.07.30-21.13.20_MD589_2_0230_lossless.jp2. Object is of storage class GLACIER. Unable to perform download operations on GLACIER objects. You must restore the object to be able to the perform operation. See aws s3 download help for additional parameter options to ignore or force these transfers.\r\n",
      "Completed 0 file(s) with ~0 file(s) remaining (calculating...)\r",
      "warning: Skipping file s3://mousebrainatlas-rawdata/CSHL_data/MD589/MD589-N77-2015.07.30-21.13.20_MD589_3_0231_lossless.jp2. Object is of storage class GLACIER. Unable to perform download operations on GLACIER objects. You must restore the object to be able to the perform operation. See aws s3 download help for additional parameter options to ignore or force these transfers.\r\n",
      "Completed 0 file(s) with ~0 file(s) remaining (calculating...)\r",
      "warning: Skipping file s3://mousebrainatlas-rawdata/CSHL_data/MD589/MD589-N78-2015.07.30-21.16.39_MD589_1_0232_lossless.jp2. Object is of storage class GLACIER. Unable to perform download operations on GLACIER objects. You must restore the object to be able to the perform operation. See aws s3 download help for additional parameter options to ignore or force these transfers.\r\n",
      "Completed 0 file(s) with ~0 file(s) remaining (calculating...)\r",
      "warning: Skipping file s3://mousebrainatlas-rawdata/CSHL_data/MD589/MD589-N78-2015.07.30-21.16.39_MD589_2_0233_lossless.jp2. Object is of storage class GLACIER. Unable to perform download operations on GLACIER objects. You must restore the object to be able to the perform operation. See aws s3 download help for additional parameter options to ignore or force these transfers.\r\n",
      "Completed 0 file(s) with ~0 file(s) remaining (calculating...)\r",
      "warning: Skipping file s3://mousebrainatlas-rawdata/CSHL_data/MD589/MD589-N78-2015.07.30-21.16.39_MD589_3_0234_lossless.jp2. Object is of storage class GLACIER. Unable to perform download operations on GLACIER objects. You must restore the object to be able to the perform operation. See aws s3 download help for additional parameter options to ignore or force these transfers.\r\n",
      "Completed 0 file(s) with ~0 file(s) remaining (calculating...)\r",
      "warning: Skipping file s3://mousebrainatlas-rawdata/CSHL_data/MD589/MD589-N79-2015.07.30-21.19.47_MD589_1_0235_lossless.jp2. Object is of storage class GLACIER. Unable to perform download operations on GLACIER objects. You must restore the object to be able to the perform operation. See aws s3 download help for additional parameter options to ignore or force these transfers.\r\n",
      "Completed 0 file(s) with ~0 file(s) remaining (calculating...)\r",
      "warning: Skipping file s3://mousebrainatlas-rawdata/CSHL_data/MD589/MD589-N79-2015.07.30-21.19.47_MD589_2_0236_lossless.jp2. Object is of storage class GLACIER. Unable to perform download operations on GLACIER objects. You must restore the object to be able to the perform operation. See aws s3 download help for additional parameter options to ignore or force these transfers.\r\n",
      "Completed 0 file(s) with ~0 file(s) remaining (calculating...)\r",
      "warning: Skipping file s3://mousebrainatlas-rawdata/CSHL_data/MD589/MD589-N79-2015.07.30-21.19.47_MD589_3_0237_lossless.jp2. Object is of storage class GLACIER. Unable to perform download operations on GLACIER objects. You must restore the object to be able to the perform operation. See aws s3 download help for additional parameter options to ignore or force these transfers.\r\n",
      "Completed 0 file(s) with ~0 file(s) remaining (calculating...)\r",
      "warning: Skipping file s3://mousebrainatlas-rawdata/CSHL_data/MD589/MD589-N8-2015.07.30-16.41.22_MD589_1_0022_lossless.jp2. Object is of storage class GLACIER. Unable to perform download operations on GLACIER objects. You must restore the object to be able to the perform operation. See aws s3 download help for additional parameter options to ignore or force these transfers.\r\n",
      "Completed 0 file(s) with ~0 file(s) remaining (calculating...)\r",
      "warning: Skipping file s3://mousebrainatlas-rawdata/CSHL_data/MD589/MD589-N8-2015.07.30-16.41.22_MD589_2_0023_lossless.jp2. Object is of storage class GLACIER. Unable to perform download operations on GLACIER objects. You must restore the object to be able to the perform operation. See aws s3 download help for additional parameter options to ignore or force these transfers.\r\n",
      "Completed 0 file(s) with ~0 file(s) remaining (calculating...)\r",
      "warning: Skipping file s3://mousebrainatlas-rawdata/CSHL_data/MD589/MD589-N8-2015.07.30-16.41.22_MD589_3_0024_lossless.jp2. Object is of storage class GLACIER. Unable to perform download operations on GLACIER objects. You must restore the object to be able to the perform operation. See aws s3 download help for additional parameter options to ignore or force these transfers.\r\n",
      "Completed 0 file(s) with ~0 file(s) remaining (calculating...)\r",
      "warning: Skipping file s3://mousebrainatlas-rawdata/CSHL_data/MD589/MD589-N80-2015.07.30-21.22.59_MD589_1_0238_lossless.jp2. Object is of storage class GLACIER. Unable to perform download operations on GLACIER objects. You must restore the object to be able to the perform operation. See aws s3 download help for additional parameter options to ignore or force these transfers.\r\n",
      "Completed 0 file(s) with ~0 file(s) remaining (calculating...)\r",
      "warning: Skipping file s3://mousebrainatlas-rawdata/CSHL_data/MD589/MD589-N80-2015.07.30-21.22.59_MD589_2_0239_lossless.jp2. Object is of storage class GLACIER. Unable to perform download operations on GLACIER objects. You must restore the object to be able to the perform operation. See aws s3 download help for additional parameter options to ignore or force these transfers.\r\n",
      "Completed 0 file(s) with ~0 file(s) remaining (calculating...)\r",
      "warning: Skipping file s3://mousebrainatlas-rawdata/CSHL_data/MD589/MD589-N80-2015.07.30-21.22.59_MD589_3_0240_lossless.jp2. Object is of storage class GLACIER. Unable to perform download operations on GLACIER objects. You must restore the object to be able to the perform operation. See aws s3 download help for additional parameter options to ignore or force these transfers.\r\n",
      "Completed 0 file(s) with ~0 file(s) remaining (calculating...)\r",
      "warning: Skipping file s3://mousebrainatlas-rawdata/CSHL_data/MD589/MD589-N81-2015.07.30-21.26.03_MD589_1_0241_lossless.jp2. Object is of storage class GLACIER. Unable to perform download operations on GLACIER objects. You must restore the object to be able to the perform operation. See aws s3 download help for additional parameter options to ignore or force these transfers.\r\n",
      "Completed 0 file(s) with ~0 file(s) remaining (calculating...)\r",
      "warning: Skipping file s3://mousebrainatlas-rawdata/CSHL_data/MD589/MD589-N81-2015.07.30-21.26.03_MD589_2_0242_lossless.jp2. Object is of storage class GLACIER. Unable to perform download operations on GLACIER objects. You must restore the object to be able to the perform operation. See aws s3 download help for additional parameter options to ignore or force these transfers.\r\n",
      "Completed 0 file(s) with ~0 file(s) remaining (calculating...)\r",
      "warning: Skipping file s3://mousebrainatlas-rawdata/CSHL_data/MD589/MD589-N81-2015.07.30-21.26.03_MD589_3_0243_lossless.jp2. Object is of storage class GLACIER. Unable to perform download operations on GLACIER objects. You must restore the object to be able to the perform operation. See aws s3 download help for additional parameter options to ignore or force these transfers.\r\n",
      "Completed 0 file(s) with ~0 file(s) remaining (calculating...)\r",
      "warning: Skipping file s3://mousebrainatlas-rawdata/CSHL_data/MD589/MD589-N82-2015.07.30-21.28.40_MD589_1_0244_lossless.jp2. Object is of storage class GLACIER. Unable to perform download operations on GLACIER objects. You must restore the object to be able to the perform operation. See aws s3 download help for additional parameter options to ignore or force these transfers.\r\n",
      "Completed 0 file(s) with ~0 file(s) remaining (calculating...)\r",
      "warning: Skipping file s3://mousebrainatlas-rawdata/CSHL_data/MD589/MD589-N82-2015.07.30-21.28.40_MD589_2_0245_lossless.jp2. Object is of storage class GLACIER. Unable to perform download operations on GLACIER objects. You must restore the object to be able to the perform operation. See aws s3 download help for additional parameter options to ignore or force these transfers.\r\n",
      "Completed 0 file(s) with ~0 file(s) remaining (calculating...)\r",
      "warning: Skipping file s3://mousebrainatlas-rawdata/CSHL_data/MD589/MD589-N9-2015.07.30-16.44.42_MD589_1_0025_lossless.jp2. Object is of storage class GLACIER. Unable to perform download operations on GLACIER objects. You must restore the object to be able to the perform operation. See aws s3 download help for additional parameter options to ignore or force these transfers.\r\n",
      "Completed 0 file(s) with ~0 file(s) remaining (calculating...)\r",
      "warning: Skipping file s3://mousebrainatlas-rawdata/CSHL_data/MD589/MD589-N9-2015.07.30-16.44.42_MD589_2_0026_lossless.jp2. Object is of storage class GLACIER. Unable to perform download operations on GLACIER objects. You must restore the object to be able to the perform operation. See aws s3 download help for additional parameter options to ignore or force these transfers.\r\n",
      "Completed 0 file(s) with ~0 file(s) remaining (calculating...)\r",
      "warning: Skipping file s3://mousebrainatlas-rawdata/CSHL_data/MD589/MD589-N9-2015.07.30-16.44.42_MD589_3_0027_lossless.jp2. Object is of storage class GLACIER. Unable to perform download operations on GLACIER objects. You must restore the object to be able to the perform operation. See aws s3 download help for additional parameter options to ignore or force these transfers.\r\n",
      "Completed 0 file(s) with ~0 file(s) remaining (calculating...)\r",
      "                                                              \r\n"
     ]
    }
   ],
   "source": [
    "! aws s3 cp --recursive s3://mousebrainatlas-rawdata/CSHL_data/MD589/ /data/CSHL_data/MD589/ --exclude \"*\" --include \"*lossless.jp2\""
   ]
  },
  {
   "cell_type": "markdown",
   "metadata": {},
   "source": [
    "# Rename \"lossless\" to \"raw\""
   ]
  },
  {
   "cell_type": "code",
   "execution_count": null,
   "metadata": {
    "collapsed": true
   },
   "outputs": [],
   "source": [
    "for stack in all_nissl_stacks:\n",
    "\n",
    "    for section in metadata_cache['valid_sections'][stack]:\n",
    "\n",
    "        in_fp = \\\n",
    "        DataManager.get_image_filepath_v2(stack=stack, prep_id=2, section=section, version='jpeg', resol='lossless')\n",
    "\n",
    "        out_fp = \\\n",
    "        DataManager.get_image_filepath_v2(stack=stack, prep_id=2, section=section, version='jpeg', resol='raw')\n",
    "\n",
    "        create_parent_dir_if_not_exists(out_fp)\n",
    "        \n",
    "        execute_command('ln -s %s %s' % (in_fp, out_fp))"
   ]
  },
  {
   "cell_type": "code",
   "execution_count": null,
   "metadata": {
    "collapsed": true
   },
   "outputs": [],
   "source": [
    "for stack in all_nissl_stacks:\n",
    "\n",
    "    for section in metadata_cache['valid_sections'][stack]:\n",
    "\n",
    "        in_fp = \\\n",
    "        DataManager.get_image_filepath_v2(stack=stack, prep_id=2, section=section, version=None, resol='lossless')\n",
    "\n",
    "        out_fp = \\\n",
    "        DataManager.get_image_filepath_v2(stack=stack, prep_id=2, section=section, version=None, resol='raw')\n",
    "\n",
    "        create_parent_dir_if_not_exists(out_fp)\n",
    "        \n",
    "        execute_command('ln -s %s %s' % (in_fp, out_fp))"
   ]
  },
  {
   "cell_type": "code",
   "execution_count": null,
   "metadata": {
    "collapsed": true
   },
   "outputs": [],
   "source": [
    "for stack in all_nissl_stacks:\n",
    "\n",
    "    for section in metadata_cache['valid_sections'][stack]:\n",
    "\n",
    "        in_fp = \\\n",
    "        DataManager.get_image_filepath_v2(stack=stack, prep_id=2, section=section, version='gray', resol='lossless')\n",
    "\n",
    "        out_fp = \\\n",
    "        DataManager.get_image_filepath_v2(stack=stack, prep_id=2, section=section, version='gray', resol='raw')\n",
    "\n",
    "        create_parent_dir_if_not_exists(out_fp)\n",
    "        \n",
    "        execute_command('ln -s %s %s' % (in_fp, out_fp))"
   ]
  },
  {
   "cell_type": "code",
   "execution_count": null,
   "metadata": {
    "collapsed": true
   },
   "outputs": [],
   "source": []
  },
  {
   "cell_type": "code",
   "execution_count": null,
   "metadata": {
    "collapsed": true
   },
   "outputs": [],
   "source": [
    "stack = 'MD585'"
   ]
  },
  {
   "cell_type": "code",
   "execution_count": null,
   "metadata": {
    "collapsed": true
   },
   "outputs": [],
   "source": [
    "from skimage.transform import warp"
   ]
  },
  {
   "cell_type": "code",
   "execution_count": null,
   "metadata": {
    "collapsed": true
   },
   "outputs": [],
   "source": [
    "_, sections_to_filenames = DataManager.load_sorted_filenames(stack=stack, redownload=True) \n",
    "valid_filenames = [fn for fn in sections_to_filenames.values() if not is_invalid(fn=fn)]\n",
    "print len(valid_filenames), 'valid filenames'"
   ]
  },
  {
   "cell_type": "code",
   "execution_count": null,
   "metadata": {
    "collapsed": true
   },
   "outputs": [],
   "source": [
    "def convert_image_types(from_type, to_type):\n",
    "    \n",
    "    from_prep_id = from_type['prep_id']\n",
    "    to_prep_id = to_type['prep_id']\n",
    "    \n",
    "    if from_prep_id is None and to_prep_id == 1: # in-plane alignment\n",
    "        pass\n",
    "    \n",
    "    elif (from_prep_id == 1 or from_prep_id == 'alignedPadded') and (to_prep_id == 5 or to_prep_id == 'alignedWithMargin'): # alignedPadded to alignedWithMargin\n",
    "    \n",
    "        alignedWithMargin_xmin, alignedWithMargin_xmax,\\\n",
    "        alignedWithMargin_ymin, alignedWithMargin_ymax = DataManager.load_cropbox_v2(stack=stack, anchor_fn=None, \n",
    "                                                            prep_id='alignedWithMargin',\n",
    "                                                           return_dict=False, only_2d=True)\n",
    "        \n",
    "        in_fp = \\\n",
    "        DataManager.get_image_filepath_v2(stack=stack, prep_id=1, section=section, version=version, resol='thumbnail')\n",
    "\n",
    "        out_fp = \\\n",
    "        DataManager.get_image_filepath_v2(stack=stack, prep_id=5, section=section, version=version, resol='thumbnail')\n",
    "\n",
    "        create_parent_dir_if_not_exists(out_fp)\n",
    "\n",
    "        t = time.time()\n",
    "        im_prep1 = imread(in_fp)\n",
    "        im_prep5 = im_prep1[alignedWithMargin_ymin:alignedWithMargin_ymax+1, \n",
    "                            alignedWithMargin_xmin:alignedWithMargin_xmax+1]        \n",
    "        save_data(im_prep5, out_fp)            \n",
    "        sys.stderr.write('Crop alignedPadded to generate alignedWithMargin: %.2f seconds.\\n' % (time.time() - t))\n",
    "        \n",
    "    elif from_prep_id == 1 and to_prep_id == 2: # alignedWithMargin to alignedBrainstemCrop\n",
    "        pass\n"
   ]
  },
  {
   "cell_type": "code",
   "execution_count": null,
   "metadata": {
    "collapsed": true
   },
   "outputs": [],
   "source": [
    "def convert_tif_to_jpeg(in_fp, out_fp):\n",
    "    t = time.time()\n",
    "    execute_command(\"convert %(in_fp)s %(out_fp)s\" % {'in_fp': in_fp, 'out_fp': out_fp})\n",
    "    sys.stderr.write('Convert to JPEG: %.2f seconds.\\n' % (time.time() - t))"
   ]
  },
  {
   "cell_type": "code",
   "execution_count": null,
   "metadata": {
    "collapsed": true,
    "scrolled": true
   },
   "outputs": [],
   "source": [
    "# Convert to gray\n",
    "\n",
    "for stack in ['MD585']:\n",
    "\n",
    "    for section in metadata_cache['valid_sections'][stack]:\n",
    "\n",
    "        in_fp = \\\n",
    "        DataManager.get_image_filepath_v2(stack=stack, prep_id=2, section=section, version=None, resol='raw')\n",
    "\n",
    "        out_fp = \\\n",
    "        DataManager.get_image_filepath_v2(stack=stack, prep_id=2, section=section, version='gray', resol='raw')\n",
    "\n",
    "        create_parent_dir_if_not_exists(out_fp)\n",
    "\n",
    "#         t = time.time()\n",
    "#         im_rgb = imread(in_fp)\n",
    "#         sys.stderr.write('Load: %.2f seconds.\\n' % (time.time() - t))\n",
    "        \n",
    "#         t = time.time()\n",
    "#         im_gray = img_as_ubyte(rgb2gray(im_rgb))\n",
    "# #         im_gray = im_rgb[..., 2]\n",
    "#         sys.stderr.write('Convert RGB to gray: %.2f seconds.\\n' % (time.time() - t))\n",
    "        \n",
    "#         t = time.time()\n",
    "#         save_data(im_gray, out_fp)\n",
    "#         sys.stderr.write('Save: %.2f seconds.\\n' % (time.time() - t))\n",
    "\n",
    "        t = time.time()\n",
    "        im_rgb = imread(in_fp)\n",
    "        sys.stderr.write('Load: %.2f seconds.\\n' % (time.time() - t))\n",
    "        \n",
    "        t = time.time()\n",
    "        im_gray = img_as_ubyte(rgb2gray(im_rgb))\n",
    "#         im_gray = im_rgb[..., 2]\n",
    "        sys.stderr.write('Convert RGB to gray: %.2f seconds.\\n' % (time.time() - t))\n",
    "        \n",
    "        t = time.time()\n",
    "        save_data(im_gray, out_fp, upload_s3=False)\n",
    "        sys.stderr.write('Save: %.2f seconds.\\n' % (time.time() - t))\n",
    "        \n",
    "#         upload_to_s3(out_fp)"
   ]
  },
  {
   "cell_type": "code",
   "execution_count": null,
   "metadata": {
    "collapsed": true,
    "scrolled": true
   },
   "outputs": [],
   "source": [
    "# Convert to JPEG\n",
    "\n",
    "for stack in ['MD595']:\n",
    "# for stack in all_nissl_stacks:\n",
    "\n",
    "    for section in metadata_cache['valid_sections'][stack]:\n",
    "\n",
    "        in_fp = \\\n",
    "        DataManager.get_image_filepath_v2(stack=stack, prep_id=2, section=section, version='gray', resol='raw')\n",
    "\n",
    "        out_fp = \\\n",
    "        DataManager.get_image_filepath_v2(stack=stack, prep_id=2, section=section, version='grayJpeg', resol='raw')\n",
    "\n",
    "        create_parent_dir_if_not_exists(out_fp)\n",
    "\n",
    "        convert_tif_to_jpeg(in_fp, out_fp)\n",
    "        \n",
    "#         upload_to_s3(out_fp)"
   ]
  },
  {
   "cell_type": "markdown",
   "metadata": {},
   "source": [
    "# Convert original alignedBrainstemCrop cropbox file to section limit json"
   ]
  },
  {
   "cell_type": "code",
   "execution_count": null,
   "metadata": {
    "collapsed": true,
    "scrolled": true
   },
   "outputs": [],
   "source": [
    "# for stack in ['MD658', 'MD661', 'MD662']:\n",
    "for stack in ['MD635', 'MD653', 'MD652', 'MD642']:\n",
    "\n",
    "    alignedBrainstemCrop_secmin, alignedBrainstemCrop_secmax = DataManager.load_cropbox(stack=stack)[4:]\n",
    "\n",
    "    alignedBrainstemCrop_seclims = {'left_section_limit': alignedBrainstemCrop_secmin, \n",
    "                                    'right_section_limit': alignedBrainstemCrop_secmax}\n",
    "    \n",
    "    save_data(alignedBrainstemCrop_seclims, \n",
    "          DataManager.get_section_limits_filename_v2(stack=stack, anchor_fn=None, prep_id='alignedBrainstemCrop'))"
   ]
  },
  {
   "cell_type": "markdown",
   "metadata": {},
   "source": [
    "# convert original alignedBrainstemCrop cropbox file to bbox json"
   ]
  },
  {
   "cell_type": "code",
   "execution_count": 25,
   "metadata": {
    "scrolled": true
   },
   "outputs": [
    {
     "name": "stdout",
     "output_type": "stream",
     "text": [
      "aws s3 cp \"/data/CSHL_data_processed/MD657/MD657_alignedTo_MD657-F44-2017.02.18-06.06.27_MD657_1_0130_prep2_cropbox.json\" \"s3://mousebrainatlas-data/CSHL_data_processed/MD657/MD657_alignedTo_MD657-F44-2017.02.18-06.06.27_MD657_1_0130_prep2_cropbox.json\"\n",
      "0\n"
     ]
    }
   ],
   "source": [
    "# for stack in all_nissl_stacks:\n",
    "# for stack in ['MD658', 'MD661', 'MD662']:\n",
    "# for stack in ['MD635', 'MD653', 'MD652', 'MD642']:\n",
    "for stack in ['MD657']:\n",
    "    \n",
    "    alignedBrainstemCrop_xmin, alignedBrainstemCrop_xmax, \\\n",
    "    alignedBrainstemCrop_ymin, alignedBrainstemCrop_ymax = DataManager.load_cropbox(stack=stack)[:4]\n",
    "\n",
    "    alignedBrainstemCrop_cropbox = {'rostral_limit': alignedBrainstemCrop_xmin, 'caudal_limit': alignedBrainstemCrop_xmax, \n",
    "     'dorsal_limit': alignedBrainstemCrop_ymin, 'ventral_limit': alignedBrainstemCrop_ymax}\n",
    "    \n",
    "    save_data(alignedBrainstemCrop_cropbox, \n",
    "          DataManager.get_cropbox_filename_v2(stack=stack, anchor_fn=None, prep_id='alignedBrainstemCrop'))"
   ]
  },
  {
   "cell_type": "markdown",
   "metadata": {},
   "source": [
    "# Identify bounding box for \"wholebrainWithMargin\""
   ]
  },
  {
   "cell_type": "code",
   "execution_count": null,
   "metadata": {
    "collapsed": true
   },
   "outputs": [],
   "source": [
    "tb_resol = 'down32'"
   ]
  },
  {
   "cell_type": "code",
   "execution_count": null,
   "metadata": {
    "collapsed": true
   },
   "outputs": [],
   "source": [
    "for stack in ['MD589']:\n",
    "# for stack in all_nissl_stacks:\n",
    "    \n",
    "    bbox_all_images = []\n",
    "    for fn in metadata_cache['valid_filenames'][stack]:\n",
    "        mask_tb_alignedPadded = DataManager.load_thumbnail_mask_v3(stack=stack, prep_id=1, fn=fn)\n",
    "        bbox = bbox_2d(mask_tb_alignedPadded)\n",
    "        bbox_all_images.append(bbox)\n",
    "    bbox_all_images = np.array(bbox_all_images)\n",
    "\n",
    "#     bbox_all_images = np.array([\n",
    "#         bbox_2d(DataManager.load_thumbnail_mask_v3(stack=stack, prep_id=1, fn=fn))\n",
    "#         for fn in metadata_cache['valid_filenames'][stack]\n",
    "#     ])\n",
    "    \n",
    "    # Are the bounding boxes reasonable? If some numbers stand out, go back to check the mask.\n",
    "    plt.figure(figsize=(10,5));\n",
    "    plt.plot(bbox_all_images[:,0], label='xmin')\n",
    "    plt.plot(bbox_all_images[:,1], label='xmax')\n",
    "    plt.plot(bbox_all_images[:,2], label='ymin')\n",
    "    plt.plot(bbox_all_images[:,3], label='ymax')\n",
    "    plt.legend();\n",
    "    plt.show();\n",
    "    \n",
    "    margin_um = 736.\n",
    "    margin = int(np.round(margin_um / convert_resolution_string_to_um(resolution=tb_resol, stack=stack)))\n",
    "    alignedWithMargin_xmin, alignedWithMargin_ymin = np.maximum(bbox_all_images[:, [0,2]].min(axis=0) - margin, 0)\n",
    "    alignedWithMargin_xmax, alignedWithMargin_ymax = np.minimum(bbox_all_images[:, [1,3]].max(axis=0) + margin, \n",
    "                                                                [mask_tb_alignedPadded.shape[1]-1, mask_tb_alignedPadded.shape[0]-1])\n",
    "    \n",
    "    print alignedWithMargin_xmin, alignedWithMargin_xmax, alignedWithMargin_ymin, alignedWithMargin_ymax \n",
    "    \n",
    "    alignedWithMargin_cropbox = {'rostral_limit': alignedWithMargin_xmin, 'caudal_limit': alignedWithMargin_xmax, \n",
    " 'dorsal_limit': alignedWithMargin_ymin, 'ventral_limit': alignedWithMargin_ymax}\n",
    "    \n",
    "    save_data(alignedWithMargin_cropbox, \n",
    "              DataManager.get_cropbox_filename_v2(stack=stack, anchor_fn=None, prep_id='alignedWithMargin'))"
   ]
  },
  {
   "cell_type": "markdown",
   "metadata": {},
   "source": [
    "*NOTE*: If any of the four sides looks out of place, identify the section and double-check its mask."
   ]
  },
  {
   "cell_type": "code",
   "execution_count": null,
   "metadata": {
    "collapsed": true
   },
   "outputs": [],
   "source": [
    "def find_outlier(a, t, mode='max'):\n",
    "    \"\"\"\n",
    "    Args:\n",
    "        t(float): The peak must be different from neighbor by this much.\n",
    "    \"\"\"\n",
    "    if mode == 'max':\n",
    "        return np.r_[True, a[1:] - a[:-1] > t] & np.r_[a[:-1] - a[1:] > t, True]\n",
    "    elif mode == 'min':\n",
    "        return np.r_[True, a[1:] - a[:-1] < -t] & np.r_[a[:-1] - a[1:] < -t, True]\n",
    "    else:\n",
    "        raise"
   ]
  },
  {
   "cell_type": "code",
   "execution_count": null,
   "metadata": {
    "collapsed": true,
    "scrolled": true
   },
   "outputs": [],
   "source": [
    "# Identify sections whose bboxes are outliers.\n",
    "\n",
    "print 'xmin outlier', [metadata_cache['valid_filenames'][stack][s] for s in np.where(find_outlier(bbox_all_images[:,0], 40, 'min'))[0]]\n",
    "print 'xmax outlier', [metadata_cache['valid_filenames'][stack][s] for s in np.where(find_outlier(bbox_all_images[:,1], 40, 'max'))[0]]\n",
    "print 'ymin outlier', [metadata_cache['valid_filenames'][stack][s] for s in np.where(find_outlier(bbox_all_images[:,2], 40, 'min'))[0]]\n",
    "print 'ymax outlier', [metadata_cache['valid_filenames'][stack][s] for s in np.where(find_outlier(bbox_all_images[:,3], 40, 'max'))[0]]"
   ]
  },
  {
   "cell_type": "code",
   "execution_count": null,
   "metadata": {
    "collapsed": true
   },
   "outputs": [],
   "source": [
    "# for fn in metadata_cache['valid_filenames'][stack]:\n",
    "#     mask_tb_alignedPadded = DataManager.load_thumbnail_mask_v3(stack=stack, prep_id=1, fn=fn)\n",
    "#     plt.figure();\n",
    "#     plt.imshow(mask_tb_alignedPadded[alignedWithMargin_ymin:alignedWithMargin_ymax+1, \n",
    "#                                      alignedWithMargin_xmin:alignedWithMargin_xmax+1], cmap=plt.cm.gray)\n",
    "#     plt.show();"
   ]
  },
  {
   "cell_type": "markdown",
   "metadata": {
    "collapsed": true
   },
   "source": [
    "# Generate prep5 thumbnails from prep1 thumbnails"
   ]
  },
  {
   "cell_type": "code",
   "execution_count": null,
   "metadata": {
    "collapsed": true,
    "scrolled": true
   },
   "outputs": [],
   "source": [
    "for stack in all_nissl_stacks:\n",
    "\n",
    "    alignedWithMargin_xmin, alignedWithMargin_xmax,\\\n",
    "    alignedWithMargin_ymin, alignedWithMargin_ymax = DataManager.load_cropbox_v2(stack=stack, anchor_fn=None, \n",
    "                                                            prep_id='alignedWithMargin',\n",
    "                                                           return_dict=False, only_2d=True)\n",
    "            \n",
    "#     for section in metadata_cache['valid_sections_all'][stack]: # for CHATM2 and CHATM3\n",
    "    for section in metadata_cache['valid_sections'][stack]: # for MD589 etc.\n",
    "        \n",
    "#         for version in ['NtbNormalized', 'mask']:\n",
    "        for version in [None, 'mask']:\n",
    "\n",
    "            in_fp = \\\n",
    "            DataManager.get_image_filepath_v2(stack=stack, prep_id=1, section=section, version=version, resol='thumbnail')\n",
    "\n",
    "            out_fp = \\\n",
    "            DataManager.get_image_filepath_v2(stack=stack, prep_id=5, section=section, version=version, resol='thumbnail')\n",
    "\n",
    "            create_parent_dir_if_not_exists(out_fp)\n",
    "\n",
    "            t = time.time()\n",
    "\n",
    "            im_prep1 = imread(in_fp)\n",
    "            im_prep5 = im_prep1[alignedWithMargin_ymin:alignedWithMargin_ymax+1, \n",
    "                                alignedWithMargin_xmin:alignedWithMargin_xmax+1]        \n",
    "            save_data(im_prep5, out_fp)\n",
    "            \n",
    "            sys.stderr.write('Generate prep5: %.2f seconds.\\n' % (time.time() - t))"
   ]
  },
  {
   "cell_type": "markdown",
   "metadata": {},
   "source": [
    "# Construct intensity volume"
   ]
  },
  {
   "cell_type": "markdown",
   "metadata": {
    "collapsed": true
   },
   "source": [
    "Also see `reconstruct/construct_intensity_volume_v3.ipynb`"
   ]
  },
  {
   "cell_type": "code",
   "execution_count": null,
   "metadata": {
    "collapsed": true
   },
   "outputs": [],
   "source": [
    "# output_resolution = 'down32'\n",
    "output_resolution = '10.0um'\n",
    "\n",
    "# tb_version = 'NtbNormalized'\n",
    "tb_version = None\n",
    "tb_resol = 'thumbnail'"
   ]
  },
  {
   "cell_type": "code",
   "execution_count": null,
   "metadata": {
    "collapsed": true
   },
   "outputs": [],
   "source": [
    "for stack in all_nissl_stacks:\n",
    "# for stack in ['MD590']:\n",
    "\n",
    "    images = {}\n",
    "\n",
    "#     for sec in metadata_cache['valid_sections_all'][stack]:\n",
    "    for sec in metadata_cache['valid_sections'][stack]:\n",
    "\n",
    "        img_rgb = DataManager.load_image_v2(stack, section=sec, \n",
    "                                            resol=tb_resol, \n",
    "                                            prep_id='alignedWithMargin', \n",
    "                                            version=tb_version)\n",
    "        img = img_as_ubyte(rgb2gray(img_rgb)) # Use greylevel\n",
    "\n",
    "        mask = DataManager.load_image_v2(stack=stack, section=sec, \n",
    "                                         prep_id='alignedWithMargin', \n",
    "                                         resol=tb_resol, \n",
    "                                         version='mask')\n",
    "        img[~mask] = 0\n",
    "\n",
    "        images[sec] = img\n",
    "\n",
    "    # Specify isotropic resolution of the output volume.\n",
    "    voxel_size_um = convert_resolution_string_to_um(resolution=output_resolution, stack=stack)\n",
    "\n",
    "    input_image_resolution_um = convert_resolution_string_to_um(resolution=tb_resol, stack=stack)\n",
    "\n",
    "    volume_outVolResol, volume_origin_wrt_wholebrainWithMargin_outVolResol = images_to_volume_v2(images=images, \n",
    "                                                spacing_um=20.,\n",
    "                                                in_resol_um=input_image_resolution_um,\n",
    "                                                out_resol_um=voxel_size_um)\n",
    "    print volume_outVolResol.shape\n",
    "    \n",
    "    ##############################################################\n",
    "    \n",
    "    prep5_origin_wrt_prep1_tbResol = DataManager.load_cropbox_v2(stack=stack, only_2d=True, prep_id='alignedWithMargin')\n",
    "\n",
    "    loaded_cropbox_resol = 'thumbnail'\n",
    "\n",
    "    prep5_origin_wrt_prep1_outVolResol = prep5_origin_wrt_prep1_tbResol * \\\n",
    "    convert_resolution_string_to_um(resolution=loaded_cropbox_resol, stack=stack) / voxel_size_um\n",
    "\n",
    "    wholebrainWithMargin_origin_wrt_wholebrain_outVolResol = np.r_[np.round(prep5_origin_wrt_prep1_outVolResol).astype(np.int)[[0,2]], 0]\n",
    "    # wholebrainWithMargin_origin_wrt_wholebrain = np.array([0,0,0])\n",
    "\n",
    "    volume_origin_wrt_wholebrain_outVolResol = volume_origin_wrt_wholebrainWithMargin_outVolResol + wholebrainWithMargin_origin_wrt_wholebrain_outVolResol\n",
    "\n",
    "    ########################################\n",
    "\n",
    "    stack_spec = dict(name=stack,\n",
    "                      resolution=output_resolution,\n",
    "                      prep_id='wholebrainWithMargin',\n",
    "                      vol_type='intensity')\n",
    "    \n",
    "    save_data(volume_outVolResol, \n",
    "              fp=DataManager.get_original_volume_filepath_v2(stack_spec=stack_spec, structure=None))\n",
    "\n",
    "    save_data(volume_origin_wrt_wholebrain_outVolResol, \n",
    "              fp=DataManager.get_original_volume_origin_filepath_v3(stack_spec=stack_spec, structure=None))\n",
    "    \n",
    "    ##########################################\n",
    "    \n",
    "    display_volume_sections(volume_outVolResol, cmap=plt.cm.gray, every=20, title_fontsize=20)\n",
    "    \n",
    "    ###########################################"
   ]
  },
  {
   "cell_type": "markdown",
   "metadata": {},
   "source": [
    "# Crop, generate prep2 raw from prep5"
   ]
  },
  {
   "cell_type": "code",
   "execution_count": null,
   "metadata": {
    "collapsed": true
   },
   "outputs": [],
   "source": [
    "from multiprocess import Pool"
   ]
  },
  {
   "cell_type": "code",
   "execution_count": null,
   "metadata": {
    "collapsed": true
   },
   "outputs": [],
   "source": [
    "def f(stack, img_name, version, resol, x,y,w,h):\n",
    "\n",
    "    input_fp = DataManager.get_image_filepath_v2(stack=stack, prep_id=5, resol=resol, version=version, fn=img_name)\n",
    "    output_fp = DataManager.get_image_filepath_v2(stack=stack, fn=img_name, prep_id=2, version=version, resol=resol)\n",
    "\n",
    "    img = imread(input_fp)\n",
    "    save_data(img[y:y+h, x:x+w], output_fp)"
   ]
  },
  {
   "cell_type": "code",
   "execution_count": null,
   "metadata": {
    "collapsed": true
   },
   "outputs": [],
   "source": [
    "# for stack in ['CHATM2', 'CHATM3']:\n",
    "for stack in ['MD589']:\n",
    "\n",
    "    alignedBrainstemCrop_xmin, alignedBrainstemCrop_xmax, \\\n",
    "    alignedBrainstemCrop_ymin, alignedBrainstemCrop_ymax = \\\n",
    "    DataManager.load_cropbox_v2(stack=stack, prep_id='alignedBrainstemCrop', only_2d=True)\n",
    "\n",
    "    alignedWithMargin_xmin, alignedWithMargin_xmax,\\\n",
    "    alignedWithMargin_ymin, alignedWithMargin_ymax = DataManager.load_cropbox_v2(stack=stack, anchor_fn=None, \n",
    "                                                            prep_id='alignedWithMargin',\n",
    "                                                           return_dict=False, only_2d=True)\n",
    "\n",
    "    alignedBrainstemCrop_xmin_wrt_alignedWithMargin = alignedBrainstemCrop_xmin - alignedWithMargin_xmin\n",
    "    alignedBrainstemCrop_xmax_wrt_alignedWithMargin = alignedBrainstemCrop_xmax - alignedWithMargin_xmin\n",
    "    alignedBrainstemCrop_ymin_wrt_alignedWithMargin = alignedBrainstemCrop_ymin - alignedWithMargin_ymin\n",
    "    alignedBrainstemCrop_ymax_wrt_alignedWithMargin = alignedBrainstemCrop_ymax - alignedWithMargin_ymin\n",
    "\n",
    "    print alignedBrainstemCrop_xmin_wrt_alignedWithMargin,\\\n",
    "    alignedBrainstemCrop_xmax_wrt_alignedWithMargin,\\\n",
    "    alignedBrainstemCrop_ymin_wrt_alignedWithMargin,\\\n",
    "    alignedBrainstemCrop_ymax_wrt_alignedWithMargin\n",
    "\n",
    "    x_tb = alignedBrainstemCrop_xmin_wrt_alignedWithMargin\n",
    "    y_tb = alignedBrainstemCrop_ymin_wrt_alignedWithMargin\n",
    "    w_tb = alignedBrainstemCrop_xmax_wrt_alignedWithMargin - alignedBrainstemCrop_xmin_wrt_alignedWithMargin + 1\n",
    "    h_tb = alignedBrainstemCrop_ymax_wrt_alignedWithMargin - alignedBrainstemCrop_ymin_wrt_alignedWithMargin + 1\n",
    "\n",
    "#     for version in ['NtbNormalizedAdaptiveInvertedGamma', 'CHAT']:\n",
    "#     for version in ['CHAT']:\n",
    "    for version in ['NtbNormalizedAdaptiveInvertedGamma']:\n",
    "#     for version in ['mask']:\n",
    "#         for resol in ['thumbnail']:\n",
    "        for resol in ['raw']:\n",
    "            \n",
    "            if resol == 'raw':\n",
    "                x = x_tb * 32\n",
    "                y = y_tb * 32\n",
    "                w = w_tb * 32\n",
    "                h = h_tb * 32\n",
    "            elif resol == 'thumbnail':\n",
    "                x = x_tb\n",
    "                y = y_tb\n",
    "                w = w_tb\n",
    "                h = h_tb\n",
    "            else:\n",
    "                raise\n",
    "\n",
    "#             input_dir = DataManager.get_image_dir_v2(stack=stack, prep_id=5, version=version, resol='raw')\n",
    "            out_dir = DataManager.get_image_dir_v2(stack=stack, prep_id=2, resol=resol, version=version)\n",
    "            print 'out_dir:', out_dir\n",
    "#             script = os.path.join(REPO_DIR, 'preprocess', 'warp_crop_IM_v3.py')\n",
    "\n",
    "    #         ! rm -rf {out_dir}\n",
    "            create_if_not_exists(out_dir)\n",
    "\n",
    "            t = time.time()\n",
    "\n",
    "            pool = Pool(8)\n",
    "            _ = pool.map(lambda img_name: f(stack=stack, img_name=img_name, version=version, resol=resol, \n",
    "                                            x=x, y=y, w=w, h=h), \n",
    "                         metadata_cache['valid_filenames'][stack])\n",
    "            pool.close()\n",
    "            pool.join()\n",
    "\n",
    "#             for img_name in metadata_cache['valid_filenames'][stack]:\n",
    "#                 f(stack=stack, img_name=img_name, version=version, resol=resol, \n",
    "#                                             x=x, y=y, w=w, h=h)\n",
    "\n",
    "        #     run_distributed('convert \\\"%%(input_fp)s\\\" -crop %(w)dx%(h)d+%(x)d+%(y)d  \\\"%%(output_fp)s\\\"' % \\\n",
    "        #                     {'w':w_raw, 'h':h_raw, 'x':x_raw, 'y':y_raw},\n",
    "        #                     kwargs_list=[{'input_fp': DataManager.get_image_filepath_v2(stack=stack, prep_id=5, resol='raw', version=version, fn=img_name),\n",
    "        #                                   'output_fp': DataManager.get_image_filepath_v2(stack=stack, fn=img_name, prep_id=2, version=version, resol='raw')}\n",
    "        #                                  for img_name in metadata_cache['valid_filenames'][stack]],\n",
    "        # #                                  for img_name in ['CHATM3_slide35_2018_02_17-S1']],\n",
    "        #                     argument_type='single',\n",
    "        #                    jobs_per_node=1,\n",
    "        #                    local_only=True)\n",
    "\n",
    "            # wait_qsub_complete()\n",
    "\n",
    "            print 'done in', time.time() - t, 'seconds' # 1500s"
   ]
  },
  {
   "cell_type": "markdown",
   "metadata": {},
   "source": [
    "# Transform original masks to prep1\n",
    "thumbnail_mask -> prep1_thumbnail_mask"
   ]
  },
  {
   "cell_type": "code",
   "execution_count": null,
   "metadata": {
    "collapsed": true
   },
   "outputs": [],
   "source": [
    "# Legacy data folder names do not match current scheme.\n",
    "# First rename MD589_masks as MD589_thumbnail_mask. "
   ]
  },
  {
   "cell_type": "code",
   "execution_count": 27,
   "metadata": {},
   "outputs": [
    {
     "name": "stderr",
     "output_type": "stream",
     "text": [
      "rm -rf \"/data/CSHL_data_processed/MD589/MD589_masks\" && mkdir -p \"/data/CSHL_data_processed/MD589\"\n",
      "return code: 0\n",
      "aws s3 cp --recursive \"s3://mousebrainatlas-data/CSHL_data_processed/MD589/MD589_masks\" \"/data/CSHL_data_processed/MD589/MD589_masks\"\n",
      "return code: 0\n"
     ]
    }
   ],
   "source": [
    "download_from_s3('/data/CSHL_data_processed/MD589/MD589_masks/', \n",
    "                 is_dir=True)"
   ]
  },
  {
   "cell_type": "code",
   "execution_count": 30,
   "metadata": {
    "collapsed": true
   },
   "outputs": [],
   "source": [
    "! mv /data/CSHL_data_processed/MD589/MD589_masks /data/CSHL_data_processed/MD589/MD589_thumbnail_mask"
   ]
  },
  {
   "cell_type": "code",
   "execution_count": 31,
   "metadata": {
    "collapsed": true
   },
   "outputs": [],
   "source": [
    "for img_name in valid_filenames:\n",
    "    os.system(\"mv /data/CSHL_data_processed/MD589/MD589_thumbnail_mask/%s_mask.png /data/CSHL_data_processed/MD589/MD589_thumbnail_mask/%s_thumbnail_mask.png\" % (img_name, img_name))"
   ]
  },
  {
   "cell_type": "code",
   "execution_count": 42,
   "metadata": {},
   "outputs": [
    {
     "name": "stderr",
     "output_type": "stream",
     "text": [
      "aws s3 cp --recursive \"/data/CSHL_data_processed/MD589/MD589_thumbnail_mask\" \"s3://mousebrainatlas-data/CSHL_data_processed/MD589/MD589_thumbnail_mask\"\n",
      "return code: 0\n"
     ]
    }
   ],
   "source": [
    "upload_to_s3(DataManager.get_image_dir_v2(stack=stack, prep_id=None, version='mask', resol='thumbnail'), \n",
    "             is_dir=True, local_root=DATA_ROOTDIR)"
   ]
  },
  {
   "cell_type": "code",
   "execution_count": null,
   "metadata": {
    "collapsed": true
   },
   "outputs": [],
   "source": [
    "# Do transform thumbnail_mask -> prep1_thumbnail_mask"
   ]
  },
  {
   "cell_type": "code",
   "execution_count": 55,
   "metadata": {},
   "outputs": [
    {
     "name": "stderr",
     "output_type": "stream",
     "text": [
      "rm -rf \"/data/CSHL_data_processed/MD589/MD589_thumbnail_mask\" && mkdir -p \"/data/CSHL_data_processed/MD589\"\n",
      "return code: 0\n",
      "aws s3 cp --recursive \"s3://mousebrainatlas-data/CSHL_data_processed/MD589/MD589_thumbnail_mask\" \"/data/CSHL_data_processed/MD589/MD589_thumbnail_mask\"\n",
      "return code: 0\n"
     ]
    }
   ],
   "source": [
    "download_from_s3(DataManager.get_image_dir_v2(stack=stack, prep_id=None, version='mask', resol='thumbnail'), \n",
    "             is_dir=True, local_root=DATA_ROOTDIR, redownload=True)"
   ]
  },
  {
   "cell_type": "code",
   "execution_count": 56,
   "metadata": {
    "collapsed": true
   },
   "outputs": [],
   "source": [
    "stack = 'MD589'"
   ]
  },
  {
   "cell_type": "code",
   "execution_count": 57,
   "metadata": {
    "collapsed": true
   },
   "outputs": [],
   "source": [
    "anchor_fn = DataManager.load_anchor_filename(stack=stack)"
   ]
  },
  {
   "cell_type": "code",
   "execution_count": 58,
   "metadata": {},
   "outputs": [
    {
     "name": "stderr",
     "output_type": "stream",
     "text": [
      "rm -rf \"/data/CSHL_data_processed/MD589/MD589_transformsTo_MD589-IHC31-2015.07.30-23.26.22_MD589_1_0091.pkl\" && mkdir -p \"/data/CSHL_data_processed/MD589\"\n",
      "return code: 0\n",
      "aws s3 cp \"s3://mousebrainatlas-data/CSHL_data_processed/MD589/MD589_transformsTo_MD589-IHC31-2015.07.30-23.26.22_MD589_1_0091.pkl\" \"/data/CSHL_data_processed/MD589/MD589_transformsTo_MD589-IHC31-2015.07.30-23.26.22_MD589_1_0091.pkl\"\n",
      "return code: 0\n"
     ]
    }
   ],
   "source": [
    "transforms_fp = os.path.join(DATA_DIR, stack, '%(stack)s_transformsTo_%(anchor_fn)s.pkl' % \\\n",
    "                                                dict(stack=stack, anchor_fn=anchor_fn))\n",
    "download_from_s3(transforms_fp, redownload=True)"
   ]
  },
  {
   "cell_type": "code",
   "execution_count": 59,
   "metadata": {
    "collapsed": true
   },
   "outputs": [],
   "source": [
    "pad_bg_color = 'black'"
   ]
  },
  {
   "cell_type": "code",
   "execution_count": 60,
   "metadata": {
    "collapsed": true
   },
   "outputs": [],
   "source": [
    "prep_id = 1"
   ]
  },
  {
   "cell_type": "code",
   "execution_count": 61,
   "metadata": {
    "collapsed": true
   },
   "outputs": [],
   "source": [
    "version = 'mask'"
   ]
  },
  {
   "cell_type": "code",
   "execution_count": 62,
   "metadata": {},
   "outputs": [
    {
     "name": "stdout",
     "output_type": "stream",
     "text": [
      "out_dir: /data/CSHL_data_processed/MD589/MD589_prep1_thumbnail_mask\n"
     ]
    }
   ],
   "source": [
    "input_dir = DataManager.get_image_dir_v2(stack=stack, prep_id=None, version=version, resol='thumbnail')\n",
    "out_dir = DataManager.get_image_dir_v2(stack=stack, prep_id=prep_id, resol='thumbnail', version=version)\n",
    "print 'out_dir:', out_dir\n",
    "script = os.path.join(REPO_DIR, 'preprocess', 'warp_crop_IM_v3.py')"
   ]
  },
  {
   "cell_type": "code",
   "execution_count": 63,
   "metadata": {
    "collapsed": true
   },
   "outputs": [],
   "source": [
    "! rm -rf {out_dir}"
   ]
  },
  {
   "cell_type": "code",
   "execution_count": 64,
   "metadata": {
    "collapsed": true
   },
   "outputs": [],
   "source": [
    "_, sections_to_filenames = DataManager.load_sorted_filenames(stack=stack) \n",
    "valid_filenames = [fn for fn in sections_to_filenames.values() if not is_invalid(fn=fn)]"
   ]
  },
  {
   "cell_type": "code",
   "execution_count": 65,
   "metadata": {
    "scrolled": true
   },
   "outputs": [
    {
     "name": "stdout",
     "output_type": "stream",
     "text": [
      "Warping...\n"
     ]
    },
    {
     "name": "stderr",
     "output_type": "stream",
     "text": [
      "rm -f ~/stderr_*; rm -f ~/stdout_*\n",
      "return code: 0\n",
      "Run locally.\n"
     ]
    },
    {
     "name": "stdout",
     "output_type": "stream",
     "text": [
      "done in 118.715882063 seconds\n"
     ]
    },
    {
     "name": "stderr",
     "output_type": "stream",
     "text": [
      "Jobs submitted. Use wait_qsub_complete() to wait for all execution to finish.\n"
     ]
    }
   ],
   "source": [
    "t = time.time()\n",
    "print 'Warping...'\n",
    "\n",
    "transforms_to_anchor = DataManager.load_transforms(stack=stack, downsample_factor=32, use_inverse=False, anchor_fn=anchor_fn)\n",
    "\n",
    "if pad_bg_color == 'auto': # useful for alternatively stained stacks where bg varies depending on stain on each section\n",
    "    run_distributed('%(script)s %(stack)s \\\"%%(input_fp)s\\\" \\\"%%(output_fp)s\\\" %%(transform)s thumbnail 0 0 2000 1500 %%(pad_bg_color)s' % \\\n",
    "                    {'script': script,\n",
    "                    'stack': stack,\n",
    "                    },\n",
    "                    kwargs_list=[{'transform': ','.join(map(str, transforms_to_anchor[fn].flatten())),\n",
    "                                'input_fp': DataManager.get_image_filepath_v2(stack=stack, fn=fn, prep_id=None, version=version, resol='thumbnail'),\n",
    "                                  'output_fp': DataManager.get_image_filepath_v2(stack=stack, fn=fn, prep_id=prep_id, version=version, resol='thumbnail'),\n",
    "                                'pad_bg_color': 'black' if fn.split('-')[1][0] == 'F' else 'white'}\n",
    "                                for fn in valid_filenames],\n",
    "                    argument_type='single',\n",
    "                   jobs_per_node=8,\n",
    "                   local_only=True)\n",
    "else:\n",
    "    run_distributed('%(script)s %(stack)s \\\"%%(input_fp)s\\\" \\\"%%(output_fp)s\\\" %%(transform)s thumbnail 0 0 2000 1500 %(pad_bg_color)s' % \\\n",
    "                    {'script': script,\n",
    "                    'stack': stack,\n",
    "                    'pad_bg_color': pad_bg_color},\n",
    "                    kwargs_list=[{'transform': ','.join(map(str, transforms_to_anchor[fn].flatten())),\n",
    "                                'input_fp': DataManager.get_image_filepath_v2(stack=stack, fn=fn, prep_id=None, version=version, resol='thumbnail'),\n",
    "                                  'output_fp': DataManager.get_image_filepath_v2(stack=stack, fn=fn, prep_id=prep_id, version=version, resol='thumbnail'),\n",
    "                                 }\n",
    "                                for fn in valid_filenames],\n",
    "                    argument_type='single',\n",
    "                   jobs_per_node=8,\n",
    "                   local_only=True)\n",
    "\n",
    "# wait_qsub_complete()\n",
    "    \n",
    "print 'done in', time.time() - t, 'seconds' # 300 seconds."
   ]
  },
  {
   "cell_type": "code",
   "execution_count": 66,
   "metadata": {},
   "outputs": [
    {
     "name": "stderr",
     "output_type": "stream",
     "text": [
      "aws s3 cp --recursive \"/data/CSHL_data_processed/MD589/MD589_prep1_thumbnail_mask\" \"s3://mousebrainatlas-data/CSHL_data_processed/MD589/MD589_prep1_thumbnail_mask\"\n",
      "return code: 0\n"
     ]
    }
   ],
   "source": [
    "upload_to_s3(out_dir, is_dir=True, local_root=DATA_ROOTDIR)"
   ]
  },
  {
   "cell_type": "code",
   "execution_count": null,
   "metadata": {
    "collapsed": true
   },
   "outputs": [],
   "source": []
  }
 ],
 "metadata": {
  "kernelspec": {
   "display_name": "Python 2",
   "language": "python",
   "name": "python2"
  },
  "language_info": {
   "codemirror_mode": {
    "name": "ipython",
    "version": 2
   },
   "file_extension": ".py",
   "mimetype": "text/x-python",
   "name": "python",
   "nbconvert_exporter": "python",
   "pygments_lexer": "ipython2",
   "version": "2.7.12"
  }
 },
 "nbformat": 4,
 "nbformat_minor": 2
}
