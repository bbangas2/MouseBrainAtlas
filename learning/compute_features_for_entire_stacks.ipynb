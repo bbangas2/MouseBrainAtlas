{
 "cells": [
  {
   "cell_type": "code",
   "execution_count": 5,
   "metadata": {
    "scrolled": true
   },
   "outputs": [
    {
     "name": "stdout",
     "output_type": "stream",
     "text": [
      "Setting environment for Precision WorkStation\n"
     ]
    }
   ],
   "source": [
    "%reload_ext autoreload\n",
    "%autoreload 2\n",
    "\n",
    "import os\n",
    "import argparse\n",
    "import sys\n",
    "import time\n",
    "\n",
    "import numpy as np\n",
    "from multiprocess import Pool\n",
    "\n",
    "sys.path.append(os.path.join(os.environ['REPO_DIR'], 'utilities'))\n",
    "from utilities2015 import *\n",
    "from metadata import *\n",
    "from data_manager import *\n",
    "from learning_utilities import *\n",
    "\n",
    "%matplotlib inline"
   ]
  },
  {
   "cell_type": "code",
   "execution_count": 6,
   "metadata": {},
   "outputs": [],
   "source": [
    "batch_size = 256\n",
    "model_dir_name = 'inception-bn-blue'\n",
    "model_name = 'inception-bn-blue'\n",
    "model, mean_img = load_mxnet_model(model_dir_name=model_dir_name, model_name=model_name, \n",
    "                                   num_gpus=1, batch_size=batch_size)"
   ]
  },
  {
   "cell_type": "code",
   "execution_count": 7,
   "metadata": {
    "scrolled": true
   },
   "outputs": [
    {
     "name": "stderr",
     "output_type": "stream",
     "text": [
      "locate patches: 0.30 seconds\n",
      "Recompute features requested... computing from scratch.\n",
      "Trying to load /data/CSHL_data_processed/MD662/MD662_prep2_raw_NtbNormalizedAdaptiveInvertedGamma/MD662&661-F35-2017.06.05-17.08.18_MD662_1_0103_prep2_raw_NtbNormalizedAdaptiveInvertedGamma.tif\n",
      "Load image: 2.52 seconds.\n",
      "Crop patches: 0.77 seconds.\n",
      "Extract patches: 3.31 seconds\n"
     ]
    },
    {
     "name": "stdout",
     "output_type": "stream",
     "text": [
      "(25813, 1, 224, 224)\n"
     ]
    },
    {
     "name": "stderr",
     "output_type": "stream",
     "text": [
      "Compute features: 39.27 seconds\n",
      "Compute features at one section, multiple locations: 42.60 seconds\n",
      "aws s3 cp \"/data/CSHL_patch_features/inception-bn-blue/MD662/MD662_prep2_none_win7/MD662&661-F35-2017.06.05-17.08.18_MD662_1_0103_prep2_none_win7_inception-bn-blue_features.bp\" \"s3://mousebrainatlas-data/CSHL_patch_features/inception-bn-blue/MD662/MD662_prep2_none_win7/MD662&661-F35-2017.06.05-17.08.18_MD662_1_0103_prep2_none_win7_inception-bn-blue_features.bp\"\n",
      "return code: 0\n",
      "aws s3 cp \"/data/CSHL_patch_features/inception-bn-blue/MD662/MD662_prep2_none_win7/MD662&661-F35-2017.06.05-17.08.18_MD662_1_0103_prep2_none_win7_inception-bn-blue_locations.bp\" \"s3://mousebrainatlas-data/CSHL_patch_features/inception-bn-blue/MD662/MD662_prep2_none_win7/MD662&661-F35-2017.06.05-17.08.18_MD662_1_0103_prep2_none_win7_inception-bn-blue_locations.bp\"\n",
      "return code: 0\n",
      "Save features: 3.66 seconds\n"
     ]
    }
   ],
   "source": [
    "# for stack in ['MD661', 'MD662']:\n",
    "# for stack in ['MD585', 'MD589', 'MD594']:\n",
    "for stack in ['MD662']:\n",
    "    for sec in metadata_cache['valid_sections'][stack][:1]:\n",
    "        compute_and_save_features_one_section(\n",
    "#                                 scheme='normalize_mu_region_sigma_wholeImage_(-1,5)', \n",
    "                                    scheme='none', \n",
    "    #                             bbox=(11217, 16886, 13859, 18404),\n",
    "#                                 method='glcm',\n",
    "                                method='cnn',\n",
    "                                win_id=7, prep_id=2,\n",
    "                                stack=stack, sec=sec,\n",
    "                                model=model, model_name=model_name,\n",
    "                                 mean_img=mean_img, \n",
    "                                 batch_size=batch_size, \n",
    "            attach_timestamp=False, \n",
    "            recompute=True)\n",
    "#         break"
   ]
  },
  {
   "cell_type": "code",
   "execution_count": null,
   "metadata": {
    "collapsed": true
   },
   "outputs": [],
   "source": []
  }
 ],
 "metadata": {
  "kernelspec": {
   "display_name": "Python 2",
   "language": "python",
   "name": "python2"
  },
  "language_info": {
   "codemirror_mode": {
    "name": "ipython",
    "version": 2
   },
   "file_extension": ".py",
   "mimetype": "text/x-python",
   "name": "python",
   "nbconvert_exporter": "python",
   "pygments_lexer": "ipython2",
   "version": "2.7.12"
  }
 },
 "nbformat": 4,
 "nbformat_minor": 2
}
