{
 "cells": [
  {
   "cell_type": "code",
   "execution_count": 1,
   "metadata": {
    "scrolled": true
   },
   "outputs": [
    {
     "name": "stdout",
     "output_type": "stream",
     "text": [
      "Setting environment for Local Macbook Pro\n"
     ]
    }
   ],
   "source": [
    "%reload_ext autoreload\n",
    "%autoreload 2\n",
    "\n",
    "import numpy as np\n",
    "import bloscpack as bp\n",
    "\n",
    "import sys\n",
    "import os\n",
    "sys.path.append(os.path.join(os.environ['REPO_DIR'], 'utilities'))\n",
    "from utilities2015 import *\n",
    "from annotation_utilities import *\n",
    "from metadata import *\n",
    "\n",
    "import time\n",
    "\n",
    "import matplotlib.pyplot as plt\n",
    "%matplotlib inline\n",
    "\n",
    "from vis3d_utilities import *"
   ]
  },
  {
   "cell_type": "code",
   "execution_count": 2,
   "metadata": {
    "collapsed": true
   },
   "outputs": [],
   "source": [
    "brain_spec = dict(name='MD585', \n",
    "                  resolution='10.0um', \n",
    "                  vol_type='annotationAsScore', \n",
    "                  prep_id=None,\n",
    "                  detector_id=None,\n",
    "                  structure=None)\n",
    "\n",
    "stack = brain_spec['name']"
   ]
  },
  {
   "cell_type": "code",
   "execution_count": 10,
   "metadata": {
    "collapsed": true
   },
   "outputs": [],
   "source": [
    "volume_resolution = '10.0um'\n",
    "volume_resolution_um = 10."
   ]
  },
  {
   "cell_type": "markdown",
   "metadata": {},
   "source": [
    "# Compute shell mesh from thumbnail tissue masks"
   ]
  },
  {
   "cell_type": "code",
   "execution_count": 4,
   "metadata": {
    "collapsed": true
   },
   "outputs": [],
   "source": [
    "from skimage.morphology import binary_closing, disk, remove_small_holes\n",
    "\n",
    "fatten_masks = True"
   ]
  },
  {
   "cell_type": "code",
   "execution_count": 15,
   "metadata": {
    "scrolled": true
   },
   "outputs": [],
   "source": [
    "contours_xyz_wrt_wholebrain_volResol = []\n",
    "\n",
    "for sec in metadata_cache['valid_sections'][stack]:\n",
    "    \n",
    "    mask_tbResol = DataManager.load_thumbnail_mask_v3(stack, prep_id='alignedPadded', section=sec)\n",
    "    \n",
    "    if fatten_masks:    \n",
    "        mask_tbResol = binary_closing(mask_tbResol, selem=disk(10))\n",
    "        mask_tbResol = remove_small_holes(mask_tbResol, min_size=10000)\n",
    "    \n",
    "    contours_wrt_wholebrain_tbResol = find_contour_points(mask_tbResol, sample_every=3)[1]\n",
    "#     contours_valid = [cnt[(cnt[:,0] >= 1) & (cnt[:,1] >= 1)] for cnt in contours]\n",
    "\n",
    "    # Select the longest one, in case of multiple contours.\n",
    "    contour_wrt_wholebrain_tbResol = contours_wrt_wholebrain_tbResol[np.argmax(map(len, contours_wrt_wholebrain_tbResol))]\n",
    "    contour_xysec_wrt_wholebrain_tbResol = [(x,y,sec) for x,y in contour_wrt_wholebrain_tbResol] \n",
    "    contour_xyz_wrt_wholebrain_volResol = CoordinatesConverter(stack=stack).convert_frame_and_resolution(contour_xysec_wrt_wholebrain_tbResol, in_wrt='wholebrain', in_resolution='down32_down32_section',\n",
    "                                out_wrt='wholebrain', out_resolution=volume_resolution)\n",
    "    \n",
    "    contours_xyz_wrt_wholebrain_volResol.append(contour_xyz_wrt_wholebrain_volResol)"
   ]
  },
  {
   "cell_type": "code",
   "execution_count": 16,
   "metadata": {
    "collapsed": true
   },
   "outputs": [],
   "source": [
    "# mirror_left_to_right = True\n",
    "mirror_left_to_right = False"
   ]
  },
  {
   "cell_type": "code",
   "execution_count": 17,
   "metadata": {
    "collapsed": true
   },
   "outputs": [],
   "source": [
    "all_xyzs_wrt_wholebrain_volResol = np.array([xyz for cnt_xyz in contours_xyz_wrt_wholebrain_volResol for xyz in cnt_xyz])\n",
    "\n",
    "if mirror_left_to_right:\n",
    "    mid_z = wrt_wholebrain_volResol = (all_xyzs_wrt_wholebrain_volResol[:,2].min() + all_xyzs_wrt_wholebrain_volResol[:,2].max())/2.\n",
    "    # all_xyzs_wrt_wholebrain_volResol = np.array([xyz if xyz[2] < mid_z else [x,y,2*mid_z-xyz[2]] for xyz in all_xyzs_wrt_wholebrain_volResol])\n",
    "    left_xyzs_wrt_wholebrain_volResol = np.array([xyz for xyz in all_xyzs_wrt_wholebrain_volResol if xyz[2] < mid_z])\n",
    "    all_xyzs_wrt_wholebrain_volResol = np.concatenate([left_xyzs_wrt_wholebrain_volResol, \n",
    "                                                      np.c_[left_xyzs_wrt_wholebrain_volResol[:,:2], 2*mid_z - left_xyzs_wrt_wholebrain_volResol[:,2]]])"
   ]
  },
  {
   "cell_type": "code",
   "execution_count": 18,
   "metadata": {},
   "outputs": [
    {
     "name": "stderr",
     "output_type": "stream",
     "text": [
      "mesh_to_polydata: No faces are provided, so skip simplification.\n",
      "meshlabserver -i /tmp/input.ply -o /tmp/output.stl -s /home/yuncong/Brain/3d/outerContour_poisson_reconstruct.mlx -om vc vn\n",
      "return code: 0\n",
      "time: 8.07\n",
      "aws s3 cp \"/home/yuncong/CSHL_meshes/MD585/MD585_10.0um_annotationAsScoreVolume/MD585_10.0um_annotationAsScoreVolume_shell.stl\" \"s3://mousebrainatlas-data/CSHL_meshes/MD585/MD585_10.0um_annotationAsScoreVolume/MD585_10.0um_annotationAsScoreVolume_shell.stl\"\n",
      "return code: 0\n"
     ]
    }
   ],
   "source": [
    "t = time.time()\n",
    "\n",
    "shell_sparse_polydata = mesh_to_polydata(vertices=all_xyzs_wrt_wholebrain_volResol, faces=[])\n",
    "shell_smooth_polydata = poisson_reconstruct_meshlab(polydata=shell_sparse_polydata)\n",
    "\n",
    "# VTK SurfaceReconstructFilter - likely program bug, distance function is wrong outside the contour.\n",
    "# polydata = vertices_to_surface(vertices, num_simplify_iter=0, smooth=True)\n",
    "\n",
    "# VTK marching cube - if applied to points rather than volume, results in separate vertices, not contiguous surface.\n",
    "# polydata = volume_to_polydata(outerContour_volume, origin=origin, num_simplify_iter=1, smooth=True)\n",
    "\n",
    "sys.stderr.write('time: %.2f\\n' % (time.time() - t) ) # ~ 150s for outerContour; 93s for sp5\n",
    "\n",
    "mesh_fp = DataManager.get_mesh_filepath_v2(brain_spec=brain_spec, structure='shell')\n",
    "create_parent_dir_if_not_exists(mesh_fp)\n",
    "save_mesh_stl(shell_smooth_polydata, mesh_fp)\n",
    "upload_to_s3(mesh_fp)"
   ]
  },
  {
   "cell_type": "code",
   "execution_count": 19,
   "metadata": {
    "collapsed": true
   },
   "outputs": [],
   "source": [
    "launch_vtk([actor_mesh(shell_smooth_polydata)])"
   ]
  }
 ],
 "metadata": {
  "kernelspec": {
   "display_name": "Python 2",
   "language": "python",
   "name": "python2"
  },
  "language_info": {
   "codemirror_mode": {
    "name": "ipython",
    "version": 2
   },
   "file_extension": ".py",
   "mimetype": "text/x-python",
   "name": "python",
   "nbconvert_exporter": "python",
   "pygments_lexer": "ipython2",
   "version": "2.7.12"
  }
 },
 "nbformat": 4,
 "nbformat_minor": 1
}
