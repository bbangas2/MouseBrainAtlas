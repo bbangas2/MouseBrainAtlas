{
 "cells": [
  {
   "cell_type": "code",
   "execution_count": 1,
   "metadata": {},
   "outputs": [
    {
     "name": "stdout",
     "output_type": "stream",
     "text": [
      "Setting environment for Precision WorkStation\n"
     ]
    },
    {
     "name": "stderr",
     "output_type": "stream",
     "text": [
      "rm -rf \"/data/CSHL_data_processed/DEMO999/DEMO999_alignedTo_MD662&661-F116-2017.06.07-04.39.41_MD661_1_0346_cropbox.txt\" && mkdir -p \"/data/CSHL_data_processed/DEMO999\"\n",
      "return code: 0\n",
      "aws s3 cp \"s3://mousebrainatlas-data/CSHL_data_processed/DEMO999/DEMO999_alignedTo_MD662&661-F116-2017.06.07-04.39.41_MD661_1_0346_cropbox.txt\" \"/data/CSHL_data_processed/DEMO999/DEMO999_alignedTo_MD662&661-F116-2017.06.07-04.39.41_MD661_1_0346_cropbox.txt\"\n",
      "return code: 1\n",
      "/usr/local/lib/python2.7/dist-packages/sklearn/cross_validation.py:44: DeprecationWarning: This module was deprecated in version 0.18 in favor of the model_selection module into which all the refactored classes and functions are moved. Also note that the interface of the new CV iterators are different from that of this module. This module will be removed in 0.20.\n",
      "  \"This module will be removed in 0.20.\", DeprecationWarning)\n"
     ]
    }
   ],
   "source": [
    "import os\n",
    "import sys\n",
    "import time\n",
    "\n",
    "import matplotlib.pyplot as plt\n",
    "%matplotlib inline\n",
    "import numpy as np\n",
    "\n",
    "sys.path.append(os.path.join(os.environ['REPO_DIR'], 'utilities'))\n",
    "from utilities2015 import *\n",
    "from metadata import *\n",
    "from data_manager import *\n",
    "from learning_utilities import *"
   ]
  },
  {
   "cell_type": "code",
   "execution_count": 9,
   "metadata": {
    "scrolled": true
   },
   "outputs": [
    {
     "name": "stderr",
     "output_type": "stream",
     "text": [
      "cp \"/data/CSHL_data_processed/MD661/MD661_prep2_raw_NtbNormalizedAdaptiveInvertedGammaJpeg/MD662&661-F79-2017.06.06-11.52.28_MD661_2_0236_prep2_raw_NtbNormalizedAdaptiveInvertedGammaJpeg.jpg\" \"/data/CSHL_data_processed/DEMO999/DEMO999_prep2_raw_NtbNormalizedAdaptiveInvertedGammaJpeg/MD662&661-F79-2017.06.06-11.52.28_MD661_2_0236_prep2_raw_NtbNormalizedAdaptiveInvertedGammaJpeg.jpg\"\n",
      "return code: 0\n",
      "cp \"/data/CSHL_data_processed/MD661/MD661_prep2_raw_NtbNormalizedAdaptiveInvertedGammaJpeg/MD662&661-F80-2017.06.06-12.18.56_MD661_1_0238_prep2_raw_NtbNormalizedAdaptiveInvertedGammaJpeg.jpg\" \"/data/CSHL_data_processed/DEMO999/DEMO999_prep2_raw_NtbNormalizedAdaptiveInvertedGammaJpeg/MD662&661-F80-2017.06.06-12.18.56_MD661_1_0238_prep2_raw_NtbNormalizedAdaptiveInvertedGammaJpeg.jpg\"\n",
      "return code: 0\n",
      "cp \"/data/CSHL_data_processed/MD661/MD661_prep2_raw_NtbNormalizedAdaptiveInvertedGammaJpeg/MD662&661-F80-2017.06.06-12.18.56_MD661_2_0239_prep2_raw_NtbNormalizedAdaptiveInvertedGammaJpeg.jpg\" \"/data/CSHL_data_processed/DEMO999/DEMO999_prep2_raw_NtbNormalizedAdaptiveInvertedGammaJpeg/MD662&661-F80-2017.06.06-12.18.56_MD661_2_0239_prep2_raw_NtbNormalizedAdaptiveInvertedGammaJpeg.jpg\"\n",
      "return code: 0\n",
      "cp \"/data/CSHL_data_processed/MD661/MD661_prep2_raw_NtbNormalizedAdaptiveInvertedGammaJpeg/MD662&661-F81-2017.06.06-12.44.40_MD661_1_0241_prep2_raw_NtbNormalizedAdaptiveInvertedGammaJpeg.jpg\" \"/data/CSHL_data_processed/DEMO999/DEMO999_prep2_raw_NtbNormalizedAdaptiveInvertedGammaJpeg/MD662&661-F81-2017.06.06-12.44.40_MD661_1_0241_prep2_raw_NtbNormalizedAdaptiveInvertedGammaJpeg.jpg\"\n",
      "return code: 0\n",
      "cp \"/data/CSHL_data_processed/MD661/MD661_prep2_raw_NtbNormalizedAdaptiveInvertedGammaJpeg/MD662&661-F81-2017.06.06-12.44.40_MD661_2_0242_prep2_raw_NtbNormalizedAdaptiveInvertedGammaJpeg.jpg\" \"/data/CSHL_data_processed/DEMO999/DEMO999_prep2_raw_NtbNormalizedAdaptiveInvertedGammaJpeg/MD662&661-F81-2017.06.06-12.44.40_MD661_2_0242_prep2_raw_NtbNormalizedAdaptiveInvertedGammaJpeg.jpg\"\n",
      "return code: 0\n",
      "cp \"/data/CSHL_data_processed/MD661/MD661_prep2_raw_NtbNormalizedAdaptiveInvertedGammaJpeg/MD662&661-F82-2017.06.06-13.10.59_MD661_1_0244_prep2_raw_NtbNormalizedAdaptiveInvertedGammaJpeg.jpg\" \"/data/CSHL_data_processed/DEMO999/DEMO999_prep2_raw_NtbNormalizedAdaptiveInvertedGammaJpeg/MD662&661-F82-2017.06.06-13.10.59_MD661_1_0244_prep2_raw_NtbNormalizedAdaptiveInvertedGammaJpeg.jpg\"\n",
      "return code: 0\n",
      "cp \"/data/CSHL_data_processed/MD661/MD661_prep2_raw_NtbNormalizedAdaptiveInvertedGammaJpeg/MD662&661-F82-2017.06.06-13.10.59_MD661_2_0245_prep2_raw_NtbNormalizedAdaptiveInvertedGammaJpeg.jpg\" \"/data/CSHL_data_processed/DEMO999/DEMO999_prep2_raw_NtbNormalizedAdaptiveInvertedGammaJpeg/MD662&661-F82-2017.06.06-13.10.59_MD661_2_0245_prep2_raw_NtbNormalizedAdaptiveInvertedGammaJpeg.jpg\"\n",
      "return code: 0\n",
      "cp \"/data/CSHL_data_processed/MD661/MD661_prep2_raw_NtbNormalizedAdaptiveInvertedGammaJpeg/MD662&661-F83-2017.06.06-13.37.35_MD661_1_0247_prep2_raw_NtbNormalizedAdaptiveInvertedGammaJpeg.jpg\" \"/data/CSHL_data_processed/DEMO999/DEMO999_prep2_raw_NtbNormalizedAdaptiveInvertedGammaJpeg/MD662&661-F83-2017.06.06-13.37.35_MD661_1_0247_prep2_raw_NtbNormalizedAdaptiveInvertedGammaJpeg.jpg\"\n",
      "return code: 0\n",
      "cp \"/data/CSHL_data_processed/MD661/MD661_prep2_raw_NtbNormalizedAdaptiveInvertedGammaJpeg/MD662&661-F83-2017.06.06-13.37.35_MD661_2_0248_prep2_raw_NtbNormalizedAdaptiveInvertedGammaJpeg.jpg\" \"/data/CSHL_data_processed/DEMO999/DEMO999_prep2_raw_NtbNormalizedAdaptiveInvertedGammaJpeg/MD662&661-F83-2017.06.06-13.37.35_MD661_2_0248_prep2_raw_NtbNormalizedAdaptiveInvertedGammaJpeg.jpg\"\n",
      "return code: 0\n",
      "cp \"/data/CSHL_data_processed/MD661/MD661_prep2_raw_NtbNormalizedAdaptiveInvertedGammaJpeg/MD662&661-F84-2017.06.06-14.03.51_MD661_1_0250_prep2_raw_NtbNormalizedAdaptiveInvertedGammaJpeg.jpg\" \"/data/CSHL_data_processed/DEMO999/DEMO999_prep2_raw_NtbNormalizedAdaptiveInvertedGammaJpeg/MD662&661-F84-2017.06.06-14.03.51_MD661_1_0250_prep2_raw_NtbNormalizedAdaptiveInvertedGammaJpeg.jpg\"\n",
      "return code: 0\n",
      "cp \"/data/CSHL_data_processed/MD661/MD661_prep2_raw_NtbNormalizedAdaptiveInvertedGammaJpeg/MD662&661-F84-2017.06.06-14.03.51_MD661_2_0251_prep2_raw_NtbNormalizedAdaptiveInvertedGammaJpeg.jpg\" \"/data/CSHL_data_processed/DEMO999/DEMO999_prep2_raw_NtbNormalizedAdaptiveInvertedGammaJpeg/MD662&661-F84-2017.06.06-14.03.51_MD661_2_0251_prep2_raw_NtbNormalizedAdaptiveInvertedGammaJpeg.jpg\"\n",
      "return code: 0\n",
      "cp \"/data/CSHL_data_processed/MD661/MD661_prep2_raw_NtbNormalizedAdaptiveInvertedGammaJpeg/MD662&661-F85-2017.06.06-14.30.01_MD661_1_0253_prep2_raw_NtbNormalizedAdaptiveInvertedGammaJpeg.jpg\" \"/data/CSHL_data_processed/DEMO999/DEMO999_prep2_raw_NtbNormalizedAdaptiveInvertedGammaJpeg/MD662&661-F85-2017.06.06-14.30.01_MD661_1_0253_prep2_raw_NtbNormalizedAdaptiveInvertedGammaJpeg.jpg\"\n",
      "return code: 0\n",
      "cp \"/data/CSHL_data_processed/MD661/MD661_prep2_raw_NtbNormalizedAdaptiveInvertedGammaJpeg/MD662&661-F85-2017.06.06-14.30.01_MD661_2_0254_prep2_raw_NtbNormalizedAdaptiveInvertedGammaJpeg.jpg\" \"/data/CSHL_data_processed/DEMO999/DEMO999_prep2_raw_NtbNormalizedAdaptiveInvertedGammaJpeg/MD662&661-F85-2017.06.06-14.30.01_MD661_2_0254_prep2_raw_NtbNormalizedAdaptiveInvertedGammaJpeg.jpg\"\n",
      "return code: 0\n",
      "cp \"/data/CSHL_data_processed/MD661/MD661_prep2_raw_NtbNormalizedAdaptiveInvertedGammaJpeg/MD662&661-F86-2017.06.06-14.56.48_MD661_1_0256_prep2_raw_NtbNormalizedAdaptiveInvertedGammaJpeg.jpg\" \"/data/CSHL_data_processed/DEMO999/DEMO999_prep2_raw_NtbNormalizedAdaptiveInvertedGammaJpeg/MD662&661-F86-2017.06.06-14.56.48_MD661_1_0256_prep2_raw_NtbNormalizedAdaptiveInvertedGammaJpeg.jpg\"\n",
      "return code: 0\n",
      "cp \"/data/CSHL_data_processed/MD661/MD661_prep2_raw_NtbNormalizedAdaptiveInvertedGammaJpeg/MD662&661-F86-2017.06.06-14.56.48_MD661_2_0257_prep2_raw_NtbNormalizedAdaptiveInvertedGammaJpeg.jpg\" \"/data/CSHL_data_processed/DEMO999/DEMO999_prep2_raw_NtbNormalizedAdaptiveInvertedGammaJpeg/MD662&661-F86-2017.06.06-14.56.48_MD661_2_0257_prep2_raw_NtbNormalizedAdaptiveInvertedGammaJpeg.jpg\"\n",
      "return code: 0\n",
      "cp \"/data/CSHL_data_processed/MD661/MD661_prep2_raw_NtbNormalizedAdaptiveInvertedGammaJpeg/MD662&661-F87-2017.06.06-15.22.59_MD661_1_0259_prep2_raw_NtbNormalizedAdaptiveInvertedGammaJpeg.jpg\" \"/data/CSHL_data_processed/DEMO999/DEMO999_prep2_raw_NtbNormalizedAdaptiveInvertedGammaJpeg/MD662&661-F87-2017.06.06-15.22.59_MD661_1_0259_prep2_raw_NtbNormalizedAdaptiveInvertedGammaJpeg.jpg\"\n",
      "return code: 0\n",
      "cp \"/data/CSHL_data_processed/MD661/MD661_prep2_raw_NtbNormalizedAdaptiveInvertedGammaJpeg/MD662&661-F87-2017.06.06-15.22.59_MD661_2_0260_prep2_raw_NtbNormalizedAdaptiveInvertedGammaJpeg.jpg\" \"/data/CSHL_data_processed/DEMO999/DEMO999_prep2_raw_NtbNormalizedAdaptiveInvertedGammaJpeg/MD662&661-F87-2017.06.06-15.22.59_MD661_2_0260_prep2_raw_NtbNormalizedAdaptiveInvertedGammaJpeg.jpg\"\n",
      "return code: 0\n"
     ]
    }
   ],
   "source": [
    "for sec in range(221, 238):\n",
    "    from_fp = DataManager.get_image_filepath_v2(stack='MD661', prep_id=2, resol='raw', version='NtbNormalizedAdaptiveInvertedGammaJpeg', section=sec)\n",
    "    to_fp = DataManager.get_image_filepath_v2(stack='DEMO999', prep_id=2, resol='raw', version='NtbNormalizedAdaptiveInvertedGammaJpeg', section=sec)\n",
    "    create_parent_dir_if_not_exists(to_fp)\n",
    "    execute_command('cp \\\"%s\\\" \\\"%s\\\"' % (from_fp, to_fp))"
   ]
  }
 ],
 "metadata": {
  "kernelspec": {
   "display_name": "Python 2",
   "language": "python",
   "name": "python2"
  },
  "language_info": {
   "codemirror_mode": {
    "name": "ipython",
    "version": 2
   },
   "file_extension": ".py",
   "mimetype": "text/x-python",
   "name": "python",
   "nbconvert_exporter": "python",
   "pygments_lexer": "ipython2",
   "version": "2.7.12"
  }
 },
 "nbformat": 4,
 "nbformat_minor": 2
}
