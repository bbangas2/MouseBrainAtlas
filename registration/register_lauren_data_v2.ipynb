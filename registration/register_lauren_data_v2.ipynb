{
 "cells": [
  {
   "cell_type": "code",
   "execution_count": 1,
   "metadata": {
    "collapsed": true
   },
   "outputs": [],
   "source": [
    "%load_ext autoreload\n",
    "%autoreload 2"
   ]
  },
  {
   "cell_type": "code",
   "execution_count": 2,
   "metadata": {
    "scrolled": true
   },
   "outputs": [
    {
     "name": "stdout",
     "output_type": "stream",
     "text": [
      "Setting environment for Local Macbook Pro\n"
     ]
    }
   ],
   "source": [
    "import sys\n",
    "import os\n",
    "import time\n",
    "\n",
    "import matplotlib.pyplot as plt\n",
    "%matplotlib inline\n",
    "import numpy as np\n",
    "\n",
    "sys.path.append(os.path.join(os.environ['REPO_DIR'], 'utilities'))\n",
    "from utilities2015 import *\n",
    "from registration_utilities import *\n",
    "from annotation_utilities import *\n",
    "from metadata import *\n",
    "from data_manager import *"
   ]
  },
  {
   "cell_type": "code",
   "execution_count": 3,
   "metadata": {
    "collapsed": true
   },
   "outputs": [],
   "source": [
    "from aligner_v3 import Aligner"
   ]
  },
  {
   "cell_type": "code",
   "execution_count": 4,
   "metadata": {
    "collapsed": true
   },
   "outputs": [],
   "source": [
    "lauren_brains = ['LM42_LM37', 'LM94_LM96_LM25', 'LM38', 'LM30new', 'LM27', 'LM37', 'LM22', 'LM32', 'LM17', 'LM48', 'LM31', 'LM95', 'LM41', 'LM84', 'LM40new', 'LM86', 'LM54', 'LM46']"
   ]
  },
  {
   "cell_type": "code",
   "execution_count": 6,
   "metadata": {
    "scrolled": true
   },
   "outputs": [
    {
     "name": "stdout",
     "output_type": "stream",
     "text": [
      "upstream_warp_id                                                               None\n",
      "transform_type                                                                rigid\n",
      "grad_computation_sample_number                                               100000\n",
      "grid_search_sample_number                                                      1000\n",
      "std_tx_um                                                                        50\n",
      "std_ty_um                                                                        50\n",
      "std_tz_um                                                                        50\n",
      "std_theta_xy_degree                                                              10\n",
      "surround_weight                                                             inverse\n",
      "regularization_weight                                                           NaN\n",
      "terminate_thresh_trans                                                         0.01\n",
      "terminate_thresh_rot                                                           0.01\n",
      "history_len                                                                     100\n",
      "max_iter_num                                                                   5000\n",
      "learning_rate_trans                                                               1\n",
      "learning_rate_rot                                                              0.01\n",
      "comment                           structure registration with surround, no initi...\n",
      "Name: 7, dtype: object\n",
      "surround inverse True\n"
     ]
    },
    {
     "name": "stderr",
     "output_type": "stream",
     "text": [
      "Prior structure/index map not found. Generating a new one.\n",
      "rm -rf \"/media/yuncong/YuncongPublic/CSHL_volumes/atlasV7/atlasV7_10.0um_scoreVolume/score_volumes/atlasV7_10.0um_scoreVolume_SNR_L_surround_200um.bp\" && mkdir -p \"/media/yuncong/YuncongPublic/CSHL_volumes/atlasV7/atlasV7_10.0um_scoreVolume/score_volumes\"\n",
      "return code: 0\n",
      "aws s3 cp \"s3://mousebrainatlas-data/CSHL_volumes/atlasV7/atlasV7_10.0um_scoreVolume/score_volumes/atlasV7_10.0um_scoreVolume_SNR_L_surround_200um.bp\" \"/media/yuncong/YuncongPublic/CSHL_volumes/atlasV7/atlasV7_10.0um_scoreVolume/score_volumes/atlasV7_10.0um_scoreVolume_SNR_L_surround_200um.bp\"\n",
      "return code: 1\n",
      "File does not exist: /media/yuncong/YuncongPublic/CSHL_volumes/atlasV7/atlasV7_10.0um_scoreVolume/score_volumes/atlasV7_10.0um_scoreVolume_SNR_L_surround_200um.bp\n",
      "[Errno 2] No such file or directory: '/media/yuncong/YuncongPublic/CSHL_volumes/atlasV7/atlasV7_10.0um_scoreVolume/score_volumes/atlasV7_10.0um_scoreVolume_SNR_L_surround_200um.bp'\n",
      "Score volume for SNR_L_surround_200um does not exist.\n",
      "rm -rf \"/media/yuncong/YuncongPublic/CSHL_volumes/atlasV7/atlasV7_10.0um_scoreVolume/score_volumes/atlasV7_10.0um_scoreVolume_SNR_L.bp\" && mkdir -p \"/media/yuncong/YuncongPublic/CSHL_volumes/atlasV7/atlasV7_10.0um_scoreVolume/score_volumes\"\n",
      "return code: 0\n",
      "aws s3 cp \"s3://mousebrainatlas-data/CSHL_volumes/atlasV7/atlasV7_10.0um_scoreVolume/score_volumes/atlasV7_10.0um_scoreVolume_SNR_L.bp\" \"/media/yuncong/YuncongPublic/CSHL_volumes/atlasV7/atlasV7_10.0um_scoreVolume/score_volumes/atlasV7_10.0um_scoreVolume_SNR_L.bp\"\n"
     ]
    },
    {
     "name": "stdout",
     "output_type": "stream",
     "text": [
      "loaded_cropbox_resolution 10.0um\n",
      "loaded_cropbox_resolution 10.0um\n",
      "voxel size for moving = 10.00 um\n",
      "voxel size for fixed = 10.00 um\n",
      "label_mapping_m2f {}\n",
      "{}\n"
     ]
    },
    {
     "name": "stderr",
     "output_type": "stream",
     "text": [
      "return code: 1\n",
      "File does not exist: /media/yuncong/YuncongPublic/CSHL_volumes/atlasV7/atlasV7_10.0um_scoreVolume/score_volumes/atlasV7_10.0um_scoreVolume_SNR_L.bp\n",
      "[Errno 2] No such file or directory: '/media/yuncong/YuncongPublic/CSHL_volumes/atlasV7/atlasV7_10.0um_scoreVolume/score_volumes/atlasV7_10.0um_scoreVolume_SNR_L.bp'\n",
      "Score volume for SNR_L does not exist.\n",
      "No moving volumes.\n",
      "Prior structure/index map not found. Generating a new one.\n",
      "Loaded fixed volumes: ['SNR_L', 'SNR_L_surround_200um'].\n",
      "Computing structure sizes: 0.00 s\n",
      "Label weights not set, default to 1 for all structures.\n",
      "Regularization weights not set, default to 0.\n"
     ]
    },
    {
     "ename": "KeyError",
     "evalue": "'SNR_L'",
     "output_type": "error",
     "traceback": [
      "\u001b[0;31m---------------------------------------------------------------------------\u001b[0m",
      "\u001b[0;31mKeyError\u001b[0m                                  Traceback (most recent call last)",
      "\u001b[0;32m<ipython-input-6-7d387018e41c>\u001b[0m in \u001b[0;36m<module>\u001b[0;34m()\u001b[0m\n\u001b[1;32m     18\u001b[0m     aligner.set_centroid(centroid_m='structure_centroid', \n\u001b[1;32m     19\u001b[0m                          \u001b[0mcentroid_f\u001b[0m\u001b[0;34m=\u001b[0m\u001b[0;34m'structure_centroid'\u001b[0m\u001b[0;34m,\u001b[0m\u001b[0;34m\u001b[0m\u001b[0m\n\u001b[0;32m---> 20\u001b[0;31m                          \u001b[0mindices_m\u001b[0m\u001b[0;34m=\u001b[0m\u001b[0;34m[\u001b[0m\u001b[0maligner_parameters\u001b[0m\u001b[0;34m[\u001b[0m\u001b[0;34m'structure_to_label_moving'\u001b[0m\u001b[0;34m]\u001b[0m\u001b[0;34m[\u001b[0m\u001b[0;34m'SNR_L'\u001b[0m\u001b[0;34m]\u001b[0m\u001b[0;34m]\u001b[0m\u001b[0;34m\u001b[0m\u001b[0m\n\u001b[0m\u001b[1;32m     21\u001b[0m                         )\n\u001b[1;32m     22\u001b[0m \u001b[0;34m\u001b[0m\u001b[0m\n",
      "\u001b[0;31mKeyError\u001b[0m: 'SNR_L'"
     ]
    }
   ],
   "source": [
    "# for brain_name in lauren_brains:\n",
    "for brain_name in ['LM38']:\n",
    "\n",
    "    brain_f_spec = dict(name=brain_name, vol_type='annotationAsScore', structure='SNR_L', resolution='10.0um')\n",
    "    brain_m_spec = dict(name='atlasV7', vol_type='score', structure='SNR_L', resolution='10.0um')\n",
    "    alignment_spec = dict(stack_m=brain_m_spec, stack_f=brain_f_spec, warp_setting=7)\n",
    "\n",
    "    aligner_parameters = generate_aligner_parameters_v2(alignment_spec=alignment_spec, \n",
    "                                                        structures_m=['SNR_L'],\n",
    "                                                       fixed_structures_are_sided=True,\n",
    "                                                       fixed_surroundings_have_positive_value=True,\n",
    "                                                       fixed_use_surround=True)\n",
    "    \n",
    "    aligner = Aligner(aligner_parameters['volume_fixed'], \n",
    "                      aligner_parameters['volume_moving'], \n",
    "                      labelIndexMap_m2f=aligner_parameters['label_mapping_m2f'])\n",
    "\n",
    "    aligner.set_centroid(centroid_m='structure_centroid', \n",
    "                         centroid_f='structure_centroid', \n",
    "                         indices_m=[aligner_parameters['structure_to_label_moving']['SNR_L']]\n",
    "                        )\n",
    "\n",
    "    aligner.compute_gradient(smooth_first=True)\n",
    "\n",
    "    aligner.set_label_weights(label_weights=aligner_parameters['label_weights_m'])\n",
    "\n",
    "    _, _ = aligner.optimize(tf_type=aligner_parameters['transform_type'], \n",
    "                                 max_iter_num=5000,\n",
    "                                 history_len=100, \n",
    "                                 terminate_thresh_trans=.01,\n",
    "                                terminate_thresh_rot=0.01,\n",
    "                                 full_lr=np.array([1,1,1,.01,.01,.01]),\n",
    "                                )\n",
    "\n",
    "    plot_alignment_results(traj=aligner.Ts, scores=aligner.scores, select_best='max_value')\n",
    "    \n",
    "#     DataManager.save_alignment_results_v3(aligner=aligner, \n",
    "#                                           select_best='max_value',\n",
    "#                                           alignment_spec=alignment_spec,\n",
    "#                                           )"
   ]
  },
  {
   "cell_type": "code",
   "execution_count": null,
   "metadata": {
    "collapsed": true
   },
   "outputs": [],
   "source": []
  }
 ],
 "metadata": {
  "kernelspec": {
   "display_name": "Python 2",
   "language": "python",
   "name": "python2"
  },
  "language_info": {
   "codemirror_mode": {
    "name": "ipython",
    "version": 2
   },
   "file_extension": ".py",
   "mimetype": "text/x-python",
   "name": "python",
   "nbconvert_exporter": "python",
   "pygments_lexer": "ipython2",
   "version": "2.7.12"
  }
 },
 "nbformat": 4,
 "nbformat_minor": 2
}
