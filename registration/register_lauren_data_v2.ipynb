{
 "cells": [
  {
   "cell_type": "code",
   "execution_count": 1,
   "metadata": {
    "collapsed": true
   },
   "outputs": [],
   "source": [
    "%load_ext autoreload\n",
    "%autoreload 2"
   ]
  },
  {
   "cell_type": "code",
   "execution_count": 2,
   "metadata": {
    "scrolled": true
   },
   "outputs": [
    {
     "name": "stdout",
     "output_type": "stream",
     "text": [
      "Setting environment for Precision WorkStation\n"
     ]
    },
    {
     "name": "stderr",
     "output_type": "stream",
     "text": [
      "No vtk\n"
     ]
    }
   ],
   "source": [
    "import sys\n",
    "import os\n",
    "import time\n",
    "\n",
    "import matplotlib.pyplot as plt\n",
    "%matplotlib inline\n",
    "import numpy as np\n",
    "\n",
    "sys.path.append(os.path.join(os.environ['REPO_DIR'], 'utilities'))\n",
    "from utilities2015 import *\n",
    "from registration_utilities import *\n",
    "from annotation_utilities import *\n",
    "from metadata import *\n",
    "from data_manager import *"
   ]
  },
  {
   "cell_type": "code",
   "execution_count": 3,
   "metadata": {
    "collapsed": true
   },
   "outputs": [],
   "source": [
    "from aligner_v3 import Aligner"
   ]
  },
  {
   "cell_type": "code",
   "execution_count": 4,
   "metadata": {
    "collapsed": true
   },
   "outputs": [],
   "source": [
    "lauren_brains = ['LM42_LM37', 'LM94_LM96_LM25', 'LM38', 'LM30new', 'LM27', 'LM37', 'LM22', 'LM32', 'LM17', 'LM48', 'LM31', 'LM95', 'LM41', 'LM84', 'LM40new', 'LM86', 'LM54', 'LM46']"
   ]
  },
  {
   "cell_type": "code",
   "execution_count": null,
   "metadata": {
    "collapsed": true,
    "scrolled": true
   },
   "outputs": [],
   "source": [
    "for brain_name in lauren_brains:\n",
    "# for brain_name in ['LM42_LM37']:\n",
    "\n",
    "    brain_f_spec = dict(name=brain_name, vol_type='annotationAsScore', structure='SNR_L', resolution='10.0um')\n",
    "    brain_m_spec = dict(name='atlasV7', vol_type='score', structure='SNR_L', resolution='10.0um')\n",
    "    alignment_spec = dict(stack_m=brain_m_spec, stack_f=brain_f_spec, warp_setting=7)\n",
    "\n",
    "    aligner_parameters = generate_aligner_parameters_v2(alignment_spec=alignment_spec, \n",
    "                                                        structures_m=['SNR_L'],\n",
    "                                                       fixed_structures_are_sided=True,\n",
    "                                                       fixed_surroundings_have_positive_value=True,\n",
    "                                                       fixed_use_surround=True)\n",
    "    \n",
    "    aligner = Aligner(aligner_parameters['volume_fixed'], \n",
    "                      aligner_parameters['volume_moving'], \n",
    "                      labelIndexMap_m2f=aligner_parameters['label_mapping_m2f'],\n",
    "                     invalid_voxel_penalty=0.)\n",
    "\n",
    "    aligner.set_centroid(centroid_m='structure_centroid', \n",
    "                         centroid_f='structure_centroid', \n",
    "#                          indices_m=[aligner_parameters['structure_to_label_moving']['SNR_L']]\n",
    "                        )\n",
    "\n",
    "    aligner.compute_gradient(smooth_first=True)\n",
    "\n",
    "    aligner.set_label_weights(label_weights=aligner_parameters['label_weights_m'])\n",
    "\n",
    "    _, _ = aligner.optimize(tf_type=aligner_parameters['transform_type'], \n",
    "                                 max_iter_num=5000,\n",
    "                                 history_len=100, \n",
    "                                 terminate_thresh_trans=.01,\n",
    "                                terminate_thresh_rot=0.01,\n",
    "                                 full_lr=np.array([1,1,1,.01,.01,.01]),\n",
    "                                )\n",
    "\n",
    "    plot_alignment_results(traj=aligner.Ts, scores=aligner.scores, select_best='max_value')\n",
    "    \n",
    "    DataManager.save_alignment_results_v3(aligner=aligner, \n",
    "                                          select_best='last_value',\n",
    "                                          alignment_spec=alignment_spec,\n",
    "                                          )"
   ]
  }
 ],
 "metadata": {
  "kernelspec": {
   "display_name": "Python 2",
   "language": "python",
   "name": "python2"
  },
  "language_info": {
   "codemirror_mode": {
    "name": "ipython",
    "version": 2
   },
   "file_extension": ".py",
   "mimetype": "text/x-python",
   "name": "python",
   "nbconvert_exporter": "python",
   "pygments_lexer": "ipython2",
   "version": "2.7.12"
  }
 },
 "nbformat": 4,
 "nbformat_minor": 2
}
